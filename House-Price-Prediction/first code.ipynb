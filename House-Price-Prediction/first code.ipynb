{
 "cells": [
  {
   "cell_type": "code",
   "execution_count": 84,
   "id": "3da72cd4",
   "metadata": {},
   "outputs": [],
   "source": [
    "import pandas as pd\n",
    "import matplotlib.pyplot as plt\n",
    "import seaborn as sb\n",
    "\n",
    "\n",
    "# pd.pandas.set_option('display.max_columns',None)"
   ]
  },
  {
   "cell_type": "code",
   "execution_count": 85,
   "id": "df82ed4e",
   "metadata": {},
   "outputs": [],
   "source": [
    "dict1={'MSSubClass'  :[\"\",\"NA\",'NaN'], 'MSZoning'    :[\"\",\"NA\",'NaN'], 'LotFrontage'  :[\"\",\"NA\",'NaN'], 'LotArea'      :[\"\",\"NA\",'NaN'],\n",
    "     'Street'      :[\"\",\"NA\",'NaN'], 'Alley'       :[\"\",\"NaN\"],      'LotShape'     :[\"\",\"NA\",\"NaN\"], 'LandContour'  :[\"\",\"NA\",'NaN'],\n",
    "     'Utilities'   :[\"\",\"NA\",'NaN'], 'LotConfig'   :[\"\",\"NA\",\"NaN\"], 'LandSlope'    :[\"\",\"NA\",\"NaN\"], 'Neighborhood' :[\"\",\"NA\",\"NaN\"],\n",
    "     'Condition1'  :[\"\",\"NA\",\"NaN\"], 'Condition2'  :[\"\",\"NA\",\"NaN\"], 'BldgType'     :[\"\",\"NA\",\"NaN\"], 'HouseStyle'   :[\"\",\"NA\",\"NaN\"],\n",
    "     'OverallQual' :[\"\",\"NA\",\"NaN\"], 'OverallCond' :[\"\",\"NA\",\"NaN\"], 'YearBuilt'    :[\"\",\"NA\",'NaN'], 'YearRemodAdd' :[\"\",\"NA\",'NaN'],\n",
    "     'RoofStyle'   :[\"\",\"NA\",'NaN'], 'RoofMatl'    :[\"\",\"NA\",'NaN'], 'Exterior1st'  :[\"\",\"NA\",'NaN'], 'Exterior2nd'  :[\"\",\"NA\",'NaN'],\n",
    "     'MasVnrType'  :[\"\",\"NA\",'NaN'], 'MasVnrArea'  :[\"\",\"NA\",'NaN'], 'ExterQual'    :[\"\",\"NA\",'NaN'], 'ExterCond'    :[\"\",\"NA\",'NaN'],\n",
    "     'Foundation'  :[\"\",\"NA\",'NaN'], 'BsmtQual'    :[\"\",'NaN'],      'BsmtCond'     :[\"\",'NaN'],      'BsmtExposure' :[\"\",'NaN'],\n",
    "     'BsmtFinType1':[\"\",'NaN'],      'BsmtFinType2':[\"\",'NaN'],      'BsmtFinSF1'   :[\"\",\"NA\",'NaN'], 'BsmtFinSF2'   :[\"\",\"NA\",'NaN'],\n",
    "     'BsmtUnfSF'   :[\"\",\"NA\",'NaN'], 'TotalBsmtSF' :[\"\",\"NA\",'NaN'], 'Heating'      :[\"\",\"NA\",'NaN'], 'HeatingQC'    :[\"\",\"NA\",'NaN'],\n",
    "     'CentralAir'  :[\"\",\"NA\",'NaN'], 'Electrical'  :[\"\",\"NA\",'NaN'], '1stFlrSF'     :[\"\",\"NA\",'NaN'], '2ndFlrSF'     :[\"\",\"NA\",'NaN'],\n",
    "     'LowQualFinSF':[\"\",\"NA\",'NaN'], 'GrLivArea'   :[\"\",\"NA\",'NaN'], 'BsmtFullBath' :[\"\",\"NA\",'NaN'], 'BsmtHalfBath' :[\"\",\"NA\",'NaN'],\n",
    "     'FullBath'    :[\"\",\"NA\",'NaN'], 'HalfBath'    :[\"\",\"NA\",'NaN'], 'Bedroom'      :[\"\",\"NA\",'NaN'], 'Kitchen'      :[\"\",\"NA\",'NaN'],\n",
    "     'KitchenQual' :[\"\",\"NA\",'NaN'], 'TotRmsAbvGrd':[\"\",\"NA\",'NaN'], 'Functional'   :[\"\",\"NA\",'NaN'], 'Fireplaces'   :[\"\",\"NA\",'NaN'],\n",
    "     'FireplaceQu' :[\"\",'NaN'],      'GarageType'  :[\"\",'NaN'],      'GarageYrBlt'  :[\"\",\"NA\",'NaN'], 'GarageFinish' :[\"\",'NaN'],\n",
    "     'GarageCars'  :[\"\",\"NA\",'NaN'], 'GarageArea'  :[\"\",\"NA\",'NaN'], 'GarageQual'   :[\"\",'NaN'],      'GarageCond'   :[\"\",'NaN'],\n",
    "     'PavedDrive'  :[\"\",\"NA\",'NaN'], 'WoodDeckSF'  :[\"\",\"NA\",'NaN'], 'OpenPorchSF'  :[\"\",\"NA\",'NaN'], 'EnclosedPorch':[\"\",\"NA\",'NaN'],\n",
    "     '3SsnPorch'   :[\"\",\"NA\",'NaN'], 'ScreenPorch' :[\"\",\"NA\",'NaN'], 'PoolArea'     :[\"\",\"NA\",\"NaN\"], 'PoolQC'       :[\"\",\"NaN\"],\n",
    "     'Fence'       :[\"\",\"NaN\"],      'MiscFeature' :[\"\",\"NaN\"],      'MiscVal'      :[\"\",\"NA\",\"NaN\"], 'MoSold'       :[\"\",\"NA\",\"NaN\"],\n",
    "     'YrSold'      :[\"\",\"NA\",\"NaN\"], 'SaleType'    :[\"\",\"NA\",\"NaN\"], 'SaleCondition':[\"\",\"NA\",\"NaN\"]\n",
    "     \n",
    "    }"
   ]
  },
  {
   "cell_type": "code",
   "execution_count": 86,
   "id": "a3673886",
   "metadata": {},
   "outputs": [],
   "source": [
    "df_train = pd.read_csv('train.csv', keep_default_na=False, na_values=dict1)\n",
    "df_test = pd.read_csv('test.csv', keep_default_na=False, na_values=dict1)"
   ]
  },
  {
   "cell_type": "markdown",
   "id": "4c0067e7",
   "metadata": {},
   "source": [
    "# EDA"
   ]
  },
  {
   "cell_type": "code",
   "execution_count": 87,
   "id": "28e39635",
   "metadata": {},
   "outputs": [
    {
     "data": {
      "text/html": [
       "<div>\n",
       "<style scoped>\n",
       "    .dataframe tbody tr th:only-of-type {\n",
       "        vertical-align: middle;\n",
       "    }\n",
       "\n",
       "    .dataframe tbody tr th {\n",
       "        vertical-align: top;\n",
       "    }\n",
       "\n",
       "    .dataframe thead th {\n",
       "        text-align: right;\n",
       "    }\n",
       "</style>\n",
       "<table border=\"1\" class=\"dataframe\">\n",
       "  <thead>\n",
       "    <tr style=\"text-align: right;\">\n",
       "      <th></th>\n",
       "      <th>Id</th>\n",
       "      <th>MSSubClass</th>\n",
       "      <th>MSZoning</th>\n",
       "      <th>LotFrontage</th>\n",
       "      <th>LotArea</th>\n",
       "      <th>Street</th>\n",
       "      <th>Alley</th>\n",
       "      <th>LotShape</th>\n",
       "      <th>LandContour</th>\n",
       "      <th>Utilities</th>\n",
       "      <th>...</th>\n",
       "      <th>PoolArea</th>\n",
       "      <th>PoolQC</th>\n",
       "      <th>Fence</th>\n",
       "      <th>MiscFeature</th>\n",
       "      <th>MiscVal</th>\n",
       "      <th>MoSold</th>\n",
       "      <th>YrSold</th>\n",
       "      <th>SaleType</th>\n",
       "      <th>SaleCondition</th>\n",
       "      <th>SalePrice</th>\n",
       "    </tr>\n",
       "  </thead>\n",
       "  <tbody>\n",
       "    <tr>\n",
       "      <th>0</th>\n",
       "      <td>1</td>\n",
       "      <td>60</td>\n",
       "      <td>RL</td>\n",
       "      <td>65.0</td>\n",
       "      <td>8450</td>\n",
       "      <td>Pave</td>\n",
       "      <td>NA</td>\n",
       "      <td>Reg</td>\n",
       "      <td>Lvl</td>\n",
       "      <td>AllPub</td>\n",
       "      <td>...</td>\n",
       "      <td>0</td>\n",
       "      <td>NA</td>\n",
       "      <td>NA</td>\n",
       "      <td>NA</td>\n",
       "      <td>0</td>\n",
       "      <td>2</td>\n",
       "      <td>2008</td>\n",
       "      <td>WD</td>\n",
       "      <td>Normal</td>\n",
       "      <td>208500</td>\n",
       "    </tr>\n",
       "    <tr>\n",
       "      <th>1</th>\n",
       "      <td>2</td>\n",
       "      <td>20</td>\n",
       "      <td>RL</td>\n",
       "      <td>80.0</td>\n",
       "      <td>9600</td>\n",
       "      <td>Pave</td>\n",
       "      <td>NA</td>\n",
       "      <td>Reg</td>\n",
       "      <td>Lvl</td>\n",
       "      <td>AllPub</td>\n",
       "      <td>...</td>\n",
       "      <td>0</td>\n",
       "      <td>NA</td>\n",
       "      <td>NA</td>\n",
       "      <td>NA</td>\n",
       "      <td>0</td>\n",
       "      <td>5</td>\n",
       "      <td>2007</td>\n",
       "      <td>WD</td>\n",
       "      <td>Normal</td>\n",
       "      <td>181500</td>\n",
       "    </tr>\n",
       "    <tr>\n",
       "      <th>2</th>\n",
       "      <td>3</td>\n",
       "      <td>60</td>\n",
       "      <td>RL</td>\n",
       "      <td>68.0</td>\n",
       "      <td>11250</td>\n",
       "      <td>Pave</td>\n",
       "      <td>NA</td>\n",
       "      <td>IR1</td>\n",
       "      <td>Lvl</td>\n",
       "      <td>AllPub</td>\n",
       "      <td>...</td>\n",
       "      <td>0</td>\n",
       "      <td>NA</td>\n",
       "      <td>NA</td>\n",
       "      <td>NA</td>\n",
       "      <td>0</td>\n",
       "      <td>9</td>\n",
       "      <td>2008</td>\n",
       "      <td>WD</td>\n",
       "      <td>Normal</td>\n",
       "      <td>223500</td>\n",
       "    </tr>\n",
       "    <tr>\n",
       "      <th>3</th>\n",
       "      <td>4</td>\n",
       "      <td>70</td>\n",
       "      <td>RL</td>\n",
       "      <td>60.0</td>\n",
       "      <td>9550</td>\n",
       "      <td>Pave</td>\n",
       "      <td>NA</td>\n",
       "      <td>IR1</td>\n",
       "      <td>Lvl</td>\n",
       "      <td>AllPub</td>\n",
       "      <td>...</td>\n",
       "      <td>0</td>\n",
       "      <td>NA</td>\n",
       "      <td>NA</td>\n",
       "      <td>NA</td>\n",
       "      <td>0</td>\n",
       "      <td>2</td>\n",
       "      <td>2006</td>\n",
       "      <td>WD</td>\n",
       "      <td>Abnorml</td>\n",
       "      <td>140000</td>\n",
       "    </tr>\n",
       "    <tr>\n",
       "      <th>4</th>\n",
       "      <td>5</td>\n",
       "      <td>60</td>\n",
       "      <td>RL</td>\n",
       "      <td>84.0</td>\n",
       "      <td>14260</td>\n",
       "      <td>Pave</td>\n",
       "      <td>NA</td>\n",
       "      <td>IR1</td>\n",
       "      <td>Lvl</td>\n",
       "      <td>AllPub</td>\n",
       "      <td>...</td>\n",
       "      <td>0</td>\n",
       "      <td>NA</td>\n",
       "      <td>NA</td>\n",
       "      <td>NA</td>\n",
       "      <td>0</td>\n",
       "      <td>12</td>\n",
       "      <td>2008</td>\n",
       "      <td>WD</td>\n",
       "      <td>Normal</td>\n",
       "      <td>250000</td>\n",
       "    </tr>\n",
       "  </tbody>\n",
       "</table>\n",
       "<p>5 rows × 81 columns</p>\n",
       "</div>"
      ],
      "text/plain": [
       "   Id  MSSubClass MSZoning  LotFrontage  LotArea Street Alley LotShape  \\\n",
       "0   1          60       RL         65.0     8450   Pave    NA      Reg   \n",
       "1   2          20       RL         80.0     9600   Pave    NA      Reg   \n",
       "2   3          60       RL         68.0    11250   Pave    NA      IR1   \n",
       "3   4          70       RL         60.0     9550   Pave    NA      IR1   \n",
       "4   5          60       RL         84.0    14260   Pave    NA      IR1   \n",
       "\n",
       "  LandContour Utilities  ... PoolArea PoolQC Fence MiscFeature MiscVal MoSold  \\\n",
       "0         Lvl    AllPub  ...        0     NA    NA          NA       0      2   \n",
       "1         Lvl    AllPub  ...        0     NA    NA          NA       0      5   \n",
       "2         Lvl    AllPub  ...        0     NA    NA          NA       0      9   \n",
       "3         Lvl    AllPub  ...        0     NA    NA          NA       0      2   \n",
       "4         Lvl    AllPub  ...        0     NA    NA          NA       0     12   \n",
       "\n",
       "  YrSold  SaleType  SaleCondition  SalePrice  \n",
       "0   2008        WD         Normal     208500  \n",
       "1   2007        WD         Normal     181500  \n",
       "2   2008        WD         Normal     223500  \n",
       "3   2006        WD        Abnorml     140000  \n",
       "4   2008        WD         Normal     250000  \n",
       "\n",
       "[5 rows x 81 columns]"
      ]
     },
     "execution_count": 87,
     "metadata": {},
     "output_type": "execute_result"
    }
   ],
   "source": [
    "df_train.head()"
   ]
  },
  {
   "cell_type": "code",
   "execution_count": 88,
   "id": "26ff5cab",
   "metadata": {},
   "outputs": [
    {
     "data": {
      "text/plain": [
       "LotFrontage    259\n",
       "MasVnrType       8\n",
       "MasVnrArea       8\n",
       "Electrical       1\n",
       "GarageYrBlt     81\n",
       "dtype: int64"
      ]
     },
     "execution_count": 88,
     "metadata": {},
     "output_type": "execute_result"
    }
   ],
   "source": [
    "df_train.isna().sum()[df_train.isna().sum()>0]"
   ]
  },
  {
   "cell_type": "code",
   "execution_count": 89,
   "id": "8c965e96",
   "metadata": {},
   "outputs": [
    {
     "data": {
      "text/plain": [
       "MSZoning          4\n",
       "LotFrontage     227\n",
       "Utilities         2\n",
       "Exterior1st       1\n",
       "Exterior2nd       1\n",
       "MasVnrType       16\n",
       "MasVnrArea       15\n",
       "BsmtFinSF1        1\n",
       "BsmtFinSF2        1\n",
       "BsmtUnfSF         1\n",
       "TotalBsmtSF       1\n",
       "BsmtFullBath      2\n",
       "BsmtHalfBath      2\n",
       "KitchenQual       1\n",
       "Functional        2\n",
       "GarageYrBlt      78\n",
       "GarageCars        1\n",
       "GarageArea        1\n",
       "SaleType          1\n",
       "dtype: int64"
      ]
     },
     "execution_count": 89,
     "metadata": {},
     "output_type": "execute_result"
    }
   ],
   "source": [
    "df_test.isna().sum()[df_test.isna().sum()>0]"
   ]
  },
  {
   "cell_type": "code",
   "execution_count": null,
   "id": "982ba70d",
   "metadata": {},
   "outputs": [],
   "source": []
  },
  {
   "cell_type": "code",
   "execution_count": null,
   "id": "f41ce975",
   "metadata": {},
   "outputs": [],
   "source": []
  },
  {
   "cell_type": "markdown",
   "id": "c15066a3",
   "metadata": {},
   "source": [
    "# simple imputer"
   ]
  },
  {
   "cell_type": "code",
   "execution_count": 90,
   "id": "c1071c46",
   "metadata": {},
   "outputs": [],
   "source": [
    "from sklearn.impute import SimpleImputer"
   ]
  },
  {
   "cell_type": "code",
   "execution_count": 91,
   "id": "157ab58a",
   "metadata": {},
   "outputs": [],
   "source": [
    "num_cols = list(df_train.select_dtypes(exclude='object').columns)\n",
    "num_cols.remove('Id')\n",
    "num_cols.remove('SalePrice')\n",
    "cat_cols = list(df_train.select_dtypes(include='object').columns)"
   ]
  },
  {
   "cell_type": "code",
   "execution_count": 92,
   "id": "0933b6cc",
   "metadata": {
    "scrolled": true
   },
   "outputs": [
    {
     "name": "stdout",
     "output_type": "stream",
     "text": [
      "['MSSubClass', 'LotFrontage', 'LotArea', 'OverallQual', 'OverallCond', 'YearBuilt', 'YearRemodAdd', 'MasVnrArea', 'BsmtFinSF1', 'BsmtFinSF2', 'BsmtUnfSF', 'TotalBsmtSF', '1stFlrSF', '2ndFlrSF', 'LowQualFinSF', 'GrLivArea', 'BsmtFullBath', 'BsmtHalfBath', 'FullBath', 'HalfBath', 'BedroomAbvGr', 'KitchenAbvGr', 'TotRmsAbvGrd', 'Fireplaces', 'GarageYrBlt', 'GarageCars', 'GarageArea', 'WoodDeckSF', 'OpenPorchSF', 'EnclosedPorch', '3SsnPorch', 'ScreenPorch', 'PoolArea', 'MiscVal', 'MoSold', 'YrSold']\n"
     ]
    }
   ],
   "source": [
    "print(num_cols)"
   ]
  },
  {
   "cell_type": "code",
   "execution_count": 93,
   "id": "58e5e461",
   "metadata": {},
   "outputs": [
    {
     "name": "stdout",
     "output_type": "stream",
     "text": [
      "['MSZoning', 'Street', 'Alley', 'LotShape', 'LandContour', 'Utilities', 'LotConfig', 'LandSlope', 'Neighborhood', 'Condition1', 'Condition2', 'BldgType', 'HouseStyle', 'RoofStyle', 'RoofMatl', 'Exterior1st', 'Exterior2nd', 'MasVnrType', 'ExterQual', 'ExterCond', 'Foundation', 'BsmtQual', 'BsmtCond', 'BsmtExposure', 'BsmtFinType1', 'BsmtFinType2', 'Heating', 'HeatingQC', 'CentralAir', 'Electrical', 'KitchenQual', 'Functional', 'FireplaceQu', 'GarageType', 'GarageFinish', 'GarageQual', 'GarageCond', 'PavedDrive', 'PoolQC', 'Fence', 'MiscFeature', 'SaleType', 'SaleCondition']\n"
     ]
    }
   ],
   "source": [
    "print(cat_cols)"
   ]
  },
  {
   "cell_type": "code",
   "execution_count": null,
   "id": "7f67b1d9",
   "metadata": {},
   "outputs": [],
   "source": []
  },
  {
   "cell_type": "code",
   "execution_count": 94,
   "id": "43ed8e16",
   "metadata": {},
   "outputs": [],
   "source": [
    "imputer_num=SimpleImputer(strategy='median')\n",
    "imputer_cat=SimpleImputer(strategy='most_frequent')\n",
    "\n",
    "imputer_num.fit(df_train[num_cols])\n",
    "imputer_cat.fit(df_train[cat_cols])\n",
    "\n",
    "df_train[num_cols]=imputer_num.transform(df_train[num_cols])\n",
    "df_train[cat_cols]=imputer_cat.transform(df_train[cat_cols])\n",
    "\n",
    "df_test[num_cols]=imputer_num.transform(df_test[num_cols])\n",
    "df_test[cat_cols]=imputer_cat.transform(df_test[cat_cols])\n"
   ]
  },
  {
   "cell_type": "markdown",
   "id": "3973620e",
   "metadata": {},
   "source": [
    "# EDA"
   ]
  },
  {
   "cell_type": "code",
   "execution_count": 13,
   "id": "ce3db96a",
   "metadata": {},
   "outputs": [
    {
     "data": {
      "text/plain": [
       "0"
      ]
     },
     "execution_count": 13,
     "metadata": {},
     "output_type": "execute_result"
    }
   ],
   "source": [
    "df_train.isna().sum().sum()"
   ]
  },
  {
   "cell_type": "code",
   "execution_count": 81,
   "id": "26cacd6c",
   "metadata": {},
   "outputs": [
    {
     "data": {
      "text/plain": [
       "(array([148., 723., 373., 135.,  51.,  19.,   4.,   3.,   2.,   2.]),\n",
       " array([ 34900., 106910., 178920., 250930., 322940., 394950., 466960.,\n",
       "        538970., 610980., 682990., 755000.]),\n",
       " <BarContainer object of 10 artists>)"
      ]
     },
     "execution_count": 81,
     "metadata": {},
     "output_type": "execute_result"
    },
    {
     "data": {
      "image/png": "[encoded data removed]",
      "text/plain": [
       "<Figure size 432x288 with 1 Axes>"
      ]
     },
     "metadata": {
      "needs_background": "light"
     },
     "output_type": "display_data"
    }
   ],
   "source": [
    "plt.hist(df_train['SalePrice'])"
   ]
  },
  {
   "cell_type": "code",
   "execution_count": 82,
   "id": "990db851",
   "metadata": {},
   "outputs": [
    {
     "data": {
      "text/plain": [
       "(array([205., 902., 298.,  40.,   9.,   4.,   0.,   0.,   0.,   2.]),\n",
       " array([ 21. ,  50.2,  79.4, 108.6, 137.8, 167. , 196.2, 225.4, 254.6,\n",
       "        283.8, 313. ]),\n",
       " <BarContainer object of 10 artists>)"
      ]
     },
     "execution_count": 82,
     "metadata": {},
     "output_type": "execute_result"
    },
    {
     "data": {
      "image/png": "[encoded data removed]",
      "text/plain": [
       "<Figure size 432x288 with 1 Axes>"
      ]
     },
     "metadata": {
      "needs_background": "light"
     },
     "output_type": "display_data"
    }
   ],
   "source": [
    "plt.hist(df_train['LotFrontage'])"
   ]
  },
  {
   "cell_type": "code",
   "execution_count": 83,
   "id": "576326eb",
   "metadata": {},
   "outputs": [
    {
     "data": {
      "text/plain": [
       "(array([1.423e+03, 2.400e+01, 8.000e+00, 1.000e+00, 0.000e+00, 1.000e+00,\n",
       "        0.000e+00, 2.000e+00, 0.000e+00, 1.000e+00]),\n",
       " array([  1300. ,  22694.5,  44089. ,  65483.5,  86878. , 108272.5,\n",
       "        129667. , 151061.5, 172456. , 193850.5, 215245. ]),\n",
       " <BarContainer object of 10 artists>)"
      ]
     },
     "execution_count": 83,
     "metadata": {},
     "output_type": "execute_result"
    },
    {
     "data": {
      "image/png": "[encoded data removed]",
      "text/plain": [
       "<Figure size 432x288 with 1 Axes>"
      ]
     },
     "metadata": {
      "needs_background": "light"
     },
     "output_type": "display_data"
    }
   ],
   "source": [
    "plt.hist(df_train['LotArea'])"
   ]
  },
  {
   "cell_type": "code",
   "execution_count": 84,
   "id": "cd8353f3",
   "metadata": {},
   "outputs": [
    {
     "data": {
      "text/plain": [
       "10516.828082191782"
      ]
     },
     "execution_count": 84,
     "metadata": {},
     "output_type": "execute_result"
    }
   ],
   "source": [
    "df_train['LotArea'].mean()"
   ]
  },
  {
   "cell_type": "code",
   "execution_count": 133,
   "id": "5b5a05a0",
   "metadata": {},
   "outputs": [
    {
     "data": {
      "text/plain": [
       "12"
      ]
     },
     "execution_count": 133,
     "metadata": {},
     "output_type": "execute_result"
    }
   ],
   "source": [
    "df_train['TotRmsAbvGrd'].nunique()"
   ]
  },
  {
   "cell_type": "code",
   "execution_count": null,
   "id": "9da06ec6",
   "metadata": {},
   "outputs": [],
   "source": []
  },
  {
   "cell_type": "markdown",
   "id": "21a2a022",
   "metadata": {},
   "source": [
    "# feature encoding"
   ]
  },
  {
   "cell_type": "code",
   "execution_count": 95,
   "id": "d1f99f4c",
   "metadata": {},
   "outputs": [
    {
     "data": {
      "text/plain": [
       "OneHotEncoder(handle_unknown='ignore', sparse=False)"
      ]
     },
     "execution_count": 95,
     "metadata": {},
     "output_type": "execute_result"
    }
   ],
   "source": [
    "from sklearn.preprocessing import OneHotEncoder\n",
    "ohe = OneHotEncoder(sparse=False,handle_unknown='ignore')\n",
    "ohe.fit(df_train[cat_cols])"
   ]
  },
  {
   "cell_type": "code",
   "execution_count": 96,
   "id": "90391489",
   "metadata": {},
   "outputs": [
    {
     "name": "stderr",
     "output_type": "stream",
     "text": [
      "C:\\Users\\nehals4545\\anaconda3\\lib\\site-packages\\sklearn\\utils\\deprecation.py:87: FutureWarning: Function get_feature_names is deprecated; get_feature_names is deprecated in 1.0 and will be removed in 1.2. Please use get_feature_names_out instead.\n",
      "  warnings.warn(msg, category=FutureWarning)\n"
     ]
    },
    {
     "data": {
      "text/plain": [
       "['x0_C (all)',\n",
       " 'x0_FV',\n",
       " 'x0_RH',\n",
       " 'x0_RL',\n",
       " 'x0_RM',\n",
       " 'x1_Grvl',\n",
       " 'x1_Pave',\n",
       " 'x2_Grvl',\n",
       " 'x2_NA',\n",
       " 'x2_Pave',\n",
       " 'x3_IR1',\n",
       " 'x3_IR2',\n",
       " 'x3_IR3',\n",
       " 'x3_Reg',\n",
       " 'x4_Bnk',\n",
       " 'x4_HLS',\n",
       " 'x4_Low',\n",
       " 'x4_Lvl',\n",
       " 'x5_AllPub',\n",
       " 'x5_NoSeWa',\n",
       " 'x6_Corner',\n",
       " 'x6_CulDSac',\n",
       " 'x6_FR2',\n",
       " 'x6_FR3',\n",
       " 'x6_Inside',\n",
       " 'x7_Gtl',\n",
       " 'x7_Mod',\n",
       " 'x7_Sev',\n",
       " 'x8_Blmngtn',\n",
       " 'x8_Blueste',\n",
       " 'x8_BrDale',\n",
       " 'x8_BrkSide',\n",
       " 'x8_ClearCr',\n",
       " 'x8_CollgCr',\n",
       " 'x8_Crawfor',\n",
       " 'x8_Edwards',\n",
       " 'x8_Gilbert',\n",
       " 'x8_IDOTRR',\n",
       " 'x8_MeadowV',\n",
       " 'x8_Mitchel',\n",
       " 'x8_NAmes',\n",
       " 'x8_NPkVill',\n",
       " 'x8_NWAmes',\n",
       " 'x8_NoRidge',\n",
       " 'x8_NridgHt',\n",
       " 'x8_OldTown',\n",
       " 'x8_SWISU',\n",
       " 'x8_Sawyer',\n",
       " 'x8_SawyerW',\n",
       " 'x8_Somerst',\n",
       " 'x8_StoneBr',\n",
       " 'x8_Timber',\n",
       " 'x8_Veenker',\n",
       " 'x9_Artery',\n",
       " 'x9_Feedr',\n",
       " 'x9_Norm',\n",
       " 'x9_PosA',\n",
       " 'x9_PosN',\n",
       " 'x9_RRAe',\n",
       " 'x9_RRAn',\n",
       " 'x9_RRNe',\n",
       " 'x9_RRNn',\n",
       " 'x10_Artery',\n",
       " 'x10_Feedr',\n",
       " 'x10_Norm',\n",
       " 'x10_PosA',\n",
       " 'x10_PosN',\n",
       " 'x10_RRAe',\n",
       " 'x10_RRAn',\n",
       " 'x10_RRNn',\n",
       " 'x11_1Fam',\n",
       " 'x11_2fmCon',\n",
       " 'x11_Duplex',\n",
       " 'x11_Twnhs',\n",
       " 'x11_TwnhsE',\n",
       " 'x12_1.5Fin',\n",
       " 'x12_1.5Unf',\n",
       " 'x12_1Story',\n",
       " 'x12_2.5Fin',\n",
       " 'x12_2.5Unf',\n",
       " 'x12_2Story',\n",
       " 'x12_SFoyer',\n",
       " 'x12_SLvl',\n",
       " 'x13_Flat',\n",
       " 'x13_Gable',\n",
       " 'x13_Gambrel',\n",
       " 'x13_Hip',\n",
       " 'x13_Mansard',\n",
       " 'x13_Shed',\n",
       " 'x14_ClyTile',\n",
       " 'x14_CompShg',\n",
       " 'x14_Membran',\n",
       " 'x14_Metal',\n",
       " 'x14_Roll',\n",
       " 'x14_Tar&Grv',\n",
       " 'x14_WdShake',\n",
       " 'x14_WdShngl',\n",
       " 'x15_AsbShng',\n",
       " 'x15_AsphShn',\n",
       " 'x15_BrkComm',\n",
       " 'x15_BrkFace',\n",
       " 'x15_CBlock',\n",
       " 'x15_CemntBd',\n",
       " 'x15_HdBoard',\n",
       " 'x15_ImStucc',\n",
       " 'x15_MetalSd',\n",
       " 'x15_Plywood',\n",
       " 'x15_Stone',\n",
       " 'x15_Stucco',\n",
       " 'x15_VinylSd',\n",
       " 'x15_Wd Sdng',\n",
       " 'x15_WdShing',\n",
       " 'x16_AsbShng',\n",
       " 'x16_AsphShn',\n",
       " 'x16_Brk Cmn',\n",
       " 'x16_BrkFace',\n",
       " 'x16_CBlock',\n",
       " 'x16_CmentBd',\n",
       " 'x16_HdBoard',\n",
       " 'x16_ImStucc',\n",
       " 'x16_MetalSd',\n",
       " 'x16_Other',\n",
       " 'x16_Plywood',\n",
       " 'x16_Stone',\n",
       " 'x16_Stucco',\n",
       " 'x16_VinylSd',\n",
       " 'x16_Wd Sdng',\n",
       " 'x16_Wd Shng',\n",
       " 'x17_BrkCmn',\n",
       " 'x17_BrkFace',\n",
       " 'x17_None',\n",
       " 'x17_Stone',\n",
       " 'x18_Ex',\n",
       " 'x18_Fa',\n",
       " 'x18_Gd',\n",
       " 'x18_TA',\n",
       " 'x19_Ex',\n",
       " 'x19_Fa',\n",
       " 'x19_Gd',\n",
       " 'x19_Po',\n",
       " 'x19_TA',\n",
       " 'x20_BrkTil',\n",
       " 'x20_CBlock',\n",
       " 'x20_PConc',\n",
       " 'x20_Slab',\n",
       " 'x20_Stone',\n",
       " 'x20_Wood',\n",
       " 'x21_Ex',\n",
       " 'x21_Fa',\n",
       " 'x21_Gd',\n",
       " 'x21_NA',\n",
       " 'x21_TA',\n",
       " 'x22_Fa',\n",
       " 'x22_Gd',\n",
       " 'x22_NA',\n",
       " 'x22_Po',\n",
       " 'x22_TA',\n",
       " 'x23_Av',\n",
       " 'x23_Gd',\n",
       " 'x23_Mn',\n",
       " 'x23_NA',\n",
       " 'x23_No',\n",
       " 'x24_ALQ',\n",
       " 'x24_BLQ',\n",
       " 'x24_GLQ',\n",
       " 'x24_LwQ',\n",
       " 'x24_NA',\n",
       " 'x24_Rec',\n",
       " 'x24_Unf',\n",
       " 'x25_ALQ',\n",
       " 'x25_BLQ',\n",
       " 'x25_GLQ',\n",
       " 'x25_LwQ',\n",
       " 'x25_NA',\n",
       " 'x25_Rec',\n",
       " 'x25_Unf',\n",
       " 'x26_Floor',\n",
       " 'x26_GasA',\n",
       " 'x26_GasW',\n",
       " 'x26_Grav',\n",
       " 'x26_OthW',\n",
       " 'x26_Wall',\n",
       " 'x27_Ex',\n",
       " 'x27_Fa',\n",
       " 'x27_Gd',\n",
       " 'x27_Po',\n",
       " 'x27_TA',\n",
       " 'x28_N',\n",
       " 'x28_Y',\n",
       " 'x29_FuseA',\n",
       " 'x29_FuseF',\n",
       " 'x29_FuseP',\n",
       " 'x29_Mix',\n",
       " 'x29_SBrkr',\n",
       " 'x30_Ex',\n",
       " 'x30_Fa',\n",
       " 'x30_Gd',\n",
       " 'x30_TA',\n",
       " 'x31_Maj1',\n",
       " 'x31_Maj2',\n",
       " 'x31_Min1',\n",
       " 'x31_Min2',\n",
       " 'x31_Mod',\n",
       " 'x31_Sev',\n",
       " 'x31_Typ',\n",
       " 'x32_Ex',\n",
       " 'x32_Fa',\n",
       " 'x32_Gd',\n",
       " 'x32_NA',\n",
       " 'x32_Po',\n",
       " 'x32_TA',\n",
       " 'x33_2Types',\n",
       " 'x33_Attchd',\n",
       " 'x33_Basment',\n",
       " 'x33_BuiltIn',\n",
       " 'x33_CarPort',\n",
       " 'x33_Detchd',\n",
       " 'x33_NA',\n",
       " 'x34_Fin',\n",
       " 'x34_NA',\n",
       " 'x34_RFn',\n",
       " 'x34_Unf',\n",
       " 'x35_Ex',\n",
       " 'x35_Fa',\n",
       " 'x35_Gd',\n",
       " 'x35_NA',\n",
       " 'x35_Po',\n",
       " 'x35_TA',\n",
       " 'x36_Ex',\n",
       " 'x36_Fa',\n",
       " 'x36_Gd',\n",
       " 'x36_NA',\n",
       " 'x36_Po',\n",
       " 'x36_TA',\n",
       " 'x37_N',\n",
       " 'x37_P',\n",
       " 'x37_Y',\n",
       " 'x38_Ex',\n",
       " 'x38_Fa',\n",
       " 'x38_Gd',\n",
       " 'x38_NA',\n",
       " 'x39_GdPrv',\n",
       " 'x39_GdWo',\n",
       " 'x39_MnPrv',\n",
       " 'x39_MnWw',\n",
       " 'x39_NA',\n",
       " 'x40_Gar2',\n",
       " 'x40_NA',\n",
       " 'x40_Othr',\n",
       " 'x40_Shed',\n",
       " 'x40_TenC',\n",
       " 'x41_COD',\n",
       " 'x41_CWD',\n",
       " 'x41_Con',\n",
       " 'x41_ConLD',\n",
       " 'x41_ConLI',\n",
       " 'x41_ConLw',\n",
       " 'x41_New',\n",
       " 'x41_Oth',\n",
       " 'x41_WD',\n",
       " 'x42_Abnorml',\n",
       " 'x42_AdjLand',\n",
       " 'x42_Alloca',\n",
       " 'x42_Family',\n",
       " 'x42_Normal',\n",
       " 'x42_Partial']"
      ]
     },
     "execution_count": 96,
     "metadata": {},
     "output_type": "execute_result"
    }
   ],
   "source": [
    "new_cols = list(ohe.get_feature_names())\n",
    "new_cols"
   ]
  },
  {
   "cell_type": "code",
   "execution_count": 97,
   "id": "e9b5ac2d",
   "metadata": {},
   "outputs": [
    {
     "name": "stderr",
     "output_type": "stream",
     "text": [
      "C:\\Users\\nehals4545\\AppData\\Local\\Temp\\ipykernel_728\\1785779652.py:1: PerformanceWarning: DataFrame is highly fragmented.  This is usually the result of calling `frame.insert` many times, which has poor performance.  Consider joining all columns at once using pd.concat(axis=1) instead. To get a de-fragmented frame, use `newframe = frame.copy()`\n",
      "  df_train[new_cols] = ohe.transform(df_train[cat_cols])\n",
      "C:\\Users\\nehals4545\\AppData\\Local\\Temp\\ipykernel_728\\1785779652.py:1: PerformanceWarning: DataFrame is highly fragmented.  This is usually the result of calling `frame.insert` many times, which has poor performance.  Consider joining all columns at once using pd.concat(axis=1) instead. To get a de-fragmented frame, use `newframe = frame.copy()`\n",
      "  df_train[new_cols] = ohe.transform(df_train[cat_cols])\n",
      "C:\\Users\\nehals4545\\AppData\\Local\\Temp\\ipykernel_728\\1785779652.py:1: PerformanceWarning: DataFrame is highly fragmented.  This is usually the result of calling `frame.insert` many times, which has poor performance.  Consider joining all columns at once using pd.concat(axis=1) instead. To get a de-fragmented frame, use `newframe = frame.copy()`\n",
      "  df_train[new_cols] = ohe.transform(df_train[cat_cols])\n",
      "C:\\Users\\nehals4545\\AppData\\Local\\Temp\\ipykernel_728\\1785779652.py:1: PerformanceWarning: DataFrame is highly fragmented.  This is usually the result of calling `frame.insert` many times, which has poor performance.  Consider joining all columns at once using pd.concat(axis=1) instead. To get a de-fragmented frame, use `newframe = frame.copy()`\n",
      "  df_train[new_cols] = ohe.transform(df_train[cat_cols])\n",
      "C:\\Users\\nehals4545\\AppData\\Local\\Temp\\ipykernel_728\\1785779652.py:1: PerformanceWarning: DataFrame is highly fragmented.  This is usually the result of calling `frame.insert` many times, which has poor performance.  Consider joining all columns at once using pd.concat(axis=1) instead. To get a de-fragmented frame, use `newframe = frame.copy()`\n",
      "  df_train[new_cols] = ohe.transform(df_train[cat_cols])\n",
      "C:\\Users\\nehals4545\\AppData\\Local\\Temp\\ipykernel_728\\1785779652.py:1: PerformanceWarning: DataFrame is highly fragmented.  This is usually the result of calling `frame.insert` many times, which has poor performance.  Consider joining all columns at once using pd.concat(axis=1) instead. To get a de-fragmented frame, use `newframe = frame.copy()`\n",
      "  df_train[new_cols] = ohe.transform(df_train[cat_cols])\n",
      "C:\\Users\\nehals4545\\AppData\\Local\\Temp\\ipykernel_728\\1785779652.py:1: PerformanceWarning: DataFrame is highly fragmented.  This is usually the result of calling `frame.insert` many times, which has poor performance.  Consider joining all columns at once using pd.concat(axis=1) instead. To get a de-fragmented frame, use `newframe = frame.copy()`\n",
      "  df_train[new_cols] = ohe.transform(df_train[cat_cols])\n",
      "C:\\Users\\nehals4545\\AppData\\Local\\Temp\\ipykernel_728\\1785779652.py:1: PerformanceWarning: DataFrame is highly fragmented.  This is usually the result of calling `frame.insert` many times, which has poor performance.  Consider joining all columns at once using pd.concat(axis=1) instead. To get a de-fragmented frame, use `newframe = frame.copy()`\n",
      "  df_train[new_cols] = ohe.transform(df_train[cat_cols])\n",
      "C:\\Users\\nehals4545\\AppData\\Local\\Temp\\ipykernel_728\\1785779652.py:1: PerformanceWarning: DataFrame is highly fragmented.  This is usually the result of calling `frame.insert` many times, which has poor performance.  Consider joining all columns at once using pd.concat(axis=1) instead. To get a de-fragmented frame, use `newframe = frame.copy()`\n",
      "  df_train[new_cols] = ohe.transform(df_train[cat_cols])\n",
      "C:\\Users\\nehals4545\\AppData\\Local\\Temp\\ipykernel_728\\1785779652.py:1: PerformanceWarning: DataFrame is highly fragmented.  This is usually the result of calling `frame.insert` many times, which has poor performance.  Consider joining all columns at once using pd.concat(axis=1) instead. To get a de-fragmented frame, use `newframe = frame.copy()`\n",
      "  df_train[new_cols] = ohe.transform(df_train[cat_cols])\n",
      "C:\\Users\\nehals4545\\AppData\\Local\\Temp\\ipykernel_728\\1785779652.py:1: PerformanceWarning: DataFrame is highly fragmented.  This is usually the result of calling `frame.insert` many times, which has poor performance.  Consider joining all columns at once using pd.concat(axis=1) instead. To get a de-fragmented frame, use `newframe = frame.copy()`\n",
      "  df_train[new_cols] = ohe.transform(df_train[cat_cols])\n",
      "C:\\Users\\nehals4545\\AppData\\Local\\Temp\\ipykernel_728\\1785779652.py:1: PerformanceWarning: DataFrame is highly fragmented.  This is usually the result of calling `frame.insert` many times, which has poor performance.  Consider joining all columns at once using pd.concat(axis=1) instead. To get a de-fragmented frame, use `newframe = frame.copy()`\n",
      "  df_train[new_cols] = ohe.transform(df_train[cat_cols])\n",
      "C:\\Users\\nehals4545\\AppData\\Local\\Temp\\ipykernel_728\\1785779652.py:1: PerformanceWarning: DataFrame is highly fragmented.  This is usually the result of calling `frame.insert` many times, which has poor performance.  Consider joining all columns at once using pd.concat(axis=1) instead. To get a de-fragmented frame, use `newframe = frame.copy()`\n",
      "  df_train[new_cols] = ohe.transform(df_train[cat_cols])\n",
      "C:\\Users\\nehals4545\\AppData\\Local\\Temp\\ipykernel_728\\1785779652.py:1: PerformanceWarning: DataFrame is highly fragmented.  This is usually the result of calling `frame.insert` many times, which has poor performance.  Consider joining all columns at once using pd.concat(axis=1) instead. To get a de-fragmented frame, use `newframe = frame.copy()`\n",
      "  df_train[new_cols] = ohe.transform(df_train[cat_cols])\n",
      "C:\\Users\\nehals4545\\AppData\\Local\\Temp\\ipykernel_728\\1785779652.py:1: PerformanceWarning: DataFrame is highly fragmented.  This is usually the result of calling `frame.insert` many times, which has poor performance.  Consider joining all columns at once using pd.concat(axis=1) instead. To get a de-fragmented frame, use `newframe = frame.copy()`\n",
      "  df_train[new_cols] = ohe.transform(df_train[cat_cols])\n",
      "C:\\Users\\nehals4545\\AppData\\Local\\Temp\\ipykernel_728\\1785779652.py:1: PerformanceWarning: DataFrame is highly fragmented.  This is usually the result of calling `frame.insert` many times, which has poor performance.  Consider joining all columns at once using pd.concat(axis=1) instead. To get a de-fragmented frame, use `newframe = frame.copy()`\n",
      "  df_train[new_cols] = ohe.transform(df_train[cat_cols])\n",
      "C:\\Users\\nehals4545\\AppData\\Local\\Temp\\ipykernel_728\\1785779652.py:1: PerformanceWarning: DataFrame is highly fragmented.  This is usually the result of calling `frame.insert` many times, which has poor performance.  Consider joining all columns at once using pd.concat(axis=1) instead. To get a de-fragmented frame, use `newframe = frame.copy()`\n",
      "  df_train[new_cols] = ohe.transform(df_train[cat_cols])\n",
      "C:\\Users\\nehals4545\\AppData\\Local\\Temp\\ipykernel_728\\1785779652.py:1: PerformanceWarning: DataFrame is highly fragmented.  This is usually the result of calling `frame.insert` many times, which has poor performance.  Consider joining all columns at once using pd.concat(axis=1) instead. To get a de-fragmented frame, use `newframe = frame.copy()`\n",
      "  df_train[new_cols] = ohe.transform(df_train[cat_cols])\n",
      "C:\\Users\\nehals4545\\AppData\\Local\\Temp\\ipykernel_728\\1785779652.py:1: PerformanceWarning: DataFrame is highly fragmented.  This is usually the result of calling `frame.insert` many times, which has poor performance.  Consider joining all columns at once using pd.concat(axis=1) instead. To get a de-fragmented frame, use `newframe = frame.copy()`\n",
      "  df_train[new_cols] = ohe.transform(df_train[cat_cols])\n",
      "C:\\Users\\nehals4545\\AppData\\Local\\Temp\\ipykernel_728\\1785779652.py:1: PerformanceWarning: DataFrame is highly fragmented.  This is usually the result of calling `frame.insert` many times, which has poor performance.  Consider joining all columns at once using pd.concat(axis=1) instead. To get a de-fragmented frame, use `newframe = frame.copy()`\n",
      "  df_train[new_cols] = ohe.transform(df_train[cat_cols])\n",
      "C:\\Users\\nehals4545\\AppData\\Local\\Temp\\ipykernel_728\\1785779652.py:1: PerformanceWarning: DataFrame is highly fragmented.  This is usually the result of calling `frame.insert` many times, which has poor performance.  Consider joining all columns at once using pd.concat(axis=1) instead. To get a de-fragmented frame, use `newframe = frame.copy()`\n",
      "  df_train[new_cols] = ohe.transform(df_train[cat_cols])\n",
      "C:\\Users\\nehals4545\\AppData\\Local\\Temp\\ipykernel_728\\1785779652.py:1: PerformanceWarning: DataFrame is highly fragmented.  This is usually the result of calling `frame.insert` many times, which has poor performance.  Consider joining all columns at once using pd.concat(axis=1) instead. To get a de-fragmented frame, use `newframe = frame.copy()`\n",
      "  df_train[new_cols] = ohe.transform(df_train[cat_cols])\n"
     ]
    },
    {
     "name": "stderr",
     "output_type": "stream",
     "text": [
      "C:\\Users\\nehals4545\\AppData\\Local\\Temp\\ipykernel_728\\1785779652.py:1: PerformanceWarning: DataFrame is highly fragmented.  This is usually the result of calling `frame.insert` many times, which has poor performance.  Consider joining all columns at once using pd.concat(axis=1) instead. To get a de-fragmented frame, use `newframe = frame.copy()`\n",
      "  df_train[new_cols] = ohe.transform(df_train[cat_cols])\n",
      "C:\\Users\\nehals4545\\AppData\\Local\\Temp\\ipykernel_728\\1785779652.py:1: PerformanceWarning: DataFrame is highly fragmented.  This is usually the result of calling `frame.insert` many times, which has poor performance.  Consider joining all columns at once using pd.concat(axis=1) instead. To get a de-fragmented frame, use `newframe = frame.copy()`\n",
      "  df_train[new_cols] = ohe.transform(df_train[cat_cols])\n",
      "C:\\Users\\nehals4545\\AppData\\Local\\Temp\\ipykernel_728\\1785779652.py:1: PerformanceWarning: DataFrame is highly fragmented.  This is usually the result of calling `frame.insert` many times, which has poor performance.  Consider joining all columns at once using pd.concat(axis=1) instead. To get a de-fragmented frame, use `newframe = frame.copy()`\n",
      "  df_train[new_cols] = ohe.transform(df_train[cat_cols])\n",
      "C:\\Users\\nehals4545\\AppData\\Local\\Temp\\ipykernel_728\\1785779652.py:1: PerformanceWarning: DataFrame is highly fragmented.  This is usually the result of calling `frame.insert` many times, which has poor performance.  Consider joining all columns at once using pd.concat(axis=1) instead. To get a de-fragmented frame, use `newframe = frame.copy()`\n",
      "  df_train[new_cols] = ohe.transform(df_train[cat_cols])\n",
      "C:\\Users\\nehals4545\\AppData\\Local\\Temp\\ipykernel_728\\1785779652.py:1: PerformanceWarning: DataFrame is highly fragmented.  This is usually the result of calling `frame.insert` many times, which has poor performance.  Consider joining all columns at once using pd.concat(axis=1) instead. To get a de-fragmented frame, use `newframe = frame.copy()`\n",
      "  df_train[new_cols] = ohe.transform(df_train[cat_cols])\n",
      "C:\\Users\\nehals4545\\AppData\\Local\\Temp\\ipykernel_728\\1785779652.py:1: PerformanceWarning: DataFrame is highly fragmented.  This is usually the result of calling `frame.insert` many times, which has poor performance.  Consider joining all columns at once using pd.concat(axis=1) instead. To get a de-fragmented frame, use `newframe = frame.copy()`\n",
      "  df_train[new_cols] = ohe.transform(df_train[cat_cols])\n",
      "C:\\Users\\nehals4545\\AppData\\Local\\Temp\\ipykernel_728\\1785779652.py:1: PerformanceWarning: DataFrame is highly fragmented.  This is usually the result of calling `frame.insert` many times, which has poor performance.  Consider joining all columns at once using pd.concat(axis=1) instead. To get a de-fragmented frame, use `newframe = frame.copy()`\n",
      "  df_train[new_cols] = ohe.transform(df_train[cat_cols])\n",
      "C:\\Users\\nehals4545\\AppData\\Local\\Temp\\ipykernel_728\\1785779652.py:1: PerformanceWarning: DataFrame is highly fragmented.  This is usually the result of calling `frame.insert` many times, which has poor performance.  Consider joining all columns at once using pd.concat(axis=1) instead. To get a de-fragmented frame, use `newframe = frame.copy()`\n",
      "  df_train[new_cols] = ohe.transform(df_train[cat_cols])\n",
      "C:\\Users\\nehals4545\\AppData\\Local\\Temp\\ipykernel_728\\1785779652.py:1: PerformanceWarning: DataFrame is highly fragmented.  This is usually the result of calling `frame.insert` many times, which has poor performance.  Consider joining all columns at once using pd.concat(axis=1) instead. To get a de-fragmented frame, use `newframe = frame.copy()`\n",
      "  df_train[new_cols] = ohe.transform(df_train[cat_cols])\n",
      "C:\\Users\\nehals4545\\AppData\\Local\\Temp\\ipykernel_728\\1785779652.py:1: PerformanceWarning: DataFrame is highly fragmented.  This is usually the result of calling `frame.insert` many times, which has poor performance.  Consider joining all columns at once using pd.concat(axis=1) instead. To get a de-fragmented frame, use `newframe = frame.copy()`\n",
      "  df_train[new_cols] = ohe.transform(df_train[cat_cols])\n",
      "C:\\Users\\nehals4545\\AppData\\Local\\Temp\\ipykernel_728\\1785779652.py:1: PerformanceWarning: DataFrame is highly fragmented.  This is usually the result of calling `frame.insert` many times, which has poor performance.  Consider joining all columns at once using pd.concat(axis=1) instead. To get a de-fragmented frame, use `newframe = frame.copy()`\n",
      "  df_train[new_cols] = ohe.transform(df_train[cat_cols])\n",
      "C:\\Users\\nehals4545\\AppData\\Local\\Temp\\ipykernel_728\\1785779652.py:1: PerformanceWarning: DataFrame is highly fragmented.  This is usually the result of calling `frame.insert` many times, which has poor performance.  Consider joining all columns at once using pd.concat(axis=1) instead. To get a de-fragmented frame, use `newframe = frame.copy()`\n",
      "  df_train[new_cols] = ohe.transform(df_train[cat_cols])\n",
      "C:\\Users\\nehals4545\\AppData\\Local\\Temp\\ipykernel_728\\1785779652.py:1: PerformanceWarning: DataFrame is highly fragmented.  This is usually the result of calling `frame.insert` many times, which has poor performance.  Consider joining all columns at once using pd.concat(axis=1) instead. To get a de-fragmented frame, use `newframe = frame.copy()`\n",
      "  df_train[new_cols] = ohe.transform(df_train[cat_cols])\n",
      "C:\\Users\\nehals4545\\AppData\\Local\\Temp\\ipykernel_728\\1785779652.py:1: PerformanceWarning: DataFrame is highly fragmented.  This is usually the result of calling `frame.insert` many times, which has poor performance.  Consider joining all columns at once using pd.concat(axis=1) instead. To get a de-fragmented frame, use `newframe = frame.copy()`\n",
      "  df_train[new_cols] = ohe.transform(df_train[cat_cols])\n",
      "C:\\Users\\nehals4545\\AppData\\Local\\Temp\\ipykernel_728\\1785779652.py:1: PerformanceWarning: DataFrame is highly fragmented.  This is usually the result of calling `frame.insert` many times, which has poor performance.  Consider joining all columns at once using pd.concat(axis=1) instead. To get a de-fragmented frame, use `newframe = frame.copy()`\n",
      "  df_train[new_cols] = ohe.transform(df_train[cat_cols])\n",
      "C:\\Users\\nehals4545\\AppData\\Local\\Temp\\ipykernel_728\\1785779652.py:1: PerformanceWarning: DataFrame is highly fragmented.  This is usually the result of calling `frame.insert` many times, which has poor performance.  Consider joining all columns at once using pd.concat(axis=1) instead. To get a de-fragmented frame, use `newframe = frame.copy()`\n",
      "  df_train[new_cols] = ohe.transform(df_train[cat_cols])\n",
      "C:\\Users\\nehals4545\\AppData\\Local\\Temp\\ipykernel_728\\1785779652.py:1: PerformanceWarning: DataFrame is highly fragmented.  This is usually the result of calling `frame.insert` many times, which has poor performance.  Consider joining all columns at once using pd.concat(axis=1) instead. To get a de-fragmented frame, use `newframe = frame.copy()`\n",
      "  df_train[new_cols] = ohe.transform(df_train[cat_cols])\n",
      "C:\\Users\\nehals4545\\AppData\\Local\\Temp\\ipykernel_728\\1785779652.py:1: PerformanceWarning: DataFrame is highly fragmented.  This is usually the result of calling `frame.insert` many times, which has poor performance.  Consider joining all columns at once using pd.concat(axis=1) instead. To get a de-fragmented frame, use `newframe = frame.copy()`\n",
      "  df_train[new_cols] = ohe.transform(df_train[cat_cols])\n",
      "C:\\Users\\nehals4545\\AppData\\Local\\Temp\\ipykernel_728\\1785779652.py:1: PerformanceWarning: DataFrame is highly fragmented.  This is usually the result of calling `frame.insert` many times, which has poor performance.  Consider joining all columns at once using pd.concat(axis=1) instead. To get a de-fragmented frame, use `newframe = frame.copy()`\n",
      "  df_train[new_cols] = ohe.transform(df_train[cat_cols])\n",
      "C:\\Users\\nehals4545\\AppData\\Local\\Temp\\ipykernel_728\\1785779652.py:1: PerformanceWarning: DataFrame is highly fragmented.  This is usually the result of calling `frame.insert` many times, which has poor performance.  Consider joining all columns at once using pd.concat(axis=1) instead. To get a de-fragmented frame, use `newframe = frame.copy()`\n",
      "  df_train[new_cols] = ohe.transform(df_train[cat_cols])\n",
      "C:\\Users\\nehals4545\\AppData\\Local\\Temp\\ipykernel_728\\1785779652.py:1: PerformanceWarning: DataFrame is highly fragmented.  This is usually the result of calling `frame.insert` many times, which has poor performance.  Consider joining all columns at once using pd.concat(axis=1) instead. To get a de-fragmented frame, use `newframe = frame.copy()`\n",
      "  df_train[new_cols] = ohe.transform(df_train[cat_cols])\n",
      "C:\\Users\\nehals4545\\AppData\\Local\\Temp\\ipykernel_728\\1785779652.py:1: PerformanceWarning: DataFrame is highly fragmented.  This is usually the result of calling `frame.insert` many times, which has poor performance.  Consider joining all columns at once using pd.concat(axis=1) instead. To get a de-fragmented frame, use `newframe = frame.copy()`\n",
      "  df_train[new_cols] = ohe.transform(df_train[cat_cols])\n",
      "C:\\Users\\nehals4545\\AppData\\Local\\Temp\\ipykernel_728\\1785779652.py:1: PerformanceWarning: DataFrame is highly fragmented.  This is usually the result of calling `frame.insert` many times, which has poor performance.  Consider joining all columns at once using pd.concat(axis=1) instead. To get a de-fragmented frame, use `newframe = frame.copy()`\n",
      "  df_train[new_cols] = ohe.transform(df_train[cat_cols])\n",
      "C:\\Users\\nehals4545\\AppData\\Local\\Temp\\ipykernel_728\\1785779652.py:1: PerformanceWarning: DataFrame is highly fragmented.  This is usually the result of calling `frame.insert` many times, which has poor performance.  Consider joining all columns at once using pd.concat(axis=1) instead. To get a de-fragmented frame, use `newframe = frame.copy()`\n",
      "  df_train[new_cols] = ohe.transform(df_train[cat_cols])\n",
      "C:\\Users\\nehals4545\\AppData\\Local\\Temp\\ipykernel_728\\1785779652.py:1: PerformanceWarning: DataFrame is highly fragmented.  This is usually the result of calling `frame.insert` many times, which has poor performance.  Consider joining all columns at once using pd.concat(axis=1) instead. To get a de-fragmented frame, use `newframe = frame.copy()`\n",
      "  df_train[new_cols] = ohe.transform(df_train[cat_cols])\n",
      "C:\\Users\\nehals4545\\AppData\\Local\\Temp\\ipykernel_728\\1785779652.py:1: PerformanceWarning: DataFrame is highly fragmented.  This is usually the result of calling `frame.insert` many times, which has poor performance.  Consider joining all columns at once using pd.concat(axis=1) instead. To get a de-fragmented frame, use `newframe = frame.copy()`\n",
      "  df_train[new_cols] = ohe.transform(df_train[cat_cols])\n"
     ]
    },
    {
     "name": "stderr",
     "output_type": "stream",
     "text": [
      "C:\\Users\\nehals4545\\AppData\\Local\\Temp\\ipykernel_728\\1785779652.py:1: PerformanceWarning: DataFrame is highly fragmented.  This is usually the result of calling `frame.insert` many times, which has poor performance.  Consider joining all columns at once using pd.concat(axis=1) instead. To get a de-fragmented frame, use `newframe = frame.copy()`\n",
      "  df_train[new_cols] = ohe.transform(df_train[cat_cols])\n",
      "C:\\Users\\nehals4545\\AppData\\Local\\Temp\\ipykernel_728\\1785779652.py:1: PerformanceWarning: DataFrame is highly fragmented.  This is usually the result of calling `frame.insert` many times, which has poor performance.  Consider joining all columns at once using pd.concat(axis=1) instead. To get a de-fragmented frame, use `newframe = frame.copy()`\n",
      "  df_train[new_cols] = ohe.transform(df_train[cat_cols])\n",
      "C:\\Users\\nehals4545\\AppData\\Local\\Temp\\ipykernel_728\\1785779652.py:1: PerformanceWarning: DataFrame is highly fragmented.  This is usually the result of calling `frame.insert` many times, which has poor performance.  Consider joining all columns at once using pd.concat(axis=1) instead. To get a de-fragmented frame, use `newframe = frame.copy()`\n",
      "  df_train[new_cols] = ohe.transform(df_train[cat_cols])\n",
      "C:\\Users\\nehals4545\\AppData\\Local\\Temp\\ipykernel_728\\1785779652.py:1: PerformanceWarning: DataFrame is highly fragmented.  This is usually the result of calling `frame.insert` many times, which has poor performance.  Consider joining all columns at once using pd.concat(axis=1) instead. To get a de-fragmented frame, use `newframe = frame.copy()`\n",
      "  df_train[new_cols] = ohe.transform(df_train[cat_cols])\n",
      "C:\\Users\\nehals4545\\AppData\\Local\\Temp\\ipykernel_728\\1785779652.py:1: PerformanceWarning: DataFrame is highly fragmented.  This is usually the result of calling `frame.insert` many times, which has poor performance.  Consider joining all columns at once using pd.concat(axis=1) instead. To get a de-fragmented frame, use `newframe = frame.copy()`\n",
      "  df_train[new_cols] = ohe.transform(df_train[cat_cols])\n",
      "C:\\Users\\nehals4545\\AppData\\Local\\Temp\\ipykernel_728\\1785779652.py:1: PerformanceWarning: DataFrame is highly fragmented.  This is usually the result of calling `frame.insert` many times, which has poor performance.  Consider joining all columns at once using pd.concat(axis=1) instead. To get a de-fragmented frame, use `newframe = frame.copy()`\n",
      "  df_train[new_cols] = ohe.transform(df_train[cat_cols])\n",
      "C:\\Users\\nehals4545\\AppData\\Local\\Temp\\ipykernel_728\\1785779652.py:1: PerformanceWarning: DataFrame is highly fragmented.  This is usually the result of calling `frame.insert` many times, which has poor performance.  Consider joining all columns at once using pd.concat(axis=1) instead. To get a de-fragmented frame, use `newframe = frame.copy()`\n",
      "  df_train[new_cols] = ohe.transform(df_train[cat_cols])\n",
      "C:\\Users\\nehals4545\\AppData\\Local\\Temp\\ipykernel_728\\1785779652.py:1: PerformanceWarning: DataFrame is highly fragmented.  This is usually the result of calling `frame.insert` many times, which has poor performance.  Consider joining all columns at once using pd.concat(axis=1) instead. To get a de-fragmented frame, use `newframe = frame.copy()`\n",
      "  df_train[new_cols] = ohe.transform(df_train[cat_cols])\n",
      "C:\\Users\\nehals4545\\AppData\\Local\\Temp\\ipykernel_728\\1785779652.py:1: PerformanceWarning: DataFrame is highly fragmented.  This is usually the result of calling `frame.insert` many times, which has poor performance.  Consider joining all columns at once using pd.concat(axis=1) instead. To get a de-fragmented frame, use `newframe = frame.copy()`\n",
      "  df_train[new_cols] = ohe.transform(df_train[cat_cols])\n",
      "C:\\Users\\nehals4545\\AppData\\Local\\Temp\\ipykernel_728\\1785779652.py:1: PerformanceWarning: DataFrame is highly fragmented.  This is usually the result of calling `frame.insert` many times, which has poor performance.  Consider joining all columns at once using pd.concat(axis=1) instead. To get a de-fragmented frame, use `newframe = frame.copy()`\n",
      "  df_train[new_cols] = ohe.transform(df_train[cat_cols])\n",
      "C:\\Users\\nehals4545\\AppData\\Local\\Temp\\ipykernel_728\\1785779652.py:1: PerformanceWarning: DataFrame is highly fragmented.  This is usually the result of calling `frame.insert` many times, which has poor performance.  Consider joining all columns at once using pd.concat(axis=1) instead. To get a de-fragmented frame, use `newframe = frame.copy()`\n",
      "  df_train[new_cols] = ohe.transform(df_train[cat_cols])\n",
      "C:\\Users\\nehals4545\\AppData\\Local\\Temp\\ipykernel_728\\1785779652.py:1: PerformanceWarning: DataFrame is highly fragmented.  This is usually the result of calling `frame.insert` many times, which has poor performance.  Consider joining all columns at once using pd.concat(axis=1) instead. To get a de-fragmented frame, use `newframe = frame.copy()`\n",
      "  df_train[new_cols] = ohe.transform(df_train[cat_cols])\n",
      "C:\\Users\\nehals4545\\AppData\\Local\\Temp\\ipykernel_728\\1785779652.py:1: PerformanceWarning: DataFrame is highly fragmented.  This is usually the result of calling `frame.insert` many times, which has poor performance.  Consider joining all columns at once using pd.concat(axis=1) instead. To get a de-fragmented frame, use `newframe = frame.copy()`\n",
      "  df_train[new_cols] = ohe.transform(df_train[cat_cols])\n",
      "C:\\Users\\nehals4545\\AppData\\Local\\Temp\\ipykernel_728\\1785779652.py:1: PerformanceWarning: DataFrame is highly fragmented.  This is usually the result of calling `frame.insert` many times, which has poor performance.  Consider joining all columns at once using pd.concat(axis=1) instead. To get a de-fragmented frame, use `newframe = frame.copy()`\n",
      "  df_train[new_cols] = ohe.transform(df_train[cat_cols])\n",
      "C:\\Users\\nehals4545\\AppData\\Local\\Temp\\ipykernel_728\\1785779652.py:1: PerformanceWarning: DataFrame is highly fragmented.  This is usually the result of calling `frame.insert` many times, which has poor performance.  Consider joining all columns at once using pd.concat(axis=1) instead. To get a de-fragmented frame, use `newframe = frame.copy()`\n",
      "  df_train[new_cols] = ohe.transform(df_train[cat_cols])\n",
      "C:\\Users\\nehals4545\\AppData\\Local\\Temp\\ipykernel_728\\1785779652.py:1: PerformanceWarning: DataFrame is highly fragmented.  This is usually the result of calling `frame.insert` many times, which has poor performance.  Consider joining all columns at once using pd.concat(axis=1) instead. To get a de-fragmented frame, use `newframe = frame.copy()`\n",
      "  df_train[new_cols] = ohe.transform(df_train[cat_cols])\n",
      "C:\\Users\\nehals4545\\AppData\\Local\\Temp\\ipykernel_728\\1785779652.py:1: PerformanceWarning: DataFrame is highly fragmented.  This is usually the result of calling `frame.insert` many times, which has poor performance.  Consider joining all columns at once using pd.concat(axis=1) instead. To get a de-fragmented frame, use `newframe = frame.copy()`\n",
      "  df_train[new_cols] = ohe.transform(df_train[cat_cols])\n",
      "C:\\Users\\nehals4545\\AppData\\Local\\Temp\\ipykernel_728\\1785779652.py:1: PerformanceWarning: DataFrame is highly fragmented.  This is usually the result of calling `frame.insert` many times, which has poor performance.  Consider joining all columns at once using pd.concat(axis=1) instead. To get a de-fragmented frame, use `newframe = frame.copy()`\n",
      "  df_train[new_cols] = ohe.transform(df_train[cat_cols])\n",
      "C:\\Users\\nehals4545\\AppData\\Local\\Temp\\ipykernel_728\\1785779652.py:1: PerformanceWarning: DataFrame is highly fragmented.  This is usually the result of calling `frame.insert` many times, which has poor performance.  Consider joining all columns at once using pd.concat(axis=1) instead. To get a de-fragmented frame, use `newframe = frame.copy()`\n",
      "  df_train[new_cols] = ohe.transform(df_train[cat_cols])\n",
      "C:\\Users\\nehals4545\\AppData\\Local\\Temp\\ipykernel_728\\1785779652.py:1: PerformanceWarning: DataFrame is highly fragmented.  This is usually the result of calling `frame.insert` many times, which has poor performance.  Consider joining all columns at once using pd.concat(axis=1) instead. To get a de-fragmented frame, use `newframe = frame.copy()`\n",
      "  df_train[new_cols] = ohe.transform(df_train[cat_cols])\n",
      "C:\\Users\\nehals4545\\AppData\\Local\\Temp\\ipykernel_728\\1785779652.py:1: PerformanceWarning: DataFrame is highly fragmented.  This is usually the result of calling `frame.insert` many times, which has poor performance.  Consider joining all columns at once using pd.concat(axis=1) instead. To get a de-fragmented frame, use `newframe = frame.copy()`\n",
      "  df_train[new_cols] = ohe.transform(df_train[cat_cols])\n",
      "C:\\Users\\nehals4545\\AppData\\Local\\Temp\\ipykernel_728\\1785779652.py:1: PerformanceWarning: DataFrame is highly fragmented.  This is usually the result of calling `frame.insert` many times, which has poor performance.  Consider joining all columns at once using pd.concat(axis=1) instead. To get a de-fragmented frame, use `newframe = frame.copy()`\n",
      "  df_train[new_cols] = ohe.transform(df_train[cat_cols])\n",
      "C:\\Users\\nehals4545\\AppData\\Local\\Temp\\ipykernel_728\\1785779652.py:1: PerformanceWarning: DataFrame is highly fragmented.  This is usually the result of calling `frame.insert` many times, which has poor performance.  Consider joining all columns at once using pd.concat(axis=1) instead. To get a de-fragmented frame, use `newframe = frame.copy()`\n",
      "  df_train[new_cols] = ohe.transform(df_train[cat_cols])\n",
      "C:\\Users\\nehals4545\\AppData\\Local\\Temp\\ipykernel_728\\1785779652.py:1: PerformanceWarning: DataFrame is highly fragmented.  This is usually the result of calling `frame.insert` many times, which has poor performance.  Consider joining all columns at once using pd.concat(axis=1) instead. To get a de-fragmented frame, use `newframe = frame.copy()`\n",
      "  df_train[new_cols] = ohe.transform(df_train[cat_cols])\n"
     ]
    },
    {
     "name": "stderr",
     "output_type": "stream",
     "text": [
      "C:\\Users\\nehals4545\\AppData\\Local\\Temp\\ipykernel_728\\1785779652.py:1: PerformanceWarning: DataFrame is highly fragmented.  This is usually the result of calling `frame.insert` many times, which has poor performance.  Consider joining all columns at once using pd.concat(axis=1) instead. To get a de-fragmented frame, use `newframe = frame.copy()`\n",
      "  df_train[new_cols] = ohe.transform(df_train[cat_cols])\n",
      "C:\\Users\\nehals4545\\AppData\\Local\\Temp\\ipykernel_728\\1785779652.py:1: PerformanceWarning: DataFrame is highly fragmented.  This is usually the result of calling `frame.insert` many times, which has poor performance.  Consider joining all columns at once using pd.concat(axis=1) instead. To get a de-fragmented frame, use `newframe = frame.copy()`\n",
      "  df_train[new_cols] = ohe.transform(df_train[cat_cols])\n",
      "C:\\Users\\nehals4545\\AppData\\Local\\Temp\\ipykernel_728\\1785779652.py:1: PerformanceWarning: DataFrame is highly fragmented.  This is usually the result of calling `frame.insert` many times, which has poor performance.  Consider joining all columns at once using pd.concat(axis=1) instead. To get a de-fragmented frame, use `newframe = frame.copy()`\n",
      "  df_train[new_cols] = ohe.transform(df_train[cat_cols])\n",
      "C:\\Users\\nehals4545\\AppData\\Local\\Temp\\ipykernel_728\\1785779652.py:1: PerformanceWarning: DataFrame is highly fragmented.  This is usually the result of calling `frame.insert` many times, which has poor performance.  Consider joining all columns at once using pd.concat(axis=1) instead. To get a de-fragmented frame, use `newframe = frame.copy()`\n",
      "  df_train[new_cols] = ohe.transform(df_train[cat_cols])\n",
      "C:\\Users\\nehals4545\\AppData\\Local\\Temp\\ipykernel_728\\1785779652.py:1: PerformanceWarning: DataFrame is highly fragmented.  This is usually the result of calling `frame.insert` many times, which has poor performance.  Consider joining all columns at once using pd.concat(axis=1) instead. To get a de-fragmented frame, use `newframe = frame.copy()`\n",
      "  df_train[new_cols] = ohe.transform(df_train[cat_cols])\n",
      "C:\\Users\\nehals4545\\AppData\\Local\\Temp\\ipykernel_728\\1785779652.py:1: PerformanceWarning: DataFrame is highly fragmented.  This is usually the result of calling `frame.insert` many times, which has poor performance.  Consider joining all columns at once using pd.concat(axis=1) instead. To get a de-fragmented frame, use `newframe = frame.copy()`\n",
      "  df_train[new_cols] = ohe.transform(df_train[cat_cols])\n",
      "C:\\Users\\nehals4545\\AppData\\Local\\Temp\\ipykernel_728\\1785779652.py:1: PerformanceWarning: DataFrame is highly fragmented.  This is usually the result of calling `frame.insert` many times, which has poor performance.  Consider joining all columns at once using pd.concat(axis=1) instead. To get a de-fragmented frame, use `newframe = frame.copy()`\n",
      "  df_train[new_cols] = ohe.transform(df_train[cat_cols])\n",
      "C:\\Users\\nehals4545\\AppData\\Local\\Temp\\ipykernel_728\\1785779652.py:1: PerformanceWarning: DataFrame is highly fragmented.  This is usually the result of calling `frame.insert` many times, which has poor performance.  Consider joining all columns at once using pd.concat(axis=1) instead. To get a de-fragmented frame, use `newframe = frame.copy()`\n",
      "  df_train[new_cols] = ohe.transform(df_train[cat_cols])\n",
      "C:\\Users\\nehals4545\\AppData\\Local\\Temp\\ipykernel_728\\1785779652.py:1: PerformanceWarning: DataFrame is highly fragmented.  This is usually the result of calling `frame.insert` many times, which has poor performance.  Consider joining all columns at once using pd.concat(axis=1) instead. To get a de-fragmented frame, use `newframe = frame.copy()`\n",
      "  df_train[new_cols] = ohe.transform(df_train[cat_cols])\n",
      "C:\\Users\\nehals4545\\AppData\\Local\\Temp\\ipykernel_728\\1785779652.py:1: PerformanceWarning: DataFrame is highly fragmented.  This is usually the result of calling `frame.insert` many times, which has poor performance.  Consider joining all columns at once using pd.concat(axis=1) instead. To get a de-fragmented frame, use `newframe = frame.copy()`\n",
      "  df_train[new_cols] = ohe.transform(df_train[cat_cols])\n",
      "C:\\Users\\nehals4545\\AppData\\Local\\Temp\\ipykernel_728\\1785779652.py:1: PerformanceWarning: DataFrame is highly fragmented.  This is usually the result of calling `frame.insert` many times, which has poor performance.  Consider joining all columns at once using pd.concat(axis=1) instead. To get a de-fragmented frame, use `newframe = frame.copy()`\n",
      "  df_train[new_cols] = ohe.transform(df_train[cat_cols])\n",
      "C:\\Users\\nehals4545\\AppData\\Local\\Temp\\ipykernel_728\\1785779652.py:1: PerformanceWarning: DataFrame is highly fragmented.  This is usually the result of calling `frame.insert` many times, which has poor performance.  Consider joining all columns at once using pd.concat(axis=1) instead. To get a de-fragmented frame, use `newframe = frame.copy()`\n",
      "  df_train[new_cols] = ohe.transform(df_train[cat_cols])\n",
      "C:\\Users\\nehals4545\\AppData\\Local\\Temp\\ipykernel_728\\1785779652.py:1: PerformanceWarning: DataFrame is highly fragmented.  This is usually the result of calling `frame.insert` many times, which has poor performance.  Consider joining all columns at once using pd.concat(axis=1) instead. To get a de-fragmented frame, use `newframe = frame.copy()`\n",
      "  df_train[new_cols] = ohe.transform(df_train[cat_cols])\n",
      "C:\\Users\\nehals4545\\AppData\\Local\\Temp\\ipykernel_728\\1785779652.py:1: PerformanceWarning: DataFrame is highly fragmented.  This is usually the result of calling `frame.insert` many times, which has poor performance.  Consider joining all columns at once using pd.concat(axis=1) instead. To get a de-fragmented frame, use `newframe = frame.copy()`\n",
      "  df_train[new_cols] = ohe.transform(df_train[cat_cols])\n",
      "C:\\Users\\nehals4545\\AppData\\Local\\Temp\\ipykernel_728\\1785779652.py:1: PerformanceWarning: DataFrame is highly fragmented.  This is usually the result of calling `frame.insert` many times, which has poor performance.  Consider joining all columns at once using pd.concat(axis=1) instead. To get a de-fragmented frame, use `newframe = frame.copy()`\n",
      "  df_train[new_cols] = ohe.transform(df_train[cat_cols])\n",
      "C:\\Users\\nehals4545\\AppData\\Local\\Temp\\ipykernel_728\\1785779652.py:1: PerformanceWarning: DataFrame is highly fragmented.  This is usually the result of calling `frame.insert` many times, which has poor performance.  Consider joining all columns at once using pd.concat(axis=1) instead. To get a de-fragmented frame, use `newframe = frame.copy()`\n",
      "  df_train[new_cols] = ohe.transform(df_train[cat_cols])\n",
      "C:\\Users\\nehals4545\\AppData\\Local\\Temp\\ipykernel_728\\1785779652.py:1: PerformanceWarning: DataFrame is highly fragmented.  This is usually the result of calling `frame.insert` many times, which has poor performance.  Consider joining all columns at once using pd.concat(axis=1) instead. To get a de-fragmented frame, use `newframe = frame.copy()`\n",
      "  df_train[new_cols] = ohe.transform(df_train[cat_cols])\n",
      "C:\\Users\\nehals4545\\AppData\\Local\\Temp\\ipykernel_728\\1785779652.py:1: PerformanceWarning: DataFrame is highly fragmented.  This is usually the result of calling `frame.insert` many times, which has poor performance.  Consider joining all columns at once using pd.concat(axis=1) instead. To get a de-fragmented frame, use `newframe = frame.copy()`\n",
      "  df_train[new_cols] = ohe.transform(df_train[cat_cols])\n",
      "C:\\Users\\nehals4545\\AppData\\Local\\Temp\\ipykernel_728\\1785779652.py:1: PerformanceWarning: DataFrame is highly fragmented.  This is usually the result of calling `frame.insert` many times, which has poor performance.  Consider joining all columns at once using pd.concat(axis=1) instead. To get a de-fragmented frame, use `newframe = frame.copy()`\n",
      "  df_train[new_cols] = ohe.transform(df_train[cat_cols])\n",
      "C:\\Users\\nehals4545\\AppData\\Local\\Temp\\ipykernel_728\\1785779652.py:1: PerformanceWarning: DataFrame is highly fragmented.  This is usually the result of calling `frame.insert` many times, which has poor performance.  Consider joining all columns at once using pd.concat(axis=1) instead. To get a de-fragmented frame, use `newframe = frame.copy()`\n",
      "  df_train[new_cols] = ohe.transform(df_train[cat_cols])\n",
      "C:\\Users\\nehals4545\\AppData\\Local\\Temp\\ipykernel_728\\1785779652.py:1: PerformanceWarning: DataFrame is highly fragmented.  This is usually the result of calling `frame.insert` many times, which has poor performance.  Consider joining all columns at once using pd.concat(axis=1) instead. To get a de-fragmented frame, use `newframe = frame.copy()`\n",
      "  df_train[new_cols] = ohe.transform(df_train[cat_cols])\n",
      "C:\\Users\\nehals4545\\AppData\\Local\\Temp\\ipykernel_728\\1785779652.py:1: PerformanceWarning: DataFrame is highly fragmented.  This is usually the result of calling `frame.insert` many times, which has poor performance.  Consider joining all columns at once using pd.concat(axis=1) instead. To get a de-fragmented frame, use `newframe = frame.copy()`\n",
      "  df_train[new_cols] = ohe.transform(df_train[cat_cols])\n",
      "C:\\Users\\nehals4545\\AppData\\Local\\Temp\\ipykernel_728\\1785779652.py:1: PerformanceWarning: DataFrame is highly fragmented.  This is usually the result of calling `frame.insert` many times, which has poor performance.  Consider joining all columns at once using pd.concat(axis=1) instead. To get a de-fragmented frame, use `newframe = frame.copy()`\n",
      "  df_train[new_cols] = ohe.transform(df_train[cat_cols])\n",
      "C:\\Users\\nehals4545\\AppData\\Local\\Temp\\ipykernel_728\\1785779652.py:1: PerformanceWarning: DataFrame is highly fragmented.  This is usually the result of calling `frame.insert` many times, which has poor performance.  Consider joining all columns at once using pd.concat(axis=1) instead. To get a de-fragmented frame, use `newframe = frame.copy()`\n",
      "  df_train[new_cols] = ohe.transform(df_train[cat_cols])\n",
      "C:\\Users\\nehals4545\\AppData\\Local\\Temp\\ipykernel_728\\1785779652.py:1: PerformanceWarning: DataFrame is highly fragmented.  This is usually the result of calling `frame.insert` many times, which has poor performance.  Consider joining all columns at once using pd.concat(axis=1) instead. To get a de-fragmented frame, use `newframe = frame.copy()`\n",
      "  df_train[new_cols] = ohe.transform(df_train[cat_cols])\n"
     ]
    },
    {
     "name": "stderr",
     "output_type": "stream",
     "text": [
      "C:\\Users\\nehals4545\\AppData\\Local\\Temp\\ipykernel_728\\1785779652.py:1: PerformanceWarning: DataFrame is highly fragmented.  This is usually the result of calling `frame.insert` many times, which has poor performance.  Consider joining all columns at once using pd.concat(axis=1) instead. To get a de-fragmented frame, use `newframe = frame.copy()`\n",
      "  df_train[new_cols] = ohe.transform(df_train[cat_cols])\n",
      "C:\\Users\\nehals4545\\AppData\\Local\\Temp\\ipykernel_728\\1785779652.py:1: PerformanceWarning: DataFrame is highly fragmented.  This is usually the result of calling `frame.insert` many times, which has poor performance.  Consider joining all columns at once using pd.concat(axis=1) instead. To get a de-fragmented frame, use `newframe = frame.copy()`\n",
      "  df_train[new_cols] = ohe.transform(df_train[cat_cols])\n",
      "C:\\Users\\nehals4545\\AppData\\Local\\Temp\\ipykernel_728\\1785779652.py:1: PerformanceWarning: DataFrame is highly fragmented.  This is usually the result of calling `frame.insert` many times, which has poor performance.  Consider joining all columns at once using pd.concat(axis=1) instead. To get a de-fragmented frame, use `newframe = frame.copy()`\n",
      "  df_train[new_cols] = ohe.transform(df_train[cat_cols])\n",
      "C:\\Users\\nehals4545\\AppData\\Local\\Temp\\ipykernel_728\\1785779652.py:1: PerformanceWarning: DataFrame is highly fragmented.  This is usually the result of calling `frame.insert` many times, which has poor performance.  Consider joining all columns at once using pd.concat(axis=1) instead. To get a de-fragmented frame, use `newframe = frame.copy()`\n",
      "  df_train[new_cols] = ohe.transform(df_train[cat_cols])\n",
      "C:\\Users\\nehals4545\\AppData\\Local\\Temp\\ipykernel_728\\1785779652.py:1: PerformanceWarning: DataFrame is highly fragmented.  This is usually the result of calling `frame.insert` many times, which has poor performance.  Consider joining all columns at once using pd.concat(axis=1) instead. To get a de-fragmented frame, use `newframe = frame.copy()`\n",
      "  df_train[new_cols] = ohe.transform(df_train[cat_cols])\n",
      "C:\\Users\\nehals4545\\AppData\\Local\\Temp\\ipykernel_728\\1785779652.py:1: PerformanceWarning: DataFrame is highly fragmented.  This is usually the result of calling `frame.insert` many times, which has poor performance.  Consider joining all columns at once using pd.concat(axis=1) instead. To get a de-fragmented frame, use `newframe = frame.copy()`\n",
      "  df_train[new_cols] = ohe.transform(df_train[cat_cols])\n",
      "C:\\Users\\nehals4545\\AppData\\Local\\Temp\\ipykernel_728\\1785779652.py:1: PerformanceWarning: DataFrame is highly fragmented.  This is usually the result of calling `frame.insert` many times, which has poor performance.  Consider joining all columns at once using pd.concat(axis=1) instead. To get a de-fragmented frame, use `newframe = frame.copy()`\n",
      "  df_train[new_cols] = ohe.transform(df_train[cat_cols])\n",
      "C:\\Users\\nehals4545\\AppData\\Local\\Temp\\ipykernel_728\\1785779652.py:1: PerformanceWarning: DataFrame is highly fragmented.  This is usually the result of calling `frame.insert` many times, which has poor performance.  Consider joining all columns at once using pd.concat(axis=1) instead. To get a de-fragmented frame, use `newframe = frame.copy()`\n",
      "  df_train[new_cols] = ohe.transform(df_train[cat_cols])\n",
      "C:\\Users\\nehals4545\\AppData\\Local\\Temp\\ipykernel_728\\1785779652.py:1: PerformanceWarning: DataFrame is highly fragmented.  This is usually the result of calling `frame.insert` many times, which has poor performance.  Consider joining all columns at once using pd.concat(axis=1) instead. To get a de-fragmented frame, use `newframe = frame.copy()`\n",
      "  df_train[new_cols] = ohe.transform(df_train[cat_cols])\n",
      "C:\\Users\\nehals4545\\AppData\\Local\\Temp\\ipykernel_728\\1785779652.py:1: PerformanceWarning: DataFrame is highly fragmented.  This is usually the result of calling `frame.insert` many times, which has poor performance.  Consider joining all columns at once using pd.concat(axis=1) instead. To get a de-fragmented frame, use `newframe = frame.copy()`\n",
      "  df_train[new_cols] = ohe.transform(df_train[cat_cols])\n",
      "C:\\Users\\nehals4545\\AppData\\Local\\Temp\\ipykernel_728\\1785779652.py:1: PerformanceWarning: DataFrame is highly fragmented.  This is usually the result of calling `frame.insert` many times, which has poor performance.  Consider joining all columns at once using pd.concat(axis=1) instead. To get a de-fragmented frame, use `newframe = frame.copy()`\n",
      "  df_train[new_cols] = ohe.transform(df_train[cat_cols])\n",
      "C:\\Users\\nehals4545\\AppData\\Local\\Temp\\ipykernel_728\\1785779652.py:1: PerformanceWarning: DataFrame is highly fragmented.  This is usually the result of calling `frame.insert` many times, which has poor performance.  Consider joining all columns at once using pd.concat(axis=1) instead. To get a de-fragmented frame, use `newframe = frame.copy()`\n",
      "  df_train[new_cols] = ohe.transform(df_train[cat_cols])\n",
      "C:\\Users\\nehals4545\\AppData\\Local\\Temp\\ipykernel_728\\1785779652.py:1: PerformanceWarning: DataFrame is highly fragmented.  This is usually the result of calling `frame.insert` many times, which has poor performance.  Consider joining all columns at once using pd.concat(axis=1) instead. To get a de-fragmented frame, use `newframe = frame.copy()`\n",
      "  df_train[new_cols] = ohe.transform(df_train[cat_cols])\n",
      "C:\\Users\\nehals4545\\AppData\\Local\\Temp\\ipykernel_728\\1785779652.py:1: PerformanceWarning: DataFrame is highly fragmented.  This is usually the result of calling `frame.insert` many times, which has poor performance.  Consider joining all columns at once using pd.concat(axis=1) instead. To get a de-fragmented frame, use `newframe = frame.copy()`\n",
      "  df_train[new_cols] = ohe.transform(df_train[cat_cols])\n",
      "C:\\Users\\nehals4545\\AppData\\Local\\Temp\\ipykernel_728\\1785779652.py:1: PerformanceWarning: DataFrame is highly fragmented.  This is usually the result of calling `frame.insert` many times, which has poor performance.  Consider joining all columns at once using pd.concat(axis=1) instead. To get a de-fragmented frame, use `newframe = frame.copy()`\n",
      "  df_train[new_cols] = ohe.transform(df_train[cat_cols])\n",
      "C:\\Users\\nehals4545\\AppData\\Local\\Temp\\ipykernel_728\\1785779652.py:1: PerformanceWarning: DataFrame is highly fragmented.  This is usually the result of calling `frame.insert` many times, which has poor performance.  Consider joining all columns at once using pd.concat(axis=1) instead. To get a de-fragmented frame, use `newframe = frame.copy()`\n",
      "  df_train[new_cols] = ohe.transform(df_train[cat_cols])\n",
      "C:\\Users\\nehals4545\\AppData\\Local\\Temp\\ipykernel_728\\1785779652.py:1: PerformanceWarning: DataFrame is highly fragmented.  This is usually the result of calling `frame.insert` many times, which has poor performance.  Consider joining all columns at once using pd.concat(axis=1) instead. To get a de-fragmented frame, use `newframe = frame.copy()`\n",
      "  df_train[new_cols] = ohe.transform(df_train[cat_cols])\n",
      "C:\\Users\\nehals4545\\AppData\\Local\\Temp\\ipykernel_728\\1785779652.py:1: PerformanceWarning: DataFrame is highly fragmented.  This is usually the result of calling `frame.insert` many times, which has poor performance.  Consider joining all columns at once using pd.concat(axis=1) instead. To get a de-fragmented frame, use `newframe = frame.copy()`\n",
      "  df_train[new_cols] = ohe.transform(df_train[cat_cols])\n",
      "C:\\Users\\nehals4545\\AppData\\Local\\Temp\\ipykernel_728\\1785779652.py:1: PerformanceWarning: DataFrame is highly fragmented.  This is usually the result of calling `frame.insert` many times, which has poor performance.  Consider joining all columns at once using pd.concat(axis=1) instead. To get a de-fragmented frame, use `newframe = frame.copy()`\n",
      "  df_train[new_cols] = ohe.transform(df_train[cat_cols])\n",
      "C:\\Users\\nehals4545\\AppData\\Local\\Temp\\ipykernel_728\\1785779652.py:1: PerformanceWarning: DataFrame is highly fragmented.  This is usually the result of calling `frame.insert` many times, which has poor performance.  Consider joining all columns at once using pd.concat(axis=1) instead. To get a de-fragmented frame, use `newframe = frame.copy()`\n",
      "  df_train[new_cols] = ohe.transform(df_train[cat_cols])\n",
      "C:\\Users\\nehals4545\\AppData\\Local\\Temp\\ipykernel_728\\1785779652.py:1: PerformanceWarning: DataFrame is highly fragmented.  This is usually the result of calling `frame.insert` many times, which has poor performance.  Consider joining all columns at once using pd.concat(axis=1) instead. To get a de-fragmented frame, use `newframe = frame.copy()`\n",
      "  df_train[new_cols] = ohe.transform(df_train[cat_cols])\n",
      "C:\\Users\\nehals4545\\AppData\\Local\\Temp\\ipykernel_728\\1785779652.py:1: PerformanceWarning: DataFrame is highly fragmented.  This is usually the result of calling `frame.insert` many times, which has poor performance.  Consider joining all columns at once using pd.concat(axis=1) instead. To get a de-fragmented frame, use `newframe = frame.copy()`\n",
      "  df_train[new_cols] = ohe.transform(df_train[cat_cols])\n",
      "C:\\Users\\nehals4545\\AppData\\Local\\Temp\\ipykernel_728\\1785779652.py:1: PerformanceWarning: DataFrame is highly fragmented.  This is usually the result of calling `frame.insert` many times, which has poor performance.  Consider joining all columns at once using pd.concat(axis=1) instead. To get a de-fragmented frame, use `newframe = frame.copy()`\n",
      "  df_train[new_cols] = ohe.transform(df_train[cat_cols])\n",
      "C:\\Users\\nehals4545\\AppData\\Local\\Temp\\ipykernel_728\\1785779652.py:1: PerformanceWarning: DataFrame is highly fragmented.  This is usually the result of calling `frame.insert` many times, which has poor performance.  Consider joining all columns at once using pd.concat(axis=1) instead. To get a de-fragmented frame, use `newframe = frame.copy()`\n",
      "  df_train[new_cols] = ohe.transform(df_train[cat_cols])\n",
      "C:\\Users\\nehals4545\\AppData\\Local\\Temp\\ipykernel_728\\1785779652.py:1: PerformanceWarning: DataFrame is highly fragmented.  This is usually the result of calling `frame.insert` many times, which has poor performance.  Consider joining all columns at once using pd.concat(axis=1) instead. To get a de-fragmented frame, use `newframe = frame.copy()`\n",
      "  df_train[new_cols] = ohe.transform(df_train[cat_cols])\n",
      "C:\\Users\\nehals4545\\AppData\\Local\\Temp\\ipykernel_728\\1785779652.py:1: PerformanceWarning: DataFrame is highly fragmented.  This is usually the result of calling `frame.insert` many times, which has poor performance.  Consider joining all columns at once using pd.concat(axis=1) instead. To get a de-fragmented frame, use `newframe = frame.copy()`\n",
      "  df_train[new_cols] = ohe.transform(df_train[cat_cols])\n",
      "C:\\Users\\nehals4545\\AppData\\Local\\Temp\\ipykernel_728\\1785779652.py:1: PerformanceWarning: DataFrame is highly fragmented.  This is usually the result of calling `frame.insert` many times, which has poor performance.  Consider joining all columns at once using pd.concat(axis=1) instead. To get a de-fragmented frame, use `newframe = frame.copy()`\n",
      "  df_train[new_cols] = ohe.transform(df_train[cat_cols])\n"
     ]
    },
    {
     "name": "stderr",
     "output_type": "stream",
     "text": [
      "C:\\Users\\nehals4545\\AppData\\Local\\Temp\\ipykernel_728\\1785779652.py:1: PerformanceWarning: DataFrame is highly fragmented.  This is usually the result of calling `frame.insert` many times, which has poor performance.  Consider joining all columns at once using pd.concat(axis=1) instead. To get a de-fragmented frame, use `newframe = frame.copy()`\n",
      "  df_train[new_cols] = ohe.transform(df_train[cat_cols])\n",
      "C:\\Users\\nehals4545\\AppData\\Local\\Temp\\ipykernel_728\\1785779652.py:1: PerformanceWarning: DataFrame is highly fragmented.  This is usually the result of calling `frame.insert` many times, which has poor performance.  Consider joining all columns at once using pd.concat(axis=1) instead. To get a de-fragmented frame, use `newframe = frame.copy()`\n",
      "  df_train[new_cols] = ohe.transform(df_train[cat_cols])\n",
      "C:\\Users\\nehals4545\\AppData\\Local\\Temp\\ipykernel_728\\1785779652.py:1: PerformanceWarning: DataFrame is highly fragmented.  This is usually the result of calling `frame.insert` many times, which has poor performance.  Consider joining all columns at once using pd.concat(axis=1) instead. To get a de-fragmented frame, use `newframe = frame.copy()`\n",
      "  df_train[new_cols] = ohe.transform(df_train[cat_cols])\n",
      "C:\\Users\\nehals4545\\AppData\\Local\\Temp\\ipykernel_728\\1785779652.py:1: PerformanceWarning: DataFrame is highly fragmented.  This is usually the result of calling `frame.insert` many times, which has poor performance.  Consider joining all columns at once using pd.concat(axis=1) instead. To get a de-fragmented frame, use `newframe = frame.copy()`\n",
      "  df_train[new_cols] = ohe.transform(df_train[cat_cols])\n",
      "C:\\Users\\nehals4545\\AppData\\Local\\Temp\\ipykernel_728\\1785779652.py:1: PerformanceWarning: DataFrame is highly fragmented.  This is usually the result of calling `frame.insert` many times, which has poor performance.  Consider joining all columns at once using pd.concat(axis=1) instead. To get a de-fragmented frame, use `newframe = frame.copy()`\n",
      "  df_train[new_cols] = ohe.transform(df_train[cat_cols])\n",
      "C:\\Users\\nehals4545\\AppData\\Local\\Temp\\ipykernel_728\\1785779652.py:1: PerformanceWarning: DataFrame is highly fragmented.  This is usually the result of calling `frame.insert` many times, which has poor performance.  Consider joining all columns at once using pd.concat(axis=1) instead. To get a de-fragmented frame, use `newframe = frame.copy()`\n",
      "  df_train[new_cols] = ohe.transform(df_train[cat_cols])\n",
      "C:\\Users\\nehals4545\\AppData\\Local\\Temp\\ipykernel_728\\1785779652.py:1: PerformanceWarning: DataFrame is highly fragmented.  This is usually the result of calling `frame.insert` many times, which has poor performance.  Consider joining all columns at once using pd.concat(axis=1) instead. To get a de-fragmented frame, use `newframe = frame.copy()`\n",
      "  df_train[new_cols] = ohe.transform(df_train[cat_cols])\n",
      "C:\\Users\\nehals4545\\AppData\\Local\\Temp\\ipykernel_728\\1785779652.py:1: PerformanceWarning: DataFrame is highly fragmented.  This is usually the result of calling `frame.insert` many times, which has poor performance.  Consider joining all columns at once using pd.concat(axis=1) instead. To get a de-fragmented frame, use `newframe = frame.copy()`\n",
      "  df_train[new_cols] = ohe.transform(df_train[cat_cols])\n",
      "C:\\Users\\nehals4545\\AppData\\Local\\Temp\\ipykernel_728\\1785779652.py:1: PerformanceWarning: DataFrame is highly fragmented.  This is usually the result of calling `frame.insert` many times, which has poor performance.  Consider joining all columns at once using pd.concat(axis=1) instead. To get a de-fragmented frame, use `newframe = frame.copy()`\n",
      "  df_train[new_cols] = ohe.transform(df_train[cat_cols])\n",
      "C:\\Users\\nehals4545\\AppData\\Local\\Temp\\ipykernel_728\\1785779652.py:1: PerformanceWarning: DataFrame is highly fragmented.  This is usually the result of calling `frame.insert` many times, which has poor performance.  Consider joining all columns at once using pd.concat(axis=1) instead. To get a de-fragmented frame, use `newframe = frame.copy()`\n",
      "  df_train[new_cols] = ohe.transform(df_train[cat_cols])\n",
      "C:\\Users\\nehals4545\\AppData\\Local\\Temp\\ipykernel_728\\1785779652.py:1: PerformanceWarning: DataFrame is highly fragmented.  This is usually the result of calling `frame.insert` many times, which has poor performance.  Consider joining all columns at once using pd.concat(axis=1) instead. To get a de-fragmented frame, use `newframe = frame.copy()`\n",
      "  df_train[new_cols] = ohe.transform(df_train[cat_cols])\n",
      "C:\\Users\\nehals4545\\AppData\\Local\\Temp\\ipykernel_728\\1785779652.py:1: PerformanceWarning: DataFrame is highly fragmented.  This is usually the result of calling `frame.insert` many times, which has poor performance.  Consider joining all columns at once using pd.concat(axis=1) instead. To get a de-fragmented frame, use `newframe = frame.copy()`\n",
      "  df_train[new_cols] = ohe.transform(df_train[cat_cols])\n",
      "C:\\Users\\nehals4545\\AppData\\Local\\Temp\\ipykernel_728\\1785779652.py:1: PerformanceWarning: DataFrame is highly fragmented.  This is usually the result of calling `frame.insert` many times, which has poor performance.  Consider joining all columns at once using pd.concat(axis=1) instead. To get a de-fragmented frame, use `newframe = frame.copy()`\n",
      "  df_train[new_cols] = ohe.transform(df_train[cat_cols])\n",
      "C:\\Users\\nehals4545\\AppData\\Local\\Temp\\ipykernel_728\\1785779652.py:1: PerformanceWarning: DataFrame is highly fragmented.  This is usually the result of calling `frame.insert` many times, which has poor performance.  Consider joining all columns at once using pd.concat(axis=1) instead. To get a de-fragmented frame, use `newframe = frame.copy()`\n",
      "  df_train[new_cols] = ohe.transform(df_train[cat_cols])\n",
      "C:\\Users\\nehals4545\\AppData\\Local\\Temp\\ipykernel_728\\1785779652.py:1: PerformanceWarning: DataFrame is highly fragmented.  This is usually the result of calling `frame.insert` many times, which has poor performance.  Consider joining all columns at once using pd.concat(axis=1) instead. To get a de-fragmented frame, use `newframe = frame.copy()`\n",
      "  df_train[new_cols] = ohe.transform(df_train[cat_cols])\n",
      "C:\\Users\\nehals4545\\AppData\\Local\\Temp\\ipykernel_728\\1785779652.py:1: PerformanceWarning: DataFrame is highly fragmented.  This is usually the result of calling `frame.insert` many times, which has poor performance.  Consider joining all columns at once using pd.concat(axis=1) instead. To get a de-fragmented frame, use `newframe = frame.copy()`\n",
      "  df_train[new_cols] = ohe.transform(df_train[cat_cols])\n",
      "C:\\Users\\nehals4545\\AppData\\Local\\Temp\\ipykernel_728\\1785779652.py:1: PerformanceWarning: DataFrame is highly fragmented.  This is usually the result of calling `frame.insert` many times, which has poor performance.  Consider joining all columns at once using pd.concat(axis=1) instead. To get a de-fragmented frame, use `newframe = frame.copy()`\n",
      "  df_train[new_cols] = ohe.transform(df_train[cat_cols])\n",
      "C:\\Users\\nehals4545\\AppData\\Local\\Temp\\ipykernel_728\\1785779652.py:1: PerformanceWarning: DataFrame is highly fragmented.  This is usually the result of calling `frame.insert` many times, which has poor performance.  Consider joining all columns at once using pd.concat(axis=1) instead. To get a de-fragmented frame, use `newframe = frame.copy()`\n",
      "  df_train[new_cols] = ohe.transform(df_train[cat_cols])\n",
      "C:\\Users\\nehals4545\\AppData\\Local\\Temp\\ipykernel_728\\1785779652.py:1: PerformanceWarning: DataFrame is highly fragmented.  This is usually the result of calling `frame.insert` many times, which has poor performance.  Consider joining all columns at once using pd.concat(axis=1) instead. To get a de-fragmented frame, use `newframe = frame.copy()`\n",
      "  df_train[new_cols] = ohe.transform(df_train[cat_cols])\n",
      "C:\\Users\\nehals4545\\AppData\\Local\\Temp\\ipykernel_728\\1785779652.py:1: PerformanceWarning: DataFrame is highly fragmented.  This is usually the result of calling `frame.insert` many times, which has poor performance.  Consider joining all columns at once using pd.concat(axis=1) instead. To get a de-fragmented frame, use `newframe = frame.copy()`\n",
      "  df_train[new_cols] = ohe.transform(df_train[cat_cols])\n",
      "C:\\Users\\nehals4545\\AppData\\Local\\Temp\\ipykernel_728\\1785779652.py:1: PerformanceWarning: DataFrame is highly fragmented.  This is usually the result of calling `frame.insert` many times, which has poor performance.  Consider joining all columns at once using pd.concat(axis=1) instead. To get a de-fragmented frame, use `newframe = frame.copy()`\n",
      "  df_train[new_cols] = ohe.transform(df_train[cat_cols])\n",
      "C:\\Users\\nehals4545\\AppData\\Local\\Temp\\ipykernel_728\\1785779652.py:1: PerformanceWarning: DataFrame is highly fragmented.  This is usually the result of calling `frame.insert` many times, which has poor performance.  Consider joining all columns at once using pd.concat(axis=1) instead. To get a de-fragmented frame, use `newframe = frame.copy()`\n",
      "  df_train[new_cols] = ohe.transform(df_train[cat_cols])\n",
      "C:\\Users\\nehals4545\\AppData\\Local\\Temp\\ipykernel_728\\1785779652.py:1: PerformanceWarning: DataFrame is highly fragmented.  This is usually the result of calling `frame.insert` many times, which has poor performance.  Consider joining all columns at once using pd.concat(axis=1) instead. To get a de-fragmented frame, use `newframe = frame.copy()`\n",
      "  df_train[new_cols] = ohe.transform(df_train[cat_cols])\n",
      "C:\\Users\\nehals4545\\AppData\\Local\\Temp\\ipykernel_728\\1785779652.py:1: PerformanceWarning: DataFrame is highly fragmented.  This is usually the result of calling `frame.insert` many times, which has poor performance.  Consider joining all columns at once using pd.concat(axis=1) instead. To get a de-fragmented frame, use `newframe = frame.copy()`\n",
      "  df_train[new_cols] = ohe.transform(df_train[cat_cols])\n"
     ]
    },
    {
     "name": "stderr",
     "output_type": "stream",
     "text": [
      "C:\\Users\\nehals4545\\AppData\\Local\\Temp\\ipykernel_728\\1785779652.py:1: PerformanceWarning: DataFrame is highly fragmented.  This is usually the result of calling `frame.insert` many times, which has poor performance.  Consider joining all columns at once using pd.concat(axis=1) instead. To get a de-fragmented frame, use `newframe = frame.copy()`\n",
      "  df_train[new_cols] = ohe.transform(df_train[cat_cols])\n",
      "C:\\Users\\nehals4545\\AppData\\Local\\Temp\\ipykernel_728\\1785779652.py:1: PerformanceWarning: DataFrame is highly fragmented.  This is usually the result of calling `frame.insert` many times, which has poor performance.  Consider joining all columns at once using pd.concat(axis=1) instead. To get a de-fragmented frame, use `newframe = frame.copy()`\n",
      "  df_train[new_cols] = ohe.transform(df_train[cat_cols])\n",
      "C:\\Users\\nehals4545\\AppData\\Local\\Temp\\ipykernel_728\\1785779652.py:1: PerformanceWarning: DataFrame is highly fragmented.  This is usually the result of calling `frame.insert` many times, which has poor performance.  Consider joining all columns at once using pd.concat(axis=1) instead. To get a de-fragmented frame, use `newframe = frame.copy()`\n",
      "  df_train[new_cols] = ohe.transform(df_train[cat_cols])\n",
      "C:\\Users\\nehals4545\\AppData\\Local\\Temp\\ipykernel_728\\1785779652.py:1: PerformanceWarning: DataFrame is highly fragmented.  This is usually the result of calling `frame.insert` many times, which has poor performance.  Consider joining all columns at once using pd.concat(axis=1) instead. To get a de-fragmented frame, use `newframe = frame.copy()`\n",
      "  df_train[new_cols] = ohe.transform(df_train[cat_cols])\n",
      "C:\\Users\\nehals4545\\AppData\\Local\\Temp\\ipykernel_728\\1785779652.py:1: PerformanceWarning: DataFrame is highly fragmented.  This is usually the result of calling `frame.insert` many times, which has poor performance.  Consider joining all columns at once using pd.concat(axis=1) instead. To get a de-fragmented frame, use `newframe = frame.copy()`\n",
      "  df_train[new_cols] = ohe.transform(df_train[cat_cols])\n",
      "C:\\Users\\nehals4545\\AppData\\Local\\Temp\\ipykernel_728\\1785779652.py:1: PerformanceWarning: DataFrame is highly fragmented.  This is usually the result of calling `frame.insert` many times, which has poor performance.  Consider joining all columns at once using pd.concat(axis=1) instead. To get a de-fragmented frame, use `newframe = frame.copy()`\n",
      "  df_train[new_cols] = ohe.transform(df_train[cat_cols])\n",
      "C:\\Users\\nehals4545\\AppData\\Local\\Temp\\ipykernel_728\\1785779652.py:1: PerformanceWarning: DataFrame is highly fragmented.  This is usually the result of calling `frame.insert` many times, which has poor performance.  Consider joining all columns at once using pd.concat(axis=1) instead. To get a de-fragmented frame, use `newframe = frame.copy()`\n",
      "  df_train[new_cols] = ohe.transform(df_train[cat_cols])\n",
      "C:\\Users\\nehals4545\\AppData\\Local\\Temp\\ipykernel_728\\1785779652.py:1: PerformanceWarning: DataFrame is highly fragmented.  This is usually the result of calling `frame.insert` many times, which has poor performance.  Consider joining all columns at once using pd.concat(axis=1) instead. To get a de-fragmented frame, use `newframe = frame.copy()`\n",
      "  df_train[new_cols] = ohe.transform(df_train[cat_cols])\n",
      "C:\\Users\\nehals4545\\AppData\\Local\\Temp\\ipykernel_728\\1785779652.py:1: PerformanceWarning: DataFrame is highly fragmented.  This is usually the result of calling `frame.insert` many times, which has poor performance.  Consider joining all columns at once using pd.concat(axis=1) instead. To get a de-fragmented frame, use `newframe = frame.copy()`\n",
      "  df_train[new_cols] = ohe.transform(df_train[cat_cols])\n",
      "C:\\Users\\nehals4545\\AppData\\Local\\Temp\\ipykernel_728\\1785779652.py:1: PerformanceWarning: DataFrame is highly fragmented.  This is usually the result of calling `frame.insert` many times, which has poor performance.  Consider joining all columns at once using pd.concat(axis=1) instead. To get a de-fragmented frame, use `newframe = frame.copy()`\n",
      "  df_train[new_cols] = ohe.transform(df_train[cat_cols])\n",
      "C:\\Users\\nehals4545\\AppData\\Local\\Temp\\ipykernel_728\\1785779652.py:1: PerformanceWarning: DataFrame is highly fragmented.  This is usually the result of calling `frame.insert` many times, which has poor performance.  Consider joining all columns at once using pd.concat(axis=1) instead. To get a de-fragmented frame, use `newframe = frame.copy()`\n",
      "  df_train[new_cols] = ohe.transform(df_train[cat_cols])\n",
      "C:\\Users\\nehals4545\\AppData\\Local\\Temp\\ipykernel_728\\1785779652.py:1: PerformanceWarning: DataFrame is highly fragmented.  This is usually the result of calling `frame.insert` many times, which has poor performance.  Consider joining all columns at once using pd.concat(axis=1) instead. To get a de-fragmented frame, use `newframe = frame.copy()`\n",
      "  df_train[new_cols] = ohe.transform(df_train[cat_cols])\n",
      "C:\\Users\\nehals4545\\AppData\\Local\\Temp\\ipykernel_728\\1785779652.py:1: PerformanceWarning: DataFrame is highly fragmented.  This is usually the result of calling `frame.insert` many times, which has poor performance.  Consider joining all columns at once using pd.concat(axis=1) instead. To get a de-fragmented frame, use `newframe = frame.copy()`\n",
      "  df_train[new_cols] = ohe.transform(df_train[cat_cols])\n",
      "C:\\Users\\nehals4545\\AppData\\Local\\Temp\\ipykernel_728\\1785779652.py:1: PerformanceWarning: DataFrame is highly fragmented.  This is usually the result of calling `frame.insert` many times, which has poor performance.  Consider joining all columns at once using pd.concat(axis=1) instead. To get a de-fragmented frame, use `newframe = frame.copy()`\n",
      "  df_train[new_cols] = ohe.transform(df_train[cat_cols])\n",
      "C:\\Users\\nehals4545\\AppData\\Local\\Temp\\ipykernel_728\\1785779652.py:1: PerformanceWarning: DataFrame is highly fragmented.  This is usually the result of calling `frame.insert` many times, which has poor performance.  Consider joining all columns at once using pd.concat(axis=1) instead. To get a de-fragmented frame, use `newframe = frame.copy()`\n",
      "  df_train[new_cols] = ohe.transform(df_train[cat_cols])\n",
      "C:\\Users\\nehals4545\\AppData\\Local\\Temp\\ipykernel_728\\1785779652.py:1: PerformanceWarning: DataFrame is highly fragmented.  This is usually the result of calling `frame.insert` many times, which has poor performance.  Consider joining all columns at once using pd.concat(axis=1) instead. To get a de-fragmented frame, use `newframe = frame.copy()`\n",
      "  df_train[new_cols] = ohe.transform(df_train[cat_cols])\n",
      "C:\\Users\\nehals4545\\AppData\\Local\\Temp\\ipykernel_728\\1785779652.py:1: PerformanceWarning: DataFrame is highly fragmented.  This is usually the result of calling `frame.insert` many times, which has poor performance.  Consider joining all columns at once using pd.concat(axis=1) instead. To get a de-fragmented frame, use `newframe = frame.copy()`\n",
      "  df_train[new_cols] = ohe.transform(df_train[cat_cols])\n",
      "C:\\Users\\nehals4545\\AppData\\Local\\Temp\\ipykernel_728\\1785779652.py:1: PerformanceWarning: DataFrame is highly fragmented.  This is usually the result of calling `frame.insert` many times, which has poor performance.  Consider joining all columns at once using pd.concat(axis=1) instead. To get a de-fragmented frame, use `newframe = frame.copy()`\n",
      "  df_train[new_cols] = ohe.transform(df_train[cat_cols])\n",
      "C:\\Users\\nehals4545\\AppData\\Local\\Temp\\ipykernel_728\\1785779652.py:1: PerformanceWarning: DataFrame is highly fragmented.  This is usually the result of calling `frame.insert` many times, which has poor performance.  Consider joining all columns at once using pd.concat(axis=1) instead. To get a de-fragmented frame, use `newframe = frame.copy()`\n",
      "  df_train[new_cols] = ohe.transform(df_train[cat_cols])\n",
      "C:\\Users\\nehals4545\\AppData\\Local\\Temp\\ipykernel_728\\1785779652.py:1: PerformanceWarning: DataFrame is highly fragmented.  This is usually the result of calling `frame.insert` many times, which has poor performance.  Consider joining all columns at once using pd.concat(axis=1) instead. To get a de-fragmented frame, use `newframe = frame.copy()`\n",
      "  df_train[new_cols] = ohe.transform(df_train[cat_cols])\n",
      "C:\\Users\\nehals4545\\AppData\\Local\\Temp\\ipykernel_728\\1785779652.py:1: PerformanceWarning: DataFrame is highly fragmented.  This is usually the result of calling `frame.insert` many times, which has poor performance.  Consider joining all columns at once using pd.concat(axis=1) instead. To get a de-fragmented frame, use `newframe = frame.copy()`\n",
      "  df_train[new_cols] = ohe.transform(df_train[cat_cols])\n"
     ]
    },
    {
     "name": "stderr",
     "output_type": "stream",
     "text": [
      "C:\\Users\\nehals4545\\AppData\\Local\\Temp\\ipykernel_728\\1785779652.py:2: PerformanceWarning: DataFrame is highly fragmented.  This is usually the result of calling `frame.insert` many times, which has poor performance.  Consider joining all columns at once using pd.concat(axis=1) instead. To get a de-fragmented frame, use `newframe = frame.copy()`\n",
      "  df_test[new_cols] = ohe.transform(df_test[cat_cols])\n",
      "C:\\Users\\nehals4545\\AppData\\Local\\Temp\\ipykernel_728\\1785779652.py:2: PerformanceWarning: DataFrame is highly fragmented.  This is usually the result of calling `frame.insert` many times, which has poor performance.  Consider joining all columns at once using pd.concat(axis=1) instead. To get a de-fragmented frame, use `newframe = frame.copy()`\n",
      "  df_test[new_cols] = ohe.transform(df_test[cat_cols])\n",
      "C:\\Users\\nehals4545\\AppData\\Local\\Temp\\ipykernel_728\\1785779652.py:2: PerformanceWarning: DataFrame is highly fragmented.  This is usually the result of calling `frame.insert` many times, which has poor performance.  Consider joining all columns at once using pd.concat(axis=1) instead. To get a de-fragmented frame, use `newframe = frame.copy()`\n",
      "  df_test[new_cols] = ohe.transform(df_test[cat_cols])\n",
      "C:\\Users\\nehals4545\\AppData\\Local\\Temp\\ipykernel_728\\1785779652.py:2: PerformanceWarning: DataFrame is highly fragmented.  This is usually the result of calling `frame.insert` many times, which has poor performance.  Consider joining all columns at once using pd.concat(axis=1) instead. To get a de-fragmented frame, use `newframe = frame.copy()`\n",
      "  df_test[new_cols] = ohe.transform(df_test[cat_cols])\n",
      "C:\\Users\\nehals4545\\AppData\\Local\\Temp\\ipykernel_728\\1785779652.py:2: PerformanceWarning: DataFrame is highly fragmented.  This is usually the result of calling `frame.insert` many times, which has poor performance.  Consider joining all columns at once using pd.concat(axis=1) instead. To get a de-fragmented frame, use `newframe = frame.copy()`\n",
      "  df_test[new_cols] = ohe.transform(df_test[cat_cols])\n",
      "C:\\Users\\nehals4545\\AppData\\Local\\Temp\\ipykernel_728\\1785779652.py:2: PerformanceWarning: DataFrame is highly fragmented.  This is usually the result of calling `frame.insert` many times, which has poor performance.  Consider joining all columns at once using pd.concat(axis=1) instead. To get a de-fragmented frame, use `newframe = frame.copy()`\n",
      "  df_test[new_cols] = ohe.transform(df_test[cat_cols])\n",
      "C:\\Users\\nehals4545\\AppData\\Local\\Temp\\ipykernel_728\\1785779652.py:2: PerformanceWarning: DataFrame is highly fragmented.  This is usually the result of calling `frame.insert` many times, which has poor performance.  Consider joining all columns at once using pd.concat(axis=1) instead. To get a de-fragmented frame, use `newframe = frame.copy()`\n",
      "  df_test[new_cols] = ohe.transform(df_test[cat_cols])\n",
      "C:\\Users\\nehals4545\\AppData\\Local\\Temp\\ipykernel_728\\1785779652.py:2: PerformanceWarning: DataFrame is highly fragmented.  This is usually the result of calling `frame.insert` many times, which has poor performance.  Consider joining all columns at once using pd.concat(axis=1) instead. To get a de-fragmented frame, use `newframe = frame.copy()`\n",
      "  df_test[new_cols] = ohe.transform(df_test[cat_cols])\n",
      "C:\\Users\\nehals4545\\AppData\\Local\\Temp\\ipykernel_728\\1785779652.py:2: PerformanceWarning: DataFrame is highly fragmented.  This is usually the result of calling `frame.insert` many times, which has poor performance.  Consider joining all columns at once using pd.concat(axis=1) instead. To get a de-fragmented frame, use `newframe = frame.copy()`\n",
      "  df_test[new_cols] = ohe.transform(df_test[cat_cols])\n",
      "C:\\Users\\nehals4545\\AppData\\Local\\Temp\\ipykernel_728\\1785779652.py:2: PerformanceWarning: DataFrame is highly fragmented.  This is usually the result of calling `frame.insert` many times, which has poor performance.  Consider joining all columns at once using pd.concat(axis=1) instead. To get a de-fragmented frame, use `newframe = frame.copy()`\n",
      "  df_test[new_cols] = ohe.transform(df_test[cat_cols])\n",
      "C:\\Users\\nehals4545\\AppData\\Local\\Temp\\ipykernel_728\\1785779652.py:2: PerformanceWarning: DataFrame is highly fragmented.  This is usually the result of calling `frame.insert` many times, which has poor performance.  Consider joining all columns at once using pd.concat(axis=1) instead. To get a de-fragmented frame, use `newframe = frame.copy()`\n",
      "  df_test[new_cols] = ohe.transform(df_test[cat_cols])\n",
      "C:\\Users\\nehals4545\\AppData\\Local\\Temp\\ipykernel_728\\1785779652.py:2: PerformanceWarning: DataFrame is highly fragmented.  This is usually the result of calling `frame.insert` many times, which has poor performance.  Consider joining all columns at once using pd.concat(axis=1) instead. To get a de-fragmented frame, use `newframe = frame.copy()`\n",
      "  df_test[new_cols] = ohe.transform(df_test[cat_cols])\n",
      "C:\\Users\\nehals4545\\AppData\\Local\\Temp\\ipykernel_728\\1785779652.py:2: PerformanceWarning: DataFrame is highly fragmented.  This is usually the result of calling `frame.insert` many times, which has poor performance.  Consider joining all columns at once using pd.concat(axis=1) instead. To get a de-fragmented frame, use `newframe = frame.copy()`\n",
      "  df_test[new_cols] = ohe.transform(df_test[cat_cols])\n",
      "C:\\Users\\nehals4545\\AppData\\Local\\Temp\\ipykernel_728\\1785779652.py:2: PerformanceWarning: DataFrame is highly fragmented.  This is usually the result of calling `frame.insert` many times, which has poor performance.  Consider joining all columns at once using pd.concat(axis=1) instead. To get a de-fragmented frame, use `newframe = frame.copy()`\n",
      "  df_test[new_cols] = ohe.transform(df_test[cat_cols])\n",
      "C:\\Users\\nehals4545\\AppData\\Local\\Temp\\ipykernel_728\\1785779652.py:2: PerformanceWarning: DataFrame is highly fragmented.  This is usually the result of calling `frame.insert` many times, which has poor performance.  Consider joining all columns at once using pd.concat(axis=1) instead. To get a de-fragmented frame, use `newframe = frame.copy()`\n",
      "  df_test[new_cols] = ohe.transform(df_test[cat_cols])\n",
      "C:\\Users\\nehals4545\\AppData\\Local\\Temp\\ipykernel_728\\1785779652.py:2: PerformanceWarning: DataFrame is highly fragmented.  This is usually the result of calling `frame.insert` many times, which has poor performance.  Consider joining all columns at once using pd.concat(axis=1) instead. To get a de-fragmented frame, use `newframe = frame.copy()`\n",
      "  df_test[new_cols] = ohe.transform(df_test[cat_cols])\n",
      "C:\\Users\\nehals4545\\AppData\\Local\\Temp\\ipykernel_728\\1785779652.py:2: PerformanceWarning: DataFrame is highly fragmented.  This is usually the result of calling `frame.insert` many times, which has poor performance.  Consider joining all columns at once using pd.concat(axis=1) instead. To get a de-fragmented frame, use `newframe = frame.copy()`\n",
      "  df_test[new_cols] = ohe.transform(df_test[cat_cols])\n",
      "C:\\Users\\nehals4545\\AppData\\Local\\Temp\\ipykernel_728\\1785779652.py:2: PerformanceWarning: DataFrame is highly fragmented.  This is usually the result of calling `frame.insert` many times, which has poor performance.  Consider joining all columns at once using pd.concat(axis=1) instead. To get a de-fragmented frame, use `newframe = frame.copy()`\n",
      "  df_test[new_cols] = ohe.transform(df_test[cat_cols])\n",
      "C:\\Users\\nehals4545\\AppData\\Local\\Temp\\ipykernel_728\\1785779652.py:2: PerformanceWarning: DataFrame is highly fragmented.  This is usually the result of calling `frame.insert` many times, which has poor performance.  Consider joining all columns at once using pd.concat(axis=1) instead. To get a de-fragmented frame, use `newframe = frame.copy()`\n",
      "  df_test[new_cols] = ohe.transform(df_test[cat_cols])\n",
      "C:\\Users\\nehals4545\\AppData\\Local\\Temp\\ipykernel_728\\1785779652.py:2: PerformanceWarning: DataFrame is highly fragmented.  This is usually the result of calling `frame.insert` many times, which has poor performance.  Consider joining all columns at once using pd.concat(axis=1) instead. To get a de-fragmented frame, use `newframe = frame.copy()`\n",
      "  df_test[new_cols] = ohe.transform(df_test[cat_cols])\n",
      "C:\\Users\\nehals4545\\AppData\\Local\\Temp\\ipykernel_728\\1785779652.py:2: PerformanceWarning: DataFrame is highly fragmented.  This is usually the result of calling `frame.insert` many times, which has poor performance.  Consider joining all columns at once using pd.concat(axis=1) instead. To get a de-fragmented frame, use `newframe = frame.copy()`\n",
      "  df_test[new_cols] = ohe.transform(df_test[cat_cols])\n",
      "C:\\Users\\nehals4545\\AppData\\Local\\Temp\\ipykernel_728\\1785779652.py:2: PerformanceWarning: DataFrame is highly fragmented.  This is usually the result of calling `frame.insert` many times, which has poor performance.  Consider joining all columns at once using pd.concat(axis=1) instead. To get a de-fragmented frame, use `newframe = frame.copy()`\n",
      "  df_test[new_cols] = ohe.transform(df_test[cat_cols])\n",
      "C:\\Users\\nehals4545\\AppData\\Local\\Temp\\ipykernel_728\\1785779652.py:2: PerformanceWarning: DataFrame is highly fragmented.  This is usually the result of calling `frame.insert` many times, which has poor performance.  Consider joining all columns at once using pd.concat(axis=1) instead. To get a de-fragmented frame, use `newframe = frame.copy()`\n",
      "  df_test[new_cols] = ohe.transform(df_test[cat_cols])\n",
      "C:\\Users\\nehals4545\\AppData\\Local\\Temp\\ipykernel_728\\1785779652.py:2: PerformanceWarning: DataFrame is highly fragmented.  This is usually the result of calling `frame.insert` many times, which has poor performance.  Consider joining all columns at once using pd.concat(axis=1) instead. To get a de-fragmented frame, use `newframe = frame.copy()`\n",
      "  df_test[new_cols] = ohe.transform(df_test[cat_cols])\n",
      "C:\\Users\\nehals4545\\AppData\\Local\\Temp\\ipykernel_728\\1785779652.py:2: PerformanceWarning: DataFrame is highly fragmented.  This is usually the result of calling `frame.insert` many times, which has poor performance.  Consider joining all columns at once using pd.concat(axis=1) instead. To get a de-fragmented frame, use `newframe = frame.copy()`\n",
      "  df_test[new_cols] = ohe.transform(df_test[cat_cols])\n",
      "C:\\Users\\nehals4545\\AppData\\Local\\Temp\\ipykernel_728\\1785779652.py:2: PerformanceWarning: DataFrame is highly fragmented.  This is usually the result of calling `frame.insert` many times, which has poor performance.  Consider joining all columns at once using pd.concat(axis=1) instead. To get a de-fragmented frame, use `newframe = frame.copy()`\n",
      "  df_test[new_cols] = ohe.transform(df_test[cat_cols])\n"
     ]
    },
    {
     "name": "stderr",
     "output_type": "stream",
     "text": [
      "C:\\Users\\nehals4545\\AppData\\Local\\Temp\\ipykernel_728\\1785779652.py:2: PerformanceWarning: DataFrame is highly fragmented.  This is usually the result of calling `frame.insert` many times, which has poor performance.  Consider joining all columns at once using pd.concat(axis=1) instead. To get a de-fragmented frame, use `newframe = frame.copy()`\n",
      "  df_test[new_cols] = ohe.transform(df_test[cat_cols])\n",
      "C:\\Users\\nehals4545\\AppData\\Local\\Temp\\ipykernel_728\\1785779652.py:2: PerformanceWarning: DataFrame is highly fragmented.  This is usually the result of calling `frame.insert` many times, which has poor performance.  Consider joining all columns at once using pd.concat(axis=1) instead. To get a de-fragmented frame, use `newframe = frame.copy()`\n",
      "  df_test[new_cols] = ohe.transform(df_test[cat_cols])\n",
      "C:\\Users\\nehals4545\\AppData\\Local\\Temp\\ipykernel_728\\1785779652.py:2: PerformanceWarning: DataFrame is highly fragmented.  This is usually the result of calling `frame.insert` many times, which has poor performance.  Consider joining all columns at once using pd.concat(axis=1) instead. To get a de-fragmented frame, use `newframe = frame.copy()`\n",
      "  df_test[new_cols] = ohe.transform(df_test[cat_cols])\n",
      "C:\\Users\\nehals4545\\AppData\\Local\\Temp\\ipykernel_728\\1785779652.py:2: PerformanceWarning: DataFrame is highly fragmented.  This is usually the result of calling `frame.insert` many times, which has poor performance.  Consider joining all columns at once using pd.concat(axis=1) instead. To get a de-fragmented frame, use `newframe = frame.copy()`\n",
      "  df_test[new_cols] = ohe.transform(df_test[cat_cols])\n",
      "C:\\Users\\nehals4545\\AppData\\Local\\Temp\\ipykernel_728\\1785779652.py:2: PerformanceWarning: DataFrame is highly fragmented.  This is usually the result of calling `frame.insert` many times, which has poor performance.  Consider joining all columns at once using pd.concat(axis=1) instead. To get a de-fragmented frame, use `newframe = frame.copy()`\n",
      "  df_test[new_cols] = ohe.transform(df_test[cat_cols])\n",
      "C:\\Users\\nehals4545\\AppData\\Local\\Temp\\ipykernel_728\\1785779652.py:2: PerformanceWarning: DataFrame is highly fragmented.  This is usually the result of calling `frame.insert` many times, which has poor performance.  Consider joining all columns at once using pd.concat(axis=1) instead. To get a de-fragmented frame, use `newframe = frame.copy()`\n",
      "  df_test[new_cols] = ohe.transform(df_test[cat_cols])\n",
      "C:\\Users\\nehals4545\\AppData\\Local\\Temp\\ipykernel_728\\1785779652.py:2: PerformanceWarning: DataFrame is highly fragmented.  This is usually the result of calling `frame.insert` many times, which has poor performance.  Consider joining all columns at once using pd.concat(axis=1) instead. To get a de-fragmented frame, use `newframe = frame.copy()`\n",
      "  df_test[new_cols] = ohe.transform(df_test[cat_cols])\n",
      "C:\\Users\\nehals4545\\AppData\\Local\\Temp\\ipykernel_728\\1785779652.py:2: PerformanceWarning: DataFrame is highly fragmented.  This is usually the result of calling `frame.insert` many times, which has poor performance.  Consider joining all columns at once using pd.concat(axis=1) instead. To get a de-fragmented frame, use `newframe = frame.copy()`\n",
      "  df_test[new_cols] = ohe.transform(df_test[cat_cols])\n",
      "C:\\Users\\nehals4545\\AppData\\Local\\Temp\\ipykernel_728\\1785779652.py:2: PerformanceWarning: DataFrame is highly fragmented.  This is usually the result of calling `frame.insert` many times, which has poor performance.  Consider joining all columns at once using pd.concat(axis=1) instead. To get a de-fragmented frame, use `newframe = frame.copy()`\n",
      "  df_test[new_cols] = ohe.transform(df_test[cat_cols])\n",
      "C:\\Users\\nehals4545\\AppData\\Local\\Temp\\ipykernel_728\\1785779652.py:2: PerformanceWarning: DataFrame is highly fragmented.  This is usually the result of calling `frame.insert` many times, which has poor performance.  Consider joining all columns at once using pd.concat(axis=1) instead. To get a de-fragmented frame, use `newframe = frame.copy()`\n",
      "  df_test[new_cols] = ohe.transform(df_test[cat_cols])\n",
      "C:\\Users\\nehals4545\\AppData\\Local\\Temp\\ipykernel_728\\1785779652.py:2: PerformanceWarning: DataFrame is highly fragmented.  This is usually the result of calling `frame.insert` many times, which has poor performance.  Consider joining all columns at once using pd.concat(axis=1) instead. To get a de-fragmented frame, use `newframe = frame.copy()`\n",
      "  df_test[new_cols] = ohe.transform(df_test[cat_cols])\n",
      "C:\\Users\\nehals4545\\AppData\\Local\\Temp\\ipykernel_728\\1785779652.py:2: PerformanceWarning: DataFrame is highly fragmented.  This is usually the result of calling `frame.insert` many times, which has poor performance.  Consider joining all columns at once using pd.concat(axis=1) instead. To get a de-fragmented frame, use `newframe = frame.copy()`\n",
      "  df_test[new_cols] = ohe.transform(df_test[cat_cols])\n",
      "C:\\Users\\nehals4545\\AppData\\Local\\Temp\\ipykernel_728\\1785779652.py:2: PerformanceWarning: DataFrame is highly fragmented.  This is usually the result of calling `frame.insert` many times, which has poor performance.  Consider joining all columns at once using pd.concat(axis=1) instead. To get a de-fragmented frame, use `newframe = frame.copy()`\n",
      "  df_test[new_cols] = ohe.transform(df_test[cat_cols])\n",
      "C:\\Users\\nehals4545\\AppData\\Local\\Temp\\ipykernel_728\\1785779652.py:2: PerformanceWarning: DataFrame is highly fragmented.  This is usually the result of calling `frame.insert` many times, which has poor performance.  Consider joining all columns at once using pd.concat(axis=1) instead. To get a de-fragmented frame, use `newframe = frame.copy()`\n",
      "  df_test[new_cols] = ohe.transform(df_test[cat_cols])\n",
      "C:\\Users\\nehals4545\\AppData\\Local\\Temp\\ipykernel_728\\1785779652.py:2: PerformanceWarning: DataFrame is highly fragmented.  This is usually the result of calling `frame.insert` many times, which has poor performance.  Consider joining all columns at once using pd.concat(axis=1) instead. To get a de-fragmented frame, use `newframe = frame.copy()`\n",
      "  df_test[new_cols] = ohe.transform(df_test[cat_cols])\n",
      "C:\\Users\\nehals4545\\AppData\\Local\\Temp\\ipykernel_728\\1785779652.py:2: PerformanceWarning: DataFrame is highly fragmented.  This is usually the result of calling `frame.insert` many times, which has poor performance.  Consider joining all columns at once using pd.concat(axis=1) instead. To get a de-fragmented frame, use `newframe = frame.copy()`\n",
      "  df_test[new_cols] = ohe.transform(df_test[cat_cols])\n",
      "C:\\Users\\nehals4545\\AppData\\Local\\Temp\\ipykernel_728\\1785779652.py:2: PerformanceWarning: DataFrame is highly fragmented.  This is usually the result of calling `frame.insert` many times, which has poor performance.  Consider joining all columns at once using pd.concat(axis=1) instead. To get a de-fragmented frame, use `newframe = frame.copy()`\n",
      "  df_test[new_cols] = ohe.transform(df_test[cat_cols])\n",
      "C:\\Users\\nehals4545\\AppData\\Local\\Temp\\ipykernel_728\\1785779652.py:2: PerformanceWarning: DataFrame is highly fragmented.  This is usually the result of calling `frame.insert` many times, which has poor performance.  Consider joining all columns at once using pd.concat(axis=1) instead. To get a de-fragmented frame, use `newframe = frame.copy()`\n",
      "  df_test[new_cols] = ohe.transform(df_test[cat_cols])\n",
      "C:\\Users\\nehals4545\\AppData\\Local\\Temp\\ipykernel_728\\1785779652.py:2: PerformanceWarning: DataFrame is highly fragmented.  This is usually the result of calling `frame.insert` many times, which has poor performance.  Consider joining all columns at once using pd.concat(axis=1) instead. To get a de-fragmented frame, use `newframe = frame.copy()`\n",
      "  df_test[new_cols] = ohe.transform(df_test[cat_cols])\n",
      "C:\\Users\\nehals4545\\AppData\\Local\\Temp\\ipykernel_728\\1785779652.py:2: PerformanceWarning: DataFrame is highly fragmented.  This is usually the result of calling `frame.insert` many times, which has poor performance.  Consider joining all columns at once using pd.concat(axis=1) instead. To get a de-fragmented frame, use `newframe = frame.copy()`\n",
      "  df_test[new_cols] = ohe.transform(df_test[cat_cols])\n",
      "C:\\Users\\nehals4545\\AppData\\Local\\Temp\\ipykernel_728\\1785779652.py:2: PerformanceWarning: DataFrame is highly fragmented.  This is usually the result of calling `frame.insert` many times, which has poor performance.  Consider joining all columns at once using pd.concat(axis=1) instead. To get a de-fragmented frame, use `newframe = frame.copy()`\n",
      "  df_test[new_cols] = ohe.transform(df_test[cat_cols])\n",
      "C:\\Users\\nehals4545\\AppData\\Local\\Temp\\ipykernel_728\\1785779652.py:2: PerformanceWarning: DataFrame is highly fragmented.  This is usually the result of calling `frame.insert` many times, which has poor performance.  Consider joining all columns at once using pd.concat(axis=1) instead. To get a de-fragmented frame, use `newframe = frame.copy()`\n",
      "  df_test[new_cols] = ohe.transform(df_test[cat_cols])\n",
      "C:\\Users\\nehals4545\\AppData\\Local\\Temp\\ipykernel_728\\1785779652.py:2: PerformanceWarning: DataFrame is highly fragmented.  This is usually the result of calling `frame.insert` many times, which has poor performance.  Consider joining all columns at once using pd.concat(axis=1) instead. To get a de-fragmented frame, use `newframe = frame.copy()`\n",
      "  df_test[new_cols] = ohe.transform(df_test[cat_cols])\n",
      "C:\\Users\\nehals4545\\AppData\\Local\\Temp\\ipykernel_728\\1785779652.py:2: PerformanceWarning: DataFrame is highly fragmented.  This is usually the result of calling `frame.insert` many times, which has poor performance.  Consider joining all columns at once using pd.concat(axis=1) instead. To get a de-fragmented frame, use `newframe = frame.copy()`\n",
      "  df_test[new_cols] = ohe.transform(df_test[cat_cols])\n",
      "C:\\Users\\nehals4545\\AppData\\Local\\Temp\\ipykernel_728\\1785779652.py:2: PerformanceWarning: DataFrame is highly fragmented.  This is usually the result of calling `frame.insert` many times, which has poor performance.  Consider joining all columns at once using pd.concat(axis=1) instead. To get a de-fragmented frame, use `newframe = frame.copy()`\n",
      "  df_test[new_cols] = ohe.transform(df_test[cat_cols])\n"
     ]
    },
    {
     "name": "stderr",
     "output_type": "stream",
     "text": [
      "C:\\Users\\nehals4545\\AppData\\Local\\Temp\\ipykernel_728\\1785779652.py:2: PerformanceWarning: DataFrame is highly fragmented.  This is usually the result of calling `frame.insert` many times, which has poor performance.  Consider joining all columns at once using pd.concat(axis=1) instead. To get a de-fragmented frame, use `newframe = frame.copy()`\n",
      "  df_test[new_cols] = ohe.transform(df_test[cat_cols])\n",
      "C:\\Users\\nehals4545\\AppData\\Local\\Temp\\ipykernel_728\\1785779652.py:2: PerformanceWarning: DataFrame is highly fragmented.  This is usually the result of calling `frame.insert` many times, which has poor performance.  Consider joining all columns at once using pd.concat(axis=1) instead. To get a de-fragmented frame, use `newframe = frame.copy()`\n",
      "  df_test[new_cols] = ohe.transform(df_test[cat_cols])\n",
      "C:\\Users\\nehals4545\\AppData\\Local\\Temp\\ipykernel_728\\1785779652.py:2: PerformanceWarning: DataFrame is highly fragmented.  This is usually the result of calling `frame.insert` many times, which has poor performance.  Consider joining all columns at once using pd.concat(axis=1) instead. To get a de-fragmented frame, use `newframe = frame.copy()`\n",
      "  df_test[new_cols] = ohe.transform(df_test[cat_cols])\n",
      "C:\\Users\\nehals4545\\AppData\\Local\\Temp\\ipykernel_728\\1785779652.py:2: PerformanceWarning: DataFrame is highly fragmented.  This is usually the result of calling `frame.insert` many times, which has poor performance.  Consider joining all columns at once using pd.concat(axis=1) instead. To get a de-fragmented frame, use `newframe = frame.copy()`\n",
      "  df_test[new_cols] = ohe.transform(df_test[cat_cols])\n",
      "C:\\Users\\nehals4545\\AppData\\Local\\Temp\\ipykernel_728\\1785779652.py:2: PerformanceWarning: DataFrame is highly fragmented.  This is usually the result of calling `frame.insert` many times, which has poor performance.  Consider joining all columns at once using pd.concat(axis=1) instead. To get a de-fragmented frame, use `newframe = frame.copy()`\n",
      "  df_test[new_cols] = ohe.transform(df_test[cat_cols])\n",
      "C:\\Users\\nehals4545\\AppData\\Local\\Temp\\ipykernel_728\\1785779652.py:2: PerformanceWarning: DataFrame is highly fragmented.  This is usually the result of calling `frame.insert` many times, which has poor performance.  Consider joining all columns at once using pd.concat(axis=1) instead. To get a de-fragmented frame, use `newframe = frame.copy()`\n",
      "  df_test[new_cols] = ohe.transform(df_test[cat_cols])\n",
      "C:\\Users\\nehals4545\\AppData\\Local\\Temp\\ipykernel_728\\1785779652.py:2: PerformanceWarning: DataFrame is highly fragmented.  This is usually the result of calling `frame.insert` many times, which has poor performance.  Consider joining all columns at once using pd.concat(axis=1) instead. To get a de-fragmented frame, use `newframe = frame.copy()`\n",
      "  df_test[new_cols] = ohe.transform(df_test[cat_cols])\n",
      "C:\\Users\\nehals4545\\AppData\\Local\\Temp\\ipykernel_728\\1785779652.py:2: PerformanceWarning: DataFrame is highly fragmented.  This is usually the result of calling `frame.insert` many times, which has poor performance.  Consider joining all columns at once using pd.concat(axis=1) instead. To get a de-fragmented frame, use `newframe = frame.copy()`\n",
      "  df_test[new_cols] = ohe.transform(df_test[cat_cols])\n",
      "C:\\Users\\nehals4545\\AppData\\Local\\Temp\\ipykernel_728\\1785779652.py:2: PerformanceWarning: DataFrame is highly fragmented.  This is usually the result of calling `frame.insert` many times, which has poor performance.  Consider joining all columns at once using pd.concat(axis=1) instead. To get a de-fragmented frame, use `newframe = frame.copy()`\n",
      "  df_test[new_cols] = ohe.transform(df_test[cat_cols])\n",
      "C:\\Users\\nehals4545\\AppData\\Local\\Temp\\ipykernel_728\\1785779652.py:2: PerformanceWarning: DataFrame is highly fragmented.  This is usually the result of calling `frame.insert` many times, which has poor performance.  Consider joining all columns at once using pd.concat(axis=1) instead. To get a de-fragmented frame, use `newframe = frame.copy()`\n",
      "  df_test[new_cols] = ohe.transform(df_test[cat_cols])\n",
      "C:\\Users\\nehals4545\\AppData\\Local\\Temp\\ipykernel_728\\1785779652.py:2: PerformanceWarning: DataFrame is highly fragmented.  This is usually the result of calling `frame.insert` many times, which has poor performance.  Consider joining all columns at once using pd.concat(axis=1) instead. To get a de-fragmented frame, use `newframe = frame.copy()`\n",
      "  df_test[new_cols] = ohe.transform(df_test[cat_cols])\n",
      "C:\\Users\\nehals4545\\AppData\\Local\\Temp\\ipykernel_728\\1785779652.py:2: PerformanceWarning: DataFrame is highly fragmented.  This is usually the result of calling `frame.insert` many times, which has poor performance.  Consider joining all columns at once using pd.concat(axis=1) instead. To get a de-fragmented frame, use `newframe = frame.copy()`\n",
      "  df_test[new_cols] = ohe.transform(df_test[cat_cols])\n",
      "C:\\Users\\nehals4545\\AppData\\Local\\Temp\\ipykernel_728\\1785779652.py:2: PerformanceWarning: DataFrame is highly fragmented.  This is usually the result of calling `frame.insert` many times, which has poor performance.  Consider joining all columns at once using pd.concat(axis=1) instead. To get a de-fragmented frame, use `newframe = frame.copy()`\n",
      "  df_test[new_cols] = ohe.transform(df_test[cat_cols])\n",
      "C:\\Users\\nehals4545\\AppData\\Local\\Temp\\ipykernel_728\\1785779652.py:2: PerformanceWarning: DataFrame is highly fragmented.  This is usually the result of calling `frame.insert` many times, which has poor performance.  Consider joining all columns at once using pd.concat(axis=1) instead. To get a de-fragmented frame, use `newframe = frame.copy()`\n",
      "  df_test[new_cols] = ohe.transform(df_test[cat_cols])\n",
      "C:\\Users\\nehals4545\\AppData\\Local\\Temp\\ipykernel_728\\1785779652.py:2: PerformanceWarning: DataFrame is highly fragmented.  This is usually the result of calling `frame.insert` many times, which has poor performance.  Consider joining all columns at once using pd.concat(axis=1) instead. To get a de-fragmented frame, use `newframe = frame.copy()`\n",
      "  df_test[new_cols] = ohe.transform(df_test[cat_cols])\n",
      "C:\\Users\\nehals4545\\AppData\\Local\\Temp\\ipykernel_728\\1785779652.py:2: PerformanceWarning: DataFrame is highly fragmented.  This is usually the result of calling `frame.insert` many times, which has poor performance.  Consider joining all columns at once using pd.concat(axis=1) instead. To get a de-fragmented frame, use `newframe = frame.copy()`\n",
      "  df_test[new_cols] = ohe.transform(df_test[cat_cols])\n",
      "C:\\Users\\nehals4545\\AppData\\Local\\Temp\\ipykernel_728\\1785779652.py:2: PerformanceWarning: DataFrame is highly fragmented.  This is usually the result of calling `frame.insert` many times, which has poor performance.  Consider joining all columns at once using pd.concat(axis=1) instead. To get a de-fragmented frame, use `newframe = frame.copy()`\n",
      "  df_test[new_cols] = ohe.transform(df_test[cat_cols])\n",
      "C:\\Users\\nehals4545\\AppData\\Local\\Temp\\ipykernel_728\\1785779652.py:2: PerformanceWarning: DataFrame is highly fragmented.  This is usually the result of calling `frame.insert` many times, which has poor performance.  Consider joining all columns at once using pd.concat(axis=1) instead. To get a de-fragmented frame, use `newframe = frame.copy()`\n",
      "  df_test[new_cols] = ohe.transform(df_test[cat_cols])\n",
      "C:\\Users\\nehals4545\\AppData\\Local\\Temp\\ipykernel_728\\1785779652.py:2: PerformanceWarning: DataFrame is highly fragmented.  This is usually the result of calling `frame.insert` many times, which has poor performance.  Consider joining all columns at once using pd.concat(axis=1) instead. To get a de-fragmented frame, use `newframe = frame.copy()`\n",
      "  df_test[new_cols] = ohe.transform(df_test[cat_cols])\n",
      "C:\\Users\\nehals4545\\AppData\\Local\\Temp\\ipykernel_728\\1785779652.py:2: PerformanceWarning: DataFrame is highly fragmented.  This is usually the result of calling `frame.insert` many times, which has poor performance.  Consider joining all columns at once using pd.concat(axis=1) instead. To get a de-fragmented frame, use `newframe = frame.copy()`\n",
      "  df_test[new_cols] = ohe.transform(df_test[cat_cols])\n",
      "C:\\Users\\nehals4545\\AppData\\Local\\Temp\\ipykernel_728\\1785779652.py:2: PerformanceWarning: DataFrame is highly fragmented.  This is usually the result of calling `frame.insert` many times, which has poor performance.  Consider joining all columns at once using pd.concat(axis=1) instead. To get a de-fragmented frame, use `newframe = frame.copy()`\n",
      "  df_test[new_cols] = ohe.transform(df_test[cat_cols])\n",
      "C:\\Users\\nehals4545\\AppData\\Local\\Temp\\ipykernel_728\\1785779652.py:2: PerformanceWarning: DataFrame is highly fragmented.  This is usually the result of calling `frame.insert` many times, which has poor performance.  Consider joining all columns at once using pd.concat(axis=1) instead. To get a de-fragmented frame, use `newframe = frame.copy()`\n",
      "  df_test[new_cols] = ohe.transform(df_test[cat_cols])\n",
      "C:\\Users\\nehals4545\\AppData\\Local\\Temp\\ipykernel_728\\1785779652.py:2: PerformanceWarning: DataFrame is highly fragmented.  This is usually the result of calling `frame.insert` many times, which has poor performance.  Consider joining all columns at once using pd.concat(axis=1) instead. To get a de-fragmented frame, use `newframe = frame.copy()`\n",
      "  df_test[new_cols] = ohe.transform(df_test[cat_cols])\n",
      "C:\\Users\\nehals4545\\AppData\\Local\\Temp\\ipykernel_728\\1785779652.py:2: PerformanceWarning: DataFrame is highly fragmented.  This is usually the result of calling `frame.insert` many times, which has poor performance.  Consider joining all columns at once using pd.concat(axis=1) instead. To get a de-fragmented frame, use `newframe = frame.copy()`\n",
      "  df_test[new_cols] = ohe.transform(df_test[cat_cols])\n"
     ]
    },
    {
     "name": "stderr",
     "output_type": "stream",
     "text": [
      "C:\\Users\\nehals4545\\AppData\\Local\\Temp\\ipykernel_728\\1785779652.py:2: PerformanceWarning: DataFrame is highly fragmented.  This is usually the result of calling `frame.insert` many times, which has poor performance.  Consider joining all columns at once using pd.concat(axis=1) instead. To get a de-fragmented frame, use `newframe = frame.copy()`\n",
      "  df_test[new_cols] = ohe.transform(df_test[cat_cols])\n",
      "C:\\Users\\nehals4545\\AppData\\Local\\Temp\\ipykernel_728\\1785779652.py:2: PerformanceWarning: DataFrame is highly fragmented.  This is usually the result of calling `frame.insert` many times, which has poor performance.  Consider joining all columns at once using pd.concat(axis=1) instead. To get a de-fragmented frame, use `newframe = frame.copy()`\n",
      "  df_test[new_cols] = ohe.transform(df_test[cat_cols])\n",
      "C:\\Users\\nehals4545\\AppData\\Local\\Temp\\ipykernel_728\\1785779652.py:2: PerformanceWarning: DataFrame is highly fragmented.  This is usually the result of calling `frame.insert` many times, which has poor performance.  Consider joining all columns at once using pd.concat(axis=1) instead. To get a de-fragmented frame, use `newframe = frame.copy()`\n",
      "  df_test[new_cols] = ohe.transform(df_test[cat_cols])\n",
      "C:\\Users\\nehals4545\\AppData\\Local\\Temp\\ipykernel_728\\1785779652.py:2: PerformanceWarning: DataFrame is highly fragmented.  This is usually the result of calling `frame.insert` many times, which has poor performance.  Consider joining all columns at once using pd.concat(axis=1) instead. To get a de-fragmented frame, use `newframe = frame.copy()`\n",
      "  df_test[new_cols] = ohe.transform(df_test[cat_cols])\n",
      "C:\\Users\\nehals4545\\AppData\\Local\\Temp\\ipykernel_728\\1785779652.py:2: PerformanceWarning: DataFrame is highly fragmented.  This is usually the result of calling `frame.insert` many times, which has poor performance.  Consider joining all columns at once using pd.concat(axis=1) instead. To get a de-fragmented frame, use `newframe = frame.copy()`\n",
      "  df_test[new_cols] = ohe.transform(df_test[cat_cols])\n",
      "C:\\Users\\nehals4545\\AppData\\Local\\Temp\\ipykernel_728\\1785779652.py:2: PerformanceWarning: DataFrame is highly fragmented.  This is usually the result of calling `frame.insert` many times, which has poor performance.  Consider joining all columns at once using pd.concat(axis=1) instead. To get a de-fragmented frame, use `newframe = frame.copy()`\n",
      "  df_test[new_cols] = ohe.transform(df_test[cat_cols])\n",
      "C:\\Users\\nehals4545\\AppData\\Local\\Temp\\ipykernel_728\\1785779652.py:2: PerformanceWarning: DataFrame is highly fragmented.  This is usually the result of calling `frame.insert` many times, which has poor performance.  Consider joining all columns at once using pd.concat(axis=1) instead. To get a de-fragmented frame, use `newframe = frame.copy()`\n",
      "  df_test[new_cols] = ohe.transform(df_test[cat_cols])\n",
      "C:\\Users\\nehals4545\\AppData\\Local\\Temp\\ipykernel_728\\1785779652.py:2: PerformanceWarning: DataFrame is highly fragmented.  This is usually the result of calling `frame.insert` many times, which has poor performance.  Consider joining all columns at once using pd.concat(axis=1) instead. To get a de-fragmented frame, use `newframe = frame.copy()`\n",
      "  df_test[new_cols] = ohe.transform(df_test[cat_cols])\n",
      "C:\\Users\\nehals4545\\AppData\\Local\\Temp\\ipykernel_728\\1785779652.py:2: PerformanceWarning: DataFrame is highly fragmented.  This is usually the result of calling `frame.insert` many times, which has poor performance.  Consider joining all columns at once using pd.concat(axis=1) instead. To get a de-fragmented frame, use `newframe = frame.copy()`\n",
      "  df_test[new_cols] = ohe.transform(df_test[cat_cols])\n",
      "C:\\Users\\nehals4545\\AppData\\Local\\Temp\\ipykernel_728\\1785779652.py:2: PerformanceWarning: DataFrame is highly fragmented.  This is usually the result of calling `frame.insert` many times, which has poor performance.  Consider joining all columns at once using pd.concat(axis=1) instead. To get a de-fragmented frame, use `newframe = frame.copy()`\n",
      "  df_test[new_cols] = ohe.transform(df_test[cat_cols])\n",
      "C:\\Users\\nehals4545\\AppData\\Local\\Temp\\ipykernel_728\\1785779652.py:2: PerformanceWarning: DataFrame is highly fragmented.  This is usually the result of calling `frame.insert` many times, which has poor performance.  Consider joining all columns at once using pd.concat(axis=1) instead. To get a de-fragmented frame, use `newframe = frame.copy()`\n",
      "  df_test[new_cols] = ohe.transform(df_test[cat_cols])\n",
      "C:\\Users\\nehals4545\\AppData\\Local\\Temp\\ipykernel_728\\1785779652.py:2: PerformanceWarning: DataFrame is highly fragmented.  This is usually the result of calling `frame.insert` many times, which has poor performance.  Consider joining all columns at once using pd.concat(axis=1) instead. To get a de-fragmented frame, use `newframe = frame.copy()`\n",
      "  df_test[new_cols] = ohe.transform(df_test[cat_cols])\n",
      "C:\\Users\\nehals4545\\AppData\\Local\\Temp\\ipykernel_728\\1785779652.py:2: PerformanceWarning: DataFrame is highly fragmented.  This is usually the result of calling `frame.insert` many times, which has poor performance.  Consider joining all columns at once using pd.concat(axis=1) instead. To get a de-fragmented frame, use `newframe = frame.copy()`\n",
      "  df_test[new_cols] = ohe.transform(df_test[cat_cols])\n",
      "C:\\Users\\nehals4545\\AppData\\Local\\Temp\\ipykernel_728\\1785779652.py:2: PerformanceWarning: DataFrame is highly fragmented.  This is usually the result of calling `frame.insert` many times, which has poor performance.  Consider joining all columns at once using pd.concat(axis=1) instead. To get a de-fragmented frame, use `newframe = frame.copy()`\n",
      "  df_test[new_cols] = ohe.transform(df_test[cat_cols])\n",
      "C:\\Users\\nehals4545\\AppData\\Local\\Temp\\ipykernel_728\\1785779652.py:2: PerformanceWarning: DataFrame is highly fragmented.  This is usually the result of calling `frame.insert` many times, which has poor performance.  Consider joining all columns at once using pd.concat(axis=1) instead. To get a de-fragmented frame, use `newframe = frame.copy()`\n",
      "  df_test[new_cols] = ohe.transform(df_test[cat_cols])\n",
      "C:\\Users\\nehals4545\\AppData\\Local\\Temp\\ipykernel_728\\1785779652.py:2: PerformanceWarning: DataFrame is highly fragmented.  This is usually the result of calling `frame.insert` many times, which has poor performance.  Consider joining all columns at once using pd.concat(axis=1) instead. To get a de-fragmented frame, use `newframe = frame.copy()`\n",
      "  df_test[new_cols] = ohe.transform(df_test[cat_cols])\n",
      "C:\\Users\\nehals4545\\AppData\\Local\\Temp\\ipykernel_728\\1785779652.py:2: PerformanceWarning: DataFrame is highly fragmented.  This is usually the result of calling `frame.insert` many times, which has poor performance.  Consider joining all columns at once using pd.concat(axis=1) instead. To get a de-fragmented frame, use `newframe = frame.copy()`\n",
      "  df_test[new_cols] = ohe.transform(df_test[cat_cols])\n",
      "C:\\Users\\nehals4545\\AppData\\Local\\Temp\\ipykernel_728\\1785779652.py:2: PerformanceWarning: DataFrame is highly fragmented.  This is usually the result of calling `frame.insert` many times, which has poor performance.  Consider joining all columns at once using pd.concat(axis=1) instead. To get a de-fragmented frame, use `newframe = frame.copy()`\n",
      "  df_test[new_cols] = ohe.transform(df_test[cat_cols])\n",
      "C:\\Users\\nehals4545\\AppData\\Local\\Temp\\ipykernel_728\\1785779652.py:2: PerformanceWarning: DataFrame is highly fragmented.  This is usually the result of calling `frame.insert` many times, which has poor performance.  Consider joining all columns at once using pd.concat(axis=1) instead. To get a de-fragmented frame, use `newframe = frame.copy()`\n",
      "  df_test[new_cols] = ohe.transform(df_test[cat_cols])\n",
      "C:\\Users\\nehals4545\\AppData\\Local\\Temp\\ipykernel_728\\1785779652.py:2: PerformanceWarning: DataFrame is highly fragmented.  This is usually the result of calling `frame.insert` many times, which has poor performance.  Consider joining all columns at once using pd.concat(axis=1) instead. To get a de-fragmented frame, use `newframe = frame.copy()`\n",
      "  df_test[new_cols] = ohe.transform(df_test[cat_cols])\n",
      "C:\\Users\\nehals4545\\AppData\\Local\\Temp\\ipykernel_728\\1785779652.py:2: PerformanceWarning: DataFrame is highly fragmented.  This is usually the result of calling `frame.insert` many times, which has poor performance.  Consider joining all columns at once using pd.concat(axis=1) instead. To get a de-fragmented frame, use `newframe = frame.copy()`\n",
      "  df_test[new_cols] = ohe.transform(df_test[cat_cols])\n",
      "C:\\Users\\nehals4545\\AppData\\Local\\Temp\\ipykernel_728\\1785779652.py:2: PerformanceWarning: DataFrame is highly fragmented.  This is usually the result of calling `frame.insert` many times, which has poor performance.  Consider joining all columns at once using pd.concat(axis=1) instead. To get a de-fragmented frame, use `newframe = frame.copy()`\n",
      "  df_test[new_cols] = ohe.transform(df_test[cat_cols])\n",
      "C:\\Users\\nehals4545\\AppData\\Local\\Temp\\ipykernel_728\\1785779652.py:2: PerformanceWarning: DataFrame is highly fragmented.  This is usually the result of calling `frame.insert` many times, which has poor performance.  Consider joining all columns at once using pd.concat(axis=1) instead. To get a de-fragmented frame, use `newframe = frame.copy()`\n",
      "  df_test[new_cols] = ohe.transform(df_test[cat_cols])\n",
      "C:\\Users\\nehals4545\\AppData\\Local\\Temp\\ipykernel_728\\1785779652.py:2: PerformanceWarning: DataFrame is highly fragmented.  This is usually the result of calling `frame.insert` many times, which has poor performance.  Consider joining all columns at once using pd.concat(axis=1) instead. To get a de-fragmented frame, use `newframe = frame.copy()`\n",
      "  df_test[new_cols] = ohe.transform(df_test[cat_cols])\n",
      "C:\\Users\\nehals4545\\AppData\\Local\\Temp\\ipykernel_728\\1785779652.py:2: PerformanceWarning: DataFrame is highly fragmented.  This is usually the result of calling `frame.insert` many times, which has poor performance.  Consider joining all columns at once using pd.concat(axis=1) instead. To get a de-fragmented frame, use `newframe = frame.copy()`\n",
      "  df_test[new_cols] = ohe.transform(df_test[cat_cols])\n"
     ]
    },
    {
     "name": "stderr",
     "output_type": "stream",
     "text": [
      "C:\\Users\\nehals4545\\AppData\\Local\\Temp\\ipykernel_728\\1785779652.py:2: PerformanceWarning: DataFrame is highly fragmented.  This is usually the result of calling `frame.insert` many times, which has poor performance.  Consider joining all columns at once using pd.concat(axis=1) instead. To get a de-fragmented frame, use `newframe = frame.copy()`\n",
      "  df_test[new_cols] = ohe.transform(df_test[cat_cols])\n",
      "C:\\Users\\nehals4545\\AppData\\Local\\Temp\\ipykernel_728\\1785779652.py:2: PerformanceWarning: DataFrame is highly fragmented.  This is usually the result of calling `frame.insert` many times, which has poor performance.  Consider joining all columns at once using pd.concat(axis=1) instead. To get a de-fragmented frame, use `newframe = frame.copy()`\n",
      "  df_test[new_cols] = ohe.transform(df_test[cat_cols])\n",
      "C:\\Users\\nehals4545\\AppData\\Local\\Temp\\ipykernel_728\\1785779652.py:2: PerformanceWarning: DataFrame is highly fragmented.  This is usually the result of calling `frame.insert` many times, which has poor performance.  Consider joining all columns at once using pd.concat(axis=1) instead. To get a de-fragmented frame, use `newframe = frame.copy()`\n",
      "  df_test[new_cols] = ohe.transform(df_test[cat_cols])\n",
      "C:\\Users\\nehals4545\\AppData\\Local\\Temp\\ipykernel_728\\1785779652.py:2: PerformanceWarning: DataFrame is highly fragmented.  This is usually the result of calling `frame.insert` many times, which has poor performance.  Consider joining all columns at once using pd.concat(axis=1) instead. To get a de-fragmented frame, use `newframe = frame.copy()`\n",
      "  df_test[new_cols] = ohe.transform(df_test[cat_cols])\n",
      "C:\\Users\\nehals4545\\AppData\\Local\\Temp\\ipykernel_728\\1785779652.py:2: PerformanceWarning: DataFrame is highly fragmented.  This is usually the result of calling `frame.insert` many times, which has poor performance.  Consider joining all columns at once using pd.concat(axis=1) instead. To get a de-fragmented frame, use `newframe = frame.copy()`\n",
      "  df_test[new_cols] = ohe.transform(df_test[cat_cols])\n",
      "C:\\Users\\nehals4545\\AppData\\Local\\Temp\\ipykernel_728\\1785779652.py:2: PerformanceWarning: DataFrame is highly fragmented.  This is usually the result of calling `frame.insert` many times, which has poor performance.  Consider joining all columns at once using pd.concat(axis=1) instead. To get a de-fragmented frame, use `newframe = frame.copy()`\n",
      "  df_test[new_cols] = ohe.transform(df_test[cat_cols])\n",
      "C:\\Users\\nehals4545\\AppData\\Local\\Temp\\ipykernel_728\\1785779652.py:2: PerformanceWarning: DataFrame is highly fragmented.  This is usually the result of calling `frame.insert` many times, which has poor performance.  Consider joining all columns at once using pd.concat(axis=1) instead. To get a de-fragmented frame, use `newframe = frame.copy()`\n",
      "  df_test[new_cols] = ohe.transform(df_test[cat_cols])\n",
      "C:\\Users\\nehals4545\\AppData\\Local\\Temp\\ipykernel_728\\1785779652.py:2: PerformanceWarning: DataFrame is highly fragmented.  This is usually the result of calling `frame.insert` many times, which has poor performance.  Consider joining all columns at once using pd.concat(axis=1) instead. To get a de-fragmented frame, use `newframe = frame.copy()`\n",
      "  df_test[new_cols] = ohe.transform(df_test[cat_cols])\n",
      "C:\\Users\\nehals4545\\AppData\\Local\\Temp\\ipykernel_728\\1785779652.py:2: PerformanceWarning: DataFrame is highly fragmented.  This is usually the result of calling `frame.insert` many times, which has poor performance.  Consider joining all columns at once using pd.concat(axis=1) instead. To get a de-fragmented frame, use `newframe = frame.copy()`\n",
      "  df_test[new_cols] = ohe.transform(df_test[cat_cols])\n",
      "C:\\Users\\nehals4545\\AppData\\Local\\Temp\\ipykernel_728\\1785779652.py:2: PerformanceWarning: DataFrame is highly fragmented.  This is usually the result of calling `frame.insert` many times, which has poor performance.  Consider joining all columns at once using pd.concat(axis=1) instead. To get a de-fragmented frame, use `newframe = frame.copy()`\n",
      "  df_test[new_cols] = ohe.transform(df_test[cat_cols])\n",
      "C:\\Users\\nehals4545\\AppData\\Local\\Temp\\ipykernel_728\\1785779652.py:2: PerformanceWarning: DataFrame is highly fragmented.  This is usually the result of calling `frame.insert` many times, which has poor performance.  Consider joining all columns at once using pd.concat(axis=1) instead. To get a de-fragmented frame, use `newframe = frame.copy()`\n",
      "  df_test[new_cols] = ohe.transform(df_test[cat_cols])\n",
      "C:\\Users\\nehals4545\\AppData\\Local\\Temp\\ipykernel_728\\1785779652.py:2: PerformanceWarning: DataFrame is highly fragmented.  This is usually the result of calling `frame.insert` many times, which has poor performance.  Consider joining all columns at once using pd.concat(axis=1) instead. To get a de-fragmented frame, use `newframe = frame.copy()`\n",
      "  df_test[new_cols] = ohe.transform(df_test[cat_cols])\n",
      "C:\\Users\\nehals4545\\AppData\\Local\\Temp\\ipykernel_728\\1785779652.py:2: PerformanceWarning: DataFrame is highly fragmented.  This is usually the result of calling `frame.insert` many times, which has poor performance.  Consider joining all columns at once using pd.concat(axis=1) instead. To get a de-fragmented frame, use `newframe = frame.copy()`\n",
      "  df_test[new_cols] = ohe.transform(df_test[cat_cols])\n",
      "C:\\Users\\nehals4545\\AppData\\Local\\Temp\\ipykernel_728\\1785779652.py:2: PerformanceWarning: DataFrame is highly fragmented.  This is usually the result of calling `frame.insert` many times, which has poor performance.  Consider joining all columns at once using pd.concat(axis=1) instead. To get a de-fragmented frame, use `newframe = frame.copy()`\n",
      "  df_test[new_cols] = ohe.transform(df_test[cat_cols])\n",
      "C:\\Users\\nehals4545\\AppData\\Local\\Temp\\ipykernel_728\\1785779652.py:2: PerformanceWarning: DataFrame is highly fragmented.  This is usually the result of calling `frame.insert` many times, which has poor performance.  Consider joining all columns at once using pd.concat(axis=1) instead. To get a de-fragmented frame, use `newframe = frame.copy()`\n",
      "  df_test[new_cols] = ohe.transform(df_test[cat_cols])\n",
      "C:\\Users\\nehals4545\\AppData\\Local\\Temp\\ipykernel_728\\1785779652.py:2: PerformanceWarning: DataFrame is highly fragmented.  This is usually the result of calling `frame.insert` many times, which has poor performance.  Consider joining all columns at once using pd.concat(axis=1) instead. To get a de-fragmented frame, use `newframe = frame.copy()`\n",
      "  df_test[new_cols] = ohe.transform(df_test[cat_cols])\n",
      "C:\\Users\\nehals4545\\AppData\\Local\\Temp\\ipykernel_728\\1785779652.py:2: PerformanceWarning: DataFrame is highly fragmented.  This is usually the result of calling `frame.insert` many times, which has poor performance.  Consider joining all columns at once using pd.concat(axis=1) instead. To get a de-fragmented frame, use `newframe = frame.copy()`\n",
      "  df_test[new_cols] = ohe.transform(df_test[cat_cols])\n",
      "C:\\Users\\nehals4545\\AppData\\Local\\Temp\\ipykernel_728\\1785779652.py:2: PerformanceWarning: DataFrame is highly fragmented.  This is usually the result of calling `frame.insert` many times, which has poor performance.  Consider joining all columns at once using pd.concat(axis=1) instead. To get a de-fragmented frame, use `newframe = frame.copy()`\n",
      "  df_test[new_cols] = ohe.transform(df_test[cat_cols])\n",
      "C:\\Users\\nehals4545\\AppData\\Local\\Temp\\ipykernel_728\\1785779652.py:2: PerformanceWarning: DataFrame is highly fragmented.  This is usually the result of calling `frame.insert` many times, which has poor performance.  Consider joining all columns at once using pd.concat(axis=1) instead. To get a de-fragmented frame, use `newframe = frame.copy()`\n",
      "  df_test[new_cols] = ohe.transform(df_test[cat_cols])\n",
      "C:\\Users\\nehals4545\\AppData\\Local\\Temp\\ipykernel_728\\1785779652.py:2: PerformanceWarning: DataFrame is highly fragmented.  This is usually the result of calling `frame.insert` many times, which has poor performance.  Consider joining all columns at once using pd.concat(axis=1) instead. To get a de-fragmented frame, use `newframe = frame.copy()`\n",
      "  df_test[new_cols] = ohe.transform(df_test[cat_cols])\n",
      "C:\\Users\\nehals4545\\AppData\\Local\\Temp\\ipykernel_728\\1785779652.py:2: PerformanceWarning: DataFrame is highly fragmented.  This is usually the result of calling `frame.insert` many times, which has poor performance.  Consider joining all columns at once using pd.concat(axis=1) instead. To get a de-fragmented frame, use `newframe = frame.copy()`\n",
      "  df_test[new_cols] = ohe.transform(df_test[cat_cols])\n"
     ]
    },
    {
     "name": "stderr",
     "output_type": "stream",
     "text": [
      "C:\\Users\\nehals4545\\AppData\\Local\\Temp\\ipykernel_728\\1785779652.py:2: PerformanceWarning: DataFrame is highly fragmented.  This is usually the result of calling `frame.insert` many times, which has poor performance.  Consider joining all columns at once using pd.concat(axis=1) instead. To get a de-fragmented frame, use `newframe = frame.copy()`\n",
      "  df_test[new_cols] = ohe.transform(df_test[cat_cols])\n",
      "C:\\Users\\nehals4545\\AppData\\Local\\Temp\\ipykernel_728\\1785779652.py:2: PerformanceWarning: DataFrame is highly fragmented.  This is usually the result of calling `frame.insert` many times, which has poor performance.  Consider joining all columns at once using pd.concat(axis=1) instead. To get a de-fragmented frame, use `newframe = frame.copy()`\n",
      "  df_test[new_cols] = ohe.transform(df_test[cat_cols])\n",
      "C:\\Users\\nehals4545\\AppData\\Local\\Temp\\ipykernel_728\\1785779652.py:2: PerformanceWarning: DataFrame is highly fragmented.  This is usually the result of calling `frame.insert` many times, which has poor performance.  Consider joining all columns at once using pd.concat(axis=1) instead. To get a de-fragmented frame, use `newframe = frame.copy()`\n",
      "  df_test[new_cols] = ohe.transform(df_test[cat_cols])\n",
      "C:\\Users\\nehals4545\\AppData\\Local\\Temp\\ipykernel_728\\1785779652.py:2: PerformanceWarning: DataFrame is highly fragmented.  This is usually the result of calling `frame.insert` many times, which has poor performance.  Consider joining all columns at once using pd.concat(axis=1) instead. To get a de-fragmented frame, use `newframe = frame.copy()`\n",
      "  df_test[new_cols] = ohe.transform(df_test[cat_cols])\n",
      "C:\\Users\\nehals4545\\AppData\\Local\\Temp\\ipykernel_728\\1785779652.py:2: PerformanceWarning: DataFrame is highly fragmented.  This is usually the result of calling `frame.insert` many times, which has poor performance.  Consider joining all columns at once using pd.concat(axis=1) instead. To get a de-fragmented frame, use `newframe = frame.copy()`\n",
      "  df_test[new_cols] = ohe.transform(df_test[cat_cols])\n",
      "C:\\Users\\nehals4545\\AppData\\Local\\Temp\\ipykernel_728\\1785779652.py:2: PerformanceWarning: DataFrame is highly fragmented.  This is usually the result of calling `frame.insert` many times, which has poor performance.  Consider joining all columns at once using pd.concat(axis=1) instead. To get a de-fragmented frame, use `newframe = frame.copy()`\n",
      "  df_test[new_cols] = ohe.transform(df_test[cat_cols])\n",
      "C:\\Users\\nehals4545\\AppData\\Local\\Temp\\ipykernel_728\\1785779652.py:2: PerformanceWarning: DataFrame is highly fragmented.  This is usually the result of calling `frame.insert` many times, which has poor performance.  Consider joining all columns at once using pd.concat(axis=1) instead. To get a de-fragmented frame, use `newframe = frame.copy()`\n",
      "  df_test[new_cols] = ohe.transform(df_test[cat_cols])\n",
      "C:\\Users\\nehals4545\\AppData\\Local\\Temp\\ipykernel_728\\1785779652.py:2: PerformanceWarning: DataFrame is highly fragmented.  This is usually the result of calling `frame.insert` many times, which has poor performance.  Consider joining all columns at once using pd.concat(axis=1) instead. To get a de-fragmented frame, use `newframe = frame.copy()`\n",
      "  df_test[new_cols] = ohe.transform(df_test[cat_cols])\n",
      "C:\\Users\\nehals4545\\AppData\\Local\\Temp\\ipykernel_728\\1785779652.py:2: PerformanceWarning: DataFrame is highly fragmented.  This is usually the result of calling `frame.insert` many times, which has poor performance.  Consider joining all columns at once using pd.concat(axis=1) instead. To get a de-fragmented frame, use `newframe = frame.copy()`\n",
      "  df_test[new_cols] = ohe.transform(df_test[cat_cols])\n",
      "C:\\Users\\nehals4545\\AppData\\Local\\Temp\\ipykernel_728\\1785779652.py:2: PerformanceWarning: DataFrame is highly fragmented.  This is usually the result of calling `frame.insert` many times, which has poor performance.  Consider joining all columns at once using pd.concat(axis=1) instead. To get a de-fragmented frame, use `newframe = frame.copy()`\n",
      "  df_test[new_cols] = ohe.transform(df_test[cat_cols])\n",
      "C:\\Users\\nehals4545\\AppData\\Local\\Temp\\ipykernel_728\\1785779652.py:2: PerformanceWarning: DataFrame is highly fragmented.  This is usually the result of calling `frame.insert` many times, which has poor performance.  Consider joining all columns at once using pd.concat(axis=1) instead. To get a de-fragmented frame, use `newframe = frame.copy()`\n",
      "  df_test[new_cols] = ohe.transform(df_test[cat_cols])\n",
      "C:\\Users\\nehals4545\\AppData\\Local\\Temp\\ipykernel_728\\1785779652.py:2: PerformanceWarning: DataFrame is highly fragmented.  This is usually the result of calling `frame.insert` many times, which has poor performance.  Consider joining all columns at once using pd.concat(axis=1) instead. To get a de-fragmented frame, use `newframe = frame.copy()`\n",
      "  df_test[new_cols] = ohe.transform(df_test[cat_cols])\n",
      "C:\\Users\\nehals4545\\AppData\\Local\\Temp\\ipykernel_728\\1785779652.py:2: PerformanceWarning: DataFrame is highly fragmented.  This is usually the result of calling `frame.insert` many times, which has poor performance.  Consider joining all columns at once using pd.concat(axis=1) instead. To get a de-fragmented frame, use `newframe = frame.copy()`\n",
      "  df_test[new_cols] = ohe.transform(df_test[cat_cols])\n",
      "C:\\Users\\nehals4545\\AppData\\Local\\Temp\\ipykernel_728\\1785779652.py:2: PerformanceWarning: DataFrame is highly fragmented.  This is usually the result of calling `frame.insert` many times, which has poor performance.  Consider joining all columns at once using pd.concat(axis=1) instead. To get a de-fragmented frame, use `newframe = frame.copy()`\n",
      "  df_test[new_cols] = ohe.transform(df_test[cat_cols])\n",
      "C:\\Users\\nehals4545\\AppData\\Local\\Temp\\ipykernel_728\\1785779652.py:2: PerformanceWarning: DataFrame is highly fragmented.  This is usually the result of calling `frame.insert` many times, which has poor performance.  Consider joining all columns at once using pd.concat(axis=1) instead. To get a de-fragmented frame, use `newframe = frame.copy()`\n",
      "  df_test[new_cols] = ohe.transform(df_test[cat_cols])\n",
      "C:\\Users\\nehals4545\\AppData\\Local\\Temp\\ipykernel_728\\1785779652.py:2: PerformanceWarning: DataFrame is highly fragmented.  This is usually the result of calling `frame.insert` many times, which has poor performance.  Consider joining all columns at once using pd.concat(axis=1) instead. To get a de-fragmented frame, use `newframe = frame.copy()`\n",
      "  df_test[new_cols] = ohe.transform(df_test[cat_cols])\n",
      "C:\\Users\\nehals4545\\AppData\\Local\\Temp\\ipykernel_728\\1785779652.py:2: PerformanceWarning: DataFrame is highly fragmented.  This is usually the result of calling `frame.insert` many times, which has poor performance.  Consider joining all columns at once using pd.concat(axis=1) instead. To get a de-fragmented frame, use `newframe = frame.copy()`\n",
      "  df_test[new_cols] = ohe.transform(df_test[cat_cols])\n",
      "C:\\Users\\nehals4545\\AppData\\Local\\Temp\\ipykernel_728\\1785779652.py:2: PerformanceWarning: DataFrame is highly fragmented.  This is usually the result of calling `frame.insert` many times, which has poor performance.  Consider joining all columns at once using pd.concat(axis=1) instead. To get a de-fragmented frame, use `newframe = frame.copy()`\n",
      "  df_test[new_cols] = ohe.transform(df_test[cat_cols])\n",
      "C:\\Users\\nehals4545\\AppData\\Local\\Temp\\ipykernel_728\\1785779652.py:2: PerformanceWarning: DataFrame is highly fragmented.  This is usually the result of calling `frame.insert` many times, which has poor performance.  Consider joining all columns at once using pd.concat(axis=1) instead. To get a de-fragmented frame, use `newframe = frame.copy()`\n",
      "  df_test[new_cols] = ohe.transform(df_test[cat_cols])\n",
      "C:\\Users\\nehals4545\\AppData\\Local\\Temp\\ipykernel_728\\1785779652.py:2: PerformanceWarning: DataFrame is highly fragmented.  This is usually the result of calling `frame.insert` many times, which has poor performance.  Consider joining all columns at once using pd.concat(axis=1) instead. To get a de-fragmented frame, use `newframe = frame.copy()`\n",
      "  df_test[new_cols] = ohe.transform(df_test[cat_cols])\n",
      "C:\\Users\\nehals4545\\AppData\\Local\\Temp\\ipykernel_728\\1785779652.py:2: PerformanceWarning: DataFrame is highly fragmented.  This is usually the result of calling `frame.insert` many times, which has poor performance.  Consider joining all columns at once using pd.concat(axis=1) instead. To get a de-fragmented frame, use `newframe = frame.copy()`\n",
      "  df_test[new_cols] = ohe.transform(df_test[cat_cols])\n",
      "C:\\Users\\nehals4545\\AppData\\Local\\Temp\\ipykernel_728\\1785779652.py:2: PerformanceWarning: DataFrame is highly fragmented.  This is usually the result of calling `frame.insert` many times, which has poor performance.  Consider joining all columns at once using pd.concat(axis=1) instead. To get a de-fragmented frame, use `newframe = frame.copy()`\n",
      "  df_test[new_cols] = ohe.transform(df_test[cat_cols])\n",
      "C:\\Users\\nehals4545\\AppData\\Local\\Temp\\ipykernel_728\\1785779652.py:2: PerformanceWarning: DataFrame is highly fragmented.  This is usually the result of calling `frame.insert` many times, which has poor performance.  Consider joining all columns at once using pd.concat(axis=1) instead. To get a de-fragmented frame, use `newframe = frame.copy()`\n",
      "  df_test[new_cols] = ohe.transform(df_test[cat_cols])\n",
      "C:\\Users\\nehals4545\\AppData\\Local\\Temp\\ipykernel_728\\1785779652.py:2: PerformanceWarning: DataFrame is highly fragmented.  This is usually the result of calling `frame.insert` many times, which has poor performance.  Consider joining all columns at once using pd.concat(axis=1) instead. To get a de-fragmented frame, use `newframe = frame.copy()`\n",
      "  df_test[new_cols] = ohe.transform(df_test[cat_cols])\n"
     ]
    },
    {
     "name": "stderr",
     "output_type": "stream",
     "text": [
      "C:\\Users\\nehals4545\\AppData\\Local\\Temp\\ipykernel_728\\1785779652.py:2: PerformanceWarning: DataFrame is highly fragmented.  This is usually the result of calling `frame.insert` many times, which has poor performance.  Consider joining all columns at once using pd.concat(axis=1) instead. To get a de-fragmented frame, use `newframe = frame.copy()`\n",
      "  df_test[new_cols] = ohe.transform(df_test[cat_cols])\n",
      "C:\\Users\\nehals4545\\AppData\\Local\\Temp\\ipykernel_728\\1785779652.py:2: PerformanceWarning: DataFrame is highly fragmented.  This is usually the result of calling `frame.insert` many times, which has poor performance.  Consider joining all columns at once using pd.concat(axis=1) instead. To get a de-fragmented frame, use `newframe = frame.copy()`\n",
      "  df_test[new_cols] = ohe.transform(df_test[cat_cols])\n",
      "C:\\Users\\nehals4545\\AppData\\Local\\Temp\\ipykernel_728\\1785779652.py:2: PerformanceWarning: DataFrame is highly fragmented.  This is usually the result of calling `frame.insert` many times, which has poor performance.  Consider joining all columns at once using pd.concat(axis=1) instead. To get a de-fragmented frame, use `newframe = frame.copy()`\n",
      "  df_test[new_cols] = ohe.transform(df_test[cat_cols])\n",
      "C:\\Users\\nehals4545\\AppData\\Local\\Temp\\ipykernel_728\\1785779652.py:2: PerformanceWarning: DataFrame is highly fragmented.  This is usually the result of calling `frame.insert` many times, which has poor performance.  Consider joining all columns at once using pd.concat(axis=1) instead. To get a de-fragmented frame, use `newframe = frame.copy()`\n",
      "  df_test[new_cols] = ohe.transform(df_test[cat_cols])\n",
      "C:\\Users\\nehals4545\\AppData\\Local\\Temp\\ipykernel_728\\1785779652.py:2: PerformanceWarning: DataFrame is highly fragmented.  This is usually the result of calling `frame.insert` many times, which has poor performance.  Consider joining all columns at once using pd.concat(axis=1) instead. To get a de-fragmented frame, use `newframe = frame.copy()`\n",
      "  df_test[new_cols] = ohe.transform(df_test[cat_cols])\n",
      "C:\\Users\\nehals4545\\AppData\\Local\\Temp\\ipykernel_728\\1785779652.py:2: PerformanceWarning: DataFrame is highly fragmented.  This is usually the result of calling `frame.insert` many times, which has poor performance.  Consider joining all columns at once using pd.concat(axis=1) instead. To get a de-fragmented frame, use `newframe = frame.copy()`\n",
      "  df_test[new_cols] = ohe.transform(df_test[cat_cols])\n",
      "C:\\Users\\nehals4545\\AppData\\Local\\Temp\\ipykernel_728\\1785779652.py:2: PerformanceWarning: DataFrame is highly fragmented.  This is usually the result of calling `frame.insert` many times, which has poor performance.  Consider joining all columns at once using pd.concat(axis=1) instead. To get a de-fragmented frame, use `newframe = frame.copy()`\n",
      "  df_test[new_cols] = ohe.transform(df_test[cat_cols])\n",
      "C:\\Users\\nehals4545\\AppData\\Local\\Temp\\ipykernel_728\\1785779652.py:2: PerformanceWarning: DataFrame is highly fragmented.  This is usually the result of calling `frame.insert` many times, which has poor performance.  Consider joining all columns at once using pd.concat(axis=1) instead. To get a de-fragmented frame, use `newframe = frame.copy()`\n",
      "  df_test[new_cols] = ohe.transform(df_test[cat_cols])\n",
      "C:\\Users\\nehals4545\\AppData\\Local\\Temp\\ipykernel_728\\1785779652.py:2: PerformanceWarning: DataFrame is highly fragmented.  This is usually the result of calling `frame.insert` many times, which has poor performance.  Consider joining all columns at once using pd.concat(axis=1) instead. To get a de-fragmented frame, use `newframe = frame.copy()`\n",
      "  df_test[new_cols] = ohe.transform(df_test[cat_cols])\n",
      "C:\\Users\\nehals4545\\AppData\\Local\\Temp\\ipykernel_728\\1785779652.py:2: PerformanceWarning: DataFrame is highly fragmented.  This is usually the result of calling `frame.insert` many times, which has poor performance.  Consider joining all columns at once using pd.concat(axis=1) instead. To get a de-fragmented frame, use `newframe = frame.copy()`\n",
      "  df_test[new_cols] = ohe.transform(df_test[cat_cols])\n",
      "C:\\Users\\nehals4545\\AppData\\Local\\Temp\\ipykernel_728\\1785779652.py:2: PerformanceWarning: DataFrame is highly fragmented.  This is usually the result of calling `frame.insert` many times, which has poor performance.  Consider joining all columns at once using pd.concat(axis=1) instead. To get a de-fragmented frame, use `newframe = frame.copy()`\n",
      "  df_test[new_cols] = ohe.transform(df_test[cat_cols])\n",
      "C:\\Users\\nehals4545\\AppData\\Local\\Temp\\ipykernel_728\\1785779652.py:2: PerformanceWarning: DataFrame is highly fragmented.  This is usually the result of calling `frame.insert` many times, which has poor performance.  Consider joining all columns at once using pd.concat(axis=1) instead. To get a de-fragmented frame, use `newframe = frame.copy()`\n",
      "  df_test[new_cols] = ohe.transform(df_test[cat_cols])\n",
      "C:\\Users\\nehals4545\\AppData\\Local\\Temp\\ipykernel_728\\1785779652.py:2: PerformanceWarning: DataFrame is highly fragmented.  This is usually the result of calling `frame.insert` many times, which has poor performance.  Consider joining all columns at once using pd.concat(axis=1) instead. To get a de-fragmented frame, use `newframe = frame.copy()`\n",
      "  df_test[new_cols] = ohe.transform(df_test[cat_cols])\n",
      "C:\\Users\\nehals4545\\AppData\\Local\\Temp\\ipykernel_728\\1785779652.py:2: PerformanceWarning: DataFrame is highly fragmented.  This is usually the result of calling `frame.insert` many times, which has poor performance.  Consider joining all columns at once using pd.concat(axis=1) instead. To get a de-fragmented frame, use `newframe = frame.copy()`\n",
      "  df_test[new_cols] = ohe.transform(df_test[cat_cols])\n",
      "C:\\Users\\nehals4545\\AppData\\Local\\Temp\\ipykernel_728\\1785779652.py:2: PerformanceWarning: DataFrame is highly fragmented.  This is usually the result of calling `frame.insert` many times, which has poor performance.  Consider joining all columns at once using pd.concat(axis=1) instead. To get a de-fragmented frame, use `newframe = frame.copy()`\n",
      "  df_test[new_cols] = ohe.transform(df_test[cat_cols])\n",
      "C:\\Users\\nehals4545\\AppData\\Local\\Temp\\ipykernel_728\\1785779652.py:2: PerformanceWarning: DataFrame is highly fragmented.  This is usually the result of calling `frame.insert` many times, which has poor performance.  Consider joining all columns at once using pd.concat(axis=1) instead. To get a de-fragmented frame, use `newframe = frame.copy()`\n",
      "  df_test[new_cols] = ohe.transform(df_test[cat_cols])\n",
      "C:\\Users\\nehals4545\\AppData\\Local\\Temp\\ipykernel_728\\1785779652.py:2: PerformanceWarning: DataFrame is highly fragmented.  This is usually the result of calling `frame.insert` many times, which has poor performance.  Consider joining all columns at once using pd.concat(axis=1) instead. To get a de-fragmented frame, use `newframe = frame.copy()`\n",
      "  df_test[new_cols] = ohe.transform(df_test[cat_cols])\n",
      "C:\\Users\\nehals4545\\AppData\\Local\\Temp\\ipykernel_728\\1785779652.py:2: PerformanceWarning: DataFrame is highly fragmented.  This is usually the result of calling `frame.insert` many times, which has poor performance.  Consider joining all columns at once using pd.concat(axis=1) instead. To get a de-fragmented frame, use `newframe = frame.copy()`\n",
      "  df_test[new_cols] = ohe.transform(df_test[cat_cols])\n",
      "C:\\Users\\nehals4545\\AppData\\Local\\Temp\\ipykernel_728\\1785779652.py:2: PerformanceWarning: DataFrame is highly fragmented.  This is usually the result of calling `frame.insert` many times, which has poor performance.  Consider joining all columns at once using pd.concat(axis=1) instead. To get a de-fragmented frame, use `newframe = frame.copy()`\n",
      "  df_test[new_cols] = ohe.transform(df_test[cat_cols])\n",
      "C:\\Users\\nehals4545\\AppData\\Local\\Temp\\ipykernel_728\\1785779652.py:2: PerformanceWarning: DataFrame is highly fragmented.  This is usually the result of calling `frame.insert` many times, which has poor performance.  Consider joining all columns at once using pd.concat(axis=1) instead. To get a de-fragmented frame, use `newframe = frame.copy()`\n",
      "  df_test[new_cols] = ohe.transform(df_test[cat_cols])\n",
      "C:\\Users\\nehals4545\\AppData\\Local\\Temp\\ipykernel_728\\1785779652.py:2: PerformanceWarning: DataFrame is highly fragmented.  This is usually the result of calling `frame.insert` many times, which has poor performance.  Consider joining all columns at once using pd.concat(axis=1) instead. To get a de-fragmented frame, use `newframe = frame.copy()`\n",
      "  df_test[new_cols] = ohe.transform(df_test[cat_cols])\n",
      "C:\\Users\\nehals4545\\AppData\\Local\\Temp\\ipykernel_728\\1785779652.py:2: PerformanceWarning: DataFrame is highly fragmented.  This is usually the result of calling `frame.insert` many times, which has poor performance.  Consider joining all columns at once using pd.concat(axis=1) instead. To get a de-fragmented frame, use `newframe = frame.copy()`\n",
      "  df_test[new_cols] = ohe.transform(df_test[cat_cols])\n",
      "C:\\Users\\nehals4545\\AppData\\Local\\Temp\\ipykernel_728\\1785779652.py:2: PerformanceWarning: DataFrame is highly fragmented.  This is usually the result of calling `frame.insert` many times, which has poor performance.  Consider joining all columns at once using pd.concat(axis=1) instead. To get a de-fragmented frame, use `newframe = frame.copy()`\n",
      "  df_test[new_cols] = ohe.transform(df_test[cat_cols])\n"
     ]
    },
    {
     "name": "stderr",
     "output_type": "stream",
     "text": [
      "C:\\Users\\nehals4545\\AppData\\Local\\Temp\\ipykernel_728\\1785779652.py:2: PerformanceWarning: DataFrame is highly fragmented.  This is usually the result of calling `frame.insert` many times, which has poor performance.  Consider joining all columns at once using pd.concat(axis=1) instead. To get a de-fragmented frame, use `newframe = frame.copy()`\n",
      "  df_test[new_cols] = ohe.transform(df_test[cat_cols])\n"
     ]
    }
   ],
   "source": [
    "df_train[new_cols] = ohe.transform(df_train[cat_cols])\n",
    "df_test[new_cols] = ohe.transform(df_test[cat_cols])"
   ]
  },
  {
   "cell_type": "code",
   "execution_count": 98,
   "id": "a6ea427b",
   "metadata": {},
   "outputs": [
    {
     "data": {
      "text/html": [
       "<div>\n",
       "<style scoped>\n",
       "    .dataframe tbody tr th:only-of-type {\n",
       "        vertical-align: middle;\n",
       "    }\n",
       "\n",
       "    .dataframe tbody tr th {\n",
       "        vertical-align: top;\n",
       "    }\n",
       "\n",
       "    .dataframe thead th {\n",
       "        text-align: right;\n",
       "    }\n",
       "</style>\n",
       "<table border=\"1\" class=\"dataframe\">\n",
       "  <thead>\n",
       "    <tr style=\"text-align: right;\">\n",
       "      <th></th>\n",
       "      <th>Id</th>\n",
       "      <th>MSSubClass</th>\n",
       "      <th>MSZoning</th>\n",
       "      <th>LotFrontage</th>\n",
       "      <th>LotArea</th>\n",
       "      <th>Street</th>\n",
       "      <th>Alley</th>\n",
       "      <th>LotShape</th>\n",
       "      <th>LandContour</th>\n",
       "      <th>Utilities</th>\n",
       "      <th>...</th>\n",
       "      <th>x41_ConLw</th>\n",
       "      <th>x41_New</th>\n",
       "      <th>x41_Oth</th>\n",
       "      <th>x41_WD</th>\n",
       "      <th>x42_Abnorml</th>\n",
       "      <th>x42_AdjLand</th>\n",
       "      <th>x42_Alloca</th>\n",
       "      <th>x42_Family</th>\n",
       "      <th>x42_Normal</th>\n",
       "      <th>x42_Partial</th>\n",
       "    </tr>\n",
       "  </thead>\n",
       "  <tbody>\n",
       "    <tr>\n",
       "      <th>0</th>\n",
       "      <td>1</td>\n",
       "      <td>60.0</td>\n",
       "      <td>RL</td>\n",
       "      <td>65.0</td>\n",
       "      <td>8450.0</td>\n",
       "      <td>Pave</td>\n",
       "      <td>NA</td>\n",
       "      <td>Reg</td>\n",
       "      <td>Lvl</td>\n",
       "      <td>AllPub</td>\n",
       "      <td>...</td>\n",
       "      <td>0.0</td>\n",
       "      <td>0.0</td>\n",
       "      <td>0.0</td>\n",
       "      <td>1.0</td>\n",
       "      <td>0.0</td>\n",
       "      <td>0.0</td>\n",
       "      <td>0.0</td>\n",
       "      <td>0.0</td>\n",
       "      <td>1.0</td>\n",
       "      <td>0.0</td>\n",
       "    </tr>\n",
       "    <tr>\n",
       "      <th>1</th>\n",
       "      <td>2</td>\n",
       "      <td>20.0</td>\n",
       "      <td>RL</td>\n",
       "      <td>80.0</td>\n",
       "      <td>9600.0</td>\n",
       "      <td>Pave</td>\n",
       "      <td>NA</td>\n",
       "      <td>Reg</td>\n",
       "      <td>Lvl</td>\n",
       "      <td>AllPub</td>\n",
       "      <td>...</td>\n",
       "      <td>0.0</td>\n",
       "      <td>0.0</td>\n",
       "      <td>0.0</td>\n",
       "      <td>1.0</td>\n",
       "      <td>0.0</td>\n",
       "      <td>0.0</td>\n",
       "      <td>0.0</td>\n",
       "      <td>0.0</td>\n",
       "      <td>1.0</td>\n",
       "      <td>0.0</td>\n",
       "    </tr>\n",
       "    <tr>\n",
       "      <th>2</th>\n",
       "      <td>3</td>\n",
       "      <td>60.0</td>\n",
       "      <td>RL</td>\n",
       "      <td>68.0</td>\n",
       "      <td>11250.0</td>\n",
       "      <td>Pave</td>\n",
       "      <td>NA</td>\n",
       "      <td>IR1</td>\n",
       "      <td>Lvl</td>\n",
       "      <td>AllPub</td>\n",
       "      <td>...</td>\n",
       "      <td>0.0</td>\n",
       "      <td>0.0</td>\n",
       "      <td>0.0</td>\n",
       "      <td>1.0</td>\n",
       "      <td>0.0</td>\n",
       "      <td>0.0</td>\n",
       "      <td>0.0</td>\n",
       "      <td>0.0</td>\n",
       "      <td>1.0</td>\n",
       "      <td>0.0</td>\n",
       "    </tr>\n",
       "    <tr>\n",
       "      <th>3</th>\n",
       "      <td>4</td>\n",
       "      <td>70.0</td>\n",
       "      <td>RL</td>\n",
       "      <td>60.0</td>\n",
       "      <td>9550.0</td>\n",
       "      <td>Pave</td>\n",
       "      <td>NA</td>\n",
       "      <td>IR1</td>\n",
       "      <td>Lvl</td>\n",
       "      <td>AllPub</td>\n",
       "      <td>...</td>\n",
       "      <td>0.0</td>\n",
       "      <td>0.0</td>\n",
       "      <td>0.0</td>\n",
       "      <td>1.0</td>\n",
       "      <td>1.0</td>\n",
       "      <td>0.0</td>\n",
       "      <td>0.0</td>\n",
       "      <td>0.0</td>\n",
       "      <td>0.0</td>\n",
       "      <td>0.0</td>\n",
       "    </tr>\n",
       "    <tr>\n",
       "      <th>4</th>\n",
       "      <td>5</td>\n",
       "      <td>60.0</td>\n",
       "      <td>RL</td>\n",
       "      <td>84.0</td>\n",
       "      <td>14260.0</td>\n",
       "      <td>Pave</td>\n",
       "      <td>NA</td>\n",
       "      <td>IR1</td>\n",
       "      <td>Lvl</td>\n",
       "      <td>AllPub</td>\n",
       "      <td>...</td>\n",
       "      <td>0.0</td>\n",
       "      <td>0.0</td>\n",
       "      <td>0.0</td>\n",
       "      <td>1.0</td>\n",
       "      <td>0.0</td>\n",
       "      <td>0.0</td>\n",
       "      <td>0.0</td>\n",
       "      <td>0.0</td>\n",
       "      <td>1.0</td>\n",
       "      <td>0.0</td>\n",
       "    </tr>\n",
       "  </tbody>\n",
       "</table>\n",
       "<p>5 rows × 347 columns</p>\n",
       "</div>"
      ],
      "text/plain": [
       "   Id  MSSubClass MSZoning  LotFrontage  LotArea Street Alley LotShape  \\\n",
       "0   1        60.0       RL         65.0   8450.0   Pave    NA      Reg   \n",
       "1   2        20.0       RL         80.0   9600.0   Pave    NA      Reg   \n",
       "2   3        60.0       RL         68.0  11250.0   Pave    NA      IR1   \n",
       "3   4        70.0       RL         60.0   9550.0   Pave    NA      IR1   \n",
       "4   5        60.0       RL         84.0  14260.0   Pave    NA      IR1   \n",
       "\n",
       "  LandContour Utilities  ... x41_ConLw x41_New x41_Oth x41_WD x42_Abnorml  \\\n",
       "0         Lvl    AllPub  ...       0.0     0.0     0.0    1.0         0.0   \n",
       "1         Lvl    AllPub  ...       0.0     0.0     0.0    1.0         0.0   \n",
       "2         Lvl    AllPub  ...       0.0     0.0     0.0    1.0         0.0   \n",
       "3         Lvl    AllPub  ...       0.0     0.0     0.0    1.0         1.0   \n",
       "4         Lvl    AllPub  ...       0.0     0.0     0.0    1.0         0.0   \n",
       "\n",
       "  x42_AdjLand x42_Alloca  x42_Family  x42_Normal  x42_Partial  \n",
       "0         0.0        0.0         0.0         1.0          0.0  \n",
       "1         0.0        0.0         0.0         1.0          0.0  \n",
       "2         0.0        0.0         0.0         1.0          0.0  \n",
       "3         0.0        0.0         0.0         0.0          0.0  \n",
       "4         0.0        0.0         0.0         1.0          0.0  \n",
       "\n",
       "[5 rows x 347 columns]"
      ]
     },
     "execution_count": 98,
     "metadata": {},
     "output_type": "execute_result"
    }
   ],
   "source": [
    "df_train.head()"
   ]
  },
  {
   "cell_type": "code",
   "execution_count": null,
   "id": "be4375f2",
   "metadata": {},
   "outputs": [],
   "source": []
  },
  {
   "cell_type": "code",
   "execution_count": null,
   "id": "67dbbc8d",
   "metadata": {},
   "outputs": [],
   "source": []
  },
  {
   "cell_type": "code",
   "execution_count": null,
   "id": "b789b3e0",
   "metadata": {},
   "outputs": [],
   "source": []
  },
  {
   "cell_type": "markdown",
   "id": "4fb22a7b",
   "metadata": {},
   "source": [
    "# Feature selection"
   ]
  },
  {
   "cell_type": "code",
   "execution_count": 99,
   "id": "f7b1c8e2",
   "metadata": {},
   "outputs": [
    {
     "data": {
      "text/plain": [
       "OverallQual    0.790982\n",
       "GrLivArea      0.708624\n",
       "SalePrice      1.000000\n",
       "Name: SalePrice, dtype: float64"
      ]
     },
     "execution_count": 99,
     "metadata": {},
     "output_type": "execute_result"
    }
   ],
   "source": [
    "df_train.corr()['SalePrice'][(df_train.corr()['SalePrice']>0.7)]"
   ]
  },
  {
   "cell_type": "code",
   "execution_count": 100,
   "id": "7082c2d4",
   "metadata": {},
   "outputs": [],
   "source": [
    "final_col=list(df_train.corr()['SalePrice'][(df_train.corr()['SalePrice']>=0.06)|(df_train.corr()['SalePrice']<=-0.06)].index)"
   ]
  },
  {
   "cell_type": "code",
   "execution_count": 101,
   "id": "ab93dc04",
   "metadata": {},
   "outputs": [],
   "source": [
    "final_col.remove('SalePrice')"
   ]
  },
  {
   "cell_type": "code",
   "execution_count": 102,
   "id": "6d12e624",
   "metadata": {},
   "outputs": [
    {
     "data": {
      "text/plain": [
       "180"
      ]
     },
     "execution_count": 102,
     "metadata": {},
     "output_type": "execute_result"
    }
   ],
   "source": [
    "len(final_col)"
   ]
  },
  {
   "cell_type": "code",
   "execution_count": 103,
   "id": "f9567b09",
   "metadata": {},
   "outputs": [
    {
     "data": {
      "text/plain": [
       "{'whiskers': [<matplotlib.lines.Line2D at 0x567d916a0>,\n",
       "  <matplotlib.lines.Line2D at 0x567d91970>],\n",
       " 'caps': [<matplotlib.lines.Line2D at 0x567d91c40>,\n",
       "  <matplotlib.lines.Line2D at 0x567d91f10>],\n",
       " 'boxes': [<matplotlib.lines.Line2D at 0x567d913d0>],\n",
       " 'medians': [<matplotlib.lines.Line2D at 0x567dab220>],\n",
       " 'fliers': [<matplotlib.lines.Line2D at 0x567dab4f0>],\n",
       " 'means': []}"
      ]
     },
     "execution_count": 103,
     "metadata": {},
     "output_type": "execute_result"
    },
    {
     "data": {
      "image/png": "[encoded data removed]",
      "text/plain": [
       "<Figure size 432x288 with 1 Axes>"
      ]
     },
     "metadata": {
      "needs_background": "light"
     },
     "output_type": "display_data"
    }
   ],
   "source": [
    "plt.boxplot(df_train['SalePrice'])"
   ]
  },
  {
   "cell_type": "code",
   "execution_count": 104,
   "id": "34016f6b",
   "metadata": {},
   "outputs": [],
   "source": [
    "# IQR\n",
    "percentile25= df_train['SalePrice'].quantile(0.25)\n",
    "percentile75= df_train['SalePrice'].quantile(0.75)"
   ]
  },
  {
   "cell_type": "code",
   "execution_count": 105,
   "id": "a37be1f9",
   "metadata": {},
   "outputs": [
    {
     "data": {
      "text/plain": [
       "214000.0"
      ]
     },
     "execution_count": 105,
     "metadata": {},
     "output_type": "execute_result"
    }
   ],
   "source": [
    "percentile75"
   ]
  },
  {
   "cell_type": "code",
   "execution_count": 106,
   "id": "5de09044",
   "metadata": {},
   "outputs": [
    {
     "data": {
      "text/plain": [
       "129975.0"
      ]
     },
     "execution_count": 106,
     "metadata": {},
     "output_type": "execute_result"
    }
   ],
   "source": [
    "percentile25"
   ]
  },
  {
   "cell_type": "code",
   "execution_count": 107,
   "id": "1bdf5e3c",
   "metadata": {},
   "outputs": [],
   "source": [
    "iqr=percentile75-percentile25"
   ]
  },
  {
   "cell_type": "code",
   "execution_count": 108,
   "id": "8184fc1c",
   "metadata": {},
   "outputs": [
    {
     "data": {
      "text/plain": [
       "84025.0"
      ]
     },
     "execution_count": 108,
     "metadata": {},
     "output_type": "execute_result"
    }
   ],
   "source": [
    "iqr"
   ]
  },
  {
   "cell_type": "code",
   "execution_count": 109,
   "id": "27564bf0",
   "metadata": {},
   "outputs": [],
   "source": [
    "uper_limit = percentile75 + 1.5 * iqr\n",
    "lower_limit = percentile25 - 1.5 * iqr"
   ]
  },
  {
   "cell_type": "code",
   "execution_count": 110,
   "id": "d7d535f1",
   "metadata": {},
   "outputs": [
    {
     "data": {
      "text/plain": [
       "(340037.5, 3937.5)"
      ]
     },
     "execution_count": 110,
     "metadata": {},
     "output_type": "execute_result"
    }
   ],
   "source": [
    "uper_limit,lower_limit"
   ]
  },
  {
   "cell_type": "code",
   "execution_count": 111,
   "id": "160cc7ce",
   "metadata": {},
   "outputs": [
    {
     "data": {
      "text/plain": [
       "11      345000\n",
       "53      385000\n",
       "58      438780\n",
       "112     383970\n",
       "151     372402\n",
       "         ...  \n",
       "1268    381000\n",
       "1353    410000\n",
       "1373    466500\n",
       "1388    377500\n",
       "1437    394617\n",
       "Name: SalePrice, Length: 61, dtype: int64"
      ]
     },
     "execution_count": 111,
     "metadata": {},
     "output_type": "execute_result"
    }
   ],
   "source": [
    "df_train[df_train['SalePrice'] > uper_limit]['SalePrice']"
   ]
  },
  {
   "cell_type": "code",
   "execution_count": null,
   "id": "e96e7774",
   "metadata": {},
   "outputs": [],
   "source": []
  },
  {
   "cell_type": "markdown",
   "id": "56684a97",
   "metadata": {},
   "source": [
    "# Trimming"
   ]
  },
  {
   "cell_type": "code",
   "execution_count": 112,
   "id": "87d9f2a9",
   "metadata": {},
   "outputs": [],
   "source": [
    "df_train_new=df_train[df_train['SalePrice'] < 450000]\n"
   ]
  },
  {
   "cell_type": "code",
   "execution_count": 113,
   "id": "34ce081f",
   "metadata": {},
   "outputs": [
    {
     "data": {
      "text/plain": [
       "(1446, 347)"
      ]
     },
     "execution_count": 113,
     "metadata": {},
     "output_type": "execute_result"
    }
   ],
   "source": [
    "df_train_new.shape"
   ]
  },
  {
   "cell_type": "code",
   "execution_count": 114,
   "id": "bdaa27b7",
   "metadata": {},
   "outputs": [
    {
     "data": {
      "text/plain": [
       "{'whiskers': [<matplotlib.lines.Line2D at 0x567e4a340>,\n",
       "  <matplotlib.lines.Line2D at 0x567e4a640>],\n",
       " 'caps': [<matplotlib.lines.Line2D at 0x567e4a910>,\n",
       "  <matplotlib.lines.Line2D at 0x567e4abe0>],\n",
       " 'boxes': [<matplotlib.lines.Line2D at 0x567e4a070>],\n",
       " 'medians': [<matplotlib.lines.Line2D at 0x567e4aeb0>],\n",
       " 'fliers': [<matplotlib.lines.Line2D at 0x567e601c0>],\n",
       " 'means': []}"
      ]
     },
     "execution_count": 114,
     "metadata": {},
     "output_type": "execute_result"
    },
    {
     "data": {
      "image/png": "[encoded data removed]",
      "text/plain": [
       "<Figure size 432x288 with 1 Axes>"
      ]
     },
     "metadata": {
      "needs_background": "light"
     },
     "output_type": "display_data"
    }
   ],
   "source": [
    "plt.boxplot(df_train_new['SalePrice'])"
   ]
  },
  {
   "cell_type": "code",
   "execution_count": null,
   "id": "e735cbbd",
   "metadata": {},
   "outputs": [],
   "source": []
  },
  {
   "cell_type": "code",
   "execution_count": null,
   "id": "51c7ba47",
   "metadata": {},
   "outputs": [],
   "source": []
  },
  {
   "cell_type": "code",
   "execution_count": null,
   "id": "ebe565c4",
   "metadata": {},
   "outputs": [],
   "source": []
  },
  {
   "cell_type": "markdown",
   "id": "db93dae3",
   "metadata": {},
   "source": [
    "# Scaling"
   ]
  },
  {
   "cell_type": "code",
   "execution_count": 115,
   "id": "46960646",
   "metadata": {},
   "outputs": [],
   "source": [
    "from sklearn.preprocessing import StandardScaler, MinMaxScaler"
   ]
  },
  {
   "cell_type": "code",
   "execution_count": 116,
   "id": "f9ecab7a",
   "metadata": {},
   "outputs": [],
   "source": [
    "# scaler=StandardScaler()"
   ]
  },
  {
   "cell_type": "code",
   "execution_count": 117,
   "id": "93f0ffb7",
   "metadata": {},
   "outputs": [
    {
     "name": "stderr",
     "output_type": "stream",
     "text": [
      "C:\\Users\\nehals4545\\AppData\\Local\\Temp\\ipykernel_728\\1958270976.py:1: SettingWithCopyWarning: \n",
      "A value is trying to be set on a copy of a slice from a DataFrame.\n",
      "Try using .loc[row_indexer,col_indexer] = value instead\n",
      "\n",
      "See the caveats in the documentation: https://pandas.pydata.org/pandas-docs/stable/user_guide/indexing.html#returning-a-view-versus-a-copy\n",
      "  df_train_new[final_col] =scaler.fit_transform(df_train_new[final_col])\n"
     ]
    }
   ],
   "source": [
    "# df_train_new[final_col] =scaler.fit_transform(df_train_new[final_col])"
   ]
  },
  {
   "cell_type": "code",
   "execution_count": 118,
   "id": "bea602d3",
   "metadata": {},
   "outputs": [],
   "source": [
    "# df_test[final_col] = scaler.transform(df_test[final_col])"
   ]
  },
  {
   "cell_type": "code",
   "execution_count": null,
   "id": "09ac5c67",
   "metadata": {},
   "outputs": [],
   "source": []
  },
  {
   "cell_type": "code",
   "execution_count": 35,
   "id": "627f8341",
   "metadata": {},
   "outputs": [],
   "source": [
    "scalerm=MinMaxScaler()"
   ]
  },
  {
   "cell_type": "code",
   "execution_count": 36,
   "id": "1af895ff",
   "metadata": {},
   "outputs": [
    {
     "name": "stderr",
     "output_type": "stream",
     "text": [
      "C:\\Users\\nehals4545\\AppData\\Local\\Temp\\ipykernel_728\\3043307717.py:1: SettingWithCopyWarning: \n",
      "A value is trying to be set on a copy of a slice from a DataFrame.\n",
      "Try using .loc[row_indexer,col_indexer] = value instead\n",
      "\n",
      "See the caveats in the documentation: https://pandas.pydata.org/pandas-docs/stable/user_guide/indexing.html#returning-a-view-versus-a-copy\n",
      "  df_train_new[final_col] =scalerm.fit_transform(df_train_new[final_col])\n"
     ]
    }
   ],
   "source": [
    "df_train_new[final_col] =scalerm.fit_transform(df_train_new[final_col])"
   ]
  },
  {
   "cell_type": "code",
   "execution_count": 37,
   "id": "108ee69d",
   "metadata": {},
   "outputs": [],
   "source": [
    "df_test[final_col] = scalerm.transform(df_test[final_col])"
   ]
  },
  {
   "cell_type": "code",
   "execution_count": null,
   "id": "195efd8f",
   "metadata": {},
   "outputs": [],
   "source": []
  },
  {
   "cell_type": "markdown",
   "id": "a035ad8a",
   "metadata": {},
   "source": [
    "# model selection"
   ]
  },
  {
   "cell_type": "code",
   "execution_count": 50,
   "id": "f832f70e",
   "metadata": {},
   "outputs": [],
   "source": [
    "from sklearn.linear_model import LinearRegression"
   ]
  },
  {
   "cell_type": "code",
   "execution_count": 38,
   "id": "fe0f6127",
   "metadata": {},
   "outputs": [],
   "source": [
    "model_lin=LinearRegression()"
   ]
  },
  {
   "cell_type": "code",
   "execution_count": 39,
   "id": "80ecc187",
   "metadata": {},
   "outputs": [
    {
     "data": {
      "text/plain": [
       "LinearRegression()"
      ]
     },
     "execution_count": 39,
     "metadata": {},
     "output_type": "execute_result"
    }
   ],
   "source": [
    "model_lin.fit(df_train[final_col],df_train['SalePrice'])"
   ]
  },
  {
   "cell_type": "code",
   "execution_count": 40,
   "id": "004d754c",
   "metadata": {},
   "outputs": [],
   "source": [
    "yp= model_lin.predict(df_test[final_col])"
   ]
  },
  {
   "cell_type": "code",
   "execution_count": null,
   "id": "c8b7905b",
   "metadata": {},
   "outputs": [],
   "source": [
    "df_submission = pd.DataFrame({'Id':df_test['Id'], 'SalePrice':yp})"
   ]
  },
  {
   "cell_type": "code",
   "execution_count": null,
   "id": "59b3da7b",
   "metadata": {},
   "outputs": [],
   "source": [
    "df_submission.to_csv('lin_house01.csv', index=False)"
   ]
  },
  {
   "cell_type": "code",
   "execution_count": null,
   "id": "bad0ccab",
   "metadata": {},
   "outputs": [],
   "source": []
  },
  {
   "cell_type": "code",
   "execution_count": 38,
   "id": "aef45cab",
   "metadata": {},
   "outputs": [],
   "source": [
    "from sklearn.ensemble import RandomForestClassifier\n",
    "from sklearn.model_selection import GridSearchCV,RandomizedSearchCV\n",
    "from sklearn.ensemble import RandomForestRegressor\n",
    "from sklearn.ensemble import AdaBoostRegressor"
   ]
  },
  {
   "cell_type": "code",
   "execution_count": 42,
   "id": "e34a2c2d",
   "metadata": {},
   "outputs": [],
   "source": [
    "from sklearn.ensemble import GradientBoostingRegressor"
   ]
  },
  {
   "cell_type": "code",
   "execution_count": 39,
   "id": "25426e2a",
   "metadata": {},
   "outputs": [],
   "source": [
    "dict1={'n_estimators':[10,25,50,75,100,150,200,300],\n",
    "       'max_depth':[2,3,4,5,6,7,8,9,10],\n",
    "       'min_samples_leaf':[2,3,4,5,6,7,8],\n",
    "       'min_samples_split':[2,3,4,5,6]}\n",
    "dict2={'n_estimators':[75,100,150,200,300],\n",
    "       'max_depth':[3,4,5,6,7],\n",
    "       'min_samples_leaf':[2,3,4,5],\n",
    "       'min_samples_split':[4,5,6]}\n",
    "\n",
    "dict3={'n_estimators':[200,300],\n",
    "       'max_depth':[4,5],\n",
    "       'min_samples_leaf':[2,3],\n",
    "       'min_samples_split':[5,6,7]}"
   ]
  },
  {
   "cell_type": "code",
   "execution_count": 119,
   "id": "defa7d5a",
   "metadata": {},
   "outputs": [],
   "source": [
    "parameters = {'learning_rate': [0.01,0.02,0.03,0.04],\n",
    "              'subsample'    : [0.9, 0.5, 0.2, 0.1],\n",
    "              'n_estimators' : [100,500,1000, 1500],\n",
    "              'max_depth'    : [4,6,8,10]\n",
    "             }"
   ]
  },
  {
   "cell_type": "code",
   "execution_count": 120,
   "id": "59a5d983",
   "metadata": {},
   "outputs": [],
   "source": [
    "grid_GBR = GridSearchCV(estimator=GradientBoostingRegressor(), param_grid = parameters, cv = 2, n_jobs=-1,verbose=3)"
   ]
  },
  {
   "cell_type": "code",
   "execution_count": 121,
   "id": "38cb0710",
   "metadata": {},
   "outputs": [
    {
     "name": "stdout",
     "output_type": "stream",
     "text": [
      "Fitting 2 folds for each of 256 candidates, totalling 512 fits\n"
     ]
    },
    {
     "data": {
      "text/plain": [
       "GridSearchCV(cv=2, estimator=GradientBoostingRegressor(), n_jobs=-1,\n",
       "             param_grid={'learning_rate': [0.01, 0.02, 0.03, 0.04],\n",
       "                         'max_depth': [4, 6, 8, 10],\n",
       "                         'n_estimators': [100, 500, 1000, 1500],\n",
       "                         'subsample': [0.9, 0.5, 0.2, 0.1]},\n",
       "             verbose=3)"
      ]
     },
     "execution_count": 121,
     "metadata": {},
     "output_type": "execute_result"
    }
   ],
   "source": [
    "grid_GBR.fit(df_train_new[final_col],df_train_new['SalePrice'])"
   ]
  },
  {
   "cell_type": "code",
   "execution_count": 122,
   "id": "9cf0b0cc",
   "metadata": {},
   "outputs": [
    {
     "data": {
      "text/plain": [
       "GradientBoostingRegressor(learning_rate=0.02, max_depth=4, n_estimators=1000,\n",
       "                          subsample=0.5)"
      ]
     },
     "execution_count": 122,
     "metadata": {},
     "output_type": "execute_result"
    }
   ],
   "source": [
    "grid_GBR.best_estimator_"
   ]
  },
  {
   "cell_type": "code",
   "execution_count": 123,
   "id": "f342f0d3",
   "metadata": {},
   "outputs": [
    {
     "data": {
      "text/plain": [
       "{'learning_rate': 0.02, 'max_depth': 4, 'n_estimators': 1000, 'subsample': 0.5}"
      ]
     },
     "execution_count": 123,
     "metadata": {},
     "output_type": "execute_result"
    }
   ],
   "source": [
    "grid_GBR.best_params_"
   ]
  },
  {
   "cell_type": "code",
   "execution_count": 124,
   "id": "32754fae",
   "metadata": {},
   "outputs": [],
   "source": [
    "yp0=grid_GBR.predict(df_test[final_col])"
   ]
  },
  {
   "cell_type": "code",
   "execution_count": 125,
   "id": "4856e7ea",
   "metadata": {},
   "outputs": [],
   "source": [
    "df_submission0 = pd.DataFrame({'Id':df_test['Id'], 'SalePrice':yp0})"
   ]
  },
  {
   "cell_type": "code",
   "execution_count": 126,
   "id": "6c8a6d90",
   "metadata": {},
   "outputs": [],
   "source": [
    "df_submission0.to_csv('gbr_0002.csv', index=False)"
   ]
  },
  {
   "cell_type": "code",
   "execution_count": null,
   "id": "c86956ee",
   "metadata": {},
   "outputs": [],
   "source": []
  },
  {
   "cell_type": "code",
   "execution_count": 64,
   "id": "0a1865d8",
   "metadata": {},
   "outputs": [],
   "source": [
    "random = RandomizedSearchCV(estimator=GradientBoostingRegressor(), param_distributions = parameters,cv = 2, n_iter = 10, n_jobs=-1,verbose=3)"
   ]
  },
  {
   "cell_type": "code",
   "execution_count": 65,
   "id": "1aedd710",
   "metadata": {},
   "outputs": [
    {
     "name": "stdout",
     "output_type": "stream",
     "text": [
      "Fitting 2 folds for each of 10 candidates, totalling 20 fits\n"
     ]
    },
    {
     "data": {
      "text/plain": [
       "RandomizedSearchCV(cv=2, estimator=GradientBoostingRegressor(), n_jobs=-1,\n",
       "                   param_distributions={'learning_rate': [0.01, 0.02, 0.03,\n",
       "                                                          0.04],\n",
       "                                        'max_depth': [4, 6, 8, 10],\n",
       "                                        'n_estimators': [100, 500, 1000, 1500,\n",
       "                                                         1800],\n",
       "                                        'subsample': [0.9, 0.5, 0.2, 0.1]},\n",
       "                   verbose=3)"
      ]
     },
     "execution_count": 65,
     "metadata": {},
     "output_type": "execute_result"
    }
   ],
   "source": [
    "random.fit(df_train_new[final_col],df_train_new['SalePrice'])"
   ]
  },
  {
   "cell_type": "code",
   "execution_count": 66,
   "id": "d070089b",
   "metadata": {},
   "outputs": [],
   "source": [
    "yp01=random.predict(df_test[final_col])"
   ]
  },
  {
   "cell_type": "code",
   "execution_count": 67,
   "id": "309838d2",
   "metadata": {},
   "outputs": [],
   "source": [
    "df_submission01 = pd.DataFrame({'Id':df_test['Id'], 'SalePrice':yp01})"
   ]
  },
  {
   "cell_type": "code",
   "execution_count": 68,
   "id": "a1a8b60d",
   "metadata": {},
   "outputs": [],
   "source": [
    "df_submission01.to_csv('random_000.csv', index=False)"
   ]
  },
  {
   "cell_type": "code",
   "execution_count": null,
   "id": "9e39be71",
   "metadata": {},
   "outputs": [],
   "source": []
  },
  {
   "cell_type": "code",
   "execution_count": null,
   "id": "07de1358",
   "metadata": {},
   "outputs": [],
   "source": []
  },
  {
   "cell_type": "code",
   "execution_count": 119,
   "id": "dca684d6",
   "metadata": {},
   "outputs": [],
   "source": [
    "grid_cv = GridSearchCV(GradientBoostingRegressor(n_estimators =400, max_depth =5,min_samples_leaf=5,min_samples_split=2,learning_rate=0.1,random_state=78), param_grid=dict3,cv=5,verbose=3)"
   ]
  },
  {
   "cell_type": "code",
   "execution_count": 120,
   "id": "02281c3d",
   "metadata": {},
   "outputs": [
    {
     "name": "stdout",
     "output_type": "stream",
     "text": [
      "Fitting 5 folds for each of 24 candidates, totalling 120 fits\n",
      "[CV 1/5] END max_depth=4, min_samples_leaf=2, min_samples_split=5, n_estimators=200;, score=0.899 total time=   4.4s\n",
      "[CV 2/5] END max_depth=4, min_samples_leaf=2, min_samples_split=5, n_estimators=200;, score=0.900 total time=   3.9s\n",
      "[CV 3/5] END max_depth=4, min_samples_leaf=2, min_samples_split=5, n_estimators=200;, score=0.897 total time=   4.3s\n",
      "[CV 4/5] END max_depth=4, min_samples_leaf=2, min_samples_split=5, n_estimators=200;, score=0.913 total time=   4.2s\n",
      "[CV 5/5] END max_depth=4, min_samples_leaf=2, min_samples_split=5, n_estimators=200;, score=0.891 total time=   4.3s\n",
      "[CV 1/5] END max_depth=4, min_samples_leaf=2, min_samples_split=5, n_estimators=300;, score=0.900 total time=   6.4s\n",
      "[CV 2/5] END max_depth=4, min_samples_leaf=2, min_samples_split=5, n_estimators=300;, score=0.899 total time=   5.7s\n",
      "[CV 3/5] END max_depth=4, min_samples_leaf=2, min_samples_split=5, n_estimators=300;, score=0.898 total time=   5.7s\n",
      "[CV 4/5] END max_depth=4, min_samples_leaf=2, min_samples_split=5, n_estimators=300;, score=0.911 total time=   5.8s\n",
      "[CV 5/5] END max_depth=4, min_samples_leaf=2, min_samples_split=5, n_estimators=300;, score=0.892 total time=   5.7s\n",
      "[CV 1/5] END max_depth=4, min_samples_leaf=2, min_samples_split=6, n_estimators=200;, score=0.900 total time=   3.8s\n",
      "[CV 2/5] END max_depth=4, min_samples_leaf=2, min_samples_split=6, n_estimators=200;, score=0.895 total time=   3.8s\n",
      "[CV 3/5] END max_depth=4, min_samples_leaf=2, min_samples_split=6, n_estimators=200;, score=0.896 total time=   3.8s\n",
      "[CV 4/5] END max_depth=4, min_samples_leaf=2, min_samples_split=6, n_estimators=200;, score=0.909 total time=   3.8s\n",
      "[CV 5/5] END max_depth=4, min_samples_leaf=2, min_samples_split=6, n_estimators=200;, score=0.889 total time=   3.8s\n",
      "[CV 1/5] END max_depth=4, min_samples_leaf=2, min_samples_split=6, n_estimators=300;, score=0.903 total time=   5.7s\n",
      "[CV 2/5] END max_depth=4, min_samples_leaf=2, min_samples_split=6, n_estimators=300;, score=0.894 total time=   5.7s\n",
      "[CV 3/5] END max_depth=4, min_samples_leaf=2, min_samples_split=6, n_estimators=300;, score=0.898 total time=   5.7s\n",
      "[CV 4/5] END max_depth=4, min_samples_leaf=2, min_samples_split=6, n_estimators=300;, score=0.909 total time=   5.7s\n",
      "[CV 5/5] END max_depth=4, min_samples_leaf=2, min_samples_split=6, n_estimators=300;, score=0.890 total time=   5.8s\n",
      "[CV 1/5] END max_depth=4, min_samples_leaf=2, min_samples_split=7, n_estimators=200;, score=0.899 total time=   3.8s\n",
      "[CV 2/5] END max_depth=4, min_samples_leaf=2, min_samples_split=7, n_estimators=200;, score=0.897 total time=   4.0s\n",
      "[CV 3/5] END max_depth=4, min_samples_leaf=2, min_samples_split=7, n_estimators=200;, score=0.894 total time=   3.9s\n",
      "[CV 4/5] END max_depth=4, min_samples_leaf=2, min_samples_split=7, n_estimators=200;, score=0.911 total time=   4.0s\n",
      "[CV 5/5] END max_depth=4, min_samples_leaf=2, min_samples_split=7, n_estimators=200;, score=0.895 total time=   4.5s\n",
      "[CV 1/5] END max_depth=4, min_samples_leaf=2, min_samples_split=7, n_estimators=300;, score=0.901 total time=   7.8s\n",
      "[CV 2/5] END max_depth=4, min_samples_leaf=2, min_samples_split=7, n_estimators=300;, score=0.896 total time=   6.4s\n",
      "[CV 3/5] END max_depth=4, min_samples_leaf=2, min_samples_split=7, n_estimators=300;, score=0.895 total time=   7.0s\n",
      "[CV 4/5] END max_depth=4, min_samples_leaf=2, min_samples_split=7, n_estimators=300;, score=0.911 total time=   6.6s\n",
      "[CV 5/5] END max_depth=4, min_samples_leaf=2, min_samples_split=7, n_estimators=300;, score=0.894 total time=   6.0s\n",
      "[CV 1/5] END max_depth=4, min_samples_leaf=3, min_samples_split=5, n_estimators=200;, score=0.893 total time=   3.8s\n",
      "[CV 2/5] END max_depth=4, min_samples_leaf=3, min_samples_split=5, n_estimators=200;, score=0.895 total time=   3.8s\n",
      "[CV 3/5] END max_depth=4, min_samples_leaf=3, min_samples_split=5, n_estimators=200;, score=0.899 total time=   3.8s\n",
      "[CV 4/5] END max_depth=4, min_samples_leaf=3, min_samples_split=5, n_estimators=200;, score=0.918 total time=   4.0s\n",
      "[CV 5/5] END max_depth=4, min_samples_leaf=3, min_samples_split=5, n_estimators=200;, score=0.879 total time=   3.9s\n",
      "[CV 1/5] END max_depth=4, min_samples_leaf=3, min_samples_split=5, n_estimators=300;, score=0.895 total time=   5.7s\n",
      "[CV 2/5] END max_depth=4, min_samples_leaf=3, min_samples_split=5, n_estimators=300;, score=0.895 total time=   5.7s\n",
      "[CV 3/5] END max_depth=4, min_samples_leaf=3, min_samples_split=5, n_estimators=300;, score=0.900 total time=   5.8s\n",
      "[CV 4/5] END max_depth=4, min_samples_leaf=3, min_samples_split=5, n_estimators=300;, score=0.917 total time=   5.9s\n",
      "[CV 5/5] END max_depth=4, min_samples_leaf=3, min_samples_split=5, n_estimators=300;, score=0.880 total time=   5.7s\n",
      "[CV 1/5] END max_depth=4, min_samples_leaf=3, min_samples_split=6, n_estimators=200;, score=0.893 total time=   3.9s\n",
      "[CV 2/5] END max_depth=4, min_samples_leaf=3, min_samples_split=6, n_estimators=200;, score=0.895 total time=   3.8s\n",
      "[CV 3/5] END max_depth=4, min_samples_leaf=3, min_samples_split=6, n_estimators=200;, score=0.899 total time=   3.8s\n",
      "[CV 4/5] END max_depth=4, min_samples_leaf=3, min_samples_split=6, n_estimators=200;, score=0.918 total time=   3.8s\n",
      "[CV 5/5] END max_depth=4, min_samples_leaf=3, min_samples_split=6, n_estimators=200;, score=0.879 total time=   3.8s\n",
      "[CV 1/5] END max_depth=4, min_samples_leaf=3, min_samples_split=6, n_estimators=300;, score=0.895 total time=   5.7s\n",
      "[CV 2/5] END max_depth=4, min_samples_leaf=3, min_samples_split=6, n_estimators=300;, score=0.895 total time=   5.8s\n",
      "[CV 3/5] END max_depth=4, min_samples_leaf=3, min_samples_split=6, n_estimators=300;, score=0.900 total time=   5.7s\n",
      "[CV 4/5] END max_depth=4, min_samples_leaf=3, min_samples_split=6, n_estimators=300;, score=0.917 total time=   5.8s\n",
      "[CV 5/5] END max_depth=4, min_samples_leaf=3, min_samples_split=6, n_estimators=300;, score=0.880 total time=   5.8s\n",
      "[CV 1/5] END max_depth=4, min_samples_leaf=3, min_samples_split=7, n_estimators=200;, score=0.894 total time=   3.8s\n",
      "[CV 2/5] END max_depth=4, min_samples_leaf=3, min_samples_split=7, n_estimators=200;, score=0.893 total time=   3.8s\n",
      "[CV 3/5] END max_depth=4, min_samples_leaf=3, min_samples_split=7, n_estimators=200;, score=0.892 total time=   3.8s\n",
      "[CV 4/5] END max_depth=4, min_samples_leaf=3, min_samples_split=7, n_estimators=200;, score=0.915 total time=   3.9s\n",
      "[CV 5/5] END max_depth=4, min_samples_leaf=3, min_samples_split=7, n_estimators=200;, score=0.887 total time=   3.8s\n",
      "[CV 1/5] END max_depth=4, min_samples_leaf=3, min_samples_split=7, n_estimators=300;, score=0.896 total time=   5.7s\n",
      "[CV 2/5] END max_depth=4, min_samples_leaf=3, min_samples_split=7, n_estimators=300;, score=0.894 total time=   5.7s\n",
      "[CV 3/5] END max_depth=4, min_samples_leaf=3, min_samples_split=7, n_estimators=300;, score=0.894 total time=   5.7s\n",
      "[CV 4/5] END max_depth=4, min_samples_leaf=3, min_samples_split=7, n_estimators=300;, score=0.916 total time=   5.7s\n",
      "[CV 5/5] END max_depth=4, min_samples_leaf=3, min_samples_split=7, n_estimators=300;, score=0.887 total time=   5.7s\n",
      "[CV 1/5] END max_depth=5, min_samples_leaf=2, min_samples_split=5, n_estimators=200;, score=0.891 total time=   4.8s\n",
      "[CV 2/5] END max_depth=5, min_samples_leaf=2, min_samples_split=5, n_estimators=200;, score=0.895 total time=   4.7s\n",
      "[CV 3/5] END max_depth=5, min_samples_leaf=2, min_samples_split=5, n_estimators=200;, score=0.899 total time=   4.7s\n",
      "[CV 4/5] END max_depth=5, min_samples_leaf=2, min_samples_split=5, n_estimators=200;, score=0.914 total time=   4.7s\n",
      "[CV 5/5] END max_depth=5, min_samples_leaf=2, min_samples_split=5, n_estimators=200;, score=0.890 total time=   4.7s\n",
      "[CV 1/5] END max_depth=5, min_samples_leaf=2, min_samples_split=5, n_estimators=300;, score=0.892 total time=   7.3s\n",
      "[CV 2/5] END max_depth=5, min_samples_leaf=2, min_samples_split=5, n_estimators=300;, score=0.895 total time=   7.2s\n",
      "[CV 3/5] END max_depth=5, min_samples_leaf=2, min_samples_split=5, n_estimators=300;, score=0.899 total time=   7.1s\n",
      "[CV 4/5] END max_depth=5, min_samples_leaf=2, min_samples_split=5, n_estimators=300;, score=0.915 total time=   7.1s\n",
      "[CV 5/5] END max_depth=5, min_samples_leaf=2, min_samples_split=5, n_estimators=300;, score=0.891 total time=   7.2s\n"
     ]
    },
    {
     "name": "stdout",
     "output_type": "stream",
     "text": [
      "[CV 1/5] END max_depth=5, min_samples_leaf=2, min_samples_split=6, n_estimators=200;, score=0.891 total time=   4.7s\n",
      "[CV 2/5] END max_depth=5, min_samples_leaf=2, min_samples_split=6, n_estimators=200;, score=0.900 total time=   4.7s\n",
      "[CV 3/5] END max_depth=5, min_samples_leaf=2, min_samples_split=6, n_estimators=200;, score=0.898 total time=   4.8s\n",
      "[CV 4/5] END max_depth=5, min_samples_leaf=2, min_samples_split=6, n_estimators=200;, score=0.906 total time=   4.8s\n",
      "[CV 5/5] END max_depth=5, min_samples_leaf=2, min_samples_split=6, n_estimators=200;, score=0.886 total time=   4.7s\n",
      "[CV 1/5] END max_depth=5, min_samples_leaf=2, min_samples_split=6, n_estimators=300;, score=0.892 total time=   7.1s\n",
      "[CV 2/5] END max_depth=5, min_samples_leaf=2, min_samples_split=6, n_estimators=300;, score=0.900 total time=   7.1s\n",
      "[CV 3/5] END max_depth=5, min_samples_leaf=2, min_samples_split=6, n_estimators=300;, score=0.897 total time=   7.7s\n",
      "[CV 4/5] END max_depth=5, min_samples_leaf=2, min_samples_split=6, n_estimators=300;, score=0.907 total time=   7.5s\n",
      "[CV 5/5] END max_depth=5, min_samples_leaf=2, min_samples_split=6, n_estimators=300;, score=0.887 total time=   8.0s\n",
      "[CV 1/5] END max_depth=5, min_samples_leaf=2, min_samples_split=7, n_estimators=200;, score=0.888 total time=   5.2s\n",
      "[CV 2/5] END max_depth=5, min_samples_leaf=2, min_samples_split=7, n_estimators=200;, score=0.898 total time=   4.7s\n",
      "[CV 3/5] END max_depth=5, min_samples_leaf=2, min_samples_split=7, n_estimators=200;, score=0.892 total time=   4.8s\n",
      "[CV 4/5] END max_depth=5, min_samples_leaf=2, min_samples_split=7, n_estimators=200;, score=0.904 total time=   4.7s\n",
      "[CV 5/5] END max_depth=5, min_samples_leaf=2, min_samples_split=7, n_estimators=200;, score=0.887 total time=   4.7s\n",
      "[CV 1/5] END max_depth=5, min_samples_leaf=2, min_samples_split=7, n_estimators=300;, score=0.889 total time=   7.1s\n",
      "[CV 2/5] END max_depth=5, min_samples_leaf=2, min_samples_split=7, n_estimators=300;, score=0.899 total time=   7.1s\n",
      "[CV 3/5] END max_depth=5, min_samples_leaf=2, min_samples_split=7, n_estimators=300;, score=0.892 total time=   7.1s\n",
      "[CV 4/5] END max_depth=5, min_samples_leaf=2, min_samples_split=7, n_estimators=300;, score=0.905 total time=   7.1s\n",
      "[CV 5/5] END max_depth=5, min_samples_leaf=2, min_samples_split=7, n_estimators=300;, score=0.888 total time=   7.1s\n",
      "[CV 1/5] END max_depth=5, min_samples_leaf=3, min_samples_split=5, n_estimators=200;, score=0.891 total time=   4.7s\n",
      "[CV 2/5] END max_depth=5, min_samples_leaf=3, min_samples_split=5, n_estimators=200;, score=0.897 total time=   4.7s\n",
      "[CV 3/5] END max_depth=5, min_samples_leaf=3, min_samples_split=5, n_estimators=200;, score=0.889 total time=   4.7s\n",
      "[CV 4/5] END max_depth=5, min_samples_leaf=3, min_samples_split=5, n_estimators=200;, score=0.907 total time=   4.7s\n",
      "[CV 5/5] END max_depth=5, min_samples_leaf=3, min_samples_split=5, n_estimators=200;, score=0.881 total time=   4.7s\n",
      "[CV 1/5] END max_depth=5, min_samples_leaf=3, min_samples_split=5, n_estimators=300;, score=0.891 total time=   7.1s\n",
      "[CV 2/5] END max_depth=5, min_samples_leaf=3, min_samples_split=5, n_estimators=300;, score=0.898 total time=   7.6s\n",
      "[CV 3/5] END max_depth=5, min_samples_leaf=3, min_samples_split=5, n_estimators=300;, score=0.889 total time=   7.1s\n",
      "[CV 4/5] END max_depth=5, min_samples_leaf=3, min_samples_split=5, n_estimators=300;, score=0.906 total time=   7.1s\n",
      "[CV 5/5] END max_depth=5, min_samples_leaf=3, min_samples_split=5, n_estimators=300;, score=0.882 total time=   7.1s\n",
      "[CV 1/5] END max_depth=5, min_samples_leaf=3, min_samples_split=6, n_estimators=200;, score=0.891 total time=   4.7s\n",
      "[CV 2/5] END max_depth=5, min_samples_leaf=3, min_samples_split=6, n_estimators=200;, score=0.897 total time=   4.7s\n",
      "[CV 3/5] END max_depth=5, min_samples_leaf=3, min_samples_split=6, n_estimators=200;, score=0.889 total time=   4.7s\n",
      "[CV 4/5] END max_depth=5, min_samples_leaf=3, min_samples_split=6, n_estimators=200;, score=0.907 total time=   4.7s\n",
      "[CV 5/5] END max_depth=5, min_samples_leaf=3, min_samples_split=6, n_estimators=200;, score=0.881 total time=   4.8s\n",
      "[CV 1/5] END max_depth=5, min_samples_leaf=3, min_samples_split=6, n_estimators=300;, score=0.891 total time=   7.2s\n",
      "[CV 2/5] END max_depth=5, min_samples_leaf=3, min_samples_split=6, n_estimators=300;, score=0.898 total time=   7.1s\n",
      "[CV 3/5] END max_depth=5, min_samples_leaf=3, min_samples_split=6, n_estimators=300;, score=0.889 total time=   7.1s\n",
      "[CV 4/5] END max_depth=5, min_samples_leaf=3, min_samples_split=6, n_estimators=300;, score=0.906 total time=   7.5s\n",
      "[CV 5/5] END max_depth=5, min_samples_leaf=3, min_samples_split=6, n_estimators=300;, score=0.882 total time=   7.7s\n",
      "[CV 1/5] END max_depth=5, min_samples_leaf=3, min_samples_split=7, n_estimators=200;, score=0.886 total time=   5.1s\n",
      "[CV 2/5] END max_depth=5, min_samples_leaf=3, min_samples_split=7, n_estimators=200;, score=0.901 total time=   5.1s\n",
      "[CV 3/5] END max_depth=5, min_samples_leaf=3, min_samples_split=7, n_estimators=200;, score=0.894 total time=   5.2s\n",
      "[CV 4/5] END max_depth=5, min_samples_leaf=3, min_samples_split=7, n_estimators=200;, score=0.909 total time=   4.7s\n",
      "[CV 5/5] END max_depth=5, min_samples_leaf=3, min_samples_split=7, n_estimators=200;, score=0.881 total time=   4.7s\n",
      "[CV 1/5] END max_depth=5, min_samples_leaf=3, min_samples_split=7, n_estimators=300;, score=0.886 total time=   7.1s\n",
      "[CV 2/5] END max_depth=5, min_samples_leaf=3, min_samples_split=7, n_estimators=300;, score=0.901 total time=   7.1s\n",
      "[CV 3/5] END max_depth=5, min_samples_leaf=3, min_samples_split=7, n_estimators=300;, score=0.893 total time=   7.1s\n",
      "[CV 4/5] END max_depth=5, min_samples_leaf=3, min_samples_split=7, n_estimators=300;, score=0.909 total time=   7.1s\n",
      "[CV 5/5] END max_depth=5, min_samples_leaf=3, min_samples_split=7, n_estimators=300;, score=0.881 total time=   7.1s\n"
     ]
    },
    {
     "data": {
      "text/plain": [
       "GridSearchCV(cv=5,\n",
       "             estimator=GradientBoostingRegressor(max_depth=5,\n",
       "                                                 min_samples_leaf=5,\n",
       "                                                 n_estimators=400,\n",
       "                                                 random_state=78),\n",
       "             param_grid={'max_depth': [4, 5], 'min_samples_leaf': [2, 3],\n",
       "                         'min_samples_split': [5, 6, 7],\n",
       "                         'n_estimators': [200, 300]},\n",
       "             verbose=3)"
      ]
     },
     "execution_count": 120,
     "metadata": {},
     "output_type": "execute_result"
    }
   ],
   "source": [
    "grid_cv.fit(df_train_new[final_col],df_train_new['SalePrice'])"
   ]
  },
  {
   "cell_type": "code",
   "execution_count": 121,
   "id": "0edb904b",
   "metadata": {},
   "outputs": [
    {
     "data": {
      "text/plain": [
       "GradientBoostingRegressor(max_depth=4, min_samples_leaf=2, min_samples_split=5,\n",
       "                          n_estimators=200, random_state=78)"
      ]
     },
     "execution_count": 121,
     "metadata": {},
     "output_type": "execute_result"
    }
   ],
   "source": [
    "grid_cv.best_estimator_"
   ]
  },
  {
   "cell_type": "code",
   "execution_count": 122,
   "id": "cdd90198",
   "metadata": {},
   "outputs": [
    {
     "data": {
      "text/plain": [
       "{'max_depth': 4,\n",
       " 'min_samples_leaf': 2,\n",
       " 'min_samples_split': 5,\n",
       " 'n_estimators': 200}"
      ]
     },
     "execution_count": 122,
     "metadata": {},
     "output_type": "execute_result"
    }
   ],
   "source": [
    "grid_cv.best_params_"
   ]
  },
  {
   "cell_type": "code",
   "execution_count": 123,
   "id": "85a46030",
   "metadata": {},
   "outputs": [],
   "source": [
    "yp1=grid_cv.predict(df_test[final_col])"
   ]
  },
  {
   "cell_type": "code",
   "execution_count": 124,
   "id": "658507cd",
   "metadata": {},
   "outputs": [],
   "source": [
    "df_submission1 = pd.DataFrame({'Id':df_test['Id'], 'SalePrice':yp1})"
   ]
  },
  {
   "cell_type": "code",
   "execution_count": 125,
   "id": "b1603427",
   "metadata": {},
   "outputs": [],
   "source": [
    "df_submission1.to_csv('grid_house_gr02.csv', index=False)"
   ]
  },
  {
   "cell_type": "code",
   "execution_count": null,
   "id": "2975b6aa",
   "metadata": {},
   "outputs": [],
   "source": []
  },
  {
   "cell_type": "code",
   "execution_count": null,
   "id": "95dbaee7",
   "metadata": {},
   "outputs": [],
   "source": [
    "random_cv= RandomizedSearchCV(RandomForestRegressor(random_state=17), param_distributions=dict2,cv=5,verbose=2)"
   ]
  },
  {
   "cell_type": "code",
   "execution_count": null,
   "id": "200db639",
   "metadata": {},
   "outputs": [],
   "source": [
    "random_cv.fit(df_train[final_col],df_train['SalePrice'])"
   ]
  },
  {
   "cell_type": "code",
   "execution_count": null,
   "id": "b1429f1c",
   "metadata": {},
   "outputs": [],
   "source": []
  },
  {
   "cell_type": "code",
   "execution_count": null,
   "id": "eae8c642",
   "metadata": {},
   "outputs": [],
   "source": []
  },
  {
   "cell_type": "code",
   "execution_count": null,
   "id": "d30e522b",
   "metadata": {},
   "outputs": [],
   "source": [
    "yp2=random_cv.predict(df_test[final_col])"
   ]
  },
  {
   "cell_type": "code",
   "execution_count": null,
   "id": "ab186d1c",
   "metadata": {},
   "outputs": [],
   "source": [
    "df_submission2 = pd.DataFrame({'Id':df_test['Id'], 'SalePrice':yp2})"
   ]
  },
  {
   "cell_type": "code",
   "execution_count": null,
   "id": "b40f8c64",
   "metadata": {},
   "outputs": [],
   "source": [
    "df_submission2.to_csv('rand_house01.csv', index=False)"
   ]
  },
  {
   "cell_type": "code",
   "execution_count": null,
   "id": "20642ead",
   "metadata": {},
   "outputs": [],
   "source": []
  },
  {
   "cell_type": "code",
   "execution_count": null,
   "id": "3dca84e2",
   "metadata": {},
   "outputs": [],
   "source": [
    "from sklearn.svm import SVR"
   ]
  },
  {
   "cell_type": "code",
   "execution_count": null,
   "id": "38f42825",
   "metadata": {},
   "outputs": [],
   "source": []
  },
  {
   "cell_type": "code",
   "execution_count": null,
   "id": "c22c6c8c",
   "metadata": {},
   "outputs": [],
   "source": [
    "model_poly=SVR(kernel='poly')"
   ]
  },
  {
   "cell_type": "code",
   "execution_count": null,
   "id": "62a88d09",
   "metadata": {},
   "outputs": [],
   "source": [
    "model_poly.fit(df_train[final_col],df_train['SalePrice'])"
   ]
  },
  {
   "cell_type": "code",
   "execution_count": null,
   "id": "bc203b74",
   "metadata": {},
   "outputs": [],
   "source": [
    "yp3=model_poly.predict(df_test[final_col])"
   ]
  },
  {
   "cell_type": "code",
   "execution_count": null,
   "id": "0a03d0ae",
   "metadata": {},
   "outputs": [],
   "source": [
    "df_submission3 = pd.DataFrame({'Id':df_test['Id'], 'SalePrice':yp3})"
   ]
  },
  {
   "cell_type": "code",
   "execution_count": null,
   "id": "3c49635a",
   "metadata": {},
   "outputs": [],
   "source": [
    "df_submission3.to_csv('poly.csv', index=False)"
   ]
  },
  {
   "cell_type": "code",
   "execution_count": null,
   "id": "b7321571",
   "metadata": {},
   "outputs": [],
   "source": []
  },
  {
   "cell_type": "code",
   "execution_count": null,
   "id": "7092acbc",
   "metadata": {},
   "outputs": [],
   "source": [
    "model_rbf=SVR(kernel='rbf')"
   ]
  },
  {
   "cell_type": "code",
   "execution_count": null,
   "id": "98c76d97",
   "metadata": {},
   "outputs": [],
   "source": [
    "model_rbf.fit(df_train[final_col],df_train['SalePrice'])"
   ]
  },
  {
   "cell_type": "code",
   "execution_count": null,
   "id": "7972e380",
   "metadata": {},
   "outputs": [],
   "source": [
    "yp4=model_rbf.predict(df_test[final_col])"
   ]
  },
  {
   "cell_type": "code",
   "execution_count": null,
   "id": "c27d9884",
   "metadata": {},
   "outputs": [],
   "source": [
    "df_submission4 = pd.DataFrame({'Id':df_test['Id'], 'SalePrice':yp4})"
   ]
  },
  {
   "cell_type": "code",
   "execution_count": null,
   "id": "efd5ca60",
   "metadata": {},
   "outputs": [],
   "source": [
    "df_submission4.to_csv('rbf.csv', index=False)"
   ]
  },
  {
   "cell_type": "code",
   "execution_count": null,
   "id": "54150b6c",
   "metadata": {},
   "outputs": [],
   "source": []
  },
  {
   "cell_type": "code",
   "execution_count": null,
   "id": "84d97c53",
   "metadata": {},
   "outputs": [],
   "source": []
  },
  {
   "cell_type": "code",
   "execution_count": null,
   "id": "262bf22d",
   "metadata": {},
   "outputs": [],
   "source": [
    "from sklearn.tree import DecisionTreeRegressor"
   ]
  },
  {
   "cell_type": "code",
   "execution_count": null,
   "id": "503f9304",
   "metadata": {},
   "outputs": [],
   "source": [
    "model_dt=DecisionTreeRegressor(max_depth=2)"
   ]
  },
  {
   "cell_type": "code",
   "execution_count": null,
   "id": "95a9ffe1",
   "metadata": {},
   "outputs": [],
   "source": [
    "model_dt.fit(df_train[final_col],df_train['SalePrice'])"
   ]
  },
  {
   "cell_type": "code",
   "execution_count": null,
   "id": "bcb36e6b",
   "metadata": {},
   "outputs": [],
   "source": [
    "yp5=model_dt.predict(df_test[final_col])"
   ]
  },
  {
   "cell_type": "code",
   "execution_count": null,
   "id": "fbfc8ead",
   "metadata": {},
   "outputs": [],
   "source": [
    "df_submission5 = pd.DataFrame({'Id':df_test['Id'], 'SalePrice':yp5})"
   ]
  },
  {
   "cell_type": "code",
   "execution_count": null,
   "id": "55b8991f",
   "metadata": {},
   "outputs": [],
   "source": [
    "df_submission5.to_csv('dt.csv', index=False)"
   ]
  },
  {
   "cell_type": "code",
   "execution_count": null,
   "id": "37c207e5",
   "metadata": {},
   "outputs": [],
   "source": []
  },
  {
   "cell_type": "code",
   "execution_count": 29,
   "id": "6bb6346f",
   "metadata": {},
   "outputs": [],
   "source": [
    "from sklearn.ensemble import GradientBoostingRegressor"
   ]
  },
  {
   "cell_type": "code",
   "execution_count": 31,
   "id": "b4ce8774",
   "metadata": {},
   "outputs": [],
   "source": [
    "param_grid = [{'subsample':[0.45,0.5,0.55],'n_estimators':[1200,1400,2000], 'colsample_bytree':[0.4],\n",
    "              'colsample_bylevel':[0.5], 'reg_alpha':[1], 'reg_lambda':[1], 'min_child_weight':[2,4],}]"
   ]
  },
  {
   "cell_type": "code",
   "execution_count": 113,
   "id": "0a7d5332",
   "metadata": {},
   "outputs": [],
   "source": [
    "gbr = GradientBoostingRegressor(n_estimators =400, max_depth =5,min_samples_leaf=5,min_samples_split=2,learning_rate=0.1,random_state=78)"
   ]
  },
  {
   "cell_type": "code",
   "execution_count": 114,
   "id": "8d002430",
   "metadata": {},
   "outputs": [
    {
     "data": {
      "text/plain": [
       "GradientBoostingRegressor(max_depth=5, min_samples_leaf=5, n_estimators=400,\n",
       "                          random_state=78)"
      ]
     },
     "execution_count": 114,
     "metadata": {},
     "output_type": "execute_result"
    }
   ],
   "source": [
    "gbr.fit(df_train_new[final_col],df_train_new['SalePrice'])"
   ]
  },
  {
   "cell_type": "code",
   "execution_count": 115,
   "id": "664f5109",
   "metadata": {},
   "outputs": [],
   "source": [
    "yp6 = gbr.predict(df_test[final_col])"
   ]
  },
  {
   "cell_type": "code",
   "execution_count": 116,
   "id": "9581e61b",
   "metadata": {},
   "outputs": [],
   "source": [
    "df_submission6 = pd.DataFrame({'Id':df_test['Id'], 'SalePrice':yp6})"
   ]
  },
  {
   "cell_type": "code",
   "execution_count": 117,
   "id": "cf603cf2",
   "metadata": {},
   "outputs": [],
   "source": [
    "df_submission6.to_csv('gbr8.csv', index=False)"
   ]
  },
  {
   "cell_type": "code",
   "execution_count": null,
   "id": "75a286c7",
   "metadata": {},
   "outputs": [],
   "source": []
  },
  {
   "cell_type": "code",
   "execution_count": null,
   "id": "749aa6a0",
   "metadata": {},
   "outputs": [],
   "source": []
  },
  {
   "cell_type": "code",
   "execution_count": 34,
   "id": "dbc8efb2",
   "metadata": {},
   "outputs": [],
   "source": [
    "grid_cv1 = GridSearchCV(xgboost.XGBRFRegressor(), param_grid=param_grid,cv=5,verbose=3,n_jobs=-1)"
   ]
  },
  {
   "cell_type": "code",
   "execution_count": 35,
   "id": "656fc315",
   "metadata": {},
   "outputs": [
    {
     "name": "stdout",
     "output_type": "stream",
     "text": [
      "Fitting 5 folds for each of 18 candidates, totalling 90 fits\n"
     ]
    },
    {
     "data": {
      "text/plain": [
       "GridSearchCV(cv=5,\n",
       "             estimator=XGBRFRegressor(base_score=None, booster=None,\n",
       "                                      callbacks=None, colsample_bylevel=None,\n",
       "                                      colsample_bytree=None,\n",
       "                                      early_stopping_rounds=None,\n",
       "                                      enable_categorical=False,\n",
       "                                      eval_metric=None, feature_types=None,\n",
       "                                      gamma=None, gpu_id=None, grow_policy=None,\n",
       "                                      importance_type=None,\n",
       "                                      interaction_constraints=None,\n",
       "                                      max_bin=None, max_cat_threshold=None,\n",
       "                                      max_...\n",
       "                                      missing=nan, monotone_constraints=None,\n",
       "                                      n_estimators=100, n_jobs=None,\n",
       "                                      num_parallel_tree=None,\n",
       "                                      objective='reg:squarederror',\n",
       "                                      predictor=None, random_state=None,\n",
       "                                      reg_alpha=None, ...),\n",
       "             n_jobs=-1,\n",
       "             param_grid=[{'colsample_bylevel': [0.5], 'colsample_bytree': [0.4],\n",
       "                          'min_child_weight': [2, 4],\n",
       "                          'n_estimators': [1200, 1400, 2000], 'reg_alpha': [1],\n",
       "                          'reg_lambda': [1], 'subsample': [0.45, 0.5, 0.55]}],\n",
       "             verbose=3)"
      ]
     },
     "execution_count": 35,
     "metadata": {},
     "output_type": "execute_result"
    }
   ],
   "source": [
    "grid_cv1.fit(df_train_new[final_col],df_train_new['SalePrice'])"
   ]
  },
  {
   "cell_type": "code",
   "execution_count": 36,
   "id": "5153d5e2",
   "metadata": {},
   "outputs": [],
   "source": [
    "yp7=grid_cv1.predict(df_test[final_col])"
   ]
  },
  {
   "cell_type": "code",
   "execution_count": 37,
   "id": "33fa144c",
   "metadata": {},
   "outputs": [],
   "source": [
    "df_submission7 = pd.DataFrame({'Id':df_test['Id'], 'SalePrice':yp7})"
   ]
  },
  {
   "cell_type": "code",
   "execution_count": 38,
   "id": "795a84d9",
   "metadata": {},
   "outputs": [],
   "source": [
    "df_submission7.to_csv('xgb_gridcv00.csv', index=False)"
   ]
  },
  {
   "cell_type": "code",
   "execution_count": 39,
   "id": "6cc968d8",
   "metadata": {},
   "outputs": [
    {
     "data": {
      "text/plain": [
       "XGBRFRegressor(base_score=0.5, booster='gbtree', callbacks=None,\n",
       "               colsample_bylevel=0.5, colsample_bytree=0.4,\n",
       "               early_stopping_rounds=None, enable_categorical=False,\n",
       "               eval_metric=None, feature_types=None, gamma=0, gpu_id=-1,\n",
       "               grow_policy='depthwise', importance_type=None,\n",
       "               interaction_constraints='', max_bin=256, max_cat_threshold=64,\n",
       "               max_cat_to_onehot=4, max_delta_step=0, max_depth=6, max_leaves=0,\n",
       "               min_child_weight=2, missing=nan, monotone_constraints='()',\n",
       "               n_estimators=2000, n_jobs=0, num_parallel_tree=2000,\n",
       "               objective='reg:squarederror', predictor='auto', random_state=0,\n",
       "               reg_alpha=1, ...)"
      ]
     },
     "execution_count": 39,
     "metadata": {},
     "output_type": "execute_result"
    }
   ],
   "source": [
    "grid_cv1.best_estimator_"
   ]
  },
  {
   "cell_type": "code",
   "execution_count": null,
   "id": "d6dbd33a",
   "metadata": {},
   "outputs": [],
   "source": []
  },
  {
   "cell_type": "code",
   "execution_count": null,
   "id": "4b279919",
   "metadata": {},
   "outputs": [],
   "source": []
  },
  {
   "cell_type": "code",
   "execution_count": null,
   "id": "03730323",
   "metadata": {},
   "outputs": [],
   "source": []
  },
  {
   "cell_type": "code",
   "execution_count": 30,
   "id": "dfa7353e",
   "metadata": {},
   "outputs": [],
   "source": [
    "import xgboost"
   ]
  },
  {
   "cell_type": "code",
   "execution_count": 33,
   "id": "ac6d618d",
   "metadata": {},
   "outputs": [],
   "source": [
    "xgb_model = xgboost.XGBRFRegressor()"
   ]
  },
  {
   "cell_type": "code",
   "execution_count": 70,
   "id": "be10b4ec",
   "metadata": {},
   "outputs": [
    {
     "data": {
      "text/plain": [
       "XGBRFRegressor(base_score=0.5, booster='gbtree', callbacks=None,\n",
       "               colsample_bylevel=1, colsample_bytree=1,\n",
       "               early_stopping_rounds=None, enable_categorical=False,\n",
       "               eval_metric=None, feature_types=None, gamma=0, gpu_id=-1,\n",
       "               grow_policy='depthwise', importance_type=None,\n",
       "               interaction_constraints='', max_bin=256, max_cat_threshold=64,\n",
       "               max_cat_to_onehot=4, max_delta_step=0, max_depth=6, max_leaves=0,\n",
       "               min_child_weight=1, missing=nan, monotone_constraints='()',\n",
       "               n_estimators=100, n_jobs=0, num_parallel_tree=100,\n",
       "               objective='reg:squarederror', predictor='auto', random_state=0,\n",
       "               reg_alpha=0, ...)"
      ]
     },
     "execution_count": 70,
     "metadata": {},
     "output_type": "execute_result"
    }
   ],
   "source": [
    "xgb_model.fit(df_train_new[final_col],df_train_new['SalePrice'])"
   ]
  },
  {
   "cell_type": "code",
   "execution_count": 71,
   "id": "3c2aa3ef",
   "metadata": {},
   "outputs": [],
   "source": [
    "yp8=xgb_model.predict(df_test[final_col])"
   ]
  },
  {
   "cell_type": "code",
   "execution_count": 72,
   "id": "a263abff",
   "metadata": {},
   "outputs": [],
   "source": [
    "df_submission8 = pd.DataFrame({'Id':df_test['Id'], 'SalePrice':yp8})"
   ]
  },
  {
   "cell_type": "code",
   "execution_count": 73,
   "id": "6e5a52d9",
   "metadata": {},
   "outputs": [],
   "source": [
    "df_submission8.to_csv('xgb.csv', index=False)"
   ]
  },
  {
   "cell_type": "code",
   "execution_count": null,
   "id": "9abbba49",
   "metadata": {},
   "outputs": [],
   "source": []
  }
 ],
 "metadata": {
  "kernelspec": {
   "display_name": "Python 3 (ipykernel)",
   "language": "python",
   "name": "python3"
  },
  "language_info": {
   "codemirror_mode": {
    "name": "ipython",
    "version": 3
   },
   "file_extension": ".py",
   "mimetype": "text/x-python",
   "name": "python",
   "nbconvert_exporter": "python",
   "pygments_lexer": "ipython3",
   "version": "3.9.12"
  }
 },
 "nbformat": 4,
 "nbformat_minor": 5
}
