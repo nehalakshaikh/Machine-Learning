{
 "cells": [
  {
   "cell_type": "code",
   "execution_count": 1,
   "id": "3da72cd4",
   "metadata": {},
   "outputs": [],
   "source": [
    "import pandas as pd\n",
    "import matplotlib.pyplot as plt\n",
    "import seaborn as sb\n",
    "\n",
    "# pd.pandas.set_option('display.max_columns',None)"
   ]
  },
  {
   "cell_type": "code",
   "execution_count": 2,
   "id": "df82ed4e",
   "metadata": {},
   "outputs": [],
   "source": [
    "dict1={'MSSubClass'  :[\"\",\"NA\",'NaN'], 'MSZoning'    :[\"\",\"NA\",'NaN'], 'LotFrontage'  :[\"\",\"NA\",'NaN'], 'LotArea'      :[\"\",\"NA\",'NaN'],\n",
    "     'Street'      :[\"\",\"NA\",'NaN'], 'Alley'       :[\"\",\"NaN\"],      'LotShape'     :[\"\",\"NA\",\"NaN\"], 'LandContour'  :[\"\",\"NA\",'NaN'],\n",
    "     'Utilities'   :[\"\",\"NA\",'NaN'], 'LotConfig'   :[\"\",\"NA\",\"NaN\"], 'LandSlope'    :[\"\",\"NA\",\"NaN\"], 'Neighborhood' :[\"\",\"NA\",\"NaN\"],\n",
    "     'Condition1'  :[\"\",\"NA\",\"NaN\"], 'Condition2'  :[\"\",\"NA\",\"NaN\"], 'BldgType'     :[\"\",\"NA\",\"NaN\"], 'HouseStyle'   :[\"\",\"NA\",\"NaN\"],\n",
    "     'OverallQual' :[\"\",\"NA\",\"NaN\"], 'OverallCond' :[\"\",\"NA\",\"NaN\"], 'YearBuilt'    :[\"\",\"NA\",'NaN'], 'YearRemodAdd' :[\"\",\"NA\",'NaN'],\n",
    "     'RoofStyle'   :[\"\",\"NA\",'NaN'], 'RoofMatl'    :[\"\",\"NA\",'NaN'], 'Exterior1st'  :[\"\",\"NA\",'NaN'], 'Exterior2nd'  :[\"\",\"NA\",'NaN'],\n",
    "     'MasVnrType'  :[\"\",\"NA\",'NaN'], 'MasVnrArea'  :[\"\",\"NA\",'NaN'], 'ExterQual'    :[\"\",\"NA\",'NaN'], 'ExterCond'    :[\"\",\"NA\",'NaN'],\n",
    "     'Foundation'  :[\"\",\"NA\",'NaN'], 'BsmtQual'    :[\"\",'NaN'],      'BsmtCond'     :[\"\",'NaN'],      'BsmtExposure' :[\"\",'NaN'],\n",
    "     'BsmtFinType1':[\"\",'NaN'],      'BsmtFinType2':[\"\",'NaN'],      'BsmtFinSF1'   :[\"\",\"NA\",'NaN'], 'BsmtFinSF2'   :[\"\",\"NA\",'NaN'],\n",
    "     'BsmtUnfSF'   :[\"\",\"NA\",'NaN'], 'TotalBsmtSF' :[\"\",\"NA\",'NaN'], 'Heating'      :[\"\",\"NA\",'NaN'], 'HeatingQC'    :[\"\",\"NA\",'NaN'],\n",
    "     'CentralAir'  :[\"\",\"NA\",'NaN'], 'Electrical'  :[\"\",\"NA\",'NaN'], '1stFlrSF'     :[\"\",\"NA\",'NaN'], '2ndFlrSF'     :[\"\",\"NA\",'NaN'],\n",
    "     'LowQualFinSF':[\"\",\"NA\",'NaN'], 'GrLivArea'   :[\"\",\"NA\",'NaN'], 'BsmtFullBath' :[\"\",\"NA\",'NaN'], 'BsmtHalfBath' :[\"\",\"NA\",'NaN'],\n",
    "     'FullBath'    :[\"\",\"NA\",'NaN'], 'HalfBath'    :[\"\",\"NA\",'NaN'], 'Bedroom'      :[\"\",\"NA\",'NaN'], 'Kitchen'      :[\"\",\"NA\",'NaN'],\n",
    "     'KitchenQual' :[\"\",\"NA\",'NaN'], 'TotRmsAbvGrd':[\"\",\"NA\",'NaN'], 'Functional'   :[\"\",\"NA\",'NaN'], 'Fireplaces'   :[\"\",\"NA\",'NaN'],\n",
    "     'FireplaceQu' :[\"\",'NaN'],      'GarageType'  :[\"\",'NaN'],      'GarageYrBlt'  :[\"\",\"NA\",'NaN'], 'GarageFinish' :[\"\",'NaN'],\n",
    "     'GarageCars'  :[\"\",\"NA\",'NaN'], 'GarageArea'  :[\"\",\"NA\",'NaN'], 'GarageQual'   :[\"\",'NaN'],      'GarageCond'   :[\"\",'NaN'],\n",
    "     'PavedDrive'  :[\"\",\"NA\",'NaN'], 'WoodDeckSF'  :[\"\",\"NA\",'NaN'], 'OpenPorchSF'  :[\"\",\"NA\",'NaN'], 'EnclosedPorch':[\"\",\"NA\",'NaN'],\n",
    "     '3SsnPorch'   :[\"\",\"NA\",'NaN'], 'ScreenPorch' :[\"\",\"NA\",'NaN'], 'PoolArea'     :[\"\",\"NA\",\"NaN\"], 'PoolQC'       :[\"\",\"NaN\"],\n",
    "     'Fence'       :[\"\",\"NaN\"],      'MiscFeature' :[\"\",\"NaN\"],      'MiscVal'      :[\"\",\"NA\",\"NaN\"], 'MoSold'       :[\"\",\"NA\",\"NaN\"],\n",
    "     'YrSold'      :[\"\",\"NA\",\"NaN\"], 'SaleType'    :[\"\",\"NA\",\"NaN\"], 'SaleCondition':[\"\",\"NA\",\"NaN\"]\n",
    "     \n",
    "    }"
   ]
  },
  {
   "cell_type": "code",
   "execution_count": 3,
   "id": "a3673886",
   "metadata": {},
   "outputs": [],
   "source": [
    "df_train = pd.read_csv('train.csv', keep_default_na=False, na_values=dict1)\n",
    "df_test = pd.read_csv('test.csv', keep_default_na=False, na_values=dict1)"
   ]
  },
  {
   "cell_type": "markdown",
   "id": "4c0067e7",
   "metadata": {},
   "source": [
    "# EDA"
   ]
  },
  {
   "cell_type": "code",
   "execution_count": 4,
   "id": "28e39635",
   "metadata": {},
   "outputs": [
    {
     "data": {
      "text/html": [
       "<div>\n",
       "<style scoped>\n",
       "    .dataframe tbody tr th:only-of-type {\n",
       "        vertical-align: middle;\n",
       "    }\n",
       "\n",
       "    .dataframe tbody tr th {\n",
       "        vertical-align: top;\n",
       "    }\n",
       "\n",
       "    .dataframe thead th {\n",
       "        text-align: right;\n",
       "    }\n",
       "</style>\n",
       "<table border=\"1\" class=\"dataframe\">\n",
       "  <thead>\n",
       "    <tr style=\"text-align: right;\">\n",
       "      <th></th>\n",
       "      <th>Id</th>\n",
       "      <th>MSSubClass</th>\n",
       "      <th>MSZoning</th>\n",
       "      <th>LotFrontage</th>\n",
       "      <th>LotArea</th>\n",
       "      <th>Street</th>\n",
       "      <th>Alley</th>\n",
       "      <th>LotShape</th>\n",
       "      <th>LandContour</th>\n",
       "      <th>Utilities</th>\n",
       "      <th>...</th>\n",
       "      <th>PoolArea</th>\n",
       "      <th>PoolQC</th>\n",
       "      <th>Fence</th>\n",
       "      <th>MiscFeature</th>\n",
       "      <th>MiscVal</th>\n",
       "      <th>MoSold</th>\n",
       "      <th>YrSold</th>\n",
       "      <th>SaleType</th>\n",
       "      <th>SaleCondition</th>\n",
       "      <th>SalePrice</th>\n",
       "    </tr>\n",
       "  </thead>\n",
       "  <tbody>\n",
       "    <tr>\n",
       "      <th>0</th>\n",
       "      <td>1</td>\n",
       "      <td>60</td>\n",
       "      <td>RL</td>\n",
       "      <td>65.0</td>\n",
       "      <td>8450</td>\n",
       "      <td>Pave</td>\n",
       "      <td>NA</td>\n",
       "      <td>Reg</td>\n",
       "      <td>Lvl</td>\n",
       "      <td>AllPub</td>\n",
       "      <td>...</td>\n",
       "      <td>0</td>\n",
       "      <td>NA</td>\n",
       "      <td>NA</td>\n",
       "      <td>NA</td>\n",
       "      <td>0</td>\n",
       "      <td>2</td>\n",
       "      <td>2008</td>\n",
       "      <td>WD</td>\n",
       "      <td>Normal</td>\n",
       "      <td>208500</td>\n",
       "    </tr>\n",
       "    <tr>\n",
       "      <th>1</th>\n",
       "      <td>2</td>\n",
       "      <td>20</td>\n",
       "      <td>RL</td>\n",
       "      <td>80.0</td>\n",
       "      <td>9600</td>\n",
       "      <td>Pave</td>\n",
       "      <td>NA</td>\n",
       "      <td>Reg</td>\n",
       "      <td>Lvl</td>\n",
       "      <td>AllPub</td>\n",
       "      <td>...</td>\n",
       "      <td>0</td>\n",
       "      <td>NA</td>\n",
       "      <td>NA</td>\n",
       "      <td>NA</td>\n",
       "      <td>0</td>\n",
       "      <td>5</td>\n",
       "      <td>2007</td>\n",
       "      <td>WD</td>\n",
       "      <td>Normal</td>\n",
       "      <td>181500</td>\n",
       "    </tr>\n",
       "    <tr>\n",
       "      <th>2</th>\n",
       "      <td>3</td>\n",
       "      <td>60</td>\n",
       "      <td>RL</td>\n",
       "      <td>68.0</td>\n",
       "      <td>11250</td>\n",
       "      <td>Pave</td>\n",
       "      <td>NA</td>\n",
       "      <td>IR1</td>\n",
       "      <td>Lvl</td>\n",
       "      <td>AllPub</td>\n",
       "      <td>...</td>\n",
       "      <td>0</td>\n",
       "      <td>NA</td>\n",
       "      <td>NA</td>\n",
       "      <td>NA</td>\n",
       "      <td>0</td>\n",
       "      <td>9</td>\n",
       "      <td>2008</td>\n",
       "      <td>WD</td>\n",
       "      <td>Normal</td>\n",
       "      <td>223500</td>\n",
       "    </tr>\n",
       "    <tr>\n",
       "      <th>3</th>\n",
       "      <td>4</td>\n",
       "      <td>70</td>\n",
       "      <td>RL</td>\n",
       "      <td>60.0</td>\n",
       "      <td>9550</td>\n",
       "      <td>Pave</td>\n",
       "      <td>NA</td>\n",
       "      <td>IR1</td>\n",
       "      <td>Lvl</td>\n",
       "      <td>AllPub</td>\n",
       "      <td>...</td>\n",
       "      <td>0</td>\n",
       "      <td>NA</td>\n",
       "      <td>NA</td>\n",
       "      <td>NA</td>\n",
       "      <td>0</td>\n",
       "      <td>2</td>\n",
       "      <td>2006</td>\n",
       "      <td>WD</td>\n",
       "      <td>Abnorml</td>\n",
       "      <td>140000</td>\n",
       "    </tr>\n",
       "    <tr>\n",
       "      <th>4</th>\n",
       "      <td>5</td>\n",
       "      <td>60</td>\n",
       "      <td>RL</td>\n",
       "      <td>84.0</td>\n",
       "      <td>14260</td>\n",
       "      <td>Pave</td>\n",
       "      <td>NA</td>\n",
       "      <td>IR1</td>\n",
       "      <td>Lvl</td>\n",
       "      <td>AllPub</td>\n",
       "      <td>...</td>\n",
       "      <td>0</td>\n",
       "      <td>NA</td>\n",
       "      <td>NA</td>\n",
       "      <td>NA</td>\n",
       "      <td>0</td>\n",
       "      <td>12</td>\n",
       "      <td>2008</td>\n",
       "      <td>WD</td>\n",
       "      <td>Normal</td>\n",
       "      <td>250000</td>\n",
       "    </tr>\n",
       "  </tbody>\n",
       "</table>\n",
       "<p>5 rows × 81 columns</p>\n",
       "</div>"
      ],
      "text/plain": [
       "   Id  MSSubClass MSZoning  LotFrontage  LotArea Street Alley LotShape  \\\n",
       "0   1          60       RL         65.0     8450   Pave    NA      Reg   \n",
       "1   2          20       RL         80.0     9600   Pave    NA      Reg   \n",
       "2   3          60       RL         68.0    11250   Pave    NA      IR1   \n",
       "3   4          70       RL         60.0     9550   Pave    NA      IR1   \n",
       "4   5          60       RL         84.0    14260   Pave    NA      IR1   \n",
       "\n",
       "  LandContour Utilities  ... PoolArea PoolQC Fence MiscFeature MiscVal MoSold  \\\n",
       "0         Lvl    AllPub  ...        0     NA    NA          NA       0      2   \n",
       "1         Lvl    AllPub  ...        0     NA    NA          NA       0      5   \n",
       "2         Lvl    AllPub  ...        0     NA    NA          NA       0      9   \n",
       "3         Lvl    AllPub  ...        0     NA    NA          NA       0      2   \n",
       "4         Lvl    AllPub  ...        0     NA    NA          NA       0     12   \n",
       "\n",
       "  YrSold  SaleType  SaleCondition  SalePrice  \n",
       "0   2008        WD         Normal     208500  \n",
       "1   2007        WD         Normal     181500  \n",
       "2   2008        WD         Normal     223500  \n",
       "3   2006        WD        Abnorml     140000  \n",
       "4   2008        WD         Normal     250000  \n",
       "\n",
       "[5 rows x 81 columns]"
      ]
     },
     "execution_count": 4,
     "metadata": {},
     "output_type": "execute_result"
    }
   ],
   "source": [
    "df_train.head()"
   ]
  },
  {
   "cell_type": "code",
   "execution_count": 5,
   "id": "26ff5cab",
   "metadata": {},
   "outputs": [
    {
     "data": {
      "text/plain": [
       "LotFrontage    259\n",
       "MasVnrType       8\n",
       "MasVnrArea       8\n",
       "Electrical       1\n",
       "GarageYrBlt     81\n",
       "dtype: int64"
      ]
     },
     "execution_count": 5,
     "metadata": {},
     "output_type": "execute_result"
    }
   ],
   "source": [
    "df_train.isna().sum()[df_train.isna().sum()>0]"
   ]
  },
  {
   "cell_type": "code",
   "execution_count": 6,
   "id": "8c965e96",
   "metadata": {},
   "outputs": [
    {
     "data": {
      "text/plain": [
       "MSZoning          4\n",
       "LotFrontage     227\n",
       "Utilities         2\n",
       "Exterior1st       1\n",
       "Exterior2nd       1\n",
       "MasVnrType       16\n",
       "MasVnrArea       15\n",
       "BsmtFinSF1        1\n",
       "BsmtFinSF2        1\n",
       "BsmtUnfSF         1\n",
       "TotalBsmtSF       1\n",
       "BsmtFullBath      2\n",
       "BsmtHalfBath      2\n",
       "KitchenQual       1\n",
       "Functional        2\n",
       "GarageYrBlt      78\n",
       "GarageCars        1\n",
       "GarageArea        1\n",
       "SaleType          1\n",
       "dtype: int64"
      ]
     },
     "execution_count": 6,
     "metadata": {},
     "output_type": "execute_result"
    }
   ],
   "source": [
    "df_test.isna().sum()[df_test.isna().sum()>0]"
   ]
  },
  {
   "cell_type": "code",
   "execution_count": null,
   "id": "982ba70d",
   "metadata": {},
   "outputs": [],
   "source": []
  },
  {
   "cell_type": "code",
   "execution_count": null,
   "id": "f41ce975",
   "metadata": {},
   "outputs": [],
   "source": []
  },
  {
   "cell_type": "markdown",
   "id": "c15066a3",
   "metadata": {},
   "source": [
    "# simple imputer"
   ]
  },
  {
   "cell_type": "code",
   "execution_count": 7,
   "id": "c1071c46",
   "metadata": {},
   "outputs": [],
   "source": [
    "from sklearn.impute import SimpleImputer"
   ]
  },
  {
   "cell_type": "code",
   "execution_count": 8,
   "id": "157ab58a",
   "metadata": {},
   "outputs": [],
   "source": [
    "num_cols = list(df_train.select_dtypes(exclude='object').columns)\n",
    "num_cols.remove('Id')\n",
    "num_cols.remove('SalePrice')"
   ]
  },
  {
   "cell_type": "code",
   "execution_count": 9,
   "id": "7562fd1b",
   "metadata": {},
   "outputs": [
    {
     "data": {
      "text/plain": [
       "MSSubClass         15\n",
       "LotFrontage       110\n",
       "LotArea          1073\n",
       "OverallQual        10\n",
       "OverallCond         9\n",
       "YearBuilt         112\n",
       "YearRemodAdd       61\n",
       "MasVnrArea        327\n",
       "BsmtFinSF1        637\n",
       "BsmtFinSF2        144\n",
       "BsmtUnfSF         780\n",
       "TotalBsmtSF       721\n",
       "1stFlrSF          753\n",
       "2ndFlrSF          417\n",
       "LowQualFinSF       24\n",
       "GrLivArea         861\n",
       "BsmtFullBath        4\n",
       "BsmtHalfBath        3\n",
       "FullBath            4\n",
       "HalfBath            3\n",
       "BedroomAbvGr        8\n",
       "KitchenAbvGr        4\n",
       "TotRmsAbvGrd       12\n",
       "Fireplaces          4\n",
       "GarageYrBlt        97\n",
       "GarageCars          5\n",
       "GarageArea        441\n",
       "WoodDeckSF        274\n",
       "OpenPorchSF       202\n",
       "EnclosedPorch     120\n",
       "3SsnPorch          20\n",
       "ScreenPorch        76\n",
       "PoolArea            8\n",
       "MiscVal            21\n",
       "MoSold             12\n",
       "YrSold              5\n",
       "dtype: int64"
      ]
     },
     "execution_count": 9,
     "metadata": {},
     "output_type": "execute_result"
    }
   ],
   "source": [
    "df_train[num_cols].nunique()"
   ]
  },
  {
   "cell_type": "code",
   "execution_count": 10,
   "id": "a590fd3e",
   "metadata": {},
   "outputs": [],
   "source": [
    "dis_col = list(df_train[num_cols].nunique()[df_train[num_cols].nunique() <= 120].index)\n",
    "con_col = list(df_train[num_cols].nunique()[df_train[num_cols].nunique() > 120].index)"
   ]
  },
  {
   "cell_type": "code",
   "execution_count": 11,
   "id": "0549d209",
   "metadata": {},
   "outputs": [],
   "source": [
    "cat_cols = list(df_train.select_dtypes(include='object').columns)\n"
   ]
  },
  {
   "cell_type": "code",
   "execution_count": 12,
   "id": "0933b6cc",
   "metadata": {
    "scrolled": true
   },
   "outputs": [
    {
     "name": "stdout",
     "output_type": "stream",
     "text": [
      "['LotArea', 'MasVnrArea', 'BsmtFinSF1', 'BsmtFinSF2', 'BsmtUnfSF', 'TotalBsmtSF', '1stFlrSF', '2ndFlrSF', 'GrLivArea', 'GarageArea', 'WoodDeckSF', 'OpenPorchSF']\n"
     ]
    }
   ],
   "source": [
    "print(con_col)"
   ]
  },
  {
   "cell_type": "code",
   "execution_count": 13,
   "id": "ef96ea37",
   "metadata": {},
   "outputs": [
    {
     "name": "stdout",
     "output_type": "stream",
     "text": [
      "['MSSubClass', 'LotFrontage', 'OverallQual', 'OverallCond', 'YearBuilt', 'YearRemodAdd', 'LowQualFinSF', 'BsmtFullBath', 'BsmtHalfBath', 'FullBath', 'HalfBath', 'BedroomAbvGr', 'KitchenAbvGr', 'TotRmsAbvGrd', 'Fireplaces', 'GarageYrBlt', 'GarageCars', 'EnclosedPorch', '3SsnPorch', 'ScreenPorch', 'PoolArea', 'MiscVal', 'MoSold', 'YrSold']\n"
     ]
    }
   ],
   "source": [
    "print(dis_col)"
   ]
  },
  {
   "cell_type": "code",
   "execution_count": 14,
   "id": "58e5e461",
   "metadata": {},
   "outputs": [
    {
     "name": "stdout",
     "output_type": "stream",
     "text": [
      "['MSZoning', 'Street', 'Alley', 'LotShape', 'LandContour', 'Utilities', 'LotConfig', 'LandSlope', 'Neighborhood', 'Condition1', 'Condition2', 'BldgType', 'HouseStyle', 'RoofStyle', 'RoofMatl', 'Exterior1st', 'Exterior2nd', 'MasVnrType', 'ExterQual', 'ExterCond', 'Foundation', 'BsmtQual', 'BsmtCond', 'BsmtExposure', 'BsmtFinType1', 'BsmtFinType2', 'Heating', 'HeatingQC', 'CentralAir', 'Electrical', 'KitchenQual', 'Functional', 'FireplaceQu', 'GarageType', 'GarageFinish', 'GarageQual', 'GarageCond', 'PavedDrive', 'PoolQC', 'Fence', 'MiscFeature', 'SaleType', 'SaleCondition']\n"
     ]
    }
   ],
   "source": [
    "print(cat_cols)"
   ]
  },
  {
   "cell_type": "code",
   "execution_count": null,
   "id": "7f67b1d9",
   "metadata": {},
   "outputs": [],
   "source": []
  },
  {
   "cell_type": "code",
   "execution_count": 17,
   "id": "43ed8e16",
   "metadata": {},
   "outputs": [],
   "source": [
    "imputer_con=SimpleImputer(strategy='median')\n",
    "imputer_dis=SimpleImputer(strategy='most_frequent')\n",
    "imputer_cat=SimpleImputer(strategy='most_frequent')\n",
    "\n",
    "imputer_con.fit(df_train[num_cols])\n",
    "# imputer_dis.fit(df_train[dis_col])\n",
    "imputer_cat.fit(df_train[cat_cols])\n",
    "\n",
    "df_train[num_cols]=imputer_con.transform(df_train[num_cols])\n",
    "# df_train[dis_col]=imputer_dis.transform(df_train[dis_col])\n",
    "df_train[cat_cols]=imputer_cat.transform(df_train[cat_cols])\n",
    "\n",
    "df_test[num_cols]=imputer_con.transform(df_test[num_cols])\n",
    "# df_test[dis_col]=imputer_dis.transform(df_test[dis_col])\n",
    "df_test[cat_cols]=imputer_cat.transform(df_test[cat_cols])\n"
   ]
  },
  {
   "cell_type": "markdown",
   "id": "3973620e",
   "metadata": {},
   "source": [
    "# EDA"
   ]
  },
  {
   "cell_type": "code",
   "execution_count": 18,
   "id": "ce3db96a",
   "metadata": {},
   "outputs": [
    {
     "data": {
      "text/plain": [
       "0"
      ]
     },
     "execution_count": 18,
     "metadata": {},
     "output_type": "execute_result"
    }
   ],
   "source": [
    "df_train.isna().sum().sum()"
   ]
  },
  {
   "cell_type": "code",
   "execution_count": 19,
   "id": "26cacd6c",
   "metadata": {},
   "outputs": [],
   "source": [
    "# plt.hist(df_train['SalePrice'])"
   ]
  },
  {
   "cell_type": "code",
   "execution_count": 20,
   "id": "990db851",
   "metadata": {},
   "outputs": [],
   "source": [
    "# plt.hist(df_train['LotFrontage'])"
   ]
  },
  {
   "cell_type": "code",
   "execution_count": 21,
   "id": "576326eb",
   "metadata": {},
   "outputs": [],
   "source": [
    "# plt.hist(df_train['LotArea'])"
   ]
  },
  {
   "cell_type": "code",
   "execution_count": 22,
   "id": "cd8353f3",
   "metadata": {},
   "outputs": [
    {
     "data": {
      "text/plain": [
       "10516.828082191782"
      ]
     },
     "execution_count": 22,
     "metadata": {},
     "output_type": "execute_result"
    }
   ],
   "source": [
    "df_train['LotArea'].mean()"
   ]
  },
  {
   "cell_type": "code",
   "execution_count": 23,
   "id": "5b5a05a0",
   "metadata": {},
   "outputs": [
    {
     "data": {
      "text/plain": [
       "12"
      ]
     },
     "execution_count": 23,
     "metadata": {},
     "output_type": "execute_result"
    }
   ],
   "source": [
    "df_train['TotRmsAbvGrd'].nunique()"
   ]
  },
  {
   "cell_type": "code",
   "execution_count": 24,
   "id": "8c8398ed",
   "metadata": {},
   "outputs": [],
   "source": [
    "# df_train.head()"
   ]
  },
  {
   "cell_type": "code",
   "execution_count": 25,
   "id": "8b79019f",
   "metadata": {},
   "outputs": [
    {
     "data": {
      "text/plain": [
       "Index(['MSZoning', 'Street', 'Alley', 'LotShape', 'LandContour', 'Utilities',\n",
       "       'LotConfig', 'LandSlope', 'Neighborhood', 'Condition1', 'Condition2',\n",
       "       'BldgType', 'HouseStyle', 'RoofStyle', 'RoofMatl', 'Exterior1st',\n",
       "       'Exterior2nd', 'MasVnrType', 'ExterQual', 'ExterCond', 'Foundation',\n",
       "       'BsmtQual', 'BsmtCond', 'BsmtExposure', 'BsmtFinType1', 'BsmtFinType2',\n",
       "       'Heating', 'HeatingQC', 'CentralAir', 'Electrical', 'KitchenQual',\n",
       "       'Functional', 'FireplaceQu', 'GarageType', 'GarageFinish', 'GarageQual',\n",
       "       'GarageCond', 'PavedDrive', 'PoolQC', 'Fence', 'MiscFeature',\n",
       "       'SaleType', 'SaleCondition'],\n",
       "      dtype='object')"
      ]
     },
     "execution_count": 25,
     "metadata": {},
     "output_type": "execute_result"
    }
   ],
   "source": [
    "df_train[cat_cols].columns"
   ]
  },
  {
   "cell_type": "code",
   "execution_count": 26,
   "id": "2dc0dfb0",
   "metadata": {},
   "outputs": [],
   "source": [
    "oe_col = ['LotShape','Utilities','HouseStyle','ExterQual','ExterCond',\n",
    "          'BsmtQual','BsmtCond','BsmtExposure','BsmtFinType1','BsmtFinType2','HeatingQC','Electrical',\n",
    "         'KitchenQual','Functional','FireplaceQu','GarageFinish','GarageQual','GarageCond',\n",
    "          'PavedDrive','PoolQC','Fence']"
   ]
  },
  {
   "cell_type": "code",
   "execution_count": 27,
   "id": "a00b7b1d",
   "metadata": {},
   "outputs": [],
   "source": [
    "ohe_col = ['MSZoning', 'Street', 'Alley', 'LandContour', \n",
    "       'LotConfig', 'LandSlope', 'Neighborhood', 'Condition1', 'Condition2','BldgType',\n",
    "       'HouseStyle', 'RoofStyle', 'RoofMatl', 'Exterior1st',\n",
    "       'Exterior2nd', 'MasVnrType', 'ExterQual', 'ExterCond', 'Foundation',\n",
    "       'Heating', 'CentralAir', 'GarageType',  'MiscFeature',\n",
    "       'SaleType', 'SaleCondition']"
   ]
  },
  {
   "cell_type": "code",
   "execution_count": 28,
   "id": "39441898",
   "metadata": {},
   "outputs": [
    {
     "data": {
      "text/plain": [
       "21"
      ]
     },
     "execution_count": 28,
     "metadata": {},
     "output_type": "execute_result"
    }
   ],
   "source": [
    "len(oe_col)"
   ]
  },
  {
   "cell_type": "code",
   "execution_count": 29,
   "id": "333f6370",
   "metadata": {},
   "outputs": [],
   "source": [
    "# df_train.head()"
   ]
  },
  {
   "cell_type": "markdown",
   "id": "a5a84dcf",
   "metadata": {},
   "source": [
    "# Binning"
   ]
  },
  {
   "cell_type": "code",
   "execution_count": 30,
   "id": "b1344f1d",
   "metadata": {},
   "outputs": [],
   "source": [
    "# plt.hist(df_train['GarageArea'],bins=10)"
   ]
  },
  {
   "cell_type": "code",
   "execution_count": 31,
   "id": "9e964fbb",
   "metadata": {},
   "outputs": [],
   "source": [
    "df_train['MSSubClass']=pd.cut(df_train['MSSubClass'],\n",
    "                             bins=[20.,  54.,  88., 122., 156., 190.],\n",
    "                             labels=[0,1,2,3,4], include_lowest=True)\n",
    "\n",
    "df_test['MSSubClass']=pd.cut(df_test['MSSubClass'],\n",
    "                             bins=[20.,  54.,  88., 122., 156., 190.],\n",
    "                             labels=[0,1,2,3,4], include_lowest=True)"
   ]
  },
  {
   "cell_type": "code",
   "execution_count": 32,
   "id": "f09f2755",
   "metadata": {},
   "outputs": [],
   "source": [
    "df_train['LotArea']=pd.cut(df_train['LotArea'],\n",
    "                             bins=[1.,  6983., 12496., 18009., 23522.,df_train['LotArea'].max()],\n",
    "                             labels=[0,1,2,3,4], include_lowest=True)\n",
    "\n",
    "df_test['LotArea']=pd.cut(df_test['LotArea'],\n",
    "                             bins=[1470.,  6983., 12496., 18009., 23522.,df_test['LotArea'].max()],\n",
    "                             labels=[0,1,2,3,4], include_lowest=True)"
   ]
  },
  {
   "cell_type": "code",
   "execution_count": 33,
   "id": "4e571786",
   "metadata": {},
   "outputs": [],
   "source": [
    "df_train['LotFrontage']=pd.cut(df_train['LotFrontage'],\n",
    "                             bins=[21. ,  35.6,  50.2,  64.8,  79.4,  94. ,\n",
    "                                   108.6, 123.2, 137.8, 152.4, 313.],\n",
    "                             labels=[0,1,2,3,4,5,6,7,8,9], include_lowest=True)\n",
    "\n",
    "df_test['LotFrontage']=pd.cut(df_test['LotFrontage'],\n",
    "                             bins=[21. ,  35.6,  50.2,  64.8,  79.4,  94. ,\n",
    "                                   108.6, 123.2, 137.8, 152.4, 313.],\n",
    "                             labels=[0,1,2,3,4,5,6,7,8,9], include_lowest=True)"
   ]
  },
  {
   "cell_type": "code",
   "execution_count": 34,
   "id": "9533601d",
   "metadata": {},
   "outputs": [],
   "source": [
    "df_train['MasVnrArea']=pd.cut(df_train['MasVnrArea'],\n",
    "                             bins=[ 0.,  160.,  320.,  480.,  640., 1600.],\n",
    "                             labels=[0,1,2,3,4], include_lowest=True)\n",
    "\n",
    "df_test['LotFrontage']=pd.cut(df_test['LotFrontage'],\n",
    "                             bins=[ 0.,  160.,  320.,  480.,  640., 1600.],\n",
    "                             labels=[0,1,2,3,4], include_lowest=True)"
   ]
  },
  {
   "cell_type": "code",
   "execution_count": 35,
   "id": "7a3d9222",
   "metadata": {},
   "outputs": [],
   "source": [
    "df_train['BsmtFinSF1']=pd.cut(df_train['BsmtFinSF1'],\n",
    "                             bins=[  0. ,  564.4, 1128.8, 1693.2, 2257.6, 5644.],\n",
    "                             labels=[0,1,2,3,4], include_lowest=True)\n",
    "\n",
    "df_test['BsmtFinSF1']=pd.cut(df_test['BsmtFinSF1'],\n",
    "                             bins=[ 0. ,  564.4, 1128.8, 1693.2, 2257.6, 5644.],\n",
    "                             labels=[0,1,2,3,4], include_lowest=True)"
   ]
  },
  {
   "cell_type": "code",
   "execution_count": 36,
   "id": "4f082f53",
   "metadata": {},
   "outputs": [],
   "source": [
    "df_train['BsmtUnfSF']=pd.cut(df_train['BsmtUnfSF'],\n",
    "                             bins=[  0. ,  233.6,  467.2,  700.8,  934.4, 1168. , 1401.6, 1635.2,\n",
    "        1868.8, 2102.4, 2336. ],\n",
    "                             labels=[0,1,2,3,4,5,6,7,8,9], include_lowest=True)\n",
    "\n",
    "df_test['BsmtUnfSF']=pd.cut(df_test['BsmtUnfSF'],\n",
    "                             bins=[ 0. ,  233.6,  467.2,  700.8,  934.4, 1168. , 1401.6, 1635.2,\n",
    "        1868.8, 2102.4, 2336. ],\n",
    "                             labels=[0,1,2,3,4,5,6,7,8,9], include_lowest=True)"
   ]
  },
  {
   "cell_type": "code",
   "execution_count": 37,
   "id": "1c4a8cb0",
   "metadata": {},
   "outputs": [],
   "source": [
    "df_train['TotalBsmtSF']=pd.cut(df_train['TotalBsmtSF'],\n",
    "                             bins=[ 0. ,  233.6,  467.2,  700.8,  934.4, 1168. , 1401.6, 1635.2,\n",
    "        1868.8, 2102.4, df_train['TotalBsmtSF'].max()],\n",
    "                             labels=[0,1,2,3,4,5,6,7,8,9], include_lowest=True)\n",
    "\n",
    "df_test['TotalBsmtSF']=pd.cut(df_test['TotalBsmtSF'],\n",
    "                             bins=[  0. ,  233.6,  467.2,  700.8,  934.4, 1168. , 1401.6, 1635.2,\n",
    "        1868.8, 2102.4, 10000.],\n",
    "                             labels=[0,1,2,3,4,5,6,7,8,9], include_lowest=True)"
   ]
  },
  {
   "cell_type": "code",
   "execution_count": 38,
   "id": "e63bbf8e",
   "metadata": {},
   "outputs": [],
   "source": [
    "df_train['1stFlrSF']=pd.cut(df_train['1stFlrSF'],\n",
    "                             bins=[ 1 ,  769.8, 1205.6, 1641.4, 2077.2, 2513., df_train['1stFlrSF'].max()   ],\n",
    "                             labels=[0,1,2,3,4,5], include_lowest=True)\n",
    "\n",
    "df_test['1stFlrSF']=pd.cut(df_test['1stFlrSF'],\n",
    "                             bins=[ 0 ,  769.8, 1205.6, 1641.4, 2077.2, 2513., 10000. ],\n",
    "                             labels=[0,1,2,3,4,5], include_lowest=True)"
   ]
  },
  {
   "cell_type": "code",
   "execution_count": 39,
   "id": "6fb17eae",
   "metadata": {},
   "outputs": [],
   "source": [
    "df_train['2ndFlrSF']=pd.cut(df_train['2ndFlrSF'],\n",
    "                             bins=[ 0.,  413.,  826., 1239., 1652., 2065.   ],\n",
    "                             labels=[0,1,2,3,4], include_lowest=True)\n",
    "\n",
    "df_test['2ndFlrSF']=pd.cut(df_test['2ndFlrSF'],\n",
    "                             bins=[   0.,  413.,  826., 1239., 1652., 2065. ],\n",
    "                             labels=[0,1,2,3,4], include_lowest=True)"
   ]
  },
  {
   "cell_type": "code",
   "execution_count": 40,
   "id": "20792168",
   "metadata": {},
   "outputs": [],
   "source": [
    "df_train['GrLivArea']=pd.cut(df_train['GrLivArea'],\n",
    "                             bins=[  334. ,  864.8, 1926.4, 2457.2, 2988. , 3518.8,  5642.   ],\n",
    "                             labels=[0,1,2,3,4,5], include_lowest=True)\n",
    "\n",
    "df_test['GrLivArea']=pd.cut(df_test['GrLivArea'],\n",
    "                             bins=[  334.,  864.8, 1926.4, 2457.2, 2988. , 3518.8,  5642.  ],\n",
    "                             labels=[0,1,2,3,4,5], include_lowest=True)"
   ]
  },
  {
   "cell_type": "code",
   "execution_count": 41,
   "id": "e63eaaa1",
   "metadata": {},
   "outputs": [],
   "source": [
    "df_train['GarageArea']=pd.cut(df_train['GarageArea'],\n",
    "                             bins=[ 0. ,  141.8,  283.6,  425.4,  567.2,  709. ,  850.8,  992.6,\n",
    "        1134.4, 1418.  ],\n",
    "                             labels=[0,1,2,3,4,5,6,7,8], include_lowest=True)\n",
    "\n",
    "df_test['GarageArea']=pd.cut(df_test['GarageArea'],\n",
    "                             bins=[   0. ,  141.8,  283.6,  425.4,  567.2,  709. ,  850.8,  992.6,\n",
    "        1134.4, df_test['GarageArea'].max()],\n",
    "                             labels=[0,1,2,3,4,5,6,7,8], include_lowest=True)"
   ]
  },
  {
   "cell_type": "code",
   "execution_count": 42,
   "id": "d7a8440d",
   "metadata": {},
   "outputs": [
    {
     "data": {
      "text/plain": [
       "0"
      ]
     },
     "execution_count": 42,
     "metadata": {},
     "output_type": "execute_result"
    }
   ],
   "source": [
    "df_train.isna().sum().sum()"
   ]
  },
  {
   "cell_type": "code",
   "execution_count": 43,
   "id": "ac1b515b",
   "metadata": {},
   "outputs": [
    {
     "data": {
      "text/plain": [
       "0"
      ]
     },
     "execution_count": 43,
     "metadata": {},
     "output_type": "execute_result"
    }
   ],
   "source": [
    "df_test.isna().sum().sum()"
   ]
  },
  {
   "cell_type": "code",
   "execution_count": 44,
   "id": "9b50ecaa",
   "metadata": {},
   "outputs": [],
   "source": [
    "ohe_col.extend(['MSSubClass','LotArea','LotFrontage','MasVnrArea','BsmtFinSF1','BsmtUnfSF','TotalBsmtSF','1stFlrSF','2ndFlrSF','GrLivArea','GarageArea'])"
   ]
  },
  {
   "cell_type": "markdown",
   "id": "21a2a022",
   "metadata": {},
   "source": [
    "# feature encoding"
   ]
  },
  {
   "cell_type": "code",
   "execution_count": 45,
   "id": "d1f99f4c",
   "metadata": {},
   "outputs": [],
   "source": [
    "from sklearn.preprocessing import OneHotEncoder, LabelEncoder, OrdinalEncoder"
   ]
  },
  {
   "cell_type": "code",
   "execution_count": 46,
   "id": "831dc726",
   "metadata": {},
   "outputs": [],
   "source": [
    "oe = OrdinalEncoder(categories=[['Reg','IR1','IR2','IR3'],\n",
    "                                ['AllPub','NoSewr','NoSeWa','ELO'],\n",
    "                                ['1Story','1.5Fin','1.5Unf','2Story','2.5Fin','2.5Unf','SFoyer','SLvl'],\n",
    "                                ['Ex','Gd','TA','Fa','Po'],\n",
    "                                ['Ex','Gd','TA','Fa','Po'],\n",
    "                                ['Ex','Gd','TA','Fa','Po','NA'],\n",
    "                                ['Ex','Gd','TA','Fa','Po','NA'],\n",
    "                                ['Gd','Av','Mn','No','NA'],\n",
    "                                ['GLQ','ALQ','BLQ','Rec','LwQ','Unf','NA'],\n",
    "                                ['GLQ','ALQ','BLQ','Rec','LwQ','Unf','NA'],\n",
    "                                ['Ex','Gd','TA','Fa','Po'],\n",
    "                                ['SBrkr','FuseA','FuseF','FuseP','Mix'],\n",
    "                                ['Ex','Gd','TA','Fa','Po'],\n",
    "                                ['Typ','Min1','Min2','Mod','Maj1','Maj2','Sev','Sal'],\n",
    "                                ['Ex','Gd','TA','Fa','Po','NA'],\n",
    "                                ['Fin','RFn','Unf','NA'],\n",
    "                                ['Ex','Gd','TA','Fa','Po','NA'],\n",
    "                                ['Ex','Gd','TA','Fa','Po','NA'],\n",
    "                                ['Y','P','N'],\n",
    "                                ['Ex','Gd','TA','Fa','NA'],\n",
    "                                ['GdPrv','MnPrv','GdWo','MnWw','NA'],                              \n",
    "                               ])"
   ]
  },
  {
   "cell_type": "code",
   "execution_count": 47,
   "id": "4be3916e",
   "metadata": {},
   "outputs": [],
   "source": [
    "# df_train[oe_col].head()"
   ]
  },
  {
   "cell_type": "code",
   "execution_count": 48,
   "id": "348fa693",
   "metadata": {},
   "outputs": [],
   "source": [
    "df_train[oe_col] = oe.fit_transform(df_train[oe_col])"
   ]
  },
  {
   "cell_type": "code",
   "execution_count": 49,
   "id": "07850430",
   "metadata": {},
   "outputs": [],
   "source": [
    "df_test[oe_col] = oe.transform(df_test[oe_col])"
   ]
  },
  {
   "cell_type": "code",
   "execution_count": null,
   "id": "6ab85e13",
   "metadata": {},
   "outputs": [],
   "source": []
  },
  {
   "cell_type": "code",
   "execution_count": null,
   "id": "86bf8d10",
   "metadata": {},
   "outputs": [],
   "source": []
  },
  {
   "cell_type": "code",
   "execution_count": 50,
   "id": "ceca056e",
   "metadata": {},
   "outputs": [
    {
     "data": {
      "text/plain": [
       "OneHotEncoder(handle_unknown='ignore', sparse=False)"
      ]
     },
     "execution_count": 50,
     "metadata": {},
     "output_type": "execute_result"
    }
   ],
   "source": [
    "ohe = OneHotEncoder(sparse=False,handle_unknown='ignore')\n",
    "ohe.fit(df_train[ohe_col])"
   ]
  },
  {
   "cell_type": "code",
   "execution_count": 51,
   "id": "90391489",
   "metadata": {},
   "outputs": [
    {
     "name": "stderr",
     "output_type": "stream",
     "text": [
      "C:\\Users\\nehals4545\\anaconda3\\lib\\site-packages\\sklearn\\utils\\deprecation.py:87: FutureWarning: Function get_feature_names is deprecated; get_feature_names is deprecated in 1.0 and will be removed in 1.2. Please use get_feature_names_out instead.\n",
      "  warnings.warn(msg, category=FutureWarning)\n"
     ]
    },
    {
     "data": {
      "text/plain": [
       "['x0_C (all)',\n",
       " 'x0_FV',\n",
       " 'x0_RH',\n",
       " 'x0_RL',\n",
       " 'x0_RM',\n",
       " 'x1_Grvl',\n",
       " 'x1_Pave',\n",
       " 'x2_Grvl',\n",
       " 'x2_NA',\n",
       " 'x2_Pave',\n",
       " 'x3_Bnk',\n",
       " 'x3_HLS',\n",
       " 'x3_Low',\n",
       " 'x3_Lvl',\n",
       " 'x4_Corner',\n",
       " 'x4_CulDSac',\n",
       " 'x4_FR2',\n",
       " 'x4_FR3',\n",
       " 'x4_Inside',\n",
       " 'x5_Gtl',\n",
       " 'x5_Mod',\n",
       " 'x5_Sev',\n",
       " 'x6_Blmngtn',\n",
       " 'x6_Blueste',\n",
       " 'x6_BrDale',\n",
       " 'x6_BrkSide',\n",
       " 'x6_ClearCr',\n",
       " 'x6_CollgCr',\n",
       " 'x6_Crawfor',\n",
       " 'x6_Edwards',\n",
       " 'x6_Gilbert',\n",
       " 'x6_IDOTRR',\n",
       " 'x6_MeadowV',\n",
       " 'x6_Mitchel',\n",
       " 'x6_NAmes',\n",
       " 'x6_NPkVill',\n",
       " 'x6_NWAmes',\n",
       " 'x6_NoRidge',\n",
       " 'x6_NridgHt',\n",
       " 'x6_OldTown',\n",
       " 'x6_SWISU',\n",
       " 'x6_Sawyer',\n",
       " 'x6_SawyerW',\n",
       " 'x6_Somerst',\n",
       " 'x6_StoneBr',\n",
       " 'x6_Timber',\n",
       " 'x6_Veenker',\n",
       " 'x7_Artery',\n",
       " 'x7_Feedr',\n",
       " 'x7_Norm',\n",
       " 'x7_PosA',\n",
       " 'x7_PosN',\n",
       " 'x7_RRAe',\n",
       " 'x7_RRAn',\n",
       " 'x7_RRNe',\n",
       " 'x7_RRNn',\n",
       " 'x8_Artery',\n",
       " 'x8_Feedr',\n",
       " 'x8_Norm',\n",
       " 'x8_PosA',\n",
       " 'x8_PosN',\n",
       " 'x8_RRAe',\n",
       " 'x8_RRAn',\n",
       " 'x8_RRNn',\n",
       " 'x9_1Fam',\n",
       " 'x9_2fmCon',\n",
       " 'x9_Duplex',\n",
       " 'x9_Twnhs',\n",
       " 'x9_TwnhsE',\n",
       " 'x10_0.0',\n",
       " 'x10_1.0',\n",
       " 'x10_2.0',\n",
       " 'x10_3.0',\n",
       " 'x10_4.0',\n",
       " 'x10_5.0',\n",
       " 'x10_6.0',\n",
       " 'x10_7.0',\n",
       " 'x11_Flat',\n",
       " 'x11_Gable',\n",
       " 'x11_Gambrel',\n",
       " 'x11_Hip',\n",
       " 'x11_Mansard',\n",
       " 'x11_Shed',\n",
       " 'x12_ClyTile',\n",
       " 'x12_CompShg',\n",
       " 'x12_Membran',\n",
       " 'x12_Metal',\n",
       " 'x12_Roll',\n",
       " 'x12_Tar&Grv',\n",
       " 'x12_WdShake',\n",
       " 'x12_WdShngl',\n",
       " 'x13_AsbShng',\n",
       " 'x13_AsphShn',\n",
       " 'x13_BrkComm',\n",
       " 'x13_BrkFace',\n",
       " 'x13_CBlock',\n",
       " 'x13_CemntBd',\n",
       " 'x13_HdBoard',\n",
       " 'x13_ImStucc',\n",
       " 'x13_MetalSd',\n",
       " 'x13_Plywood',\n",
       " 'x13_Stone',\n",
       " 'x13_Stucco',\n",
       " 'x13_VinylSd',\n",
       " 'x13_Wd Sdng',\n",
       " 'x13_WdShing',\n",
       " 'x14_AsbShng',\n",
       " 'x14_AsphShn',\n",
       " 'x14_Brk Cmn',\n",
       " 'x14_BrkFace',\n",
       " 'x14_CBlock',\n",
       " 'x14_CmentBd',\n",
       " 'x14_HdBoard',\n",
       " 'x14_ImStucc',\n",
       " 'x14_MetalSd',\n",
       " 'x14_Other',\n",
       " 'x14_Plywood',\n",
       " 'x14_Stone',\n",
       " 'x14_Stucco',\n",
       " 'x14_VinylSd',\n",
       " 'x14_Wd Sdng',\n",
       " 'x14_Wd Shng',\n",
       " 'x15_BrkCmn',\n",
       " 'x15_BrkFace',\n",
       " 'x15_None',\n",
       " 'x15_Stone',\n",
       " 'x16_0.0',\n",
       " 'x16_1.0',\n",
       " 'x16_2.0',\n",
       " 'x16_3.0',\n",
       " 'x17_0.0',\n",
       " 'x17_1.0',\n",
       " 'x17_2.0',\n",
       " 'x17_3.0',\n",
       " 'x17_4.0',\n",
       " 'x18_BrkTil',\n",
       " 'x18_CBlock',\n",
       " 'x18_PConc',\n",
       " 'x18_Slab',\n",
       " 'x18_Stone',\n",
       " 'x18_Wood',\n",
       " 'x19_Floor',\n",
       " 'x19_GasA',\n",
       " 'x19_GasW',\n",
       " 'x19_Grav',\n",
       " 'x19_OthW',\n",
       " 'x19_Wall',\n",
       " 'x20_N',\n",
       " 'x20_Y',\n",
       " 'x21_2Types',\n",
       " 'x21_Attchd',\n",
       " 'x21_Basment',\n",
       " 'x21_BuiltIn',\n",
       " 'x21_CarPort',\n",
       " 'x21_Detchd',\n",
       " 'x21_NA',\n",
       " 'x22_Gar2',\n",
       " 'x22_NA',\n",
       " 'x22_Othr',\n",
       " 'x22_Shed',\n",
       " 'x22_TenC',\n",
       " 'x23_COD',\n",
       " 'x23_CWD',\n",
       " 'x23_Con',\n",
       " 'x23_ConLD',\n",
       " 'x23_ConLI',\n",
       " 'x23_ConLw',\n",
       " 'x23_New',\n",
       " 'x23_Oth',\n",
       " 'x23_WD',\n",
       " 'x24_Abnorml',\n",
       " 'x24_AdjLand',\n",
       " 'x24_Alloca',\n",
       " 'x24_Family',\n",
       " 'x24_Normal',\n",
       " 'x24_Partial',\n",
       " 'x25_0',\n",
       " 'x25_1',\n",
       " 'x25_2',\n",
       " 'x25_4',\n",
       " 'x26_0',\n",
       " 'x26_1',\n",
       " 'x26_2',\n",
       " 'x26_3',\n",
       " 'x26_4',\n",
       " 'x27_0',\n",
       " 'x27_1',\n",
       " 'x27_2',\n",
       " 'x27_3',\n",
       " 'x27_4',\n",
       " 'x27_5',\n",
       " 'x27_6',\n",
       " 'x27_7',\n",
       " 'x27_8',\n",
       " 'x27_9',\n",
       " 'x28_0',\n",
       " 'x28_1',\n",
       " 'x28_2',\n",
       " 'x28_3',\n",
       " 'x28_4',\n",
       " 'x29_0',\n",
       " 'x29_1',\n",
       " 'x29_2',\n",
       " 'x29_3',\n",
       " 'x29_4',\n",
       " 'x30_0',\n",
       " 'x30_1',\n",
       " 'x30_2',\n",
       " 'x30_3',\n",
       " 'x30_4',\n",
       " 'x30_5',\n",
       " 'x30_6',\n",
       " 'x30_7',\n",
       " 'x30_8',\n",
       " 'x30_9',\n",
       " 'x31_0',\n",
       " 'x31_1',\n",
       " 'x31_2',\n",
       " 'x31_3',\n",
       " 'x31_4',\n",
       " 'x31_5',\n",
       " 'x31_6',\n",
       " 'x31_7',\n",
       " 'x31_8',\n",
       " 'x31_9',\n",
       " 'x32_0',\n",
       " 'x32_1',\n",
       " 'x32_2',\n",
       " 'x32_3',\n",
       " 'x32_4',\n",
       " 'x32_5',\n",
       " 'x33_0',\n",
       " 'x33_1',\n",
       " 'x33_2',\n",
       " 'x33_3',\n",
       " 'x33_4',\n",
       " 'x34_0',\n",
       " 'x34_1',\n",
       " 'x34_2',\n",
       " 'x34_3',\n",
       " 'x34_4',\n",
       " 'x34_5',\n",
       " 'x35_0',\n",
       " 'x35_1',\n",
       " 'x35_2',\n",
       " 'x35_3',\n",
       " 'x35_4',\n",
       " 'x35_5',\n",
       " 'x35_6',\n",
       " 'x35_7',\n",
       " 'x35_8']"
      ]
     },
     "execution_count": 51,
     "metadata": {},
     "output_type": "execute_result"
    }
   ],
   "source": [
    "new_cols = list(ohe.get_feature_names())\n",
    "new_cols"
   ]
  },
  {
   "cell_type": "code",
   "execution_count": 52,
   "id": "e9b5ac2d",
   "metadata": {},
   "outputs": [
    {
     "name": "stderr",
     "output_type": "stream",
     "text": [
      "C:\\Users\\nehals4545\\AppData\\Local\\Temp\\ipykernel_6568\\987420072.py:1: PerformanceWarning: DataFrame is highly fragmented.  This is usually the result of calling `frame.insert` many times, which has poor performance.  Consider joining all columns at once using pd.concat(axis=1) instead. To get a de-fragmented frame, use `newframe = frame.copy()`\n",
      "  df_train[new_cols] = ohe.transform(df_train[ohe_col])\n",
      "C:\\Users\\nehals4545\\AppData\\Local\\Temp\\ipykernel_6568\\987420072.py:1: PerformanceWarning: DataFrame is highly fragmented.  This is usually the result of calling `frame.insert` many times, which has poor performance.  Consider joining all columns at once using pd.concat(axis=1) instead. To get a de-fragmented frame, use `newframe = frame.copy()`\n",
      "  df_train[new_cols] = ohe.transform(df_train[ohe_col])\n",
      "C:\\Users\\nehals4545\\AppData\\Local\\Temp\\ipykernel_6568\\987420072.py:1: PerformanceWarning: DataFrame is highly fragmented.  This is usually the result of calling `frame.insert` many times, which has poor performance.  Consider joining all columns at once using pd.concat(axis=1) instead. To get a de-fragmented frame, use `newframe = frame.copy()`\n",
      "  df_train[new_cols] = ohe.transform(df_train[ohe_col])\n",
      "C:\\Users\\nehals4545\\AppData\\Local\\Temp\\ipykernel_6568\\987420072.py:1: PerformanceWarning: DataFrame is highly fragmented.  This is usually the result of calling `frame.insert` many times, which has poor performance.  Consider joining all columns at once using pd.concat(axis=1) instead. To get a de-fragmented frame, use `newframe = frame.copy()`\n",
      "  df_train[new_cols] = ohe.transform(df_train[ohe_col])\n",
      "C:\\Users\\nehals4545\\AppData\\Local\\Temp\\ipykernel_6568\\987420072.py:1: PerformanceWarning: DataFrame is highly fragmented.  This is usually the result of calling `frame.insert` many times, which has poor performance.  Consider joining all columns at once using pd.concat(axis=1) instead. To get a de-fragmented frame, use `newframe = frame.copy()`\n",
      "  df_train[new_cols] = ohe.transform(df_train[ohe_col])\n",
      "C:\\Users\\nehals4545\\AppData\\Local\\Temp\\ipykernel_6568\\987420072.py:1: PerformanceWarning: DataFrame is highly fragmented.  This is usually the result of calling `frame.insert` many times, which has poor performance.  Consider joining all columns at once using pd.concat(axis=1) instead. To get a de-fragmented frame, use `newframe = frame.copy()`\n",
      "  df_train[new_cols] = ohe.transform(df_train[ohe_col])\n",
      "C:\\Users\\nehals4545\\AppData\\Local\\Temp\\ipykernel_6568\\987420072.py:1: PerformanceWarning: DataFrame is highly fragmented.  This is usually the result of calling `frame.insert` many times, which has poor performance.  Consider joining all columns at once using pd.concat(axis=1) instead. To get a de-fragmented frame, use `newframe = frame.copy()`\n",
      "  df_train[new_cols] = ohe.transform(df_train[ohe_col])\n",
      "C:\\Users\\nehals4545\\AppData\\Local\\Temp\\ipykernel_6568\\987420072.py:1: PerformanceWarning: DataFrame is highly fragmented.  This is usually the result of calling `frame.insert` many times, which has poor performance.  Consider joining all columns at once using pd.concat(axis=1) instead. To get a de-fragmented frame, use `newframe = frame.copy()`\n",
      "  df_train[new_cols] = ohe.transform(df_train[ohe_col])\n",
      "C:\\Users\\nehals4545\\AppData\\Local\\Temp\\ipykernel_6568\\987420072.py:1: PerformanceWarning: DataFrame is highly fragmented.  This is usually the result of calling `frame.insert` many times, which has poor performance.  Consider joining all columns at once using pd.concat(axis=1) instead. To get a de-fragmented frame, use `newframe = frame.copy()`\n",
      "  df_train[new_cols] = ohe.transform(df_train[ohe_col])\n",
      "C:\\Users\\nehals4545\\AppData\\Local\\Temp\\ipykernel_6568\\987420072.py:1: PerformanceWarning: DataFrame is highly fragmented.  This is usually the result of calling `frame.insert` many times, which has poor performance.  Consider joining all columns at once using pd.concat(axis=1) instead. To get a de-fragmented frame, use `newframe = frame.copy()`\n",
      "  df_train[new_cols] = ohe.transform(df_train[ohe_col])\n",
      "C:\\Users\\nehals4545\\AppData\\Local\\Temp\\ipykernel_6568\\987420072.py:1: PerformanceWarning: DataFrame is highly fragmented.  This is usually the result of calling `frame.insert` many times, which has poor performance.  Consider joining all columns at once using pd.concat(axis=1) instead. To get a de-fragmented frame, use `newframe = frame.copy()`\n",
      "  df_train[new_cols] = ohe.transform(df_train[ohe_col])\n",
      "C:\\Users\\nehals4545\\AppData\\Local\\Temp\\ipykernel_6568\\987420072.py:1: PerformanceWarning: DataFrame is highly fragmented.  This is usually the result of calling `frame.insert` many times, which has poor performance.  Consider joining all columns at once using pd.concat(axis=1) instead. To get a de-fragmented frame, use `newframe = frame.copy()`\n",
      "  df_train[new_cols] = ohe.transform(df_train[ohe_col])\n",
      "C:\\Users\\nehals4545\\AppData\\Local\\Temp\\ipykernel_6568\\987420072.py:1: PerformanceWarning: DataFrame is highly fragmented.  This is usually the result of calling `frame.insert` many times, which has poor performance.  Consider joining all columns at once using pd.concat(axis=1) instead. To get a de-fragmented frame, use `newframe = frame.copy()`\n",
      "  df_train[new_cols] = ohe.transform(df_train[ohe_col])\n",
      "C:\\Users\\nehals4545\\AppData\\Local\\Temp\\ipykernel_6568\\987420072.py:1: PerformanceWarning: DataFrame is highly fragmented.  This is usually the result of calling `frame.insert` many times, which has poor performance.  Consider joining all columns at once using pd.concat(axis=1) instead. To get a de-fragmented frame, use `newframe = frame.copy()`\n",
      "  df_train[new_cols] = ohe.transform(df_train[ohe_col])\n",
      "C:\\Users\\nehals4545\\AppData\\Local\\Temp\\ipykernel_6568\\987420072.py:1: PerformanceWarning: DataFrame is highly fragmented.  This is usually the result of calling `frame.insert` many times, which has poor performance.  Consider joining all columns at once using pd.concat(axis=1) instead. To get a de-fragmented frame, use `newframe = frame.copy()`\n",
      "  df_train[new_cols] = ohe.transform(df_train[ohe_col])\n",
      "C:\\Users\\nehals4545\\AppData\\Local\\Temp\\ipykernel_6568\\987420072.py:1: PerformanceWarning: DataFrame is highly fragmented.  This is usually the result of calling `frame.insert` many times, which has poor performance.  Consider joining all columns at once using pd.concat(axis=1) instead. To get a de-fragmented frame, use `newframe = frame.copy()`\n",
      "  df_train[new_cols] = ohe.transform(df_train[ohe_col])\n",
      "C:\\Users\\nehals4545\\AppData\\Local\\Temp\\ipykernel_6568\\987420072.py:1: PerformanceWarning: DataFrame is highly fragmented.  This is usually the result of calling `frame.insert` many times, which has poor performance.  Consider joining all columns at once using pd.concat(axis=1) instead. To get a de-fragmented frame, use `newframe = frame.copy()`\n",
      "  df_train[new_cols] = ohe.transform(df_train[ohe_col])\n",
      "C:\\Users\\nehals4545\\AppData\\Local\\Temp\\ipykernel_6568\\987420072.py:1: PerformanceWarning: DataFrame is highly fragmented.  This is usually the result of calling `frame.insert` many times, which has poor performance.  Consider joining all columns at once using pd.concat(axis=1) instead. To get a de-fragmented frame, use `newframe = frame.copy()`\n",
      "  df_train[new_cols] = ohe.transform(df_train[ohe_col])\n",
      "C:\\Users\\nehals4545\\AppData\\Local\\Temp\\ipykernel_6568\\987420072.py:1: PerformanceWarning: DataFrame is highly fragmented.  This is usually the result of calling `frame.insert` many times, which has poor performance.  Consider joining all columns at once using pd.concat(axis=1) instead. To get a de-fragmented frame, use `newframe = frame.copy()`\n",
      "  df_train[new_cols] = ohe.transform(df_train[ohe_col])\n",
      "C:\\Users\\nehals4545\\AppData\\Local\\Temp\\ipykernel_6568\\987420072.py:1: PerformanceWarning: DataFrame is highly fragmented.  This is usually the result of calling `frame.insert` many times, which has poor performance.  Consider joining all columns at once using pd.concat(axis=1) instead. To get a de-fragmented frame, use `newframe = frame.copy()`\n",
      "  df_train[new_cols] = ohe.transform(df_train[ohe_col])\n",
      "C:\\Users\\nehals4545\\AppData\\Local\\Temp\\ipykernel_6568\\987420072.py:1: PerformanceWarning: DataFrame is highly fragmented.  This is usually the result of calling `frame.insert` many times, which has poor performance.  Consider joining all columns at once using pd.concat(axis=1) instead. To get a de-fragmented frame, use `newframe = frame.copy()`\n",
      "  df_train[new_cols] = ohe.transform(df_train[ohe_col])\n",
      "C:\\Users\\nehals4545\\AppData\\Local\\Temp\\ipykernel_6568\\987420072.py:1: PerformanceWarning: DataFrame is highly fragmented.  This is usually the result of calling `frame.insert` many times, which has poor performance.  Consider joining all columns at once using pd.concat(axis=1) instead. To get a de-fragmented frame, use `newframe = frame.copy()`\n",
      "  df_train[new_cols] = ohe.transform(df_train[ohe_col])\n",
      "C:\\Users\\nehals4545\\AppData\\Local\\Temp\\ipykernel_6568\\987420072.py:1: PerformanceWarning: DataFrame is highly fragmented.  This is usually the result of calling `frame.insert` many times, which has poor performance.  Consider joining all columns at once using pd.concat(axis=1) instead. To get a de-fragmented frame, use `newframe = frame.copy()`\n",
      "  df_train[new_cols] = ohe.transform(df_train[ohe_col])\n"
     ]
    },
    {
     "name": "stderr",
     "output_type": "stream",
     "text": [
      "C:\\Users\\nehals4545\\AppData\\Local\\Temp\\ipykernel_6568\\987420072.py:1: PerformanceWarning: DataFrame is highly fragmented.  This is usually the result of calling `frame.insert` many times, which has poor performance.  Consider joining all columns at once using pd.concat(axis=1) instead. To get a de-fragmented frame, use `newframe = frame.copy()`\n",
      "  df_train[new_cols] = ohe.transform(df_train[ohe_col])\n",
      "C:\\Users\\nehals4545\\AppData\\Local\\Temp\\ipykernel_6568\\987420072.py:1: PerformanceWarning: DataFrame is highly fragmented.  This is usually the result of calling `frame.insert` many times, which has poor performance.  Consider joining all columns at once using pd.concat(axis=1) instead. To get a de-fragmented frame, use `newframe = frame.copy()`\n",
      "  df_train[new_cols] = ohe.transform(df_train[ohe_col])\n",
      "C:\\Users\\nehals4545\\AppData\\Local\\Temp\\ipykernel_6568\\987420072.py:1: PerformanceWarning: DataFrame is highly fragmented.  This is usually the result of calling `frame.insert` many times, which has poor performance.  Consider joining all columns at once using pd.concat(axis=1) instead. To get a de-fragmented frame, use `newframe = frame.copy()`\n",
      "  df_train[new_cols] = ohe.transform(df_train[ohe_col])\n",
      "C:\\Users\\nehals4545\\AppData\\Local\\Temp\\ipykernel_6568\\987420072.py:1: PerformanceWarning: DataFrame is highly fragmented.  This is usually the result of calling `frame.insert` many times, which has poor performance.  Consider joining all columns at once using pd.concat(axis=1) instead. To get a de-fragmented frame, use `newframe = frame.copy()`\n",
      "  df_train[new_cols] = ohe.transform(df_train[ohe_col])\n",
      "C:\\Users\\nehals4545\\AppData\\Local\\Temp\\ipykernel_6568\\987420072.py:1: PerformanceWarning: DataFrame is highly fragmented.  This is usually the result of calling `frame.insert` many times, which has poor performance.  Consider joining all columns at once using pd.concat(axis=1) instead. To get a de-fragmented frame, use `newframe = frame.copy()`\n",
      "  df_train[new_cols] = ohe.transform(df_train[ohe_col])\n",
      "C:\\Users\\nehals4545\\AppData\\Local\\Temp\\ipykernel_6568\\987420072.py:1: PerformanceWarning: DataFrame is highly fragmented.  This is usually the result of calling `frame.insert` many times, which has poor performance.  Consider joining all columns at once using pd.concat(axis=1) instead. To get a de-fragmented frame, use `newframe = frame.copy()`\n",
      "  df_train[new_cols] = ohe.transform(df_train[ohe_col])\n",
      "C:\\Users\\nehals4545\\AppData\\Local\\Temp\\ipykernel_6568\\987420072.py:1: PerformanceWarning: DataFrame is highly fragmented.  This is usually the result of calling `frame.insert` many times, which has poor performance.  Consider joining all columns at once using pd.concat(axis=1) instead. To get a de-fragmented frame, use `newframe = frame.copy()`\n",
      "  df_train[new_cols] = ohe.transform(df_train[ohe_col])\n",
      "C:\\Users\\nehals4545\\AppData\\Local\\Temp\\ipykernel_6568\\987420072.py:1: PerformanceWarning: DataFrame is highly fragmented.  This is usually the result of calling `frame.insert` many times, which has poor performance.  Consider joining all columns at once using pd.concat(axis=1) instead. To get a de-fragmented frame, use `newframe = frame.copy()`\n",
      "  df_train[new_cols] = ohe.transform(df_train[ohe_col])\n",
      "C:\\Users\\nehals4545\\AppData\\Local\\Temp\\ipykernel_6568\\987420072.py:1: PerformanceWarning: DataFrame is highly fragmented.  This is usually the result of calling `frame.insert` many times, which has poor performance.  Consider joining all columns at once using pd.concat(axis=1) instead. To get a de-fragmented frame, use `newframe = frame.copy()`\n",
      "  df_train[new_cols] = ohe.transform(df_train[ohe_col])\n",
      "C:\\Users\\nehals4545\\AppData\\Local\\Temp\\ipykernel_6568\\987420072.py:1: PerformanceWarning: DataFrame is highly fragmented.  This is usually the result of calling `frame.insert` many times, which has poor performance.  Consider joining all columns at once using pd.concat(axis=1) instead. To get a de-fragmented frame, use `newframe = frame.copy()`\n",
      "  df_train[new_cols] = ohe.transform(df_train[ohe_col])\n",
      "C:\\Users\\nehals4545\\AppData\\Local\\Temp\\ipykernel_6568\\987420072.py:1: PerformanceWarning: DataFrame is highly fragmented.  This is usually the result of calling `frame.insert` many times, which has poor performance.  Consider joining all columns at once using pd.concat(axis=1) instead. To get a de-fragmented frame, use `newframe = frame.copy()`\n",
      "  df_train[new_cols] = ohe.transform(df_train[ohe_col])\n",
      "C:\\Users\\nehals4545\\AppData\\Local\\Temp\\ipykernel_6568\\987420072.py:1: PerformanceWarning: DataFrame is highly fragmented.  This is usually the result of calling `frame.insert` many times, which has poor performance.  Consider joining all columns at once using pd.concat(axis=1) instead. To get a de-fragmented frame, use `newframe = frame.copy()`\n",
      "  df_train[new_cols] = ohe.transform(df_train[ohe_col])\n",
      "C:\\Users\\nehals4545\\AppData\\Local\\Temp\\ipykernel_6568\\987420072.py:1: PerformanceWarning: DataFrame is highly fragmented.  This is usually the result of calling `frame.insert` many times, which has poor performance.  Consider joining all columns at once using pd.concat(axis=1) instead. To get a de-fragmented frame, use `newframe = frame.copy()`\n",
      "  df_train[new_cols] = ohe.transform(df_train[ohe_col])\n",
      "C:\\Users\\nehals4545\\AppData\\Local\\Temp\\ipykernel_6568\\987420072.py:1: PerformanceWarning: DataFrame is highly fragmented.  This is usually the result of calling `frame.insert` many times, which has poor performance.  Consider joining all columns at once using pd.concat(axis=1) instead. To get a de-fragmented frame, use `newframe = frame.copy()`\n",
      "  df_train[new_cols] = ohe.transform(df_train[ohe_col])\n",
      "C:\\Users\\nehals4545\\AppData\\Local\\Temp\\ipykernel_6568\\987420072.py:1: PerformanceWarning: DataFrame is highly fragmented.  This is usually the result of calling `frame.insert` many times, which has poor performance.  Consider joining all columns at once using pd.concat(axis=1) instead. To get a de-fragmented frame, use `newframe = frame.copy()`\n",
      "  df_train[new_cols] = ohe.transform(df_train[ohe_col])\n",
      "C:\\Users\\nehals4545\\AppData\\Local\\Temp\\ipykernel_6568\\987420072.py:1: PerformanceWarning: DataFrame is highly fragmented.  This is usually the result of calling `frame.insert` many times, which has poor performance.  Consider joining all columns at once using pd.concat(axis=1) instead. To get a de-fragmented frame, use `newframe = frame.copy()`\n",
      "  df_train[new_cols] = ohe.transform(df_train[ohe_col])\n",
      "C:\\Users\\nehals4545\\AppData\\Local\\Temp\\ipykernel_6568\\987420072.py:1: PerformanceWarning: DataFrame is highly fragmented.  This is usually the result of calling `frame.insert` many times, which has poor performance.  Consider joining all columns at once using pd.concat(axis=1) instead. To get a de-fragmented frame, use `newframe = frame.copy()`\n",
      "  df_train[new_cols] = ohe.transform(df_train[ohe_col])\n",
      "C:\\Users\\nehals4545\\AppData\\Local\\Temp\\ipykernel_6568\\987420072.py:1: PerformanceWarning: DataFrame is highly fragmented.  This is usually the result of calling `frame.insert` many times, which has poor performance.  Consider joining all columns at once using pd.concat(axis=1) instead. To get a de-fragmented frame, use `newframe = frame.copy()`\n",
      "  df_train[new_cols] = ohe.transform(df_train[ohe_col])\n",
      "C:\\Users\\nehals4545\\AppData\\Local\\Temp\\ipykernel_6568\\987420072.py:1: PerformanceWarning: DataFrame is highly fragmented.  This is usually the result of calling `frame.insert` many times, which has poor performance.  Consider joining all columns at once using pd.concat(axis=1) instead. To get a de-fragmented frame, use `newframe = frame.copy()`\n",
      "  df_train[new_cols] = ohe.transform(df_train[ohe_col])\n",
      "C:\\Users\\nehals4545\\AppData\\Local\\Temp\\ipykernel_6568\\987420072.py:1: PerformanceWarning: DataFrame is highly fragmented.  This is usually the result of calling `frame.insert` many times, which has poor performance.  Consider joining all columns at once using pd.concat(axis=1) instead. To get a de-fragmented frame, use `newframe = frame.copy()`\n",
      "  df_train[new_cols] = ohe.transform(df_train[ohe_col])\n",
      "C:\\Users\\nehals4545\\AppData\\Local\\Temp\\ipykernel_6568\\987420072.py:1: PerformanceWarning: DataFrame is highly fragmented.  This is usually the result of calling `frame.insert` many times, which has poor performance.  Consider joining all columns at once using pd.concat(axis=1) instead. To get a de-fragmented frame, use `newframe = frame.copy()`\n",
      "  df_train[new_cols] = ohe.transform(df_train[ohe_col])\n",
      "C:\\Users\\nehals4545\\AppData\\Local\\Temp\\ipykernel_6568\\987420072.py:1: PerformanceWarning: DataFrame is highly fragmented.  This is usually the result of calling `frame.insert` many times, which has poor performance.  Consider joining all columns at once using pd.concat(axis=1) instead. To get a de-fragmented frame, use `newframe = frame.copy()`\n",
      "  df_train[new_cols] = ohe.transform(df_train[ohe_col])\n",
      "C:\\Users\\nehals4545\\AppData\\Local\\Temp\\ipykernel_6568\\987420072.py:1: PerformanceWarning: DataFrame is highly fragmented.  This is usually the result of calling `frame.insert` many times, which has poor performance.  Consider joining all columns at once using pd.concat(axis=1) instead. To get a de-fragmented frame, use `newframe = frame.copy()`\n",
      "  df_train[new_cols] = ohe.transform(df_train[ohe_col])\n",
      "C:\\Users\\nehals4545\\AppData\\Local\\Temp\\ipykernel_6568\\987420072.py:1: PerformanceWarning: DataFrame is highly fragmented.  This is usually the result of calling `frame.insert` many times, which has poor performance.  Consider joining all columns at once using pd.concat(axis=1) instead. To get a de-fragmented frame, use `newframe = frame.copy()`\n",
      "  df_train[new_cols] = ohe.transform(df_train[ohe_col])\n"
     ]
    },
    {
     "name": "stderr",
     "output_type": "stream",
     "text": [
      "C:\\Users\\nehals4545\\AppData\\Local\\Temp\\ipykernel_6568\\987420072.py:1: PerformanceWarning: DataFrame is highly fragmented.  This is usually the result of calling `frame.insert` many times, which has poor performance.  Consider joining all columns at once using pd.concat(axis=1) instead. To get a de-fragmented frame, use `newframe = frame.copy()`\n",
      "  df_train[new_cols] = ohe.transform(df_train[ohe_col])\n",
      "C:\\Users\\nehals4545\\AppData\\Local\\Temp\\ipykernel_6568\\987420072.py:1: PerformanceWarning: DataFrame is highly fragmented.  This is usually the result of calling `frame.insert` many times, which has poor performance.  Consider joining all columns at once using pd.concat(axis=1) instead. To get a de-fragmented frame, use `newframe = frame.copy()`\n",
      "  df_train[new_cols] = ohe.transform(df_train[ohe_col])\n",
      "C:\\Users\\nehals4545\\AppData\\Local\\Temp\\ipykernel_6568\\987420072.py:1: PerformanceWarning: DataFrame is highly fragmented.  This is usually the result of calling `frame.insert` many times, which has poor performance.  Consider joining all columns at once using pd.concat(axis=1) instead. To get a de-fragmented frame, use `newframe = frame.copy()`\n",
      "  df_train[new_cols] = ohe.transform(df_train[ohe_col])\n",
      "C:\\Users\\nehals4545\\AppData\\Local\\Temp\\ipykernel_6568\\987420072.py:1: PerformanceWarning: DataFrame is highly fragmented.  This is usually the result of calling `frame.insert` many times, which has poor performance.  Consider joining all columns at once using pd.concat(axis=1) instead. To get a de-fragmented frame, use `newframe = frame.copy()`\n",
      "  df_train[new_cols] = ohe.transform(df_train[ohe_col])\n",
      "C:\\Users\\nehals4545\\AppData\\Local\\Temp\\ipykernel_6568\\987420072.py:1: PerformanceWarning: DataFrame is highly fragmented.  This is usually the result of calling `frame.insert` many times, which has poor performance.  Consider joining all columns at once using pd.concat(axis=1) instead. To get a de-fragmented frame, use `newframe = frame.copy()`\n",
      "  df_train[new_cols] = ohe.transform(df_train[ohe_col])\n",
      "C:\\Users\\nehals4545\\AppData\\Local\\Temp\\ipykernel_6568\\987420072.py:1: PerformanceWarning: DataFrame is highly fragmented.  This is usually the result of calling `frame.insert` many times, which has poor performance.  Consider joining all columns at once using pd.concat(axis=1) instead. To get a de-fragmented frame, use `newframe = frame.copy()`\n",
      "  df_train[new_cols] = ohe.transform(df_train[ohe_col])\n",
      "C:\\Users\\nehals4545\\AppData\\Local\\Temp\\ipykernel_6568\\987420072.py:1: PerformanceWarning: DataFrame is highly fragmented.  This is usually the result of calling `frame.insert` many times, which has poor performance.  Consider joining all columns at once using pd.concat(axis=1) instead. To get a de-fragmented frame, use `newframe = frame.copy()`\n",
      "  df_train[new_cols] = ohe.transform(df_train[ohe_col])\n",
      "C:\\Users\\nehals4545\\AppData\\Local\\Temp\\ipykernel_6568\\987420072.py:1: PerformanceWarning: DataFrame is highly fragmented.  This is usually the result of calling `frame.insert` many times, which has poor performance.  Consider joining all columns at once using pd.concat(axis=1) instead. To get a de-fragmented frame, use `newframe = frame.copy()`\n",
      "  df_train[new_cols] = ohe.transform(df_train[ohe_col])\n",
      "C:\\Users\\nehals4545\\AppData\\Local\\Temp\\ipykernel_6568\\987420072.py:1: PerformanceWarning: DataFrame is highly fragmented.  This is usually the result of calling `frame.insert` many times, which has poor performance.  Consider joining all columns at once using pd.concat(axis=1) instead. To get a de-fragmented frame, use `newframe = frame.copy()`\n",
      "  df_train[new_cols] = ohe.transform(df_train[ohe_col])\n",
      "C:\\Users\\nehals4545\\AppData\\Local\\Temp\\ipykernel_6568\\987420072.py:1: PerformanceWarning: DataFrame is highly fragmented.  This is usually the result of calling `frame.insert` many times, which has poor performance.  Consider joining all columns at once using pd.concat(axis=1) instead. To get a de-fragmented frame, use `newframe = frame.copy()`\n",
      "  df_train[new_cols] = ohe.transform(df_train[ohe_col])\n",
      "C:\\Users\\nehals4545\\AppData\\Local\\Temp\\ipykernel_6568\\987420072.py:1: PerformanceWarning: DataFrame is highly fragmented.  This is usually the result of calling `frame.insert` many times, which has poor performance.  Consider joining all columns at once using pd.concat(axis=1) instead. To get a de-fragmented frame, use `newframe = frame.copy()`\n",
      "  df_train[new_cols] = ohe.transform(df_train[ohe_col])\n",
      "C:\\Users\\nehals4545\\AppData\\Local\\Temp\\ipykernel_6568\\987420072.py:1: PerformanceWarning: DataFrame is highly fragmented.  This is usually the result of calling `frame.insert` many times, which has poor performance.  Consider joining all columns at once using pd.concat(axis=1) instead. To get a de-fragmented frame, use `newframe = frame.copy()`\n",
      "  df_train[new_cols] = ohe.transform(df_train[ohe_col])\n",
      "C:\\Users\\nehals4545\\AppData\\Local\\Temp\\ipykernel_6568\\987420072.py:1: PerformanceWarning: DataFrame is highly fragmented.  This is usually the result of calling `frame.insert` many times, which has poor performance.  Consider joining all columns at once using pd.concat(axis=1) instead. To get a de-fragmented frame, use `newframe = frame.copy()`\n",
      "  df_train[new_cols] = ohe.transform(df_train[ohe_col])\n",
      "C:\\Users\\nehals4545\\AppData\\Local\\Temp\\ipykernel_6568\\987420072.py:1: PerformanceWarning: DataFrame is highly fragmented.  This is usually the result of calling `frame.insert` many times, which has poor performance.  Consider joining all columns at once using pd.concat(axis=1) instead. To get a de-fragmented frame, use `newframe = frame.copy()`\n",
      "  df_train[new_cols] = ohe.transform(df_train[ohe_col])\n",
      "C:\\Users\\nehals4545\\AppData\\Local\\Temp\\ipykernel_6568\\987420072.py:1: PerformanceWarning: DataFrame is highly fragmented.  This is usually the result of calling `frame.insert` many times, which has poor performance.  Consider joining all columns at once using pd.concat(axis=1) instead. To get a de-fragmented frame, use `newframe = frame.copy()`\n",
      "  df_train[new_cols] = ohe.transform(df_train[ohe_col])\n",
      "C:\\Users\\nehals4545\\AppData\\Local\\Temp\\ipykernel_6568\\987420072.py:1: PerformanceWarning: DataFrame is highly fragmented.  This is usually the result of calling `frame.insert` many times, which has poor performance.  Consider joining all columns at once using pd.concat(axis=1) instead. To get a de-fragmented frame, use `newframe = frame.copy()`\n",
      "  df_train[new_cols] = ohe.transform(df_train[ohe_col])\n",
      "C:\\Users\\nehals4545\\AppData\\Local\\Temp\\ipykernel_6568\\987420072.py:1: PerformanceWarning: DataFrame is highly fragmented.  This is usually the result of calling `frame.insert` many times, which has poor performance.  Consider joining all columns at once using pd.concat(axis=1) instead. To get a de-fragmented frame, use `newframe = frame.copy()`\n",
      "  df_train[new_cols] = ohe.transform(df_train[ohe_col])\n",
      "C:\\Users\\nehals4545\\AppData\\Local\\Temp\\ipykernel_6568\\987420072.py:1: PerformanceWarning: DataFrame is highly fragmented.  This is usually the result of calling `frame.insert` many times, which has poor performance.  Consider joining all columns at once using pd.concat(axis=1) instead. To get a de-fragmented frame, use `newframe = frame.copy()`\n",
      "  df_train[new_cols] = ohe.transform(df_train[ohe_col])\n",
      "C:\\Users\\nehals4545\\AppData\\Local\\Temp\\ipykernel_6568\\987420072.py:1: PerformanceWarning: DataFrame is highly fragmented.  This is usually the result of calling `frame.insert` many times, which has poor performance.  Consider joining all columns at once using pd.concat(axis=1) instead. To get a de-fragmented frame, use `newframe = frame.copy()`\n",
      "  df_train[new_cols] = ohe.transform(df_train[ohe_col])\n",
      "C:\\Users\\nehals4545\\AppData\\Local\\Temp\\ipykernel_6568\\987420072.py:1: PerformanceWarning: DataFrame is highly fragmented.  This is usually the result of calling `frame.insert` many times, which has poor performance.  Consider joining all columns at once using pd.concat(axis=1) instead. To get a de-fragmented frame, use `newframe = frame.copy()`\n",
      "  df_train[new_cols] = ohe.transform(df_train[ohe_col])\n",
      "C:\\Users\\nehals4545\\AppData\\Local\\Temp\\ipykernel_6568\\987420072.py:1: PerformanceWarning: DataFrame is highly fragmented.  This is usually the result of calling `frame.insert` many times, which has poor performance.  Consider joining all columns at once using pd.concat(axis=1) instead. To get a de-fragmented frame, use `newframe = frame.copy()`\n",
      "  df_train[new_cols] = ohe.transform(df_train[ohe_col])\n",
      "C:\\Users\\nehals4545\\AppData\\Local\\Temp\\ipykernel_6568\\987420072.py:1: PerformanceWarning: DataFrame is highly fragmented.  This is usually the result of calling `frame.insert` many times, which has poor performance.  Consider joining all columns at once using pd.concat(axis=1) instead. To get a de-fragmented frame, use `newframe = frame.copy()`\n",
      "  df_train[new_cols] = ohe.transform(df_train[ohe_col])\n",
      "C:\\Users\\nehals4545\\AppData\\Local\\Temp\\ipykernel_6568\\987420072.py:1: PerformanceWarning: DataFrame is highly fragmented.  This is usually the result of calling `frame.insert` many times, which has poor performance.  Consider joining all columns at once using pd.concat(axis=1) instead. To get a de-fragmented frame, use `newframe = frame.copy()`\n",
      "  df_train[new_cols] = ohe.transform(df_train[ohe_col])\n"
     ]
    },
    {
     "name": "stderr",
     "output_type": "stream",
     "text": [
      "C:\\Users\\nehals4545\\AppData\\Local\\Temp\\ipykernel_6568\\987420072.py:1: PerformanceWarning: DataFrame is highly fragmented.  This is usually the result of calling `frame.insert` many times, which has poor performance.  Consider joining all columns at once using pd.concat(axis=1) instead. To get a de-fragmented frame, use `newframe = frame.copy()`\n",
      "  df_train[new_cols] = ohe.transform(df_train[ohe_col])\n",
      "C:\\Users\\nehals4545\\AppData\\Local\\Temp\\ipykernel_6568\\987420072.py:1: PerformanceWarning: DataFrame is highly fragmented.  This is usually the result of calling `frame.insert` many times, which has poor performance.  Consider joining all columns at once using pd.concat(axis=1) instead. To get a de-fragmented frame, use `newframe = frame.copy()`\n",
      "  df_train[new_cols] = ohe.transform(df_train[ohe_col])\n",
      "C:\\Users\\nehals4545\\AppData\\Local\\Temp\\ipykernel_6568\\987420072.py:1: PerformanceWarning: DataFrame is highly fragmented.  This is usually the result of calling `frame.insert` many times, which has poor performance.  Consider joining all columns at once using pd.concat(axis=1) instead. To get a de-fragmented frame, use `newframe = frame.copy()`\n",
      "  df_train[new_cols] = ohe.transform(df_train[ohe_col])\n",
      "C:\\Users\\nehals4545\\AppData\\Local\\Temp\\ipykernel_6568\\987420072.py:1: PerformanceWarning: DataFrame is highly fragmented.  This is usually the result of calling `frame.insert` many times, which has poor performance.  Consider joining all columns at once using pd.concat(axis=1) instead. To get a de-fragmented frame, use `newframe = frame.copy()`\n",
      "  df_train[new_cols] = ohe.transform(df_train[ohe_col])\n",
      "C:\\Users\\nehals4545\\AppData\\Local\\Temp\\ipykernel_6568\\987420072.py:1: PerformanceWarning: DataFrame is highly fragmented.  This is usually the result of calling `frame.insert` many times, which has poor performance.  Consider joining all columns at once using pd.concat(axis=1) instead. To get a de-fragmented frame, use `newframe = frame.copy()`\n",
      "  df_train[new_cols] = ohe.transform(df_train[ohe_col])\n",
      "C:\\Users\\nehals4545\\AppData\\Local\\Temp\\ipykernel_6568\\987420072.py:1: PerformanceWarning: DataFrame is highly fragmented.  This is usually the result of calling `frame.insert` many times, which has poor performance.  Consider joining all columns at once using pd.concat(axis=1) instead. To get a de-fragmented frame, use `newframe = frame.copy()`\n",
      "  df_train[new_cols] = ohe.transform(df_train[ohe_col])\n",
      "C:\\Users\\nehals4545\\AppData\\Local\\Temp\\ipykernel_6568\\987420072.py:1: PerformanceWarning: DataFrame is highly fragmented.  This is usually the result of calling `frame.insert` many times, which has poor performance.  Consider joining all columns at once using pd.concat(axis=1) instead. To get a de-fragmented frame, use `newframe = frame.copy()`\n",
      "  df_train[new_cols] = ohe.transform(df_train[ohe_col])\n",
      "C:\\Users\\nehals4545\\AppData\\Local\\Temp\\ipykernel_6568\\987420072.py:1: PerformanceWarning: DataFrame is highly fragmented.  This is usually the result of calling `frame.insert` many times, which has poor performance.  Consider joining all columns at once using pd.concat(axis=1) instead. To get a de-fragmented frame, use `newframe = frame.copy()`\n",
      "  df_train[new_cols] = ohe.transform(df_train[ohe_col])\n",
      "C:\\Users\\nehals4545\\AppData\\Local\\Temp\\ipykernel_6568\\987420072.py:1: PerformanceWarning: DataFrame is highly fragmented.  This is usually the result of calling `frame.insert` many times, which has poor performance.  Consider joining all columns at once using pd.concat(axis=1) instead. To get a de-fragmented frame, use `newframe = frame.copy()`\n",
      "  df_train[new_cols] = ohe.transform(df_train[ohe_col])\n",
      "C:\\Users\\nehals4545\\AppData\\Local\\Temp\\ipykernel_6568\\987420072.py:1: PerformanceWarning: DataFrame is highly fragmented.  This is usually the result of calling `frame.insert` many times, which has poor performance.  Consider joining all columns at once using pd.concat(axis=1) instead. To get a de-fragmented frame, use `newframe = frame.copy()`\n",
      "  df_train[new_cols] = ohe.transform(df_train[ohe_col])\n",
      "C:\\Users\\nehals4545\\AppData\\Local\\Temp\\ipykernel_6568\\987420072.py:1: PerformanceWarning: DataFrame is highly fragmented.  This is usually the result of calling `frame.insert` many times, which has poor performance.  Consider joining all columns at once using pd.concat(axis=1) instead. To get a de-fragmented frame, use `newframe = frame.copy()`\n",
      "  df_train[new_cols] = ohe.transform(df_train[ohe_col])\n",
      "C:\\Users\\nehals4545\\AppData\\Local\\Temp\\ipykernel_6568\\987420072.py:1: PerformanceWarning: DataFrame is highly fragmented.  This is usually the result of calling `frame.insert` many times, which has poor performance.  Consider joining all columns at once using pd.concat(axis=1) instead. To get a de-fragmented frame, use `newframe = frame.copy()`\n",
      "  df_train[new_cols] = ohe.transform(df_train[ohe_col])\n",
      "C:\\Users\\nehals4545\\AppData\\Local\\Temp\\ipykernel_6568\\987420072.py:1: PerformanceWarning: DataFrame is highly fragmented.  This is usually the result of calling `frame.insert` many times, which has poor performance.  Consider joining all columns at once using pd.concat(axis=1) instead. To get a de-fragmented frame, use `newframe = frame.copy()`\n",
      "  df_train[new_cols] = ohe.transform(df_train[ohe_col])\n",
      "C:\\Users\\nehals4545\\AppData\\Local\\Temp\\ipykernel_6568\\987420072.py:1: PerformanceWarning: DataFrame is highly fragmented.  This is usually the result of calling `frame.insert` many times, which has poor performance.  Consider joining all columns at once using pd.concat(axis=1) instead. To get a de-fragmented frame, use `newframe = frame.copy()`\n",
      "  df_train[new_cols] = ohe.transform(df_train[ohe_col])\n",
      "C:\\Users\\nehals4545\\AppData\\Local\\Temp\\ipykernel_6568\\987420072.py:1: PerformanceWarning: DataFrame is highly fragmented.  This is usually the result of calling `frame.insert` many times, which has poor performance.  Consider joining all columns at once using pd.concat(axis=1) instead. To get a de-fragmented frame, use `newframe = frame.copy()`\n",
      "  df_train[new_cols] = ohe.transform(df_train[ohe_col])\n",
      "C:\\Users\\nehals4545\\AppData\\Local\\Temp\\ipykernel_6568\\987420072.py:1: PerformanceWarning: DataFrame is highly fragmented.  This is usually the result of calling `frame.insert` many times, which has poor performance.  Consider joining all columns at once using pd.concat(axis=1) instead. To get a de-fragmented frame, use `newframe = frame.copy()`\n",
      "  df_train[new_cols] = ohe.transform(df_train[ohe_col])\n",
      "C:\\Users\\nehals4545\\AppData\\Local\\Temp\\ipykernel_6568\\987420072.py:1: PerformanceWarning: DataFrame is highly fragmented.  This is usually the result of calling `frame.insert` many times, which has poor performance.  Consider joining all columns at once using pd.concat(axis=1) instead. To get a de-fragmented frame, use `newframe = frame.copy()`\n",
      "  df_train[new_cols] = ohe.transform(df_train[ohe_col])\n",
      "C:\\Users\\nehals4545\\AppData\\Local\\Temp\\ipykernel_6568\\987420072.py:1: PerformanceWarning: DataFrame is highly fragmented.  This is usually the result of calling `frame.insert` many times, which has poor performance.  Consider joining all columns at once using pd.concat(axis=1) instead. To get a de-fragmented frame, use `newframe = frame.copy()`\n",
      "  df_train[new_cols] = ohe.transform(df_train[ohe_col])\n",
      "C:\\Users\\nehals4545\\AppData\\Local\\Temp\\ipykernel_6568\\987420072.py:1: PerformanceWarning: DataFrame is highly fragmented.  This is usually the result of calling `frame.insert` many times, which has poor performance.  Consider joining all columns at once using pd.concat(axis=1) instead. To get a de-fragmented frame, use `newframe = frame.copy()`\n",
      "  df_train[new_cols] = ohe.transform(df_train[ohe_col])\n",
      "C:\\Users\\nehals4545\\AppData\\Local\\Temp\\ipykernel_6568\\987420072.py:1: PerformanceWarning: DataFrame is highly fragmented.  This is usually the result of calling `frame.insert` many times, which has poor performance.  Consider joining all columns at once using pd.concat(axis=1) instead. To get a de-fragmented frame, use `newframe = frame.copy()`\n",
      "  df_train[new_cols] = ohe.transform(df_train[ohe_col])\n",
      "C:\\Users\\nehals4545\\AppData\\Local\\Temp\\ipykernel_6568\\987420072.py:1: PerformanceWarning: DataFrame is highly fragmented.  This is usually the result of calling `frame.insert` many times, which has poor performance.  Consider joining all columns at once using pd.concat(axis=1) instead. To get a de-fragmented frame, use `newframe = frame.copy()`\n",
      "  df_train[new_cols] = ohe.transform(df_train[ohe_col])\n",
      "C:\\Users\\nehals4545\\AppData\\Local\\Temp\\ipykernel_6568\\987420072.py:1: PerformanceWarning: DataFrame is highly fragmented.  This is usually the result of calling `frame.insert` many times, which has poor performance.  Consider joining all columns at once using pd.concat(axis=1) instead. To get a de-fragmented frame, use `newframe = frame.copy()`\n",
      "  df_train[new_cols] = ohe.transform(df_train[ohe_col])\n",
      "C:\\Users\\nehals4545\\AppData\\Local\\Temp\\ipykernel_6568\\987420072.py:1: PerformanceWarning: DataFrame is highly fragmented.  This is usually the result of calling `frame.insert` many times, which has poor performance.  Consider joining all columns at once using pd.concat(axis=1) instead. To get a de-fragmented frame, use `newframe = frame.copy()`\n",
      "  df_train[new_cols] = ohe.transform(df_train[ohe_col])\n",
      "C:\\Users\\nehals4545\\AppData\\Local\\Temp\\ipykernel_6568\\987420072.py:1: PerformanceWarning: DataFrame is highly fragmented.  This is usually the result of calling `frame.insert` many times, which has poor performance.  Consider joining all columns at once using pd.concat(axis=1) instead. To get a de-fragmented frame, use `newframe = frame.copy()`\n",
      "  df_train[new_cols] = ohe.transform(df_train[ohe_col])\n",
      "C:\\Users\\nehals4545\\AppData\\Local\\Temp\\ipykernel_6568\\987420072.py:1: PerformanceWarning: DataFrame is highly fragmented.  This is usually the result of calling `frame.insert` many times, which has poor performance.  Consider joining all columns at once using pd.concat(axis=1) instead. To get a de-fragmented frame, use `newframe = frame.copy()`\n",
      "  df_train[new_cols] = ohe.transform(df_train[ohe_col])\n",
      "C:\\Users\\nehals4545\\AppData\\Local\\Temp\\ipykernel_6568\\987420072.py:1: PerformanceWarning: DataFrame is highly fragmented.  This is usually the result of calling `frame.insert` many times, which has poor performance.  Consider joining all columns at once using pd.concat(axis=1) instead. To get a de-fragmented frame, use `newframe = frame.copy()`\n",
      "  df_train[new_cols] = ohe.transform(df_train[ohe_col])\n"
     ]
    },
    {
     "name": "stderr",
     "output_type": "stream",
     "text": [
      "C:\\Users\\nehals4545\\AppData\\Local\\Temp\\ipykernel_6568\\987420072.py:1: PerformanceWarning: DataFrame is highly fragmented.  This is usually the result of calling `frame.insert` many times, which has poor performance.  Consider joining all columns at once using pd.concat(axis=1) instead. To get a de-fragmented frame, use `newframe = frame.copy()`\n",
      "  df_train[new_cols] = ohe.transform(df_train[ohe_col])\n",
      "C:\\Users\\nehals4545\\AppData\\Local\\Temp\\ipykernel_6568\\987420072.py:1: PerformanceWarning: DataFrame is highly fragmented.  This is usually the result of calling `frame.insert` many times, which has poor performance.  Consider joining all columns at once using pd.concat(axis=1) instead. To get a de-fragmented frame, use `newframe = frame.copy()`\n",
      "  df_train[new_cols] = ohe.transform(df_train[ohe_col])\n",
      "C:\\Users\\nehals4545\\AppData\\Local\\Temp\\ipykernel_6568\\987420072.py:1: PerformanceWarning: DataFrame is highly fragmented.  This is usually the result of calling `frame.insert` many times, which has poor performance.  Consider joining all columns at once using pd.concat(axis=1) instead. To get a de-fragmented frame, use `newframe = frame.copy()`\n",
      "  df_train[new_cols] = ohe.transform(df_train[ohe_col])\n",
      "C:\\Users\\nehals4545\\AppData\\Local\\Temp\\ipykernel_6568\\987420072.py:1: PerformanceWarning: DataFrame is highly fragmented.  This is usually the result of calling `frame.insert` many times, which has poor performance.  Consider joining all columns at once using pd.concat(axis=1) instead. To get a de-fragmented frame, use `newframe = frame.copy()`\n",
      "  df_train[new_cols] = ohe.transform(df_train[ohe_col])\n",
      "C:\\Users\\nehals4545\\AppData\\Local\\Temp\\ipykernel_6568\\987420072.py:1: PerformanceWarning: DataFrame is highly fragmented.  This is usually the result of calling `frame.insert` many times, which has poor performance.  Consider joining all columns at once using pd.concat(axis=1) instead. To get a de-fragmented frame, use `newframe = frame.copy()`\n",
      "  df_train[new_cols] = ohe.transform(df_train[ohe_col])\n",
      "C:\\Users\\nehals4545\\AppData\\Local\\Temp\\ipykernel_6568\\987420072.py:1: PerformanceWarning: DataFrame is highly fragmented.  This is usually the result of calling `frame.insert` many times, which has poor performance.  Consider joining all columns at once using pd.concat(axis=1) instead. To get a de-fragmented frame, use `newframe = frame.copy()`\n",
      "  df_train[new_cols] = ohe.transform(df_train[ohe_col])\n",
      "C:\\Users\\nehals4545\\AppData\\Local\\Temp\\ipykernel_6568\\987420072.py:1: PerformanceWarning: DataFrame is highly fragmented.  This is usually the result of calling `frame.insert` many times, which has poor performance.  Consider joining all columns at once using pd.concat(axis=1) instead. To get a de-fragmented frame, use `newframe = frame.copy()`\n",
      "  df_train[new_cols] = ohe.transform(df_train[ohe_col])\n",
      "C:\\Users\\nehals4545\\AppData\\Local\\Temp\\ipykernel_6568\\987420072.py:1: PerformanceWarning: DataFrame is highly fragmented.  This is usually the result of calling `frame.insert` many times, which has poor performance.  Consider joining all columns at once using pd.concat(axis=1) instead. To get a de-fragmented frame, use `newframe = frame.copy()`\n",
      "  df_train[new_cols] = ohe.transform(df_train[ohe_col])\n",
      "C:\\Users\\nehals4545\\AppData\\Local\\Temp\\ipykernel_6568\\987420072.py:1: PerformanceWarning: DataFrame is highly fragmented.  This is usually the result of calling `frame.insert` many times, which has poor performance.  Consider joining all columns at once using pd.concat(axis=1) instead. To get a de-fragmented frame, use `newframe = frame.copy()`\n",
      "  df_train[new_cols] = ohe.transform(df_train[ohe_col])\n",
      "C:\\Users\\nehals4545\\AppData\\Local\\Temp\\ipykernel_6568\\987420072.py:1: PerformanceWarning: DataFrame is highly fragmented.  This is usually the result of calling `frame.insert` many times, which has poor performance.  Consider joining all columns at once using pd.concat(axis=1) instead. To get a de-fragmented frame, use `newframe = frame.copy()`\n",
      "  df_train[new_cols] = ohe.transform(df_train[ohe_col])\n",
      "C:\\Users\\nehals4545\\AppData\\Local\\Temp\\ipykernel_6568\\987420072.py:1: PerformanceWarning: DataFrame is highly fragmented.  This is usually the result of calling `frame.insert` many times, which has poor performance.  Consider joining all columns at once using pd.concat(axis=1) instead. To get a de-fragmented frame, use `newframe = frame.copy()`\n",
      "  df_train[new_cols] = ohe.transform(df_train[ohe_col])\n",
      "C:\\Users\\nehals4545\\AppData\\Local\\Temp\\ipykernel_6568\\987420072.py:1: PerformanceWarning: DataFrame is highly fragmented.  This is usually the result of calling `frame.insert` many times, which has poor performance.  Consider joining all columns at once using pd.concat(axis=1) instead. To get a de-fragmented frame, use `newframe = frame.copy()`\n",
      "  df_train[new_cols] = ohe.transform(df_train[ohe_col])\n",
      "C:\\Users\\nehals4545\\AppData\\Local\\Temp\\ipykernel_6568\\987420072.py:1: PerformanceWarning: DataFrame is highly fragmented.  This is usually the result of calling `frame.insert` many times, which has poor performance.  Consider joining all columns at once using pd.concat(axis=1) instead. To get a de-fragmented frame, use `newframe = frame.copy()`\n",
      "  df_train[new_cols] = ohe.transform(df_train[ohe_col])\n",
      "C:\\Users\\nehals4545\\AppData\\Local\\Temp\\ipykernel_6568\\987420072.py:1: PerformanceWarning: DataFrame is highly fragmented.  This is usually the result of calling `frame.insert` many times, which has poor performance.  Consider joining all columns at once using pd.concat(axis=1) instead. To get a de-fragmented frame, use `newframe = frame.copy()`\n",
      "  df_train[new_cols] = ohe.transform(df_train[ohe_col])\n",
      "C:\\Users\\nehals4545\\AppData\\Local\\Temp\\ipykernel_6568\\987420072.py:1: PerformanceWarning: DataFrame is highly fragmented.  This is usually the result of calling `frame.insert` many times, which has poor performance.  Consider joining all columns at once using pd.concat(axis=1) instead. To get a de-fragmented frame, use `newframe = frame.copy()`\n",
      "  df_train[new_cols] = ohe.transform(df_train[ohe_col])\n",
      "C:\\Users\\nehals4545\\AppData\\Local\\Temp\\ipykernel_6568\\987420072.py:1: PerformanceWarning: DataFrame is highly fragmented.  This is usually the result of calling `frame.insert` many times, which has poor performance.  Consider joining all columns at once using pd.concat(axis=1) instead. To get a de-fragmented frame, use `newframe = frame.copy()`\n",
      "  df_train[new_cols] = ohe.transform(df_train[ohe_col])\n",
      "C:\\Users\\nehals4545\\AppData\\Local\\Temp\\ipykernel_6568\\987420072.py:1: PerformanceWarning: DataFrame is highly fragmented.  This is usually the result of calling `frame.insert` many times, which has poor performance.  Consider joining all columns at once using pd.concat(axis=1) instead. To get a de-fragmented frame, use `newframe = frame.copy()`\n",
      "  df_train[new_cols] = ohe.transform(df_train[ohe_col])\n",
      "C:\\Users\\nehals4545\\AppData\\Local\\Temp\\ipykernel_6568\\987420072.py:1: PerformanceWarning: DataFrame is highly fragmented.  This is usually the result of calling `frame.insert` many times, which has poor performance.  Consider joining all columns at once using pd.concat(axis=1) instead. To get a de-fragmented frame, use `newframe = frame.copy()`\n",
      "  df_train[new_cols] = ohe.transform(df_train[ohe_col])\n",
      "C:\\Users\\nehals4545\\AppData\\Local\\Temp\\ipykernel_6568\\987420072.py:1: PerformanceWarning: DataFrame is highly fragmented.  This is usually the result of calling `frame.insert` many times, which has poor performance.  Consider joining all columns at once using pd.concat(axis=1) instead. To get a de-fragmented frame, use `newframe = frame.copy()`\n",
      "  df_train[new_cols] = ohe.transform(df_train[ohe_col])\n",
      "C:\\Users\\nehals4545\\AppData\\Local\\Temp\\ipykernel_6568\\987420072.py:1: PerformanceWarning: DataFrame is highly fragmented.  This is usually the result of calling `frame.insert` many times, which has poor performance.  Consider joining all columns at once using pd.concat(axis=1) instead. To get a de-fragmented frame, use `newframe = frame.copy()`\n",
      "  df_train[new_cols] = ohe.transform(df_train[ohe_col])\n",
      "C:\\Users\\nehals4545\\AppData\\Local\\Temp\\ipykernel_6568\\987420072.py:1: PerformanceWarning: DataFrame is highly fragmented.  This is usually the result of calling `frame.insert` many times, which has poor performance.  Consider joining all columns at once using pd.concat(axis=1) instead. To get a de-fragmented frame, use `newframe = frame.copy()`\n",
      "  df_train[new_cols] = ohe.transform(df_train[ohe_col])\n",
      "C:\\Users\\nehals4545\\AppData\\Local\\Temp\\ipykernel_6568\\987420072.py:1: PerformanceWarning: DataFrame is highly fragmented.  This is usually the result of calling `frame.insert` many times, which has poor performance.  Consider joining all columns at once using pd.concat(axis=1) instead. To get a de-fragmented frame, use `newframe = frame.copy()`\n",
      "  df_train[new_cols] = ohe.transform(df_train[ohe_col])\n",
      "C:\\Users\\nehals4545\\AppData\\Local\\Temp\\ipykernel_6568\\987420072.py:1: PerformanceWarning: DataFrame is highly fragmented.  This is usually the result of calling `frame.insert` many times, which has poor performance.  Consider joining all columns at once using pd.concat(axis=1) instead. To get a de-fragmented frame, use `newframe = frame.copy()`\n",
      "  df_train[new_cols] = ohe.transform(df_train[ohe_col])\n",
      "C:\\Users\\nehals4545\\AppData\\Local\\Temp\\ipykernel_6568\\987420072.py:1: PerformanceWarning: DataFrame is highly fragmented.  This is usually the result of calling `frame.insert` many times, which has poor performance.  Consider joining all columns at once using pd.concat(axis=1) instead. To get a de-fragmented frame, use `newframe = frame.copy()`\n",
      "  df_train[new_cols] = ohe.transform(df_train[ohe_col])\n"
     ]
    },
    {
     "name": "stderr",
     "output_type": "stream",
     "text": [
      "C:\\Users\\nehals4545\\AppData\\Local\\Temp\\ipykernel_6568\\987420072.py:1: PerformanceWarning: DataFrame is highly fragmented.  This is usually the result of calling `frame.insert` many times, which has poor performance.  Consider joining all columns at once using pd.concat(axis=1) instead. To get a de-fragmented frame, use `newframe = frame.copy()`\n",
      "  df_train[new_cols] = ohe.transform(df_train[ohe_col])\n",
      "C:\\Users\\nehals4545\\AppData\\Local\\Temp\\ipykernel_6568\\987420072.py:1: PerformanceWarning: DataFrame is highly fragmented.  This is usually the result of calling `frame.insert` many times, which has poor performance.  Consider joining all columns at once using pd.concat(axis=1) instead. To get a de-fragmented frame, use `newframe = frame.copy()`\n",
      "  df_train[new_cols] = ohe.transform(df_train[ohe_col])\n",
      "C:\\Users\\nehals4545\\AppData\\Local\\Temp\\ipykernel_6568\\987420072.py:1: PerformanceWarning: DataFrame is highly fragmented.  This is usually the result of calling `frame.insert` many times, which has poor performance.  Consider joining all columns at once using pd.concat(axis=1) instead. To get a de-fragmented frame, use `newframe = frame.copy()`\n",
      "  df_train[new_cols] = ohe.transform(df_train[ohe_col])\n",
      "C:\\Users\\nehals4545\\AppData\\Local\\Temp\\ipykernel_6568\\987420072.py:1: PerformanceWarning: DataFrame is highly fragmented.  This is usually the result of calling `frame.insert` many times, which has poor performance.  Consider joining all columns at once using pd.concat(axis=1) instead. To get a de-fragmented frame, use `newframe = frame.copy()`\n",
      "  df_train[new_cols] = ohe.transform(df_train[ohe_col])\n",
      "C:\\Users\\nehals4545\\AppData\\Local\\Temp\\ipykernel_6568\\987420072.py:1: PerformanceWarning: DataFrame is highly fragmented.  This is usually the result of calling `frame.insert` many times, which has poor performance.  Consider joining all columns at once using pd.concat(axis=1) instead. To get a de-fragmented frame, use `newframe = frame.copy()`\n",
      "  df_train[new_cols] = ohe.transform(df_train[ohe_col])\n",
      "C:\\Users\\nehals4545\\AppData\\Local\\Temp\\ipykernel_6568\\987420072.py:1: PerformanceWarning: DataFrame is highly fragmented.  This is usually the result of calling `frame.insert` many times, which has poor performance.  Consider joining all columns at once using pd.concat(axis=1) instead. To get a de-fragmented frame, use `newframe = frame.copy()`\n",
      "  df_train[new_cols] = ohe.transform(df_train[ohe_col])\n",
      "C:\\Users\\nehals4545\\AppData\\Local\\Temp\\ipykernel_6568\\987420072.py:1: PerformanceWarning: DataFrame is highly fragmented.  This is usually the result of calling `frame.insert` many times, which has poor performance.  Consider joining all columns at once using pd.concat(axis=1) instead. To get a de-fragmented frame, use `newframe = frame.copy()`\n",
      "  df_train[new_cols] = ohe.transform(df_train[ohe_col])\n",
      "C:\\Users\\nehals4545\\AppData\\Local\\Temp\\ipykernel_6568\\987420072.py:1: PerformanceWarning: DataFrame is highly fragmented.  This is usually the result of calling `frame.insert` many times, which has poor performance.  Consider joining all columns at once using pd.concat(axis=1) instead. To get a de-fragmented frame, use `newframe = frame.copy()`\n",
      "  df_train[new_cols] = ohe.transform(df_train[ohe_col])\n",
      "C:\\Users\\nehals4545\\AppData\\Local\\Temp\\ipykernel_6568\\987420072.py:1: PerformanceWarning: DataFrame is highly fragmented.  This is usually the result of calling `frame.insert` many times, which has poor performance.  Consider joining all columns at once using pd.concat(axis=1) instead. To get a de-fragmented frame, use `newframe = frame.copy()`\n",
      "  df_train[new_cols] = ohe.transform(df_train[ohe_col])\n",
      "C:\\Users\\nehals4545\\AppData\\Local\\Temp\\ipykernel_6568\\987420072.py:1: PerformanceWarning: DataFrame is highly fragmented.  This is usually the result of calling `frame.insert` many times, which has poor performance.  Consider joining all columns at once using pd.concat(axis=1) instead. To get a de-fragmented frame, use `newframe = frame.copy()`\n",
      "  df_train[new_cols] = ohe.transform(df_train[ohe_col])\n",
      "C:\\Users\\nehals4545\\AppData\\Local\\Temp\\ipykernel_6568\\987420072.py:1: PerformanceWarning: DataFrame is highly fragmented.  This is usually the result of calling `frame.insert` many times, which has poor performance.  Consider joining all columns at once using pd.concat(axis=1) instead. To get a de-fragmented frame, use `newframe = frame.copy()`\n",
      "  df_train[new_cols] = ohe.transform(df_train[ohe_col])\n",
      "C:\\Users\\nehals4545\\AppData\\Local\\Temp\\ipykernel_6568\\987420072.py:1: PerformanceWarning: DataFrame is highly fragmented.  This is usually the result of calling `frame.insert` many times, which has poor performance.  Consider joining all columns at once using pd.concat(axis=1) instead. To get a de-fragmented frame, use `newframe = frame.copy()`\n",
      "  df_train[new_cols] = ohe.transform(df_train[ohe_col])\n",
      "C:\\Users\\nehals4545\\AppData\\Local\\Temp\\ipykernel_6568\\987420072.py:1: PerformanceWarning: DataFrame is highly fragmented.  This is usually the result of calling `frame.insert` many times, which has poor performance.  Consider joining all columns at once using pd.concat(axis=1) instead. To get a de-fragmented frame, use `newframe = frame.copy()`\n",
      "  df_train[new_cols] = ohe.transform(df_train[ohe_col])\n",
      "C:\\Users\\nehals4545\\AppData\\Local\\Temp\\ipykernel_6568\\987420072.py:1: PerformanceWarning: DataFrame is highly fragmented.  This is usually the result of calling `frame.insert` many times, which has poor performance.  Consider joining all columns at once using pd.concat(axis=1) instead. To get a de-fragmented frame, use `newframe = frame.copy()`\n",
      "  df_train[new_cols] = ohe.transform(df_train[ohe_col])\n",
      "C:\\Users\\nehals4545\\AppData\\Local\\Temp\\ipykernel_6568\\987420072.py:1: PerformanceWarning: DataFrame is highly fragmented.  This is usually the result of calling `frame.insert` many times, which has poor performance.  Consider joining all columns at once using pd.concat(axis=1) instead. To get a de-fragmented frame, use `newframe = frame.copy()`\n",
      "  df_train[new_cols] = ohe.transform(df_train[ohe_col])\n",
      "C:\\Users\\nehals4545\\AppData\\Local\\Temp\\ipykernel_6568\\987420072.py:1: PerformanceWarning: DataFrame is highly fragmented.  This is usually the result of calling `frame.insert` many times, which has poor performance.  Consider joining all columns at once using pd.concat(axis=1) instead. To get a de-fragmented frame, use `newframe = frame.copy()`\n",
      "  df_train[new_cols] = ohe.transform(df_train[ohe_col])\n",
      "C:\\Users\\nehals4545\\AppData\\Local\\Temp\\ipykernel_6568\\987420072.py:1: PerformanceWarning: DataFrame is highly fragmented.  This is usually the result of calling `frame.insert` many times, which has poor performance.  Consider joining all columns at once using pd.concat(axis=1) instead. To get a de-fragmented frame, use `newframe = frame.copy()`\n",
      "  df_train[new_cols] = ohe.transform(df_train[ohe_col])\n",
      "C:\\Users\\nehals4545\\AppData\\Local\\Temp\\ipykernel_6568\\987420072.py:1: PerformanceWarning: DataFrame is highly fragmented.  This is usually the result of calling `frame.insert` many times, which has poor performance.  Consider joining all columns at once using pd.concat(axis=1) instead. To get a de-fragmented frame, use `newframe = frame.copy()`\n",
      "  df_train[new_cols] = ohe.transform(df_train[ohe_col])\n",
      "C:\\Users\\nehals4545\\AppData\\Local\\Temp\\ipykernel_6568\\987420072.py:1: PerformanceWarning: DataFrame is highly fragmented.  This is usually the result of calling `frame.insert` many times, which has poor performance.  Consider joining all columns at once using pd.concat(axis=1) instead. To get a de-fragmented frame, use `newframe = frame.copy()`\n",
      "  df_train[new_cols] = ohe.transform(df_train[ohe_col])\n",
      "C:\\Users\\nehals4545\\AppData\\Local\\Temp\\ipykernel_6568\\987420072.py:1: PerformanceWarning: DataFrame is highly fragmented.  This is usually the result of calling `frame.insert` many times, which has poor performance.  Consider joining all columns at once using pd.concat(axis=1) instead. To get a de-fragmented frame, use `newframe = frame.copy()`\n",
      "  df_train[new_cols] = ohe.transform(df_train[ohe_col])\n",
      "C:\\Users\\nehals4545\\AppData\\Local\\Temp\\ipykernel_6568\\987420072.py:1: PerformanceWarning: DataFrame is highly fragmented.  This is usually the result of calling `frame.insert` many times, which has poor performance.  Consider joining all columns at once using pd.concat(axis=1) instead. To get a de-fragmented frame, use `newframe = frame.copy()`\n",
      "  df_train[new_cols] = ohe.transform(df_train[ohe_col])\n",
      "C:\\Users\\nehals4545\\AppData\\Local\\Temp\\ipykernel_6568\\987420072.py:1: PerformanceWarning: DataFrame is highly fragmented.  This is usually the result of calling `frame.insert` many times, which has poor performance.  Consider joining all columns at once using pd.concat(axis=1) instead. To get a de-fragmented frame, use `newframe = frame.copy()`\n",
      "  df_train[new_cols] = ohe.transform(df_train[ohe_col])\n",
      "C:\\Users\\nehals4545\\AppData\\Local\\Temp\\ipykernel_6568\\987420072.py:1: PerformanceWarning: DataFrame is highly fragmented.  This is usually the result of calling `frame.insert` many times, which has poor performance.  Consider joining all columns at once using pd.concat(axis=1) instead. To get a de-fragmented frame, use `newframe = frame.copy()`\n",
      "  df_train[new_cols] = ohe.transform(df_train[ohe_col])\n",
      "C:\\Users\\nehals4545\\AppData\\Local\\Temp\\ipykernel_6568\\987420072.py:1: PerformanceWarning: DataFrame is highly fragmented.  This is usually the result of calling `frame.insert` many times, which has poor performance.  Consider joining all columns at once using pd.concat(axis=1) instead. To get a de-fragmented frame, use `newframe = frame.copy()`\n",
      "  df_train[new_cols] = ohe.transform(df_train[ohe_col])\n",
      "C:\\Users\\nehals4545\\AppData\\Local\\Temp\\ipykernel_6568\\987420072.py:1: PerformanceWarning: DataFrame is highly fragmented.  This is usually the result of calling `frame.insert` many times, which has poor performance.  Consider joining all columns at once using pd.concat(axis=1) instead. To get a de-fragmented frame, use `newframe = frame.copy()`\n",
      "  df_train[new_cols] = ohe.transform(df_train[ohe_col])\n"
     ]
    },
    {
     "name": "stderr",
     "output_type": "stream",
     "text": [
      "C:\\Users\\nehals4545\\AppData\\Local\\Temp\\ipykernel_6568\\987420072.py:1: PerformanceWarning: DataFrame is highly fragmented.  This is usually the result of calling `frame.insert` many times, which has poor performance.  Consider joining all columns at once using pd.concat(axis=1) instead. To get a de-fragmented frame, use `newframe = frame.copy()`\n",
      "  df_train[new_cols] = ohe.transform(df_train[ohe_col])\n",
      "C:\\Users\\nehals4545\\AppData\\Local\\Temp\\ipykernel_6568\\987420072.py:1: PerformanceWarning: DataFrame is highly fragmented.  This is usually the result of calling `frame.insert` many times, which has poor performance.  Consider joining all columns at once using pd.concat(axis=1) instead. To get a de-fragmented frame, use `newframe = frame.copy()`\n",
      "  df_train[new_cols] = ohe.transform(df_train[ohe_col])\n",
      "C:\\Users\\nehals4545\\AppData\\Local\\Temp\\ipykernel_6568\\987420072.py:1: PerformanceWarning: DataFrame is highly fragmented.  This is usually the result of calling `frame.insert` many times, which has poor performance.  Consider joining all columns at once using pd.concat(axis=1) instead. To get a de-fragmented frame, use `newframe = frame.copy()`\n",
      "  df_train[new_cols] = ohe.transform(df_train[ohe_col])\n",
      "C:\\Users\\nehals4545\\AppData\\Local\\Temp\\ipykernel_6568\\987420072.py:1: PerformanceWarning: DataFrame is highly fragmented.  This is usually the result of calling `frame.insert` many times, which has poor performance.  Consider joining all columns at once using pd.concat(axis=1) instead. To get a de-fragmented frame, use `newframe = frame.copy()`\n",
      "  df_train[new_cols] = ohe.transform(df_train[ohe_col])\n",
      "C:\\Users\\nehals4545\\AppData\\Local\\Temp\\ipykernel_6568\\987420072.py:1: PerformanceWarning: DataFrame is highly fragmented.  This is usually the result of calling `frame.insert` many times, which has poor performance.  Consider joining all columns at once using pd.concat(axis=1) instead. To get a de-fragmented frame, use `newframe = frame.copy()`\n",
      "  df_train[new_cols] = ohe.transform(df_train[ohe_col])\n",
      "C:\\Users\\nehals4545\\AppData\\Local\\Temp\\ipykernel_6568\\987420072.py:1: PerformanceWarning: DataFrame is highly fragmented.  This is usually the result of calling `frame.insert` many times, which has poor performance.  Consider joining all columns at once using pd.concat(axis=1) instead. To get a de-fragmented frame, use `newframe = frame.copy()`\n",
      "  df_train[new_cols] = ohe.transform(df_train[ohe_col])\n",
      "C:\\Users\\nehals4545\\AppData\\Local\\Temp\\ipykernel_6568\\987420072.py:1: PerformanceWarning: DataFrame is highly fragmented.  This is usually the result of calling `frame.insert` many times, which has poor performance.  Consider joining all columns at once using pd.concat(axis=1) instead. To get a de-fragmented frame, use `newframe = frame.copy()`\n",
      "  df_train[new_cols] = ohe.transform(df_train[ohe_col])\n",
      "C:\\Users\\nehals4545\\AppData\\Local\\Temp\\ipykernel_6568\\987420072.py:1: PerformanceWarning: DataFrame is highly fragmented.  This is usually the result of calling `frame.insert` many times, which has poor performance.  Consider joining all columns at once using pd.concat(axis=1) instead. To get a de-fragmented frame, use `newframe = frame.copy()`\n",
      "  df_train[new_cols] = ohe.transform(df_train[ohe_col])\n",
      "C:\\Users\\nehals4545\\AppData\\Local\\Temp\\ipykernel_6568\\987420072.py:1: PerformanceWarning: DataFrame is highly fragmented.  This is usually the result of calling `frame.insert` many times, which has poor performance.  Consider joining all columns at once using pd.concat(axis=1) instead. To get a de-fragmented frame, use `newframe = frame.copy()`\n",
      "  df_train[new_cols] = ohe.transform(df_train[ohe_col])\n",
      "C:\\Users\\nehals4545\\AppData\\Local\\Temp\\ipykernel_6568\\987420072.py:2: PerformanceWarning: DataFrame is highly fragmented.  This is usually the result of calling `frame.insert` many times, which has poor performance.  Consider joining all columns at once using pd.concat(axis=1) instead. To get a de-fragmented frame, use `newframe = frame.copy()`\n",
      "  df_test[new_cols] = ohe.transform(df_test[ohe_col])\n",
      "C:\\Users\\nehals4545\\AppData\\Local\\Temp\\ipykernel_6568\\987420072.py:2: PerformanceWarning: DataFrame is highly fragmented.  This is usually the result of calling `frame.insert` many times, which has poor performance.  Consider joining all columns at once using pd.concat(axis=1) instead. To get a de-fragmented frame, use `newframe = frame.copy()`\n",
      "  df_test[new_cols] = ohe.transform(df_test[ohe_col])\n",
      "C:\\Users\\nehals4545\\AppData\\Local\\Temp\\ipykernel_6568\\987420072.py:2: PerformanceWarning: DataFrame is highly fragmented.  This is usually the result of calling `frame.insert` many times, which has poor performance.  Consider joining all columns at once using pd.concat(axis=1) instead. To get a de-fragmented frame, use `newframe = frame.copy()`\n",
      "  df_test[new_cols] = ohe.transform(df_test[ohe_col])\n",
      "C:\\Users\\nehals4545\\AppData\\Local\\Temp\\ipykernel_6568\\987420072.py:2: PerformanceWarning: DataFrame is highly fragmented.  This is usually the result of calling `frame.insert` many times, which has poor performance.  Consider joining all columns at once using pd.concat(axis=1) instead. To get a de-fragmented frame, use `newframe = frame.copy()`\n",
      "  df_test[new_cols] = ohe.transform(df_test[ohe_col])\n",
      "C:\\Users\\nehals4545\\AppData\\Local\\Temp\\ipykernel_6568\\987420072.py:2: PerformanceWarning: DataFrame is highly fragmented.  This is usually the result of calling `frame.insert` many times, which has poor performance.  Consider joining all columns at once using pd.concat(axis=1) instead. To get a de-fragmented frame, use `newframe = frame.copy()`\n",
      "  df_test[new_cols] = ohe.transform(df_test[ohe_col])\n",
      "C:\\Users\\nehals4545\\AppData\\Local\\Temp\\ipykernel_6568\\987420072.py:2: PerformanceWarning: DataFrame is highly fragmented.  This is usually the result of calling `frame.insert` many times, which has poor performance.  Consider joining all columns at once using pd.concat(axis=1) instead. To get a de-fragmented frame, use `newframe = frame.copy()`\n",
      "  df_test[new_cols] = ohe.transform(df_test[ohe_col])\n",
      "C:\\Users\\nehals4545\\AppData\\Local\\Temp\\ipykernel_6568\\987420072.py:2: PerformanceWarning: DataFrame is highly fragmented.  This is usually the result of calling `frame.insert` many times, which has poor performance.  Consider joining all columns at once using pd.concat(axis=1) instead. To get a de-fragmented frame, use `newframe = frame.copy()`\n",
      "  df_test[new_cols] = ohe.transform(df_test[ohe_col])\n",
      "C:\\Users\\nehals4545\\AppData\\Local\\Temp\\ipykernel_6568\\987420072.py:2: PerformanceWarning: DataFrame is highly fragmented.  This is usually the result of calling `frame.insert` many times, which has poor performance.  Consider joining all columns at once using pd.concat(axis=1) instead. To get a de-fragmented frame, use `newframe = frame.copy()`\n",
      "  df_test[new_cols] = ohe.transform(df_test[ohe_col])\n",
      "C:\\Users\\nehals4545\\AppData\\Local\\Temp\\ipykernel_6568\\987420072.py:2: PerformanceWarning: DataFrame is highly fragmented.  This is usually the result of calling `frame.insert` many times, which has poor performance.  Consider joining all columns at once using pd.concat(axis=1) instead. To get a de-fragmented frame, use `newframe = frame.copy()`\n",
      "  df_test[new_cols] = ohe.transform(df_test[ohe_col])\n",
      "C:\\Users\\nehals4545\\AppData\\Local\\Temp\\ipykernel_6568\\987420072.py:2: PerformanceWarning: DataFrame is highly fragmented.  This is usually the result of calling `frame.insert` many times, which has poor performance.  Consider joining all columns at once using pd.concat(axis=1) instead. To get a de-fragmented frame, use `newframe = frame.copy()`\n",
      "  df_test[new_cols] = ohe.transform(df_test[ohe_col])\n",
      "C:\\Users\\nehals4545\\AppData\\Local\\Temp\\ipykernel_6568\\987420072.py:2: PerformanceWarning: DataFrame is highly fragmented.  This is usually the result of calling `frame.insert` many times, which has poor performance.  Consider joining all columns at once using pd.concat(axis=1) instead. To get a de-fragmented frame, use `newframe = frame.copy()`\n",
      "  df_test[new_cols] = ohe.transform(df_test[ohe_col])\n",
      "C:\\Users\\nehals4545\\AppData\\Local\\Temp\\ipykernel_6568\\987420072.py:2: PerformanceWarning: DataFrame is highly fragmented.  This is usually the result of calling `frame.insert` many times, which has poor performance.  Consider joining all columns at once using pd.concat(axis=1) instead. To get a de-fragmented frame, use `newframe = frame.copy()`\n",
      "  df_test[new_cols] = ohe.transform(df_test[ohe_col])\n",
      "C:\\Users\\nehals4545\\AppData\\Local\\Temp\\ipykernel_6568\\987420072.py:2: PerformanceWarning: DataFrame is highly fragmented.  This is usually the result of calling `frame.insert` many times, which has poor performance.  Consider joining all columns at once using pd.concat(axis=1) instead. To get a de-fragmented frame, use `newframe = frame.copy()`\n",
      "  df_test[new_cols] = ohe.transform(df_test[ohe_col])\n"
     ]
    },
    {
     "name": "stderr",
     "output_type": "stream",
     "text": [
      "C:\\Users\\nehals4545\\AppData\\Local\\Temp\\ipykernel_6568\\987420072.py:2: PerformanceWarning: DataFrame is highly fragmented.  This is usually the result of calling `frame.insert` many times, which has poor performance.  Consider joining all columns at once using pd.concat(axis=1) instead. To get a de-fragmented frame, use `newframe = frame.copy()`\n",
      "  df_test[new_cols] = ohe.transform(df_test[ohe_col])\n",
      "C:\\Users\\nehals4545\\AppData\\Local\\Temp\\ipykernel_6568\\987420072.py:2: PerformanceWarning: DataFrame is highly fragmented.  This is usually the result of calling `frame.insert` many times, which has poor performance.  Consider joining all columns at once using pd.concat(axis=1) instead. To get a de-fragmented frame, use `newframe = frame.copy()`\n",
      "  df_test[new_cols] = ohe.transform(df_test[ohe_col])\n",
      "C:\\Users\\nehals4545\\AppData\\Local\\Temp\\ipykernel_6568\\987420072.py:2: PerformanceWarning: DataFrame is highly fragmented.  This is usually the result of calling `frame.insert` many times, which has poor performance.  Consider joining all columns at once using pd.concat(axis=1) instead. To get a de-fragmented frame, use `newframe = frame.copy()`\n",
      "  df_test[new_cols] = ohe.transform(df_test[ohe_col])\n",
      "C:\\Users\\nehals4545\\AppData\\Local\\Temp\\ipykernel_6568\\987420072.py:2: PerformanceWarning: DataFrame is highly fragmented.  This is usually the result of calling `frame.insert` many times, which has poor performance.  Consider joining all columns at once using pd.concat(axis=1) instead. To get a de-fragmented frame, use `newframe = frame.copy()`\n",
      "  df_test[new_cols] = ohe.transform(df_test[ohe_col])\n",
      "C:\\Users\\nehals4545\\AppData\\Local\\Temp\\ipykernel_6568\\987420072.py:2: PerformanceWarning: DataFrame is highly fragmented.  This is usually the result of calling `frame.insert` many times, which has poor performance.  Consider joining all columns at once using pd.concat(axis=1) instead. To get a de-fragmented frame, use `newframe = frame.copy()`\n",
      "  df_test[new_cols] = ohe.transform(df_test[ohe_col])\n",
      "C:\\Users\\nehals4545\\AppData\\Local\\Temp\\ipykernel_6568\\987420072.py:2: PerformanceWarning: DataFrame is highly fragmented.  This is usually the result of calling `frame.insert` many times, which has poor performance.  Consider joining all columns at once using pd.concat(axis=1) instead. To get a de-fragmented frame, use `newframe = frame.copy()`\n",
      "  df_test[new_cols] = ohe.transform(df_test[ohe_col])\n",
      "C:\\Users\\nehals4545\\AppData\\Local\\Temp\\ipykernel_6568\\987420072.py:2: PerformanceWarning: DataFrame is highly fragmented.  This is usually the result of calling `frame.insert` many times, which has poor performance.  Consider joining all columns at once using pd.concat(axis=1) instead. To get a de-fragmented frame, use `newframe = frame.copy()`\n",
      "  df_test[new_cols] = ohe.transform(df_test[ohe_col])\n",
      "C:\\Users\\nehals4545\\AppData\\Local\\Temp\\ipykernel_6568\\987420072.py:2: PerformanceWarning: DataFrame is highly fragmented.  This is usually the result of calling `frame.insert` many times, which has poor performance.  Consider joining all columns at once using pd.concat(axis=1) instead. To get a de-fragmented frame, use `newframe = frame.copy()`\n",
      "  df_test[new_cols] = ohe.transform(df_test[ohe_col])\n",
      "C:\\Users\\nehals4545\\AppData\\Local\\Temp\\ipykernel_6568\\987420072.py:2: PerformanceWarning: DataFrame is highly fragmented.  This is usually the result of calling `frame.insert` many times, which has poor performance.  Consider joining all columns at once using pd.concat(axis=1) instead. To get a de-fragmented frame, use `newframe = frame.copy()`\n",
      "  df_test[new_cols] = ohe.transform(df_test[ohe_col])\n",
      "C:\\Users\\nehals4545\\AppData\\Local\\Temp\\ipykernel_6568\\987420072.py:2: PerformanceWarning: DataFrame is highly fragmented.  This is usually the result of calling `frame.insert` many times, which has poor performance.  Consider joining all columns at once using pd.concat(axis=1) instead. To get a de-fragmented frame, use `newframe = frame.copy()`\n",
      "  df_test[new_cols] = ohe.transform(df_test[ohe_col])\n",
      "C:\\Users\\nehals4545\\AppData\\Local\\Temp\\ipykernel_6568\\987420072.py:2: PerformanceWarning: DataFrame is highly fragmented.  This is usually the result of calling `frame.insert` many times, which has poor performance.  Consider joining all columns at once using pd.concat(axis=1) instead. To get a de-fragmented frame, use `newframe = frame.copy()`\n",
      "  df_test[new_cols] = ohe.transform(df_test[ohe_col])\n",
      "C:\\Users\\nehals4545\\AppData\\Local\\Temp\\ipykernel_6568\\987420072.py:2: PerformanceWarning: DataFrame is highly fragmented.  This is usually the result of calling `frame.insert` many times, which has poor performance.  Consider joining all columns at once using pd.concat(axis=1) instead. To get a de-fragmented frame, use `newframe = frame.copy()`\n",
      "  df_test[new_cols] = ohe.transform(df_test[ohe_col])\n",
      "C:\\Users\\nehals4545\\AppData\\Local\\Temp\\ipykernel_6568\\987420072.py:2: PerformanceWarning: DataFrame is highly fragmented.  This is usually the result of calling `frame.insert` many times, which has poor performance.  Consider joining all columns at once using pd.concat(axis=1) instead. To get a de-fragmented frame, use `newframe = frame.copy()`\n",
      "  df_test[new_cols] = ohe.transform(df_test[ohe_col])\n",
      "C:\\Users\\nehals4545\\AppData\\Local\\Temp\\ipykernel_6568\\987420072.py:2: PerformanceWarning: DataFrame is highly fragmented.  This is usually the result of calling `frame.insert` many times, which has poor performance.  Consider joining all columns at once using pd.concat(axis=1) instead. To get a de-fragmented frame, use `newframe = frame.copy()`\n",
      "  df_test[new_cols] = ohe.transform(df_test[ohe_col])\n",
      "C:\\Users\\nehals4545\\AppData\\Local\\Temp\\ipykernel_6568\\987420072.py:2: PerformanceWarning: DataFrame is highly fragmented.  This is usually the result of calling `frame.insert` many times, which has poor performance.  Consider joining all columns at once using pd.concat(axis=1) instead. To get a de-fragmented frame, use `newframe = frame.copy()`\n",
      "  df_test[new_cols] = ohe.transform(df_test[ohe_col])\n",
      "C:\\Users\\nehals4545\\AppData\\Local\\Temp\\ipykernel_6568\\987420072.py:2: PerformanceWarning: DataFrame is highly fragmented.  This is usually the result of calling `frame.insert` many times, which has poor performance.  Consider joining all columns at once using pd.concat(axis=1) instead. To get a de-fragmented frame, use `newframe = frame.copy()`\n",
      "  df_test[new_cols] = ohe.transform(df_test[ohe_col])\n",
      "C:\\Users\\nehals4545\\AppData\\Local\\Temp\\ipykernel_6568\\987420072.py:2: PerformanceWarning: DataFrame is highly fragmented.  This is usually the result of calling `frame.insert` many times, which has poor performance.  Consider joining all columns at once using pd.concat(axis=1) instead. To get a de-fragmented frame, use `newframe = frame.copy()`\n",
      "  df_test[new_cols] = ohe.transform(df_test[ohe_col])\n",
      "C:\\Users\\nehals4545\\AppData\\Local\\Temp\\ipykernel_6568\\987420072.py:2: PerformanceWarning: DataFrame is highly fragmented.  This is usually the result of calling `frame.insert` many times, which has poor performance.  Consider joining all columns at once using pd.concat(axis=1) instead. To get a de-fragmented frame, use `newframe = frame.copy()`\n",
      "  df_test[new_cols] = ohe.transform(df_test[ohe_col])\n",
      "C:\\Users\\nehals4545\\AppData\\Local\\Temp\\ipykernel_6568\\987420072.py:2: PerformanceWarning: DataFrame is highly fragmented.  This is usually the result of calling `frame.insert` many times, which has poor performance.  Consider joining all columns at once using pd.concat(axis=1) instead. To get a de-fragmented frame, use `newframe = frame.copy()`\n",
      "  df_test[new_cols] = ohe.transform(df_test[ohe_col])\n",
      "C:\\Users\\nehals4545\\AppData\\Local\\Temp\\ipykernel_6568\\987420072.py:2: PerformanceWarning: DataFrame is highly fragmented.  This is usually the result of calling `frame.insert` many times, which has poor performance.  Consider joining all columns at once using pd.concat(axis=1) instead. To get a de-fragmented frame, use `newframe = frame.copy()`\n",
      "  df_test[new_cols] = ohe.transform(df_test[ohe_col])\n",
      "C:\\Users\\nehals4545\\AppData\\Local\\Temp\\ipykernel_6568\\987420072.py:2: PerformanceWarning: DataFrame is highly fragmented.  This is usually the result of calling `frame.insert` many times, which has poor performance.  Consider joining all columns at once using pd.concat(axis=1) instead. To get a de-fragmented frame, use `newframe = frame.copy()`\n",
      "  df_test[new_cols] = ohe.transform(df_test[ohe_col])\n",
      "C:\\Users\\nehals4545\\AppData\\Local\\Temp\\ipykernel_6568\\987420072.py:2: PerformanceWarning: DataFrame is highly fragmented.  This is usually the result of calling `frame.insert` many times, which has poor performance.  Consider joining all columns at once using pd.concat(axis=1) instead. To get a de-fragmented frame, use `newframe = frame.copy()`\n",
      "  df_test[new_cols] = ohe.transform(df_test[ohe_col])\n",
      "C:\\Users\\nehals4545\\AppData\\Local\\Temp\\ipykernel_6568\\987420072.py:2: PerformanceWarning: DataFrame is highly fragmented.  This is usually the result of calling `frame.insert` many times, which has poor performance.  Consider joining all columns at once using pd.concat(axis=1) instead. To get a de-fragmented frame, use `newframe = frame.copy()`\n",
      "  df_test[new_cols] = ohe.transform(df_test[ohe_col])\n"
     ]
    },
    {
     "name": "stderr",
     "output_type": "stream",
     "text": [
      "C:\\Users\\nehals4545\\AppData\\Local\\Temp\\ipykernel_6568\\987420072.py:2: PerformanceWarning: DataFrame is highly fragmented.  This is usually the result of calling `frame.insert` many times, which has poor performance.  Consider joining all columns at once using pd.concat(axis=1) instead. To get a de-fragmented frame, use `newframe = frame.copy()`\n",
      "  df_test[new_cols] = ohe.transform(df_test[ohe_col])\n",
      "C:\\Users\\nehals4545\\AppData\\Local\\Temp\\ipykernel_6568\\987420072.py:2: PerformanceWarning: DataFrame is highly fragmented.  This is usually the result of calling `frame.insert` many times, which has poor performance.  Consider joining all columns at once using pd.concat(axis=1) instead. To get a de-fragmented frame, use `newframe = frame.copy()`\n",
      "  df_test[new_cols] = ohe.transform(df_test[ohe_col])\n",
      "C:\\Users\\nehals4545\\AppData\\Local\\Temp\\ipykernel_6568\\987420072.py:2: PerformanceWarning: DataFrame is highly fragmented.  This is usually the result of calling `frame.insert` many times, which has poor performance.  Consider joining all columns at once using pd.concat(axis=1) instead. To get a de-fragmented frame, use `newframe = frame.copy()`\n",
      "  df_test[new_cols] = ohe.transform(df_test[ohe_col])\n",
      "C:\\Users\\nehals4545\\AppData\\Local\\Temp\\ipykernel_6568\\987420072.py:2: PerformanceWarning: DataFrame is highly fragmented.  This is usually the result of calling `frame.insert` many times, which has poor performance.  Consider joining all columns at once using pd.concat(axis=1) instead. To get a de-fragmented frame, use `newframe = frame.copy()`\n",
      "  df_test[new_cols] = ohe.transform(df_test[ohe_col])\n",
      "C:\\Users\\nehals4545\\AppData\\Local\\Temp\\ipykernel_6568\\987420072.py:2: PerformanceWarning: DataFrame is highly fragmented.  This is usually the result of calling `frame.insert` many times, which has poor performance.  Consider joining all columns at once using pd.concat(axis=1) instead. To get a de-fragmented frame, use `newframe = frame.copy()`\n",
      "  df_test[new_cols] = ohe.transform(df_test[ohe_col])\n",
      "C:\\Users\\nehals4545\\AppData\\Local\\Temp\\ipykernel_6568\\987420072.py:2: PerformanceWarning: DataFrame is highly fragmented.  This is usually the result of calling `frame.insert` many times, which has poor performance.  Consider joining all columns at once using pd.concat(axis=1) instead. To get a de-fragmented frame, use `newframe = frame.copy()`\n",
      "  df_test[new_cols] = ohe.transform(df_test[ohe_col])\n",
      "C:\\Users\\nehals4545\\AppData\\Local\\Temp\\ipykernel_6568\\987420072.py:2: PerformanceWarning: DataFrame is highly fragmented.  This is usually the result of calling `frame.insert` many times, which has poor performance.  Consider joining all columns at once using pd.concat(axis=1) instead. To get a de-fragmented frame, use `newframe = frame.copy()`\n",
      "  df_test[new_cols] = ohe.transform(df_test[ohe_col])\n",
      "C:\\Users\\nehals4545\\AppData\\Local\\Temp\\ipykernel_6568\\987420072.py:2: PerformanceWarning: DataFrame is highly fragmented.  This is usually the result of calling `frame.insert` many times, which has poor performance.  Consider joining all columns at once using pd.concat(axis=1) instead. To get a de-fragmented frame, use `newframe = frame.copy()`\n",
      "  df_test[new_cols] = ohe.transform(df_test[ohe_col])\n",
      "C:\\Users\\nehals4545\\AppData\\Local\\Temp\\ipykernel_6568\\987420072.py:2: PerformanceWarning: DataFrame is highly fragmented.  This is usually the result of calling `frame.insert` many times, which has poor performance.  Consider joining all columns at once using pd.concat(axis=1) instead. To get a de-fragmented frame, use `newframe = frame.copy()`\n",
      "  df_test[new_cols] = ohe.transform(df_test[ohe_col])\n",
      "C:\\Users\\nehals4545\\AppData\\Local\\Temp\\ipykernel_6568\\987420072.py:2: PerformanceWarning: DataFrame is highly fragmented.  This is usually the result of calling `frame.insert` many times, which has poor performance.  Consider joining all columns at once using pd.concat(axis=1) instead. To get a de-fragmented frame, use `newframe = frame.copy()`\n",
      "  df_test[new_cols] = ohe.transform(df_test[ohe_col])\n",
      "C:\\Users\\nehals4545\\AppData\\Local\\Temp\\ipykernel_6568\\987420072.py:2: PerformanceWarning: DataFrame is highly fragmented.  This is usually the result of calling `frame.insert` many times, which has poor performance.  Consider joining all columns at once using pd.concat(axis=1) instead. To get a de-fragmented frame, use `newframe = frame.copy()`\n",
      "  df_test[new_cols] = ohe.transform(df_test[ohe_col])\n",
      "C:\\Users\\nehals4545\\AppData\\Local\\Temp\\ipykernel_6568\\987420072.py:2: PerformanceWarning: DataFrame is highly fragmented.  This is usually the result of calling `frame.insert` many times, which has poor performance.  Consider joining all columns at once using pd.concat(axis=1) instead. To get a de-fragmented frame, use `newframe = frame.copy()`\n",
      "  df_test[new_cols] = ohe.transform(df_test[ohe_col])\n",
      "C:\\Users\\nehals4545\\AppData\\Local\\Temp\\ipykernel_6568\\987420072.py:2: PerformanceWarning: DataFrame is highly fragmented.  This is usually the result of calling `frame.insert` many times, which has poor performance.  Consider joining all columns at once using pd.concat(axis=1) instead. To get a de-fragmented frame, use `newframe = frame.copy()`\n",
      "  df_test[new_cols] = ohe.transform(df_test[ohe_col])\n",
      "C:\\Users\\nehals4545\\AppData\\Local\\Temp\\ipykernel_6568\\987420072.py:2: PerformanceWarning: DataFrame is highly fragmented.  This is usually the result of calling `frame.insert` many times, which has poor performance.  Consider joining all columns at once using pd.concat(axis=1) instead. To get a de-fragmented frame, use `newframe = frame.copy()`\n",
      "  df_test[new_cols] = ohe.transform(df_test[ohe_col])\n",
      "C:\\Users\\nehals4545\\AppData\\Local\\Temp\\ipykernel_6568\\987420072.py:2: PerformanceWarning: DataFrame is highly fragmented.  This is usually the result of calling `frame.insert` many times, which has poor performance.  Consider joining all columns at once using pd.concat(axis=1) instead. To get a de-fragmented frame, use `newframe = frame.copy()`\n",
      "  df_test[new_cols] = ohe.transform(df_test[ohe_col])\n",
      "C:\\Users\\nehals4545\\AppData\\Local\\Temp\\ipykernel_6568\\987420072.py:2: PerformanceWarning: DataFrame is highly fragmented.  This is usually the result of calling `frame.insert` many times, which has poor performance.  Consider joining all columns at once using pd.concat(axis=1) instead. To get a de-fragmented frame, use `newframe = frame.copy()`\n",
      "  df_test[new_cols] = ohe.transform(df_test[ohe_col])\n",
      "C:\\Users\\nehals4545\\AppData\\Local\\Temp\\ipykernel_6568\\987420072.py:2: PerformanceWarning: DataFrame is highly fragmented.  This is usually the result of calling `frame.insert` many times, which has poor performance.  Consider joining all columns at once using pd.concat(axis=1) instead. To get a de-fragmented frame, use `newframe = frame.copy()`\n",
      "  df_test[new_cols] = ohe.transform(df_test[ohe_col])\n",
      "C:\\Users\\nehals4545\\AppData\\Local\\Temp\\ipykernel_6568\\987420072.py:2: PerformanceWarning: DataFrame is highly fragmented.  This is usually the result of calling `frame.insert` many times, which has poor performance.  Consider joining all columns at once using pd.concat(axis=1) instead. To get a de-fragmented frame, use `newframe = frame.copy()`\n",
      "  df_test[new_cols] = ohe.transform(df_test[ohe_col])\n",
      "C:\\Users\\nehals4545\\AppData\\Local\\Temp\\ipykernel_6568\\987420072.py:2: PerformanceWarning: DataFrame is highly fragmented.  This is usually the result of calling `frame.insert` many times, which has poor performance.  Consider joining all columns at once using pd.concat(axis=1) instead. To get a de-fragmented frame, use `newframe = frame.copy()`\n",
      "  df_test[new_cols] = ohe.transform(df_test[ohe_col])\n",
      "C:\\Users\\nehals4545\\AppData\\Local\\Temp\\ipykernel_6568\\987420072.py:2: PerformanceWarning: DataFrame is highly fragmented.  This is usually the result of calling `frame.insert` many times, which has poor performance.  Consider joining all columns at once using pd.concat(axis=1) instead. To get a de-fragmented frame, use `newframe = frame.copy()`\n",
      "  df_test[new_cols] = ohe.transform(df_test[ohe_col])\n",
      "C:\\Users\\nehals4545\\AppData\\Local\\Temp\\ipykernel_6568\\987420072.py:2: PerformanceWarning: DataFrame is highly fragmented.  This is usually the result of calling `frame.insert` many times, which has poor performance.  Consider joining all columns at once using pd.concat(axis=1) instead. To get a de-fragmented frame, use `newframe = frame.copy()`\n",
      "  df_test[new_cols] = ohe.transform(df_test[ohe_col])\n",
      "C:\\Users\\nehals4545\\AppData\\Local\\Temp\\ipykernel_6568\\987420072.py:2: PerformanceWarning: DataFrame is highly fragmented.  This is usually the result of calling `frame.insert` many times, which has poor performance.  Consider joining all columns at once using pd.concat(axis=1) instead. To get a de-fragmented frame, use `newframe = frame.copy()`\n",
      "  df_test[new_cols] = ohe.transform(df_test[ohe_col])\n",
      "C:\\Users\\nehals4545\\AppData\\Local\\Temp\\ipykernel_6568\\987420072.py:2: PerformanceWarning: DataFrame is highly fragmented.  This is usually the result of calling `frame.insert` many times, which has poor performance.  Consider joining all columns at once using pd.concat(axis=1) instead. To get a de-fragmented frame, use `newframe = frame.copy()`\n",
      "  df_test[new_cols] = ohe.transform(df_test[ohe_col])\n"
     ]
    },
    {
     "name": "stderr",
     "output_type": "stream",
     "text": [
      "C:\\Users\\nehals4545\\AppData\\Local\\Temp\\ipykernel_6568\\987420072.py:2: PerformanceWarning: DataFrame is highly fragmented.  This is usually the result of calling `frame.insert` many times, which has poor performance.  Consider joining all columns at once using pd.concat(axis=1) instead. To get a de-fragmented frame, use `newframe = frame.copy()`\n",
      "  df_test[new_cols] = ohe.transform(df_test[ohe_col])\n",
      "C:\\Users\\nehals4545\\AppData\\Local\\Temp\\ipykernel_6568\\987420072.py:2: PerformanceWarning: DataFrame is highly fragmented.  This is usually the result of calling `frame.insert` many times, which has poor performance.  Consider joining all columns at once using pd.concat(axis=1) instead. To get a de-fragmented frame, use `newframe = frame.copy()`\n",
      "  df_test[new_cols] = ohe.transform(df_test[ohe_col])\n",
      "C:\\Users\\nehals4545\\AppData\\Local\\Temp\\ipykernel_6568\\987420072.py:2: PerformanceWarning: DataFrame is highly fragmented.  This is usually the result of calling `frame.insert` many times, which has poor performance.  Consider joining all columns at once using pd.concat(axis=1) instead. To get a de-fragmented frame, use `newframe = frame.copy()`\n",
      "  df_test[new_cols] = ohe.transform(df_test[ohe_col])\n",
      "C:\\Users\\nehals4545\\AppData\\Local\\Temp\\ipykernel_6568\\987420072.py:2: PerformanceWarning: DataFrame is highly fragmented.  This is usually the result of calling `frame.insert` many times, which has poor performance.  Consider joining all columns at once using pd.concat(axis=1) instead. To get a de-fragmented frame, use `newframe = frame.copy()`\n",
      "  df_test[new_cols] = ohe.transform(df_test[ohe_col])\n",
      "C:\\Users\\nehals4545\\AppData\\Local\\Temp\\ipykernel_6568\\987420072.py:2: PerformanceWarning: DataFrame is highly fragmented.  This is usually the result of calling `frame.insert` many times, which has poor performance.  Consider joining all columns at once using pd.concat(axis=1) instead. To get a de-fragmented frame, use `newframe = frame.copy()`\n",
      "  df_test[new_cols] = ohe.transform(df_test[ohe_col])\n",
      "C:\\Users\\nehals4545\\AppData\\Local\\Temp\\ipykernel_6568\\987420072.py:2: PerformanceWarning: DataFrame is highly fragmented.  This is usually the result of calling `frame.insert` many times, which has poor performance.  Consider joining all columns at once using pd.concat(axis=1) instead. To get a de-fragmented frame, use `newframe = frame.copy()`\n",
      "  df_test[new_cols] = ohe.transform(df_test[ohe_col])\n",
      "C:\\Users\\nehals4545\\AppData\\Local\\Temp\\ipykernel_6568\\987420072.py:2: PerformanceWarning: DataFrame is highly fragmented.  This is usually the result of calling `frame.insert` many times, which has poor performance.  Consider joining all columns at once using pd.concat(axis=1) instead. To get a de-fragmented frame, use `newframe = frame.copy()`\n",
      "  df_test[new_cols] = ohe.transform(df_test[ohe_col])\n",
      "C:\\Users\\nehals4545\\AppData\\Local\\Temp\\ipykernel_6568\\987420072.py:2: PerformanceWarning: DataFrame is highly fragmented.  This is usually the result of calling `frame.insert` many times, which has poor performance.  Consider joining all columns at once using pd.concat(axis=1) instead. To get a de-fragmented frame, use `newframe = frame.copy()`\n",
      "  df_test[new_cols] = ohe.transform(df_test[ohe_col])\n",
      "C:\\Users\\nehals4545\\AppData\\Local\\Temp\\ipykernel_6568\\987420072.py:2: PerformanceWarning: DataFrame is highly fragmented.  This is usually the result of calling `frame.insert` many times, which has poor performance.  Consider joining all columns at once using pd.concat(axis=1) instead. To get a de-fragmented frame, use `newframe = frame.copy()`\n",
      "  df_test[new_cols] = ohe.transform(df_test[ohe_col])\n",
      "C:\\Users\\nehals4545\\AppData\\Local\\Temp\\ipykernel_6568\\987420072.py:2: PerformanceWarning: DataFrame is highly fragmented.  This is usually the result of calling `frame.insert` many times, which has poor performance.  Consider joining all columns at once using pd.concat(axis=1) instead. To get a de-fragmented frame, use `newframe = frame.copy()`\n",
      "  df_test[new_cols] = ohe.transform(df_test[ohe_col])\n",
      "C:\\Users\\nehals4545\\AppData\\Local\\Temp\\ipykernel_6568\\987420072.py:2: PerformanceWarning: DataFrame is highly fragmented.  This is usually the result of calling `frame.insert` many times, which has poor performance.  Consider joining all columns at once using pd.concat(axis=1) instead. To get a de-fragmented frame, use `newframe = frame.copy()`\n",
      "  df_test[new_cols] = ohe.transform(df_test[ohe_col])\n",
      "C:\\Users\\nehals4545\\AppData\\Local\\Temp\\ipykernel_6568\\987420072.py:2: PerformanceWarning: DataFrame is highly fragmented.  This is usually the result of calling `frame.insert` many times, which has poor performance.  Consider joining all columns at once using pd.concat(axis=1) instead. To get a de-fragmented frame, use `newframe = frame.copy()`\n",
      "  df_test[new_cols] = ohe.transform(df_test[ohe_col])\n",
      "C:\\Users\\nehals4545\\AppData\\Local\\Temp\\ipykernel_6568\\987420072.py:2: PerformanceWarning: DataFrame is highly fragmented.  This is usually the result of calling `frame.insert` many times, which has poor performance.  Consider joining all columns at once using pd.concat(axis=1) instead. To get a de-fragmented frame, use `newframe = frame.copy()`\n",
      "  df_test[new_cols] = ohe.transform(df_test[ohe_col])\n",
      "C:\\Users\\nehals4545\\AppData\\Local\\Temp\\ipykernel_6568\\987420072.py:2: PerformanceWarning: DataFrame is highly fragmented.  This is usually the result of calling `frame.insert` many times, which has poor performance.  Consider joining all columns at once using pd.concat(axis=1) instead. To get a de-fragmented frame, use `newframe = frame.copy()`\n",
      "  df_test[new_cols] = ohe.transform(df_test[ohe_col])\n",
      "C:\\Users\\nehals4545\\AppData\\Local\\Temp\\ipykernel_6568\\987420072.py:2: PerformanceWarning: DataFrame is highly fragmented.  This is usually the result of calling `frame.insert` many times, which has poor performance.  Consider joining all columns at once using pd.concat(axis=1) instead. To get a de-fragmented frame, use `newframe = frame.copy()`\n",
      "  df_test[new_cols] = ohe.transform(df_test[ohe_col])\n",
      "C:\\Users\\nehals4545\\AppData\\Local\\Temp\\ipykernel_6568\\987420072.py:2: PerformanceWarning: DataFrame is highly fragmented.  This is usually the result of calling `frame.insert` many times, which has poor performance.  Consider joining all columns at once using pd.concat(axis=1) instead. To get a de-fragmented frame, use `newframe = frame.copy()`\n",
      "  df_test[new_cols] = ohe.transform(df_test[ohe_col])\n",
      "C:\\Users\\nehals4545\\AppData\\Local\\Temp\\ipykernel_6568\\987420072.py:2: PerformanceWarning: DataFrame is highly fragmented.  This is usually the result of calling `frame.insert` many times, which has poor performance.  Consider joining all columns at once using pd.concat(axis=1) instead. To get a de-fragmented frame, use `newframe = frame.copy()`\n",
      "  df_test[new_cols] = ohe.transform(df_test[ohe_col])\n",
      "C:\\Users\\nehals4545\\AppData\\Local\\Temp\\ipykernel_6568\\987420072.py:2: PerformanceWarning: DataFrame is highly fragmented.  This is usually the result of calling `frame.insert` many times, which has poor performance.  Consider joining all columns at once using pd.concat(axis=1) instead. To get a de-fragmented frame, use `newframe = frame.copy()`\n",
      "  df_test[new_cols] = ohe.transform(df_test[ohe_col])\n",
      "C:\\Users\\nehals4545\\AppData\\Local\\Temp\\ipykernel_6568\\987420072.py:2: PerformanceWarning: DataFrame is highly fragmented.  This is usually the result of calling `frame.insert` many times, which has poor performance.  Consider joining all columns at once using pd.concat(axis=1) instead. To get a de-fragmented frame, use `newframe = frame.copy()`\n",
      "  df_test[new_cols] = ohe.transform(df_test[ohe_col])\n",
      "C:\\Users\\nehals4545\\AppData\\Local\\Temp\\ipykernel_6568\\987420072.py:2: PerformanceWarning: DataFrame is highly fragmented.  This is usually the result of calling `frame.insert` many times, which has poor performance.  Consider joining all columns at once using pd.concat(axis=1) instead. To get a de-fragmented frame, use `newframe = frame.copy()`\n",
      "  df_test[new_cols] = ohe.transform(df_test[ohe_col])\n",
      "C:\\Users\\nehals4545\\AppData\\Local\\Temp\\ipykernel_6568\\987420072.py:2: PerformanceWarning: DataFrame is highly fragmented.  This is usually the result of calling `frame.insert` many times, which has poor performance.  Consider joining all columns at once using pd.concat(axis=1) instead. To get a de-fragmented frame, use `newframe = frame.copy()`\n",
      "  df_test[new_cols] = ohe.transform(df_test[ohe_col])\n",
      "C:\\Users\\nehals4545\\AppData\\Local\\Temp\\ipykernel_6568\\987420072.py:2: PerformanceWarning: DataFrame is highly fragmented.  This is usually the result of calling `frame.insert` many times, which has poor performance.  Consider joining all columns at once using pd.concat(axis=1) instead. To get a de-fragmented frame, use `newframe = frame.copy()`\n",
      "  df_test[new_cols] = ohe.transform(df_test[ohe_col])\n",
      "C:\\Users\\nehals4545\\AppData\\Local\\Temp\\ipykernel_6568\\987420072.py:2: PerformanceWarning: DataFrame is highly fragmented.  This is usually the result of calling `frame.insert` many times, which has poor performance.  Consider joining all columns at once using pd.concat(axis=1) instead. To get a de-fragmented frame, use `newframe = frame.copy()`\n",
      "  df_test[new_cols] = ohe.transform(df_test[ohe_col])\n",
      "C:\\Users\\nehals4545\\AppData\\Local\\Temp\\ipykernel_6568\\987420072.py:2: PerformanceWarning: DataFrame is highly fragmented.  This is usually the result of calling `frame.insert` many times, which has poor performance.  Consider joining all columns at once using pd.concat(axis=1) instead. To get a de-fragmented frame, use `newframe = frame.copy()`\n",
      "  df_test[new_cols] = ohe.transform(df_test[ohe_col])\n",
      "C:\\Users\\nehals4545\\AppData\\Local\\Temp\\ipykernel_6568\\987420072.py:2: PerformanceWarning: DataFrame is highly fragmented.  This is usually the result of calling `frame.insert` many times, which has poor performance.  Consider joining all columns at once using pd.concat(axis=1) instead. To get a de-fragmented frame, use `newframe = frame.copy()`\n",
      "  df_test[new_cols] = ohe.transform(df_test[ohe_col])\n"
     ]
    },
    {
     "name": "stderr",
     "output_type": "stream",
     "text": [
      "C:\\Users\\nehals4545\\AppData\\Local\\Temp\\ipykernel_6568\\987420072.py:2: PerformanceWarning: DataFrame is highly fragmented.  This is usually the result of calling `frame.insert` many times, which has poor performance.  Consider joining all columns at once using pd.concat(axis=1) instead. To get a de-fragmented frame, use `newframe = frame.copy()`\n",
      "  df_test[new_cols] = ohe.transform(df_test[ohe_col])\n",
      "C:\\Users\\nehals4545\\AppData\\Local\\Temp\\ipykernel_6568\\987420072.py:2: PerformanceWarning: DataFrame is highly fragmented.  This is usually the result of calling `frame.insert` many times, which has poor performance.  Consider joining all columns at once using pd.concat(axis=1) instead. To get a de-fragmented frame, use `newframe = frame.copy()`\n",
      "  df_test[new_cols] = ohe.transform(df_test[ohe_col])\n",
      "C:\\Users\\nehals4545\\AppData\\Local\\Temp\\ipykernel_6568\\987420072.py:2: PerformanceWarning: DataFrame is highly fragmented.  This is usually the result of calling `frame.insert` many times, which has poor performance.  Consider joining all columns at once using pd.concat(axis=1) instead. To get a de-fragmented frame, use `newframe = frame.copy()`\n",
      "  df_test[new_cols] = ohe.transform(df_test[ohe_col])\n",
      "C:\\Users\\nehals4545\\AppData\\Local\\Temp\\ipykernel_6568\\987420072.py:2: PerformanceWarning: DataFrame is highly fragmented.  This is usually the result of calling `frame.insert` many times, which has poor performance.  Consider joining all columns at once using pd.concat(axis=1) instead. To get a de-fragmented frame, use `newframe = frame.copy()`\n",
      "  df_test[new_cols] = ohe.transform(df_test[ohe_col])\n",
      "C:\\Users\\nehals4545\\AppData\\Local\\Temp\\ipykernel_6568\\987420072.py:2: PerformanceWarning: DataFrame is highly fragmented.  This is usually the result of calling `frame.insert` many times, which has poor performance.  Consider joining all columns at once using pd.concat(axis=1) instead. To get a de-fragmented frame, use `newframe = frame.copy()`\n",
      "  df_test[new_cols] = ohe.transform(df_test[ohe_col])\n",
      "C:\\Users\\nehals4545\\AppData\\Local\\Temp\\ipykernel_6568\\987420072.py:2: PerformanceWarning: DataFrame is highly fragmented.  This is usually the result of calling `frame.insert` many times, which has poor performance.  Consider joining all columns at once using pd.concat(axis=1) instead. To get a de-fragmented frame, use `newframe = frame.copy()`\n",
      "  df_test[new_cols] = ohe.transform(df_test[ohe_col])\n",
      "C:\\Users\\nehals4545\\AppData\\Local\\Temp\\ipykernel_6568\\987420072.py:2: PerformanceWarning: DataFrame is highly fragmented.  This is usually the result of calling `frame.insert` many times, which has poor performance.  Consider joining all columns at once using pd.concat(axis=1) instead. To get a de-fragmented frame, use `newframe = frame.copy()`\n",
      "  df_test[new_cols] = ohe.transform(df_test[ohe_col])\n",
      "C:\\Users\\nehals4545\\AppData\\Local\\Temp\\ipykernel_6568\\987420072.py:2: PerformanceWarning: DataFrame is highly fragmented.  This is usually the result of calling `frame.insert` many times, which has poor performance.  Consider joining all columns at once using pd.concat(axis=1) instead. To get a de-fragmented frame, use `newframe = frame.copy()`\n",
      "  df_test[new_cols] = ohe.transform(df_test[ohe_col])\n",
      "C:\\Users\\nehals4545\\AppData\\Local\\Temp\\ipykernel_6568\\987420072.py:2: PerformanceWarning: DataFrame is highly fragmented.  This is usually the result of calling `frame.insert` many times, which has poor performance.  Consider joining all columns at once using pd.concat(axis=1) instead. To get a de-fragmented frame, use `newframe = frame.copy()`\n",
      "  df_test[new_cols] = ohe.transform(df_test[ohe_col])\n",
      "C:\\Users\\nehals4545\\AppData\\Local\\Temp\\ipykernel_6568\\987420072.py:2: PerformanceWarning: DataFrame is highly fragmented.  This is usually the result of calling `frame.insert` many times, which has poor performance.  Consider joining all columns at once using pd.concat(axis=1) instead. To get a de-fragmented frame, use `newframe = frame.copy()`\n",
      "  df_test[new_cols] = ohe.transform(df_test[ohe_col])\n",
      "C:\\Users\\nehals4545\\AppData\\Local\\Temp\\ipykernel_6568\\987420072.py:2: PerformanceWarning: DataFrame is highly fragmented.  This is usually the result of calling `frame.insert` many times, which has poor performance.  Consider joining all columns at once using pd.concat(axis=1) instead. To get a de-fragmented frame, use `newframe = frame.copy()`\n",
      "  df_test[new_cols] = ohe.transform(df_test[ohe_col])\n",
      "C:\\Users\\nehals4545\\AppData\\Local\\Temp\\ipykernel_6568\\987420072.py:2: PerformanceWarning: DataFrame is highly fragmented.  This is usually the result of calling `frame.insert` many times, which has poor performance.  Consider joining all columns at once using pd.concat(axis=1) instead. To get a de-fragmented frame, use `newframe = frame.copy()`\n",
      "  df_test[new_cols] = ohe.transform(df_test[ohe_col])\n",
      "C:\\Users\\nehals4545\\AppData\\Local\\Temp\\ipykernel_6568\\987420072.py:2: PerformanceWarning: DataFrame is highly fragmented.  This is usually the result of calling `frame.insert` many times, which has poor performance.  Consider joining all columns at once using pd.concat(axis=1) instead. To get a de-fragmented frame, use `newframe = frame.copy()`\n",
      "  df_test[new_cols] = ohe.transform(df_test[ohe_col])\n",
      "C:\\Users\\nehals4545\\AppData\\Local\\Temp\\ipykernel_6568\\987420072.py:2: PerformanceWarning: DataFrame is highly fragmented.  This is usually the result of calling `frame.insert` many times, which has poor performance.  Consider joining all columns at once using pd.concat(axis=1) instead. To get a de-fragmented frame, use `newframe = frame.copy()`\n",
      "  df_test[new_cols] = ohe.transform(df_test[ohe_col])\n",
      "C:\\Users\\nehals4545\\AppData\\Local\\Temp\\ipykernel_6568\\987420072.py:2: PerformanceWarning: DataFrame is highly fragmented.  This is usually the result of calling `frame.insert` many times, which has poor performance.  Consider joining all columns at once using pd.concat(axis=1) instead. To get a de-fragmented frame, use `newframe = frame.copy()`\n",
      "  df_test[new_cols] = ohe.transform(df_test[ohe_col])\n",
      "C:\\Users\\nehals4545\\AppData\\Local\\Temp\\ipykernel_6568\\987420072.py:2: PerformanceWarning: DataFrame is highly fragmented.  This is usually the result of calling `frame.insert` many times, which has poor performance.  Consider joining all columns at once using pd.concat(axis=1) instead. To get a de-fragmented frame, use `newframe = frame.copy()`\n",
      "  df_test[new_cols] = ohe.transform(df_test[ohe_col])\n",
      "C:\\Users\\nehals4545\\AppData\\Local\\Temp\\ipykernel_6568\\987420072.py:2: PerformanceWarning: DataFrame is highly fragmented.  This is usually the result of calling `frame.insert` many times, which has poor performance.  Consider joining all columns at once using pd.concat(axis=1) instead. To get a de-fragmented frame, use `newframe = frame.copy()`\n",
      "  df_test[new_cols] = ohe.transform(df_test[ohe_col])\n",
      "C:\\Users\\nehals4545\\AppData\\Local\\Temp\\ipykernel_6568\\987420072.py:2: PerformanceWarning: DataFrame is highly fragmented.  This is usually the result of calling `frame.insert` many times, which has poor performance.  Consider joining all columns at once using pd.concat(axis=1) instead. To get a de-fragmented frame, use `newframe = frame.copy()`\n",
      "  df_test[new_cols] = ohe.transform(df_test[ohe_col])\n",
      "C:\\Users\\nehals4545\\AppData\\Local\\Temp\\ipykernel_6568\\987420072.py:2: PerformanceWarning: DataFrame is highly fragmented.  This is usually the result of calling `frame.insert` many times, which has poor performance.  Consider joining all columns at once using pd.concat(axis=1) instead. To get a de-fragmented frame, use `newframe = frame.copy()`\n",
      "  df_test[new_cols] = ohe.transform(df_test[ohe_col])\n",
      "C:\\Users\\nehals4545\\AppData\\Local\\Temp\\ipykernel_6568\\987420072.py:2: PerformanceWarning: DataFrame is highly fragmented.  This is usually the result of calling `frame.insert` many times, which has poor performance.  Consider joining all columns at once using pd.concat(axis=1) instead. To get a de-fragmented frame, use `newframe = frame.copy()`\n",
      "  df_test[new_cols] = ohe.transform(df_test[ohe_col])\n",
      "C:\\Users\\nehals4545\\AppData\\Local\\Temp\\ipykernel_6568\\987420072.py:2: PerformanceWarning: DataFrame is highly fragmented.  This is usually the result of calling `frame.insert` many times, which has poor performance.  Consider joining all columns at once using pd.concat(axis=1) instead. To get a de-fragmented frame, use `newframe = frame.copy()`\n",
      "  df_test[new_cols] = ohe.transform(df_test[ohe_col])\n",
      "C:\\Users\\nehals4545\\AppData\\Local\\Temp\\ipykernel_6568\\987420072.py:2: PerformanceWarning: DataFrame is highly fragmented.  This is usually the result of calling `frame.insert` many times, which has poor performance.  Consider joining all columns at once using pd.concat(axis=1) instead. To get a de-fragmented frame, use `newframe = frame.copy()`\n",
      "  df_test[new_cols] = ohe.transform(df_test[ohe_col])\n",
      "C:\\Users\\nehals4545\\AppData\\Local\\Temp\\ipykernel_6568\\987420072.py:2: PerformanceWarning: DataFrame is highly fragmented.  This is usually the result of calling `frame.insert` many times, which has poor performance.  Consider joining all columns at once using pd.concat(axis=1) instead. To get a de-fragmented frame, use `newframe = frame.copy()`\n",
      "  df_test[new_cols] = ohe.transform(df_test[ohe_col])\n"
     ]
    },
    {
     "name": "stderr",
     "output_type": "stream",
     "text": [
      "C:\\Users\\nehals4545\\AppData\\Local\\Temp\\ipykernel_6568\\987420072.py:2: PerformanceWarning: DataFrame is highly fragmented.  This is usually the result of calling `frame.insert` many times, which has poor performance.  Consider joining all columns at once using pd.concat(axis=1) instead. To get a de-fragmented frame, use `newframe = frame.copy()`\n",
      "  df_test[new_cols] = ohe.transform(df_test[ohe_col])\n",
      "C:\\Users\\nehals4545\\AppData\\Local\\Temp\\ipykernel_6568\\987420072.py:2: PerformanceWarning: DataFrame is highly fragmented.  This is usually the result of calling `frame.insert` many times, which has poor performance.  Consider joining all columns at once using pd.concat(axis=1) instead. To get a de-fragmented frame, use `newframe = frame.copy()`\n",
      "  df_test[new_cols] = ohe.transform(df_test[ohe_col])\n",
      "C:\\Users\\nehals4545\\AppData\\Local\\Temp\\ipykernel_6568\\987420072.py:2: PerformanceWarning: DataFrame is highly fragmented.  This is usually the result of calling `frame.insert` many times, which has poor performance.  Consider joining all columns at once using pd.concat(axis=1) instead. To get a de-fragmented frame, use `newframe = frame.copy()`\n",
      "  df_test[new_cols] = ohe.transform(df_test[ohe_col])\n",
      "C:\\Users\\nehals4545\\AppData\\Local\\Temp\\ipykernel_6568\\987420072.py:2: PerformanceWarning: DataFrame is highly fragmented.  This is usually the result of calling `frame.insert` many times, which has poor performance.  Consider joining all columns at once using pd.concat(axis=1) instead. To get a de-fragmented frame, use `newframe = frame.copy()`\n",
      "  df_test[new_cols] = ohe.transform(df_test[ohe_col])\n",
      "C:\\Users\\nehals4545\\AppData\\Local\\Temp\\ipykernel_6568\\987420072.py:2: PerformanceWarning: DataFrame is highly fragmented.  This is usually the result of calling `frame.insert` many times, which has poor performance.  Consider joining all columns at once using pd.concat(axis=1) instead. To get a de-fragmented frame, use `newframe = frame.copy()`\n",
      "  df_test[new_cols] = ohe.transform(df_test[ohe_col])\n",
      "C:\\Users\\nehals4545\\AppData\\Local\\Temp\\ipykernel_6568\\987420072.py:2: PerformanceWarning: DataFrame is highly fragmented.  This is usually the result of calling `frame.insert` many times, which has poor performance.  Consider joining all columns at once using pd.concat(axis=1) instead. To get a de-fragmented frame, use `newframe = frame.copy()`\n",
      "  df_test[new_cols] = ohe.transform(df_test[ohe_col])\n",
      "C:\\Users\\nehals4545\\AppData\\Local\\Temp\\ipykernel_6568\\987420072.py:2: PerformanceWarning: DataFrame is highly fragmented.  This is usually the result of calling `frame.insert` many times, which has poor performance.  Consider joining all columns at once using pd.concat(axis=1) instead. To get a de-fragmented frame, use `newframe = frame.copy()`\n",
      "  df_test[new_cols] = ohe.transform(df_test[ohe_col])\n",
      "C:\\Users\\nehals4545\\AppData\\Local\\Temp\\ipykernel_6568\\987420072.py:2: PerformanceWarning: DataFrame is highly fragmented.  This is usually the result of calling `frame.insert` many times, which has poor performance.  Consider joining all columns at once using pd.concat(axis=1) instead. To get a de-fragmented frame, use `newframe = frame.copy()`\n",
      "  df_test[new_cols] = ohe.transform(df_test[ohe_col])\n",
      "C:\\Users\\nehals4545\\AppData\\Local\\Temp\\ipykernel_6568\\987420072.py:2: PerformanceWarning: DataFrame is highly fragmented.  This is usually the result of calling `frame.insert` many times, which has poor performance.  Consider joining all columns at once using pd.concat(axis=1) instead. To get a de-fragmented frame, use `newframe = frame.copy()`\n",
      "  df_test[new_cols] = ohe.transform(df_test[ohe_col])\n",
      "C:\\Users\\nehals4545\\AppData\\Local\\Temp\\ipykernel_6568\\987420072.py:2: PerformanceWarning: DataFrame is highly fragmented.  This is usually the result of calling `frame.insert` many times, which has poor performance.  Consider joining all columns at once using pd.concat(axis=1) instead. To get a de-fragmented frame, use `newframe = frame.copy()`\n",
      "  df_test[new_cols] = ohe.transform(df_test[ohe_col])\n",
      "C:\\Users\\nehals4545\\AppData\\Local\\Temp\\ipykernel_6568\\987420072.py:2: PerformanceWarning: DataFrame is highly fragmented.  This is usually the result of calling `frame.insert` many times, which has poor performance.  Consider joining all columns at once using pd.concat(axis=1) instead. To get a de-fragmented frame, use `newframe = frame.copy()`\n",
      "  df_test[new_cols] = ohe.transform(df_test[ohe_col])\n",
      "C:\\Users\\nehals4545\\AppData\\Local\\Temp\\ipykernel_6568\\987420072.py:2: PerformanceWarning: DataFrame is highly fragmented.  This is usually the result of calling `frame.insert` many times, which has poor performance.  Consider joining all columns at once using pd.concat(axis=1) instead. To get a de-fragmented frame, use `newframe = frame.copy()`\n",
      "  df_test[new_cols] = ohe.transform(df_test[ohe_col])\n",
      "C:\\Users\\nehals4545\\AppData\\Local\\Temp\\ipykernel_6568\\987420072.py:2: PerformanceWarning: DataFrame is highly fragmented.  This is usually the result of calling `frame.insert` many times, which has poor performance.  Consider joining all columns at once using pd.concat(axis=1) instead. To get a de-fragmented frame, use `newframe = frame.copy()`\n",
      "  df_test[new_cols] = ohe.transform(df_test[ohe_col])\n",
      "C:\\Users\\nehals4545\\AppData\\Local\\Temp\\ipykernel_6568\\987420072.py:2: PerformanceWarning: DataFrame is highly fragmented.  This is usually the result of calling `frame.insert` many times, which has poor performance.  Consider joining all columns at once using pd.concat(axis=1) instead. To get a de-fragmented frame, use `newframe = frame.copy()`\n",
      "  df_test[new_cols] = ohe.transform(df_test[ohe_col])\n",
      "C:\\Users\\nehals4545\\AppData\\Local\\Temp\\ipykernel_6568\\987420072.py:2: PerformanceWarning: DataFrame is highly fragmented.  This is usually the result of calling `frame.insert` many times, which has poor performance.  Consider joining all columns at once using pd.concat(axis=1) instead. To get a de-fragmented frame, use `newframe = frame.copy()`\n",
      "  df_test[new_cols] = ohe.transform(df_test[ohe_col])\n",
      "C:\\Users\\nehals4545\\AppData\\Local\\Temp\\ipykernel_6568\\987420072.py:2: PerformanceWarning: DataFrame is highly fragmented.  This is usually the result of calling `frame.insert` many times, which has poor performance.  Consider joining all columns at once using pd.concat(axis=1) instead. To get a de-fragmented frame, use `newframe = frame.copy()`\n",
      "  df_test[new_cols] = ohe.transform(df_test[ohe_col])\n",
      "C:\\Users\\nehals4545\\AppData\\Local\\Temp\\ipykernel_6568\\987420072.py:2: PerformanceWarning: DataFrame is highly fragmented.  This is usually the result of calling `frame.insert` many times, which has poor performance.  Consider joining all columns at once using pd.concat(axis=1) instead. To get a de-fragmented frame, use `newframe = frame.copy()`\n",
      "  df_test[new_cols] = ohe.transform(df_test[ohe_col])\n",
      "C:\\Users\\nehals4545\\AppData\\Local\\Temp\\ipykernel_6568\\987420072.py:2: PerformanceWarning: DataFrame is highly fragmented.  This is usually the result of calling `frame.insert` many times, which has poor performance.  Consider joining all columns at once using pd.concat(axis=1) instead. To get a de-fragmented frame, use `newframe = frame.copy()`\n",
      "  df_test[new_cols] = ohe.transform(df_test[ohe_col])\n",
      "C:\\Users\\nehals4545\\AppData\\Local\\Temp\\ipykernel_6568\\987420072.py:2: PerformanceWarning: DataFrame is highly fragmented.  This is usually the result of calling `frame.insert` many times, which has poor performance.  Consider joining all columns at once using pd.concat(axis=1) instead. To get a de-fragmented frame, use `newframe = frame.copy()`\n",
      "  df_test[new_cols] = ohe.transform(df_test[ohe_col])\n",
      "C:\\Users\\nehals4545\\AppData\\Local\\Temp\\ipykernel_6568\\987420072.py:2: PerformanceWarning: DataFrame is highly fragmented.  This is usually the result of calling `frame.insert` many times, which has poor performance.  Consider joining all columns at once using pd.concat(axis=1) instead. To get a de-fragmented frame, use `newframe = frame.copy()`\n",
      "  df_test[new_cols] = ohe.transform(df_test[ohe_col])\n",
      "C:\\Users\\nehals4545\\AppData\\Local\\Temp\\ipykernel_6568\\987420072.py:2: PerformanceWarning: DataFrame is highly fragmented.  This is usually the result of calling `frame.insert` many times, which has poor performance.  Consider joining all columns at once using pd.concat(axis=1) instead. To get a de-fragmented frame, use `newframe = frame.copy()`\n",
      "  df_test[new_cols] = ohe.transform(df_test[ohe_col])\n",
      "C:\\Users\\nehals4545\\AppData\\Local\\Temp\\ipykernel_6568\\987420072.py:2: PerformanceWarning: DataFrame is highly fragmented.  This is usually the result of calling `frame.insert` many times, which has poor performance.  Consider joining all columns at once using pd.concat(axis=1) instead. To get a de-fragmented frame, use `newframe = frame.copy()`\n",
      "  df_test[new_cols] = ohe.transform(df_test[ohe_col])\n",
      "C:\\Users\\nehals4545\\AppData\\Local\\Temp\\ipykernel_6568\\987420072.py:2: PerformanceWarning: DataFrame is highly fragmented.  This is usually the result of calling `frame.insert` many times, which has poor performance.  Consider joining all columns at once using pd.concat(axis=1) instead. To get a de-fragmented frame, use `newframe = frame.copy()`\n",
      "  df_test[new_cols] = ohe.transform(df_test[ohe_col])\n",
      "C:\\Users\\nehals4545\\AppData\\Local\\Temp\\ipykernel_6568\\987420072.py:2: PerformanceWarning: DataFrame is highly fragmented.  This is usually the result of calling `frame.insert` many times, which has poor performance.  Consider joining all columns at once using pd.concat(axis=1) instead. To get a de-fragmented frame, use `newframe = frame.copy()`\n",
      "  df_test[new_cols] = ohe.transform(df_test[ohe_col])\n",
      "C:\\Users\\nehals4545\\AppData\\Local\\Temp\\ipykernel_6568\\987420072.py:2: PerformanceWarning: DataFrame is highly fragmented.  This is usually the result of calling `frame.insert` many times, which has poor performance.  Consider joining all columns at once using pd.concat(axis=1) instead. To get a de-fragmented frame, use `newframe = frame.copy()`\n",
      "  df_test[new_cols] = ohe.transform(df_test[ohe_col])\n"
     ]
    },
    {
     "name": "stderr",
     "output_type": "stream",
     "text": [
      "C:\\Users\\nehals4545\\AppData\\Local\\Temp\\ipykernel_6568\\987420072.py:2: PerformanceWarning: DataFrame is highly fragmented.  This is usually the result of calling `frame.insert` many times, which has poor performance.  Consider joining all columns at once using pd.concat(axis=1) instead. To get a de-fragmented frame, use `newframe = frame.copy()`\n",
      "  df_test[new_cols] = ohe.transform(df_test[ohe_col])\n",
      "C:\\Users\\nehals4545\\AppData\\Local\\Temp\\ipykernel_6568\\987420072.py:2: PerformanceWarning: DataFrame is highly fragmented.  This is usually the result of calling `frame.insert` many times, which has poor performance.  Consider joining all columns at once using pd.concat(axis=1) instead. To get a de-fragmented frame, use `newframe = frame.copy()`\n",
      "  df_test[new_cols] = ohe.transform(df_test[ohe_col])\n",
      "C:\\Users\\nehals4545\\AppData\\Local\\Temp\\ipykernel_6568\\987420072.py:2: PerformanceWarning: DataFrame is highly fragmented.  This is usually the result of calling `frame.insert` many times, which has poor performance.  Consider joining all columns at once using pd.concat(axis=1) instead. To get a de-fragmented frame, use `newframe = frame.copy()`\n",
      "  df_test[new_cols] = ohe.transform(df_test[ohe_col])\n",
      "C:\\Users\\nehals4545\\AppData\\Local\\Temp\\ipykernel_6568\\987420072.py:2: PerformanceWarning: DataFrame is highly fragmented.  This is usually the result of calling `frame.insert` many times, which has poor performance.  Consider joining all columns at once using pd.concat(axis=1) instead. To get a de-fragmented frame, use `newframe = frame.copy()`\n",
      "  df_test[new_cols] = ohe.transform(df_test[ohe_col])\n",
      "C:\\Users\\nehals4545\\AppData\\Local\\Temp\\ipykernel_6568\\987420072.py:2: PerformanceWarning: DataFrame is highly fragmented.  This is usually the result of calling `frame.insert` many times, which has poor performance.  Consider joining all columns at once using pd.concat(axis=1) instead. To get a de-fragmented frame, use `newframe = frame.copy()`\n",
      "  df_test[new_cols] = ohe.transform(df_test[ohe_col])\n",
      "C:\\Users\\nehals4545\\AppData\\Local\\Temp\\ipykernel_6568\\987420072.py:2: PerformanceWarning: DataFrame is highly fragmented.  This is usually the result of calling `frame.insert` many times, which has poor performance.  Consider joining all columns at once using pd.concat(axis=1) instead. To get a de-fragmented frame, use `newframe = frame.copy()`\n",
      "  df_test[new_cols] = ohe.transform(df_test[ohe_col])\n",
      "C:\\Users\\nehals4545\\AppData\\Local\\Temp\\ipykernel_6568\\987420072.py:2: PerformanceWarning: DataFrame is highly fragmented.  This is usually the result of calling `frame.insert` many times, which has poor performance.  Consider joining all columns at once using pd.concat(axis=1) instead. To get a de-fragmented frame, use `newframe = frame.copy()`\n",
      "  df_test[new_cols] = ohe.transform(df_test[ohe_col])\n",
      "C:\\Users\\nehals4545\\AppData\\Local\\Temp\\ipykernel_6568\\987420072.py:2: PerformanceWarning: DataFrame is highly fragmented.  This is usually the result of calling `frame.insert` many times, which has poor performance.  Consider joining all columns at once using pd.concat(axis=1) instead. To get a de-fragmented frame, use `newframe = frame.copy()`\n",
      "  df_test[new_cols] = ohe.transform(df_test[ohe_col])\n",
      "C:\\Users\\nehals4545\\AppData\\Local\\Temp\\ipykernel_6568\\987420072.py:2: PerformanceWarning: DataFrame is highly fragmented.  This is usually the result of calling `frame.insert` many times, which has poor performance.  Consider joining all columns at once using pd.concat(axis=1) instead. To get a de-fragmented frame, use `newframe = frame.copy()`\n",
      "  df_test[new_cols] = ohe.transform(df_test[ohe_col])\n",
      "C:\\Users\\nehals4545\\AppData\\Local\\Temp\\ipykernel_6568\\987420072.py:2: PerformanceWarning: DataFrame is highly fragmented.  This is usually the result of calling `frame.insert` many times, which has poor performance.  Consider joining all columns at once using pd.concat(axis=1) instead. To get a de-fragmented frame, use `newframe = frame.copy()`\n",
      "  df_test[new_cols] = ohe.transform(df_test[ohe_col])\n",
      "C:\\Users\\nehals4545\\AppData\\Local\\Temp\\ipykernel_6568\\987420072.py:2: PerformanceWarning: DataFrame is highly fragmented.  This is usually the result of calling `frame.insert` many times, which has poor performance.  Consider joining all columns at once using pd.concat(axis=1) instead. To get a de-fragmented frame, use `newframe = frame.copy()`\n",
      "  df_test[new_cols] = ohe.transform(df_test[ohe_col])\n",
      "C:\\Users\\nehals4545\\AppData\\Local\\Temp\\ipykernel_6568\\987420072.py:2: PerformanceWarning: DataFrame is highly fragmented.  This is usually the result of calling `frame.insert` many times, which has poor performance.  Consider joining all columns at once using pd.concat(axis=1) instead. To get a de-fragmented frame, use `newframe = frame.copy()`\n",
      "  df_test[new_cols] = ohe.transform(df_test[ohe_col])\n",
      "C:\\Users\\nehals4545\\AppData\\Local\\Temp\\ipykernel_6568\\987420072.py:2: PerformanceWarning: DataFrame is highly fragmented.  This is usually the result of calling `frame.insert` many times, which has poor performance.  Consider joining all columns at once using pd.concat(axis=1) instead. To get a de-fragmented frame, use `newframe = frame.copy()`\n",
      "  df_test[new_cols] = ohe.transform(df_test[ohe_col])\n",
      "C:\\Users\\nehals4545\\AppData\\Local\\Temp\\ipykernel_6568\\987420072.py:2: PerformanceWarning: DataFrame is highly fragmented.  This is usually the result of calling `frame.insert` many times, which has poor performance.  Consider joining all columns at once using pd.concat(axis=1) instead. To get a de-fragmented frame, use `newframe = frame.copy()`\n",
      "  df_test[new_cols] = ohe.transform(df_test[ohe_col])\n",
      "C:\\Users\\nehals4545\\AppData\\Local\\Temp\\ipykernel_6568\\987420072.py:2: PerformanceWarning: DataFrame is highly fragmented.  This is usually the result of calling `frame.insert` many times, which has poor performance.  Consider joining all columns at once using pd.concat(axis=1) instead. To get a de-fragmented frame, use `newframe = frame.copy()`\n",
      "  df_test[new_cols] = ohe.transform(df_test[ohe_col])\n",
      "C:\\Users\\nehals4545\\AppData\\Local\\Temp\\ipykernel_6568\\987420072.py:2: PerformanceWarning: DataFrame is highly fragmented.  This is usually the result of calling `frame.insert` many times, which has poor performance.  Consider joining all columns at once using pd.concat(axis=1) instead. To get a de-fragmented frame, use `newframe = frame.copy()`\n",
      "  df_test[new_cols] = ohe.transform(df_test[ohe_col])\n",
      "C:\\Users\\nehals4545\\AppData\\Local\\Temp\\ipykernel_6568\\987420072.py:2: PerformanceWarning: DataFrame is highly fragmented.  This is usually the result of calling `frame.insert` many times, which has poor performance.  Consider joining all columns at once using pd.concat(axis=1) instead. To get a de-fragmented frame, use `newframe = frame.copy()`\n",
      "  df_test[new_cols] = ohe.transform(df_test[ohe_col])\n",
      "C:\\Users\\nehals4545\\AppData\\Local\\Temp\\ipykernel_6568\\987420072.py:2: PerformanceWarning: DataFrame is highly fragmented.  This is usually the result of calling `frame.insert` many times, which has poor performance.  Consider joining all columns at once using pd.concat(axis=1) instead. To get a de-fragmented frame, use `newframe = frame.copy()`\n",
      "  df_test[new_cols] = ohe.transform(df_test[ohe_col])\n",
      "C:\\Users\\nehals4545\\AppData\\Local\\Temp\\ipykernel_6568\\987420072.py:2: PerformanceWarning: DataFrame is highly fragmented.  This is usually the result of calling `frame.insert` many times, which has poor performance.  Consider joining all columns at once using pd.concat(axis=1) instead. To get a de-fragmented frame, use `newframe = frame.copy()`\n",
      "  df_test[new_cols] = ohe.transform(df_test[ohe_col])\n",
      "C:\\Users\\nehals4545\\AppData\\Local\\Temp\\ipykernel_6568\\987420072.py:2: PerformanceWarning: DataFrame is highly fragmented.  This is usually the result of calling `frame.insert` many times, which has poor performance.  Consider joining all columns at once using pd.concat(axis=1) instead. To get a de-fragmented frame, use `newframe = frame.copy()`\n",
      "  df_test[new_cols] = ohe.transform(df_test[ohe_col])\n",
      "C:\\Users\\nehals4545\\AppData\\Local\\Temp\\ipykernel_6568\\987420072.py:2: PerformanceWarning: DataFrame is highly fragmented.  This is usually the result of calling `frame.insert` many times, which has poor performance.  Consider joining all columns at once using pd.concat(axis=1) instead. To get a de-fragmented frame, use `newframe = frame.copy()`\n",
      "  df_test[new_cols] = ohe.transform(df_test[ohe_col])\n"
     ]
    },
    {
     "name": "stderr",
     "output_type": "stream",
     "text": [
      "C:\\Users\\nehals4545\\AppData\\Local\\Temp\\ipykernel_6568\\987420072.py:2: PerformanceWarning: DataFrame is highly fragmented.  This is usually the result of calling `frame.insert` many times, which has poor performance.  Consider joining all columns at once using pd.concat(axis=1) instead. To get a de-fragmented frame, use `newframe = frame.copy()`\n",
      "  df_test[new_cols] = ohe.transform(df_test[ohe_col])\n"
     ]
    }
   ],
   "source": [
    "df_train[new_cols] = ohe.transform(df_train[ohe_col])\n",
    "df_test[new_cols] = ohe.transform(df_test[ohe_col])"
   ]
  },
  {
   "cell_type": "code",
   "execution_count": 53,
   "id": "a6ea427b",
   "metadata": {},
   "outputs": [
    {
     "data": {
      "text/html": [
       "<div>\n",
       "<style scoped>\n",
       "    .dataframe tbody tr th:only-of-type {\n",
       "        vertical-align: middle;\n",
       "    }\n",
       "\n",
       "    .dataframe tbody tr th {\n",
       "        vertical-align: top;\n",
       "    }\n",
       "\n",
       "    .dataframe thead th {\n",
       "        text-align: right;\n",
       "    }\n",
       "</style>\n",
       "<table border=\"1\" class=\"dataframe\">\n",
       "  <thead>\n",
       "    <tr style=\"text-align: right;\">\n",
       "      <th></th>\n",
       "      <th>Id</th>\n",
       "      <th>MSSubClass</th>\n",
       "      <th>MSZoning</th>\n",
       "      <th>LotFrontage</th>\n",
       "      <th>LotArea</th>\n",
       "      <th>Street</th>\n",
       "      <th>Alley</th>\n",
       "      <th>LotShape</th>\n",
       "      <th>LandContour</th>\n",
       "      <th>Utilities</th>\n",
       "      <th>...</th>\n",
       "      <th>x34_5</th>\n",
       "      <th>x35_0</th>\n",
       "      <th>x35_1</th>\n",
       "      <th>x35_2</th>\n",
       "      <th>x35_3</th>\n",
       "      <th>x35_4</th>\n",
       "      <th>x35_5</th>\n",
       "      <th>x35_6</th>\n",
       "      <th>x35_7</th>\n",
       "      <th>x35_8</th>\n",
       "    </tr>\n",
       "  </thead>\n",
       "  <tbody>\n",
       "    <tr>\n",
       "      <th>0</th>\n",
       "      <td>1</td>\n",
       "      <td>1</td>\n",
       "      <td>RL</td>\n",
       "      <td>3</td>\n",
       "      <td>1</td>\n",
       "      <td>Pave</td>\n",
       "      <td>NA</td>\n",
       "      <td>0.0</td>\n",
       "      <td>Lvl</td>\n",
       "      <td>0.0</td>\n",
       "      <td>...</td>\n",
       "      <td>0.0</td>\n",
       "      <td>0.0</td>\n",
       "      <td>0.0</td>\n",
       "      <td>0.0</td>\n",
       "      <td>1.0</td>\n",
       "      <td>0.0</td>\n",
       "      <td>0.0</td>\n",
       "      <td>0.0</td>\n",
       "      <td>0.0</td>\n",
       "      <td>0.0</td>\n",
       "    </tr>\n",
       "    <tr>\n",
       "      <th>1</th>\n",
       "      <td>2</td>\n",
       "      <td>0</td>\n",
       "      <td>RL</td>\n",
       "      <td>4</td>\n",
       "      <td>1</td>\n",
       "      <td>Pave</td>\n",
       "      <td>NA</td>\n",
       "      <td>0.0</td>\n",
       "      <td>Lvl</td>\n",
       "      <td>0.0</td>\n",
       "      <td>...</td>\n",
       "      <td>0.0</td>\n",
       "      <td>0.0</td>\n",
       "      <td>0.0</td>\n",
       "      <td>0.0</td>\n",
       "      <td>1.0</td>\n",
       "      <td>0.0</td>\n",
       "      <td>0.0</td>\n",
       "      <td>0.0</td>\n",
       "      <td>0.0</td>\n",
       "      <td>0.0</td>\n",
       "    </tr>\n",
       "    <tr>\n",
       "      <th>2</th>\n",
       "      <td>3</td>\n",
       "      <td>1</td>\n",
       "      <td>RL</td>\n",
       "      <td>3</td>\n",
       "      <td>1</td>\n",
       "      <td>Pave</td>\n",
       "      <td>NA</td>\n",
       "      <td>1.0</td>\n",
       "      <td>Lvl</td>\n",
       "      <td>0.0</td>\n",
       "      <td>...</td>\n",
       "      <td>0.0</td>\n",
       "      <td>0.0</td>\n",
       "      <td>0.0</td>\n",
       "      <td>0.0</td>\n",
       "      <td>0.0</td>\n",
       "      <td>1.0</td>\n",
       "      <td>0.0</td>\n",
       "      <td>0.0</td>\n",
       "      <td>0.0</td>\n",
       "      <td>0.0</td>\n",
       "    </tr>\n",
       "    <tr>\n",
       "      <th>3</th>\n",
       "      <td>4</td>\n",
       "      <td>1</td>\n",
       "      <td>RL</td>\n",
       "      <td>2</td>\n",
       "      <td>1</td>\n",
       "      <td>Pave</td>\n",
       "      <td>NA</td>\n",
       "      <td>1.0</td>\n",
       "      <td>Lvl</td>\n",
       "      <td>0.0</td>\n",
       "      <td>...</td>\n",
       "      <td>0.0</td>\n",
       "      <td>0.0</td>\n",
       "      <td>0.0</td>\n",
       "      <td>0.0</td>\n",
       "      <td>0.0</td>\n",
       "      <td>1.0</td>\n",
       "      <td>0.0</td>\n",
       "      <td>0.0</td>\n",
       "      <td>0.0</td>\n",
       "      <td>0.0</td>\n",
       "    </tr>\n",
       "    <tr>\n",
       "      <th>4</th>\n",
       "      <td>5</td>\n",
       "      <td>1</td>\n",
       "      <td>RL</td>\n",
       "      <td>4</td>\n",
       "      <td>2</td>\n",
       "      <td>Pave</td>\n",
       "      <td>NA</td>\n",
       "      <td>1.0</td>\n",
       "      <td>Lvl</td>\n",
       "      <td>0.0</td>\n",
       "      <td>...</td>\n",
       "      <td>0.0</td>\n",
       "      <td>0.0</td>\n",
       "      <td>0.0</td>\n",
       "      <td>0.0</td>\n",
       "      <td>0.0</td>\n",
       "      <td>0.0</td>\n",
       "      <td>1.0</td>\n",
       "      <td>0.0</td>\n",
       "      <td>0.0</td>\n",
       "      <td>0.0</td>\n",
       "    </tr>\n",
       "  </tbody>\n",
       "</table>\n",
       "<p>5 rows × 332 columns</p>\n",
       "</div>"
      ],
      "text/plain": [
       "   Id MSSubClass MSZoning LotFrontage LotArea Street Alley  LotShape  \\\n",
       "0   1          1       RL           3       1   Pave    NA       0.0   \n",
       "1   2          0       RL           4       1   Pave    NA       0.0   \n",
       "2   3          1       RL           3       1   Pave    NA       1.0   \n",
       "3   4          1       RL           2       1   Pave    NA       1.0   \n",
       "4   5          1       RL           4       2   Pave    NA       1.0   \n",
       "\n",
       "  LandContour  Utilities  ... x34_5 x35_0 x35_1 x35_2 x35_3 x35_4  x35_5  \\\n",
       "0         Lvl        0.0  ...   0.0   0.0   0.0   0.0   1.0   0.0    0.0   \n",
       "1         Lvl        0.0  ...   0.0   0.0   0.0   0.0   1.0   0.0    0.0   \n",
       "2         Lvl        0.0  ...   0.0   0.0   0.0   0.0   0.0   1.0    0.0   \n",
       "3         Lvl        0.0  ...   0.0   0.0   0.0   0.0   0.0   1.0    0.0   \n",
       "4         Lvl        0.0  ...   0.0   0.0   0.0   0.0   0.0   0.0    1.0   \n",
       "\n",
       "   x35_6  x35_7  x35_8  \n",
       "0    0.0    0.0    0.0  \n",
       "1    0.0    0.0    0.0  \n",
       "2    0.0    0.0    0.0  \n",
       "3    0.0    0.0    0.0  \n",
       "4    0.0    0.0    0.0  \n",
       "\n",
       "[5 rows x 332 columns]"
      ]
     },
     "execution_count": 53,
     "metadata": {},
     "output_type": "execute_result"
    }
   ],
   "source": [
    "df_train.head()"
   ]
  },
  {
   "cell_type": "code",
   "execution_count": null,
   "id": "be4375f2",
   "metadata": {},
   "outputs": [],
   "source": []
  },
  {
   "cell_type": "code",
   "execution_count": null,
   "id": "67dbbc8d",
   "metadata": {},
   "outputs": [],
   "source": []
  },
  {
   "cell_type": "code",
   "execution_count": null,
   "id": "b789b3e0",
   "metadata": {},
   "outputs": [],
   "source": []
  },
  {
   "cell_type": "markdown",
   "id": "4fb22a7b",
   "metadata": {},
   "source": [
    "# Feature selection"
   ]
  },
  {
   "cell_type": "code",
   "execution_count": 54,
   "id": "7082c2d4",
   "metadata": {},
   "outputs": [],
   "source": [
    "final_col=list(df_train.corr()['SalePrice'][(df_train.corr()['SalePrice']>=0.06)|(df_train.corr()['SalePrice']<=-0.06)].index)"
   ]
  },
  {
   "cell_type": "code",
   "execution_count": 55,
   "id": "ab93dc04",
   "metadata": {},
   "outputs": [],
   "source": [
    "final_col.remove('SalePrice')"
   ]
  },
  {
   "cell_type": "code",
   "execution_count": 56,
   "id": "6d12e624",
   "metadata": {},
   "outputs": [
    {
     "data": {
      "text/plain": [
       "188"
      ]
     },
     "execution_count": 56,
     "metadata": {},
     "output_type": "execute_result"
    }
   ],
   "source": [
    "len(final_col)"
   ]
  },
  {
   "cell_type": "code",
   "execution_count": 57,
   "id": "f9567b09",
   "metadata": {},
   "outputs": [
    {
     "data": {
      "text/plain": [
       "{'whiskers': [<matplotlib.lines.Line2D at 0x6379e5c0d0>,\n",
       "  <matplotlib.lines.Line2D at 0x6379e5c3a0>],\n",
       " 'caps': [<matplotlib.lines.Line2D at 0x6379e5c730>,\n",
       "  <matplotlib.lines.Line2D at 0x6379e5c940>],\n",
       " 'boxes': [<matplotlib.lines.Line2D at 0x6379e45dc0>],\n",
       " 'medians': [<matplotlib.lines.Line2D at 0x6379e5cc10>],\n",
       " 'fliers': [<matplotlib.lines.Line2D at 0x6379e5cee0>],\n",
       " 'means': []}"
      ]
     },
     "execution_count": 57,
     "metadata": {},
     "output_type": "execute_result"
    },
    {
     "data": {
      "image/png": "[encoded data removed]",
      "text/plain": [
       "<Figure size 432x288 with 1 Axes>"
      ]
     },
     "metadata": {
      "needs_background": "light"
     },
     "output_type": "display_data"
    }
   ],
   "source": [
    "plt.boxplot(df_train['SalePrice'])"
   ]
  },
  {
   "cell_type": "code",
   "execution_count": 58,
   "id": "34016f6b",
   "metadata": {},
   "outputs": [],
   "source": [
    "# IQR\n",
    "# percentile25= df_train['SalePrice'].quantile(0.25)\n",
    "# percentile75= df_train['SalePrice'].quantile(0.75)"
   ]
  },
  {
   "cell_type": "code",
   "execution_count": 59,
   "id": "a37be1f9",
   "metadata": {},
   "outputs": [],
   "source": [
    "# percentile75"
   ]
  },
  {
   "cell_type": "code",
   "execution_count": 60,
   "id": "5de09044",
   "metadata": {},
   "outputs": [],
   "source": [
    "# percentile25"
   ]
  },
  {
   "cell_type": "code",
   "execution_count": 61,
   "id": "1bdf5e3c",
   "metadata": {},
   "outputs": [],
   "source": [
    "# iqr=percentile75-percentile25"
   ]
  },
  {
   "cell_type": "code",
   "execution_count": 62,
   "id": "8184fc1c",
   "metadata": {},
   "outputs": [],
   "source": [
    "# iqr"
   ]
  },
  {
   "cell_type": "code",
   "execution_count": 63,
   "id": "27564bf0",
   "metadata": {},
   "outputs": [],
   "source": [
    "# uper_limit = percentile75 + 1.5 * iqr\n",
    "# lower_limit = percentile25 - 1.5 * iqr"
   ]
  },
  {
   "cell_type": "code",
   "execution_count": 64,
   "id": "d7d535f1",
   "metadata": {},
   "outputs": [],
   "source": [
    "# uper_limit,lower_limit"
   ]
  },
  {
   "cell_type": "code",
   "execution_count": 65,
   "id": "160cc7ce",
   "metadata": {},
   "outputs": [],
   "source": [
    "# df_train[df_train['SalePrice'] > uper_limit]['SalePrice']"
   ]
  },
  {
   "cell_type": "code",
   "execution_count": null,
   "id": "e96e7774",
   "metadata": {},
   "outputs": [],
   "source": []
  },
  {
   "cell_type": "markdown",
   "id": "56684a97",
   "metadata": {},
   "source": [
    "# Trimming"
   ]
  },
  {
   "cell_type": "code",
   "execution_count": 66,
   "id": "87d9f2a9",
   "metadata": {},
   "outputs": [],
   "source": [
    "df_train_new=df_train[df_train['SalePrice'] < 450000]\n",
    "# df_train_new"
   ]
  },
  {
   "cell_type": "code",
   "execution_count": 67,
   "id": "bdaa27b7",
   "metadata": {},
   "outputs": [
    {
     "data": {
      "text/plain": [
       "{'whiskers': [<matplotlib.lines.Line2D at 0x637e0a9040>,\n",
       "  <matplotlib.lines.Line2D at 0x637e0a9310>],\n",
       " 'caps': [<matplotlib.lines.Line2D at 0x637e0a95e0>,\n",
       "  <matplotlib.lines.Line2D at 0x637e0a98b0>],\n",
       " 'boxes': [<matplotlib.lines.Line2D at 0x637e099d30>],\n",
       " 'medians': [<matplotlib.lines.Line2D at 0x637e0a9b80>],\n",
       " 'fliers': [<matplotlib.lines.Line2D at 0x637e0a9e50>],\n",
       " 'means': []}"
      ]
     },
     "execution_count": 67,
     "metadata": {},
     "output_type": "execute_result"
    },
    {
     "data": {
      "image/png": "[encoded data removed]",
      "text/plain": [
       "<Figure size 432x288 with 1 Axes>"
      ]
     },
     "metadata": {
      "needs_background": "light"
     },
     "output_type": "display_data"
    }
   ],
   "source": [
    "plt.boxplot(df_train_new['SalePrice'])"
   ]
  },
  {
   "cell_type": "code",
   "execution_count": 68,
   "id": "e735cbbd",
   "metadata": {},
   "outputs": [],
   "source": [
    "continue_col = list(df_train[num_cols].columns)"
   ]
  },
  {
   "cell_type": "code",
   "execution_count": 69,
   "id": "352154ca",
   "metadata": {},
   "outputs": [
    {
     "data": {
      "text/plain": [
       "(1460, 332)"
      ]
     },
     "execution_count": 69,
     "metadata": {},
     "output_type": "execute_result"
    }
   ],
   "source": [
    "df_train.shape"
   ]
  },
  {
   "cell_type": "code",
   "execution_count": null,
   "id": "839d0148",
   "metadata": {},
   "outputs": [],
   "source": []
  },
  {
   "cell_type": "code",
   "execution_count": null,
   "id": "a8d12d2c",
   "metadata": {},
   "outputs": [],
   "source": []
  },
  {
   "cell_type": "markdown",
   "id": "e0c54c54",
   "metadata": {},
   "source": [
    "# Scaling"
   ]
  },
  {
   "cell_type": "code",
   "execution_count": 70,
   "id": "815cd74e",
   "metadata": {},
   "outputs": [],
   "source": [
    "from sklearn.preprocessing import StandardScaler, MinMaxScaler"
   ]
  },
  {
   "cell_type": "code",
   "execution_count": 71,
   "id": "c155690f",
   "metadata": {},
   "outputs": [],
   "source": [
    "scaler=StandardScaler()"
   ]
  },
  {
   "cell_type": "code",
   "execution_count": 72,
   "id": "2fd21e0f",
   "metadata": {},
   "outputs": [
    {
     "name": "stderr",
     "output_type": "stream",
     "text": [
      "C:\\Users\\nehals4545\\AppData\\Local\\Temp\\ipykernel_6568\\1958270976.py:1: SettingWithCopyWarning: \n",
      "A value is trying to be set on a copy of a slice from a DataFrame.\n",
      "Try using .loc[row_indexer,col_indexer] = value instead\n",
      "\n",
      "See the caveats in the documentation: https://pandas.pydata.org/pandas-docs/stable/user_guide/indexing.html#returning-a-view-versus-a-copy\n",
      "  df_train_new[final_col] =scaler.fit_transform(df_train_new[final_col])\n"
     ]
    }
   ],
   "source": [
    "df_train_new[final_col] =scaler.fit_transform(df_train_new[final_col])"
   ]
  },
  {
   "cell_type": "code",
   "execution_count": 73,
   "id": "62c4791c",
   "metadata": {},
   "outputs": [],
   "source": [
    "df_test[final_col] = scaler.transform(df_test[final_col])"
   ]
  },
  {
   "cell_type": "code",
   "execution_count": null,
   "id": "09ac5c67",
   "metadata": {},
   "outputs": [],
   "source": []
  },
  {
   "cell_type": "code",
   "execution_count": null,
   "id": "2638f65c",
   "metadata": {},
   "outputs": [],
   "source": []
  },
  {
   "cell_type": "code",
   "execution_count": 74,
   "id": "8f183cd2",
   "metadata": {},
   "outputs": [],
   "source": [
    "scalerm=MinMaxScaler()"
   ]
  },
  {
   "cell_type": "code",
   "execution_count": 75,
   "id": "0e699043",
   "metadata": {},
   "outputs": [
    {
     "name": "stderr",
     "output_type": "stream",
     "text": [
      "C:\\Users\\nehals4545\\AppData\\Local\\Temp\\ipykernel_6568\\3043307717.py:1: SettingWithCopyWarning: \n",
      "A value is trying to be set on a copy of a slice from a DataFrame.\n",
      "Try using .loc[row_indexer,col_indexer] = value instead\n",
      "\n",
      "See the caveats in the documentation: https://pandas.pydata.org/pandas-docs/stable/user_guide/indexing.html#returning-a-view-versus-a-copy\n",
      "  df_train_new[final_col] =scalerm.fit_transform(df_train_new[final_col])\n"
     ]
    }
   ],
   "source": [
    "df_train_new[final_col] =scalerm.fit_transform(df_train_new[final_col])"
   ]
  },
  {
   "cell_type": "code",
   "execution_count": 76,
   "id": "912b7cfc",
   "metadata": {},
   "outputs": [],
   "source": [
    "df_test[final_col] = scalerm.transform(df_test[final_col])"
   ]
  },
  {
   "cell_type": "code",
   "execution_count": null,
   "id": "185b9e22",
   "metadata": {},
   "outputs": [],
   "source": []
  },
  {
   "cell_type": "code",
   "execution_count": null,
   "id": "574520fd",
   "metadata": {},
   "outputs": [],
   "source": []
  },
  {
   "cell_type": "markdown",
   "id": "a035ad8a",
   "metadata": {},
   "source": [
    "# model selection"
   ]
  },
  {
   "cell_type": "code",
   "execution_count": 77,
   "id": "f832f70e",
   "metadata": {},
   "outputs": [],
   "source": [
    "from sklearn.linear_model import LinearRegression"
   ]
  },
  {
   "cell_type": "code",
   "execution_count": null,
   "id": "fe0f6127",
   "metadata": {},
   "outputs": [],
   "source": [
    "model_lin=LinearRegression()"
   ]
  },
  {
   "cell_type": "code",
   "execution_count": null,
   "id": "80ecc187",
   "metadata": {},
   "outputs": [],
   "source": [
    "model_lin.fit(df_train[final_col],df_train['SalePrice'])"
   ]
  },
  {
   "cell_type": "code",
   "execution_count": null,
   "id": "004d754c",
   "metadata": {},
   "outputs": [],
   "source": [
    "yp= model_lin.predict(df_test[final_col])"
   ]
  },
  {
   "cell_type": "code",
   "execution_count": null,
   "id": "c8b7905b",
   "metadata": {},
   "outputs": [],
   "source": [
    "df_submission = pd.DataFrame({'Id':df_test['Id'], 'SalePrice':yp})"
   ]
  },
  {
   "cell_type": "code",
   "execution_count": null,
   "id": "59b3da7b",
   "metadata": {},
   "outputs": [],
   "source": [
    "df_submission.to_csv('lin_house01.csv', index=False)"
   ]
  },
  {
   "cell_type": "code",
   "execution_count": null,
   "id": "bad0ccab",
   "metadata": {},
   "outputs": [],
   "source": []
  },
  {
   "cell_type": "code",
   "execution_count": 78,
   "id": "aef45cab",
   "metadata": {},
   "outputs": [],
   "source": [
    "from sklearn.model_selection import GridSearchCV,RandomizedSearchCV\n",
    "from sklearn.ensemble import RandomForestRegressor\n",
    "from sklearn.ensemble import AdaBoostRegressor\n",
    "import xgboost as xgb"
   ]
  },
  {
   "cell_type": "code",
   "execution_count": 79,
   "id": "25426e2a",
   "metadata": {},
   "outputs": [],
   "source": [
    "dict1={'n_estimators':[10,25,50,75,100,150,200,300],\n",
    "       'max_depth':[2,3,4,5,6,7,8,9,10],\n",
    "       'min_samples_leaf':[2,3,4,5,6,7,8],\n",
    "       'min_samples_split':[2,3,4,5,6]}\n",
    "dict2={'n_estimators':[75,100,150,200,300],\n",
    "       'max_depth':[3,4,5,6,7],\n",
    "       'min_samples_leaf':[2,3,4,5],\n",
    "       'min_samples_split':[4,5,6]}\n",
    "\n",
    "dict3={'n_estimators':[1000,1400],\n",
    "       'max_depth':[8,9],\n",
    "       'min_samples_leaf':[2,3],\n",
    "       'min_samples_split':[5,6]}\n",
    "\n",
    "xgb1=xgb.XGBRegressor(n_estimators=1500, \n",
    "                               learning_rate=0.01, \n",
    "                               max_depth = 5, \n",
    "                               min_child_weight=1, \n",
    "                               subsample=1.0, \n",
    "                               colsample_bytree=1.0,\n",
    "                objective='reg:linear')\n",
    "xgb_params={\n",
    " \"learning_rate\"    : [0.05, 0.10] ,\n",
    " \"max_depth\"        : [ 5, 6, 8, 10, 12, 15],\n",
    " \"min_child_weight\" : [ 1, 3, 5, 7 ],\n",
    " \"gamma\"            : [ 0.0, 0.1, 0.2 , 0.3, 0.4 ],\n",
    " \"colsample_bytree\" : [ 0.3, 0.4, 0.5 , 0.7 ]\n",
    "}"
   ]
  },
  {
   "cell_type": "code",
   "execution_count": null,
   "id": "defa7d5a",
   "metadata": {},
   "outputs": [],
   "source": [
    "clf=xgboost.XGBRegressor()"
   ]
  },
  {
   "cell_type": "code",
   "execution_count": null,
   "id": "dca684d6",
   "metadata": {},
   "outputs": [],
   "source": [
    "grid_cv = GridSearchCV(RandomForestRegressor(),param_grid=dict3,verbose=3)"
   ]
  },
  {
   "cell_type": "code",
   "execution_count": null,
   "id": "02281c3d",
   "metadata": {},
   "outputs": [],
   "source": [
    "grid_cv.fit(df_train_new[final_col],df_train_new['SalePrice'])"
   ]
  },
  {
   "cell_type": "code",
   "execution_count": null,
   "id": "0edb904b",
   "metadata": {},
   "outputs": [],
   "source": [
    "grid_cv.best_estimator_"
   ]
  },
  {
   "cell_type": "code",
   "execution_count": null,
   "id": "cdd90198",
   "metadata": {},
   "outputs": [],
   "source": [
    "grid_cv.best_params_"
   ]
  },
  {
   "cell_type": "code",
   "execution_count": null,
   "id": "85a46030",
   "metadata": {},
   "outputs": [],
   "source": [
    "yp1=grid_cv.predict(df_test[final_col])"
   ]
  },
  {
   "cell_type": "code",
   "execution_count": null,
   "id": "658507cd",
   "metadata": {},
   "outputs": [],
   "source": [
    "df_submission1 = pd.DataFrame({'Id':df_test['Id'], 'SalePrice':yp1})"
   ]
  },
  {
   "cell_type": "code",
   "execution_count": null,
   "id": "b1603427",
   "metadata": {},
   "outputs": [],
   "source": [
    "df_submission1.to_csv('grid_house_rf0.csv', index=False)"
   ]
  },
  {
   "cell_type": "code",
   "execution_count": null,
   "id": "2975b6aa",
   "metadata": {},
   "outputs": [],
   "source": []
  },
  {
   "cell_type": "code",
   "execution_count": null,
   "id": "e701f0d7",
   "metadata": {},
   "outputs": [],
   "source": []
  },
  {
   "cell_type": "code",
   "execution_count": null,
   "id": "95dbaee7",
   "metadata": {},
   "outputs": [],
   "source": [
    "random_cv= RandomizedSearchCV(RandomForestRegressor(random_state=17), param_distributions=dict2,cv=5,verbose=2)"
   ]
  },
  {
   "cell_type": "code",
   "execution_count": null,
   "id": "200db639",
   "metadata": {},
   "outputs": [],
   "source": [
    "random_cv.fit(df_train[final_col],df_train['SalePrice'])"
   ]
  },
  {
   "cell_type": "code",
   "execution_count": null,
   "id": "d30e522b",
   "metadata": {},
   "outputs": [],
   "source": [
    "yp2=random_cv.predict(df_test[final_col])"
   ]
  },
  {
   "cell_type": "code",
   "execution_count": null,
   "id": "ab186d1c",
   "metadata": {},
   "outputs": [],
   "source": [
    "df_submission2 = pd.DataFrame({'Id':df_test['Id'], 'SalePrice':yp2})"
   ]
  },
  {
   "cell_type": "code",
   "execution_count": null,
   "id": "b40f8c64",
   "metadata": {},
   "outputs": [],
   "source": [
    "df_submission2.to_csv('rand_house01.csv', index=False)"
   ]
  },
  {
   "cell_type": "code",
   "execution_count": null,
   "id": "20642ead",
   "metadata": {},
   "outputs": [],
   "source": []
  },
  {
   "cell_type": "code",
   "execution_count": null,
   "id": "37c207e5",
   "metadata": {},
   "outputs": [],
   "source": []
  },
  {
   "cell_type": "code",
   "execution_count": null,
   "id": "6bb6346f",
   "metadata": {},
   "outputs": [],
   "source": [
    "from sklearn.ensemble import GradientBoostingRegressor"
   ]
  },
  {
   "cell_type": "code",
   "execution_count": null,
   "id": "0a7d5332",
   "metadata": {},
   "outputs": [],
   "source": [
    "gbr = GradientBoostingRegressor(n_estimators =400, max_depth =5,min_samples_leaf=5,min_samples_split=2,learning_rate=0.1,random_state=78)"
   ]
  },
  {
   "cell_type": "code",
   "execution_count": null,
   "id": "8d002430",
   "metadata": {},
   "outputs": [],
   "source": [
    "gbr.fit(df_train_new[final_col],df_train_new['SalePrice'])"
   ]
  },
  {
   "cell_type": "code",
   "execution_count": null,
   "id": "664f5109",
   "metadata": {},
   "outputs": [],
   "source": [
    "yp6 = gbr.predict(df_test[final_col])"
   ]
  },
  {
   "cell_type": "code",
   "execution_count": null,
   "id": "9581e61b",
   "metadata": {},
   "outputs": [],
   "source": [
    "df_submission6 = pd.DataFrame({'Id':df_test['Id'], 'SalePrice':yp6})"
   ]
  },
  {
   "cell_type": "code",
   "execution_count": null,
   "id": "cf603cf2",
   "metadata": {},
   "outputs": [],
   "source": [
    "df_submission6.to_csv('gbr10.csv', index=False)"
   ]
  },
  {
   "cell_type": "code",
   "execution_count": null,
   "id": "75a286c7",
   "metadata": {},
   "outputs": [],
   "source": []
  },
  {
   "cell_type": "code",
   "execution_count": null,
   "id": "749aa6a0",
   "metadata": {},
   "outputs": [],
   "source": []
  },
  {
   "cell_type": "code",
   "execution_count": null,
   "id": "dbc8efb2",
   "metadata": {},
   "outputs": [],
   "source": [
    "grid_cv1 = GridSearchCV(gbr, param_grid=dict3,cv=5,verbose=3)"
   ]
  },
  {
   "cell_type": "code",
   "execution_count": null,
   "id": "656fc315",
   "metadata": {},
   "outputs": [],
   "source": [
    "grid_cv1.fit(df_train_new[final_col],df_train_new['SalePrice'])"
   ]
  },
  {
   "cell_type": "code",
   "execution_count": null,
   "id": "5153d5e2",
   "metadata": {},
   "outputs": [],
   "source": [
    "yp7=grid_cv1.predict(df_test[final_col])"
   ]
  },
  {
   "cell_type": "code",
   "execution_count": null,
   "id": "33fa144c",
   "metadata": {},
   "outputs": [],
   "source": [
    "df_submission7 = pd.DataFrame({'Id':df_test['Id'], 'SalePrice':yp7})"
   ]
  },
  {
   "cell_type": "code",
   "execution_count": null,
   "id": "795a84d9",
   "metadata": {},
   "outputs": [],
   "source": [
    "df_submission7.to_csv('gbr_gridcv04.csv', index=False)"
   ]
  },
  {
   "cell_type": "code",
   "execution_count": null,
   "id": "6cc968d8",
   "metadata": {},
   "outputs": [],
   "source": []
  },
  {
   "cell_type": "code",
   "execution_count": 80,
   "id": "e78fb134",
   "metadata": {},
   "outputs": [],
   "source": [
    "import xgboost"
   ]
  },
  {
   "cell_type": "code",
   "execution_count": 81,
   "id": "b0f4c651",
   "metadata": {},
   "outputs": [],
   "source": [
    "param_grid = [{'subsample':[0.45,0.5,0.55],'n_estimators':[1200,1400,2000], 'colsample_bytree':[0.4],\n",
    "              'colsample_bylevel':[0.5], 'reg_alpha':[1], 'reg_lambda':[1], 'min_child_weight':[2,4],}]"
   ]
  },
  {
   "cell_type": "code",
   "execution_count": 82,
   "id": "2ec24181",
   "metadata": {},
   "outputs": [],
   "source": [
    "grid_cv1 = GridSearchCV(xgboost.XGBRFRegressor(), param_grid=param_grid,cv=5,verbose=2,n_jobs=-1)"
   ]
  },
  {
   "cell_type": "code",
   "execution_count": 83,
   "id": "9407918a",
   "metadata": {},
   "outputs": [
    {
     "name": "stdout",
     "output_type": "stream",
     "text": [
      "Fitting 5 folds for each of 18 candidates, totalling 90 fits\n"
     ]
    },
    {
     "data": {
      "text/plain": [
       "GridSearchCV(cv=5,\n",
       "             estimator=XGBRFRegressor(base_score=None, booster=None,\n",
       "                                      callbacks=None, colsample_bylevel=None,\n",
       "                                      colsample_bytree=None,\n",
       "                                      early_stopping_rounds=None,\n",
       "                                      enable_categorical=False,\n",
       "                                      eval_metric=None, feature_types=None,\n",
       "                                      gamma=None, gpu_id=None, grow_policy=None,\n",
       "                                      importance_type=None,\n",
       "                                      interaction_constraints=None,\n",
       "                                      max_bin=None, max_cat_threshold=None,\n",
       "                                      max_...\n",
       "                                      missing=nan, monotone_constraints=None,\n",
       "                                      n_estimators=100, n_jobs=None,\n",
       "                                      num_parallel_tree=None,\n",
       "                                      objective='reg:squarederror',\n",
       "                                      predictor=None, random_state=None,\n",
       "                                      reg_alpha=None, ...),\n",
       "             n_jobs=-1,\n",
       "             param_grid=[{'colsample_bylevel': [0.5], 'colsample_bytree': [0.4],\n",
       "                          'min_child_weight': [2, 4],\n",
       "                          'n_estimators': [1200, 1400, 2000], 'reg_alpha': [1],\n",
       "                          'reg_lambda': [1], 'subsample': [0.45, 0.5, 0.55]}],\n",
       "             verbose=2)"
      ]
     },
     "execution_count": 83,
     "metadata": {},
     "output_type": "execute_result"
    }
   ],
   "source": [
    "grid_cv1.fit(df_train_new[final_col],df_train_new['SalePrice'])"
   ]
  },
  {
   "cell_type": "code",
   "execution_count": 84,
   "id": "34767e91",
   "metadata": {},
   "outputs": [],
   "source": [
    "yp8=grid_cv1.predict(df_test[final_col])"
   ]
  },
  {
   "cell_type": "code",
   "execution_count": 85,
   "id": "78d2a5fc",
   "metadata": {},
   "outputs": [],
   "source": [
    "df_submission8 = pd.DataFrame({'Id':df_test['Id'], 'SalePrice':yp8})"
   ]
  },
  {
   "cell_type": "code",
   "execution_count": 86,
   "id": "8c8573a3",
   "metadata": {},
   "outputs": [],
   "source": [
    "df_submission8.to_csv('xgb_gridcv01.csv', index=False)"
   ]
  },
  {
   "cell_type": "code",
   "execution_count": null,
   "id": "9797b9c1",
   "metadata": {},
   "outputs": [],
   "source": []
  }
 ],
 "metadata": {
  "kernelspec": {
   "display_name": "Python 3 (ipykernel)",
   "language": "python",
   "name": "python3"
  },
  "language_info": {
   "codemirror_mode": {
    "name": "ipython",
    "version": 3
   },
   "file_extension": ".py",
   "mimetype": "text/x-python",
   "name": "python",
   "nbconvert_exporter": "python",
   "pygments_lexer": "ipython3",
   "version": "3.9.12"
  }
 },
 "nbformat": 4,
 "nbformat_minor": 5
}
