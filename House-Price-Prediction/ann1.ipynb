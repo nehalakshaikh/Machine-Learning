{
 "cells": [
  {
   "cell_type": "code",
   "execution_count": 1,
   "id": "3da72cd4",
   "metadata": {},
   "outputs": [],
   "source": [
    "import pandas as pd\n",
    "import matplotlib.pyplot as plt\n",
    "# import seaborn as sb\n",
    "\n",
    "import numpy as np\n",
    "# pd.pandas.set_option('display.max_columns',None)"
   ]
  },
  {
   "cell_type": "code",
   "execution_count": 2,
   "id": "df82ed4e",
   "metadata": {},
   "outputs": [],
   "source": [
    "dict1={'MSSubClass'  :[\"\",\"NA\",'NaN'], 'MSZoning'    :[\"\",\"NA\",'NaN'], 'LotFrontage'  :[\"\",\"NA\",'NaN'], 'LotArea'      :[\"\",\"NA\",'NaN'],\n",
    "     'Street'      :[\"\",\"NA\",'NaN'], 'Alley'       :[\"\",\"NaN\"],      'LotShape'     :[\"\",\"NA\",\"NaN\"], 'LandContour'  :[\"\",\"NA\",'NaN'],\n",
    "     'Utilities'   :[\"\",\"NA\",'NaN'], 'LotConfig'   :[\"\",\"NA\",\"NaN\"], 'LandSlope'    :[\"\",\"NA\",\"NaN\"], 'Neighborhood' :[\"\",\"NA\",\"NaN\"],\n",
    "     'Condition1'  :[\"\",\"NA\",\"NaN\"], 'Condition2'  :[\"\",\"NA\",\"NaN\"], 'BldgType'     :[\"\",\"NA\",\"NaN\"], 'HouseStyle'   :[\"\",\"NA\",\"NaN\"],\n",
    "     'OverallQual' :[\"\",\"NA\",\"NaN\"], 'OverallCond' :[\"\",\"NA\",\"NaN\"], 'YearBuilt'    :[\"\",\"NA\",'NaN'], 'YearRemodAdd' :[\"\",\"NA\",'NaN'],\n",
    "     'RoofStyle'   :[\"\",\"NA\",'NaN'], 'RoofMatl'    :[\"\",\"NA\",'NaN'], 'Exterior1st'  :[\"\",\"NA\",'NaN'], 'Exterior2nd'  :[\"\",\"NA\",'NaN'],\n",
    "     'MasVnrType'  :[\"\",\"NA\",'NaN'], 'MasVnrArea'  :[\"\",\"NA\",'NaN'], 'ExterQual'    :[\"\",\"NA\",'NaN'], 'ExterCond'    :[\"\",\"NA\",'NaN'],\n",
    "     'Foundation'  :[\"\",\"NA\",'NaN'], 'BsmtQual'    :[\"\",'NaN'],      'BsmtCond'     :[\"\",'NaN'],      'BsmtExposure' :[\"\",'NaN'],\n",
    "     'BsmtFinType1':[\"\",'NaN'],      'BsmtFinType2':[\"\",'NaN'],      'BsmtFinSF1'   :[\"\",\"NA\",'NaN'], 'BsmtFinSF2'   :[\"\",\"NA\",'NaN'],\n",
    "     'BsmtUnfSF'   :[\"\",\"NA\",'NaN'], 'TotalBsmtSF' :[\"\",\"NA\",'NaN'], 'Heating'      :[\"\",\"NA\",'NaN'], 'HeatingQC'    :[\"\",\"NA\",'NaN'],\n",
    "     'CentralAir'  :[\"\",\"NA\",'NaN'], 'Electrical'  :[\"\",\"NA\",'NaN'], '1stFlrSF'     :[\"\",\"NA\",'NaN'], '2ndFlrSF'     :[\"\",\"NA\",'NaN'],\n",
    "     'LowQualFinSF':[\"\",\"NA\",'NaN'], 'GrLivArea'   :[\"\",\"NA\",'NaN'], 'BsmtFullBath' :[\"\",\"NA\",'NaN'], 'BsmtHalfBath' :[\"\",\"NA\",'NaN'],\n",
    "     'FullBath'    :[\"\",\"NA\",'NaN'], 'HalfBath'    :[\"\",\"NA\",'NaN'], 'Bedroom'      :[\"\",\"NA\",'NaN'], 'Kitchen'      :[\"\",\"NA\",'NaN'],\n",
    "     'KitchenQual' :[\"\",\"NA\",'NaN'], 'TotRmsAbvGrd':[\"\",\"NA\",'NaN'], 'Functional'   :[\"\",\"NA\",'NaN'], 'Fireplaces'   :[\"\",\"NA\",'NaN'],\n",
    "     'FireplaceQu' :[\"\",'NaN'],      'GarageType'  :[\"\",'NaN'],      'GarageYrBlt'  :[\"\",\"NA\",'NaN'], 'GarageFinish' :[\"\",'NaN'],\n",
    "     'GarageCars'  :[\"\",\"NA\",'NaN'], 'GarageArea'  :[\"\",\"NA\",'NaN'], 'GarageQual'   :[\"\",'NaN'],      'GarageCond'   :[\"\",'NaN'],\n",
    "     'PavedDrive'  :[\"\",\"NA\",'NaN'], 'WoodDeckSF'  :[\"\",\"NA\",'NaN'], 'OpenPorchSF'  :[\"\",\"NA\",'NaN'], 'EnclosedPorch':[\"\",\"NA\",'NaN'],\n",
    "     '3SsnPorch'   :[\"\",\"NA\",'NaN'], 'ScreenPorch' :[\"\",\"NA\",'NaN'], 'PoolArea'     :[\"\",\"NA\",\"NaN\"], 'PoolQC'       :[\"\",\"NaN\"],\n",
    "     'Fence'       :[\"\",\"NaN\"],      'MiscFeature' :[\"\",\"NaN\"],      'MiscVal'      :[\"\",\"NA\",\"NaN\"], 'MoSold'       :[\"\",\"NA\",\"NaN\"],\n",
    "     'YrSold'      :[\"\",\"NA\",\"NaN\"], 'SaleType'    :[\"\",\"NA\",\"NaN\"], 'SaleCondition':[\"\",\"NA\",\"NaN\"]\n",
    "     \n",
    "    }"
   ]
  },
  {
   "cell_type": "code",
   "execution_count": 3,
   "id": "a3673886",
   "metadata": {},
   "outputs": [],
   "source": [
    "df_train = pd.read_csv('train.csv', keep_default_na=False, na_values=dict1)\n",
    "df_test = pd.read_csv('test.csv', keep_default_na=False, na_values=dict1)"
   ]
  },
  {
   "cell_type": "markdown",
   "id": "4c0067e7",
   "metadata": {},
   "source": [
    "# EDA"
   ]
  },
  {
   "cell_type": "code",
   "execution_count": 4,
   "id": "28e39635",
   "metadata": {},
   "outputs": [
    {
     "data": {
      "text/html": [
       "<div>\n",
       "<style scoped>\n",
       "    .dataframe tbody tr th:only-of-type {\n",
       "        vertical-align: middle;\n",
       "    }\n",
       "\n",
       "    .dataframe tbody tr th {\n",
       "        vertical-align: top;\n",
       "    }\n",
       "\n",
       "    .dataframe thead th {\n",
       "        text-align: right;\n",
       "    }\n",
       "</style>\n",
       "<table border=\"1\" class=\"dataframe\">\n",
       "  <thead>\n",
       "    <tr style=\"text-align: right;\">\n",
       "      <th></th>\n",
       "      <th>Id</th>\n",
       "      <th>MSSubClass</th>\n",
       "      <th>MSZoning</th>\n",
       "      <th>LotFrontage</th>\n",
       "      <th>LotArea</th>\n",
       "      <th>Street</th>\n",
       "      <th>Alley</th>\n",
       "      <th>LotShape</th>\n",
       "      <th>LandContour</th>\n",
       "      <th>Utilities</th>\n",
       "      <th>...</th>\n",
       "      <th>PoolArea</th>\n",
       "      <th>PoolQC</th>\n",
       "      <th>Fence</th>\n",
       "      <th>MiscFeature</th>\n",
       "      <th>MiscVal</th>\n",
       "      <th>MoSold</th>\n",
       "      <th>YrSold</th>\n",
       "      <th>SaleType</th>\n",
       "      <th>SaleCondition</th>\n",
       "      <th>SalePrice</th>\n",
       "    </tr>\n",
       "  </thead>\n",
       "  <tbody>\n",
       "    <tr>\n",
       "      <th>0</th>\n",
       "      <td>1</td>\n",
       "      <td>60</td>\n",
       "      <td>RL</td>\n",
       "      <td>65.0</td>\n",
       "      <td>8450</td>\n",
       "      <td>Pave</td>\n",
       "      <td>NA</td>\n",
       "      <td>Reg</td>\n",
       "      <td>Lvl</td>\n",
       "      <td>AllPub</td>\n",
       "      <td>...</td>\n",
       "      <td>0</td>\n",
       "      <td>NA</td>\n",
       "      <td>NA</td>\n",
       "      <td>NA</td>\n",
       "      <td>0</td>\n",
       "      <td>2</td>\n",
       "      <td>2008</td>\n",
       "      <td>WD</td>\n",
       "      <td>Normal</td>\n",
       "      <td>208500</td>\n",
       "    </tr>\n",
       "    <tr>\n",
       "      <th>1</th>\n",
       "      <td>2</td>\n",
       "      <td>20</td>\n",
       "      <td>RL</td>\n",
       "      <td>80.0</td>\n",
       "      <td>9600</td>\n",
       "      <td>Pave</td>\n",
       "      <td>NA</td>\n",
       "      <td>Reg</td>\n",
       "      <td>Lvl</td>\n",
       "      <td>AllPub</td>\n",
       "      <td>...</td>\n",
       "      <td>0</td>\n",
       "      <td>NA</td>\n",
       "      <td>NA</td>\n",
       "      <td>NA</td>\n",
       "      <td>0</td>\n",
       "      <td>5</td>\n",
       "      <td>2007</td>\n",
       "      <td>WD</td>\n",
       "      <td>Normal</td>\n",
       "      <td>181500</td>\n",
       "    </tr>\n",
       "    <tr>\n",
       "      <th>2</th>\n",
       "      <td>3</td>\n",
       "      <td>60</td>\n",
       "      <td>RL</td>\n",
       "      <td>68.0</td>\n",
       "      <td>11250</td>\n",
       "      <td>Pave</td>\n",
       "      <td>NA</td>\n",
       "      <td>IR1</td>\n",
       "      <td>Lvl</td>\n",
       "      <td>AllPub</td>\n",
       "      <td>...</td>\n",
       "      <td>0</td>\n",
       "      <td>NA</td>\n",
       "      <td>NA</td>\n",
       "      <td>NA</td>\n",
       "      <td>0</td>\n",
       "      <td>9</td>\n",
       "      <td>2008</td>\n",
       "      <td>WD</td>\n",
       "      <td>Normal</td>\n",
       "      <td>223500</td>\n",
       "    </tr>\n",
       "    <tr>\n",
       "      <th>3</th>\n",
       "      <td>4</td>\n",
       "      <td>70</td>\n",
       "      <td>RL</td>\n",
       "      <td>60.0</td>\n",
       "      <td>9550</td>\n",
       "      <td>Pave</td>\n",
       "      <td>NA</td>\n",
       "      <td>IR1</td>\n",
       "      <td>Lvl</td>\n",
       "      <td>AllPub</td>\n",
       "      <td>...</td>\n",
       "      <td>0</td>\n",
       "      <td>NA</td>\n",
       "      <td>NA</td>\n",
       "      <td>NA</td>\n",
       "      <td>0</td>\n",
       "      <td>2</td>\n",
       "      <td>2006</td>\n",
       "      <td>WD</td>\n",
       "      <td>Abnorml</td>\n",
       "      <td>140000</td>\n",
       "    </tr>\n",
       "    <tr>\n",
       "      <th>4</th>\n",
       "      <td>5</td>\n",
       "      <td>60</td>\n",
       "      <td>RL</td>\n",
       "      <td>84.0</td>\n",
       "      <td>14260</td>\n",
       "      <td>Pave</td>\n",
       "      <td>NA</td>\n",
       "      <td>IR1</td>\n",
       "      <td>Lvl</td>\n",
       "      <td>AllPub</td>\n",
       "      <td>...</td>\n",
       "      <td>0</td>\n",
       "      <td>NA</td>\n",
       "      <td>NA</td>\n",
       "      <td>NA</td>\n",
       "      <td>0</td>\n",
       "      <td>12</td>\n",
       "      <td>2008</td>\n",
       "      <td>WD</td>\n",
       "      <td>Normal</td>\n",
       "      <td>250000</td>\n",
       "    </tr>\n",
       "  </tbody>\n",
       "</table>\n",
       "<p>5 rows × 81 columns</p>\n",
       "</div>"
      ],
      "text/plain": [
       "   Id  MSSubClass MSZoning  LotFrontage  LotArea Street Alley LotShape  \\\n",
       "0   1          60       RL         65.0     8450   Pave    NA      Reg   \n",
       "1   2          20       RL         80.0     9600   Pave    NA      Reg   \n",
       "2   3          60       RL         68.0    11250   Pave    NA      IR1   \n",
       "3   4          70       RL         60.0     9550   Pave    NA      IR1   \n",
       "4   5          60       RL         84.0    14260   Pave    NA      IR1   \n",
       "\n",
       "  LandContour Utilities  ... PoolArea PoolQC Fence MiscFeature MiscVal MoSold  \\\n",
       "0         Lvl    AllPub  ...        0     NA    NA          NA       0      2   \n",
       "1         Lvl    AllPub  ...        0     NA    NA          NA       0      5   \n",
       "2         Lvl    AllPub  ...        0     NA    NA          NA       0      9   \n",
       "3         Lvl    AllPub  ...        0     NA    NA          NA       0      2   \n",
       "4         Lvl    AllPub  ...        0     NA    NA          NA       0     12   \n",
       "\n",
       "  YrSold  SaleType  SaleCondition  SalePrice  \n",
       "0   2008        WD         Normal     208500  \n",
       "1   2007        WD         Normal     181500  \n",
       "2   2008        WD         Normal     223500  \n",
       "3   2006        WD        Abnorml     140000  \n",
       "4   2008        WD         Normal     250000  \n",
       "\n",
       "[5 rows x 81 columns]"
      ]
     },
     "execution_count": 4,
     "metadata": {},
     "output_type": "execute_result"
    }
   ],
   "source": [
    "df_train.head()"
   ]
  },
  {
   "cell_type": "code",
   "execution_count": 5,
   "id": "26ff5cab",
   "metadata": {},
   "outputs": [
    {
     "data": {
      "text/plain": [
       "LotFrontage    259\n",
       "MasVnrType       8\n",
       "MasVnrArea       8\n",
       "Electrical       1\n",
       "GarageYrBlt     81\n",
       "dtype: int64"
      ]
     },
     "execution_count": 5,
     "metadata": {},
     "output_type": "execute_result"
    }
   ],
   "source": [
    "df_train.isna().sum()[df_train.isna().sum()>0]"
   ]
  },
  {
   "cell_type": "code",
   "execution_count": 6,
   "id": "8c965e96",
   "metadata": {},
   "outputs": [
    {
     "data": {
      "text/plain": [
       "MSZoning          4\n",
       "LotFrontage     227\n",
       "Utilities         2\n",
       "Exterior1st       1\n",
       "Exterior2nd       1\n",
       "MasVnrType       16\n",
       "MasVnrArea       15\n",
       "BsmtFinSF1        1\n",
       "BsmtFinSF2        1\n",
       "BsmtUnfSF         1\n",
       "TotalBsmtSF       1\n",
       "BsmtFullBath      2\n",
       "BsmtHalfBath      2\n",
       "KitchenQual       1\n",
       "Functional        2\n",
       "GarageYrBlt      78\n",
       "GarageCars        1\n",
       "GarageArea        1\n",
       "SaleType          1\n",
       "dtype: int64"
      ]
     },
     "execution_count": 6,
     "metadata": {},
     "output_type": "execute_result"
    }
   ],
   "source": [
    "df_test.isna().sum()[df_test.isna().sum()>0]"
   ]
  },
  {
   "cell_type": "code",
   "execution_count": null,
   "id": "982ba70d",
   "metadata": {},
   "outputs": [],
   "source": []
  },
  {
   "cell_type": "code",
   "execution_count": null,
   "id": "f41ce975",
   "metadata": {},
   "outputs": [],
   "source": []
  },
  {
   "cell_type": "markdown",
   "id": "c15066a3",
   "metadata": {},
   "source": [
    "# simple imputer"
   ]
  },
  {
   "cell_type": "code",
   "execution_count": 7,
   "id": "c1071c46",
   "metadata": {},
   "outputs": [],
   "source": [
    "from sklearn.impute import SimpleImputer"
   ]
  },
  {
   "cell_type": "code",
   "execution_count": 8,
   "id": "157ab58a",
   "metadata": {},
   "outputs": [],
   "source": [
    "num_cols = list(df_train.select_dtypes(exclude='object').columns)\n",
    "num_cols.remove('Id')\n",
    "num_cols.remove('SalePrice')\n",
    "cat_cols = list(df_train.select_dtypes(include='object').columns)"
   ]
  },
  {
   "cell_type": "code",
   "execution_count": 9,
   "id": "0933b6cc",
   "metadata": {
    "scrolled": true
   },
   "outputs": [
    {
     "name": "stdout",
     "output_type": "stream",
     "text": [
      "['MSSubClass', 'LotFrontage', 'LotArea', 'OverallQual', 'OverallCond', 'YearBuilt', 'YearRemodAdd', 'MasVnrArea', 'BsmtFinSF1', 'BsmtFinSF2', 'BsmtUnfSF', 'TotalBsmtSF', '1stFlrSF', '2ndFlrSF', 'LowQualFinSF', 'GrLivArea', 'BsmtFullBath', 'BsmtHalfBath', 'FullBath', 'HalfBath', 'BedroomAbvGr', 'KitchenAbvGr', 'TotRmsAbvGrd', 'Fireplaces', 'GarageYrBlt', 'GarageCars', 'GarageArea', 'WoodDeckSF', 'OpenPorchSF', 'EnclosedPorch', '3SsnPorch', 'ScreenPorch', 'PoolArea', 'MiscVal', 'MoSold', 'YrSold']\n"
     ]
    }
   ],
   "source": [
    "print(num_cols)"
   ]
  },
  {
   "cell_type": "code",
   "execution_count": 10,
   "id": "58e5e461",
   "metadata": {},
   "outputs": [
    {
     "name": "stdout",
     "output_type": "stream",
     "text": [
      "['MSZoning', 'Street', 'Alley', 'LotShape', 'LandContour', 'Utilities', 'LotConfig', 'LandSlope', 'Neighborhood', 'Condition1', 'Condition2', 'BldgType', 'HouseStyle', 'RoofStyle', 'RoofMatl', 'Exterior1st', 'Exterior2nd', 'MasVnrType', 'ExterQual', 'ExterCond', 'Foundation', 'BsmtQual', 'BsmtCond', 'BsmtExposure', 'BsmtFinType1', 'BsmtFinType2', 'Heating', 'HeatingQC', 'CentralAir', 'Electrical', 'KitchenQual', 'Functional', 'FireplaceQu', 'GarageType', 'GarageFinish', 'GarageQual', 'GarageCond', 'PavedDrive', 'PoolQC', 'Fence', 'MiscFeature', 'SaleType', 'SaleCondition']\n"
     ]
    }
   ],
   "source": [
    "print(cat_cols)"
   ]
  },
  {
   "cell_type": "code",
   "execution_count": null,
   "id": "7f67b1d9",
   "metadata": {},
   "outputs": [],
   "source": []
  },
  {
   "cell_type": "code",
   "execution_count": 11,
   "id": "43ed8e16",
   "metadata": {},
   "outputs": [],
   "source": [
    "imputer_num=SimpleImputer(strategy='median')\n",
    "imputer_cat=SimpleImputer(strategy='most_frequent')\n",
    "\n",
    "imputer_num.fit(df_train[num_cols])\n",
    "imputer_cat.fit(df_train[cat_cols])\n",
    "\n",
    "df_train[num_cols]=imputer_num.transform(df_train[num_cols])\n",
    "df_train[cat_cols]=imputer_cat.transform(df_train[cat_cols])\n",
    "\n",
    "df_test[num_cols]=imputer_num.transform(df_test[num_cols])\n",
    "df_test[cat_cols]=imputer_cat.transform(df_test[cat_cols])\n"
   ]
  },
  {
   "cell_type": "markdown",
   "id": "3973620e",
   "metadata": {},
   "source": [
    "# EDA"
   ]
  },
  {
   "cell_type": "code",
   "execution_count": 12,
   "id": "ce3db96a",
   "metadata": {},
   "outputs": [
    {
     "data": {
      "text/plain": [
       "0"
      ]
     },
     "execution_count": 12,
     "metadata": {},
     "output_type": "execute_result"
    }
   ],
   "source": [
    "df_train.isna().sum().sum()"
   ]
  },
  {
   "cell_type": "code",
   "execution_count": 13,
   "id": "26cacd6c",
   "metadata": {},
   "outputs": [
    {
     "data": {
      "text/plain": [
       "(array([148., 723., 373., 135.,  51.,  19.,   4.,   3.,   2.,   2.]),\n",
       " array([ 34900., 106910., 178920., 250930., 322940., 394950., 466960.,\n",
       "        538970., 610980., 682990., 755000.]),\n",
       " <BarContainer object of 10 artists>)"
      ]
     },
     "execution_count": 13,
     "metadata": {},
     "output_type": "execute_result"
    },
    {
     "data": {
      "image/png": "[encoded data removed]",
      "text/plain": [
       "<Figure size 640x480 with 1 Axes>"
      ]
     },
     "metadata": {},
     "output_type": "display_data"
    }
   ],
   "source": [
    "plt.hist(df_train['SalePrice'])"
   ]
  },
  {
   "cell_type": "code",
   "execution_count": 14,
   "id": "990db851",
   "metadata": {},
   "outputs": [
    {
     "data": {
      "text/plain": [
       "(array([205., 902., 298.,  40.,   9.,   4.,   0.,   0.,   0.,   2.]),\n",
       " array([ 21. ,  50.2,  79.4, 108.6, 137.8, 167. , 196.2, 225.4, 254.6,\n",
       "        283.8, 313. ]),\n",
       " <BarContainer object of 10 artists>)"
      ]
     },
     "execution_count": 14,
     "metadata": {},
     "output_type": "execute_result"
    },
    {
     "data": {
      "image/png": "[encoded data removed]",
      "text/plain": [
       "<Figure size 640x480 with 1 Axes>"
      ]
     },
     "metadata": {},
     "output_type": "display_data"
    }
   ],
   "source": [
    "plt.hist(df_train['LotFrontage'])"
   ]
  },
  {
   "cell_type": "code",
   "execution_count": 15,
   "id": "576326eb",
   "metadata": {},
   "outputs": [
    {
     "data": {
      "text/plain": [
       "(array([1.423e+03, 2.400e+01, 8.000e+00, 1.000e+00, 0.000e+00, 1.000e+00,\n",
       "        0.000e+00, 2.000e+00, 0.000e+00, 1.000e+00]),\n",
       " array([  1300. ,  22694.5,  44089. ,  65483.5,  86878. , 108272.5,\n",
       "        129667. , 151061.5, 172456. , 193850.5, 215245. ]),\n",
       " <BarContainer object of 10 artists>)"
      ]
     },
     "execution_count": 15,
     "metadata": {},
     "output_type": "execute_result"
    },
    {
     "data": {
      "image/png": "[encoded data removed]",
      "text/plain": [
       "<Figure size 640x480 with 1 Axes>"
      ]
     },
     "metadata": {},
     "output_type": "display_data"
    }
   ],
   "source": [
    "plt.hist(df_train['LotArea'])"
   ]
  },
  {
   "cell_type": "code",
   "execution_count": 16,
   "id": "cd8353f3",
   "metadata": {},
   "outputs": [
    {
     "data": {
      "text/plain": [
       "10516.828082191782"
      ]
     },
     "execution_count": 16,
     "metadata": {},
     "output_type": "execute_result"
    }
   ],
   "source": [
    "df_train['LotArea'].mean()"
   ]
  },
  {
   "cell_type": "code",
   "execution_count": 17,
   "id": "5b5a05a0",
   "metadata": {},
   "outputs": [
    {
     "data": {
      "text/plain": [
       "12"
      ]
     },
     "execution_count": 17,
     "metadata": {},
     "output_type": "execute_result"
    }
   ],
   "source": [
    "df_train['TotRmsAbvGrd'].nunique()"
   ]
  },
  {
   "cell_type": "code",
   "execution_count": null,
   "id": "9da06ec6",
   "metadata": {},
   "outputs": [],
   "source": []
  },
  {
   "cell_type": "markdown",
   "id": "21a2a022",
   "metadata": {},
   "source": [
    "# feature encoding"
   ]
  },
  {
   "cell_type": "code",
   "execution_count": 18,
   "id": "d1f99f4c",
   "metadata": {},
   "outputs": [
    {
     "data": {
      "text/html": [
       "<style>#sk-container-id-1 {color: black;background-color: white;}#sk-container-id-1 pre{padding: 0;}#sk-container-id-1 div.sk-toggleable {background-color: white;}#sk-container-id-1 label.sk-toggleable__label {cursor: pointer;display: block;width: 100%;margin-bottom: 0;padding: 0.3em;box-sizing: border-box;text-align: center;}#sk-container-id-1 label.sk-toggleable__label-arrow:before {content: \"▸\";float: left;margin-right: 0.25em;color: #696969;}#sk-container-id-1 label.sk-toggleable__label-arrow:hover:before {color: black;}#sk-container-id-1 div.sk-estimator:hover label.sk-toggleable__label-arrow:before {color: black;}#sk-container-id-1 div.sk-toggleable__content {max-height: 0;max-width: 0;overflow: hidden;text-align: left;background-color: #f0f8ff;}#sk-container-id-1 div.sk-toggleable__content pre {margin: 0.2em;color: black;border-radius: 0.25em;background-color: #f0f8ff;}#sk-container-id-1 input.sk-toggleable__control:checked~div.sk-toggleable__content {max-height: 200px;max-width: 100%;overflow: auto;}#sk-container-id-1 input.sk-toggleable__control:checked~label.sk-toggleable__label-arrow:before {content: \"▾\";}#sk-container-id-1 div.sk-estimator input.sk-toggleable__control:checked~label.sk-toggleable__label {background-color: #d4ebff;}#sk-container-id-1 div.sk-label input.sk-toggleable__control:checked~label.sk-toggleable__label {background-color: #d4ebff;}#sk-container-id-1 input.sk-hidden--visually {border: 0;clip: rect(1px 1px 1px 1px);clip: rect(1px, 1px, 1px, 1px);height: 1px;margin: -1px;overflow: hidden;padding: 0;position: absolute;width: 1px;}#sk-container-id-1 div.sk-estimator {font-family: monospace;background-color: #f0f8ff;border: 1px dotted black;border-radius: 0.25em;box-sizing: border-box;margin-bottom: 0.5em;}#sk-container-id-1 div.sk-estimator:hover {background-color: #d4ebff;}#sk-container-id-1 div.sk-parallel-item::after {content: \"\";width: 100%;border-bottom: 1px solid gray;flex-grow: 1;}#sk-container-id-1 div.sk-label:hover label.sk-toggleable__label {background-color: #d4ebff;}#sk-container-id-1 div.sk-serial::before {content: \"\";position: absolute;border-left: 1px solid gray;box-sizing: border-box;top: 0;bottom: 0;left: 50%;z-index: 0;}#sk-container-id-1 div.sk-serial {display: flex;flex-direction: column;align-items: center;background-color: white;padding-right: 0.2em;padding-left: 0.2em;position: relative;}#sk-container-id-1 div.sk-item {position: relative;z-index: 1;}#sk-container-id-1 div.sk-parallel {display: flex;align-items: stretch;justify-content: center;background-color: white;position: relative;}#sk-container-id-1 div.sk-item::before, #sk-container-id-1 div.sk-parallel-item::before {content: \"\";position: absolute;border-left: 1px solid gray;box-sizing: border-box;top: 0;bottom: 0;left: 50%;z-index: -1;}#sk-container-id-1 div.sk-parallel-item {display: flex;flex-direction: column;z-index: 1;position: relative;background-color: white;}#sk-container-id-1 div.sk-parallel-item:first-child::after {align-self: flex-end;width: 50%;}#sk-container-id-1 div.sk-parallel-item:last-child::after {align-self: flex-start;width: 50%;}#sk-container-id-1 div.sk-parallel-item:only-child::after {width: 0;}#sk-container-id-1 div.sk-dashed-wrapped {border: 1px dashed gray;margin: 0 0.4em 0.5em 0.4em;box-sizing: border-box;padding-bottom: 0.4em;background-color: white;}#sk-container-id-1 div.sk-label label {font-family: monospace;font-weight: bold;display: inline-block;line-height: 1.2em;}#sk-container-id-1 div.sk-label-container {text-align: center;}#sk-container-id-1 div.sk-container {/* jupyter's `normalize.less` sets `[hidden] { display: none; }` but bootstrap.min.css set `[hidden] { display: none !important; }` so we also need the `!important` here to be able to override the default hidden behavior on the sphinx rendered scikit-learn.org. See: https://github.com/scikit-learn/scikit-learn/issues/21755 */display: inline-block !important;position: relative;}#sk-container-id-1 div.sk-text-repr-fallback {display: none;}</style><div id=\"sk-container-id-1\" class=\"sk-top-container\"><div class=\"sk-text-repr-fallback\"><pre>OneHotEncoder(handle_unknown=&#x27;ignore&#x27;, sparse=False)</pre><b>In a Jupyter environment, please rerun this cell to show the HTML representation or trust the notebook. <br />On GitHub, the HTML representation is unable to render, please try loading this page with nbviewer.org.</b></div><div class=\"sk-container\" hidden><div class=\"sk-item\"><div class=\"sk-estimator sk-toggleable\"><input class=\"sk-toggleable__control sk-hidden--visually\" id=\"sk-estimator-id-1\" type=\"checkbox\" checked><label for=\"sk-estimator-id-1\" class=\"sk-toggleable__label sk-toggleable__label-arrow\">OneHotEncoder</label><div class=\"sk-toggleable__content\"><pre>OneHotEncoder(handle_unknown=&#x27;ignore&#x27;, sparse=False)</pre></div></div></div></div></div>"
      ],
      "text/plain": [
       "OneHotEncoder(handle_unknown='ignore', sparse=False)"
      ]
     },
     "execution_count": 18,
     "metadata": {},
     "output_type": "execute_result"
    }
   ],
   "source": [
    "from sklearn.preprocessing import OneHotEncoder\n",
    "ohe = OneHotEncoder(sparse=False,handle_unknown='ignore')\n",
    "ohe.fit(df_train[cat_cols])"
   ]
  },
  {
   "cell_type": "code",
   "execution_count": 19,
   "id": "90391489",
   "metadata": {},
   "outputs": [
    {
     "name": "stderr",
     "output_type": "stream",
     "text": [
      "C:\\Users\\nehals4545\\anaconda3\\envs\\tf_dsml19_env1\\lib\\site-packages\\sklearn\\utils\\deprecation.py:87: FutureWarning: Function get_feature_names is deprecated; get_feature_names is deprecated in 1.0 and will be removed in 1.2. Please use get_feature_names_out instead.\n",
      "  warnings.warn(msg, category=FutureWarning)\n"
     ]
    },
    {
     "data": {
      "text/plain": [
       "['x0_C (all)',\n",
       " 'x0_FV',\n",
       " 'x0_RH',\n",
       " 'x0_RL',\n",
       " 'x0_RM',\n",
       " 'x1_Grvl',\n",
       " 'x1_Pave',\n",
       " 'x2_Grvl',\n",
       " 'x2_NA',\n",
       " 'x2_Pave',\n",
       " 'x3_IR1',\n",
       " 'x3_IR2',\n",
       " 'x3_IR3',\n",
       " 'x3_Reg',\n",
       " 'x4_Bnk',\n",
       " 'x4_HLS',\n",
       " 'x4_Low',\n",
       " 'x4_Lvl',\n",
       " 'x5_AllPub',\n",
       " 'x5_NoSeWa',\n",
       " 'x6_Corner',\n",
       " 'x6_CulDSac',\n",
       " 'x6_FR2',\n",
       " 'x6_FR3',\n",
       " 'x6_Inside',\n",
       " 'x7_Gtl',\n",
       " 'x7_Mod',\n",
       " 'x7_Sev',\n",
       " 'x8_Blmngtn',\n",
       " 'x8_Blueste',\n",
       " 'x8_BrDale',\n",
       " 'x8_BrkSide',\n",
       " 'x8_ClearCr',\n",
       " 'x8_CollgCr',\n",
       " 'x8_Crawfor',\n",
       " 'x8_Edwards',\n",
       " 'x8_Gilbert',\n",
       " 'x8_IDOTRR',\n",
       " 'x8_MeadowV',\n",
       " 'x8_Mitchel',\n",
       " 'x8_NAmes',\n",
       " 'x8_NPkVill',\n",
       " 'x8_NWAmes',\n",
       " 'x8_NoRidge',\n",
       " 'x8_NridgHt',\n",
       " 'x8_OldTown',\n",
       " 'x8_SWISU',\n",
       " 'x8_Sawyer',\n",
       " 'x8_SawyerW',\n",
       " 'x8_Somerst',\n",
       " 'x8_StoneBr',\n",
       " 'x8_Timber',\n",
       " 'x8_Veenker',\n",
       " 'x9_Artery',\n",
       " 'x9_Feedr',\n",
       " 'x9_Norm',\n",
       " 'x9_PosA',\n",
       " 'x9_PosN',\n",
       " 'x9_RRAe',\n",
       " 'x9_RRAn',\n",
       " 'x9_RRNe',\n",
       " 'x9_RRNn',\n",
       " 'x10_Artery',\n",
       " 'x10_Feedr',\n",
       " 'x10_Norm',\n",
       " 'x10_PosA',\n",
       " 'x10_PosN',\n",
       " 'x10_RRAe',\n",
       " 'x10_RRAn',\n",
       " 'x10_RRNn',\n",
       " 'x11_1Fam',\n",
       " 'x11_2fmCon',\n",
       " 'x11_Duplex',\n",
       " 'x11_Twnhs',\n",
       " 'x11_TwnhsE',\n",
       " 'x12_1.5Fin',\n",
       " 'x12_1.5Unf',\n",
       " 'x12_1Story',\n",
       " 'x12_2.5Fin',\n",
       " 'x12_2.5Unf',\n",
       " 'x12_2Story',\n",
       " 'x12_SFoyer',\n",
       " 'x12_SLvl',\n",
       " 'x13_Flat',\n",
       " 'x13_Gable',\n",
       " 'x13_Gambrel',\n",
       " 'x13_Hip',\n",
       " 'x13_Mansard',\n",
       " 'x13_Shed',\n",
       " 'x14_ClyTile',\n",
       " 'x14_CompShg',\n",
       " 'x14_Membran',\n",
       " 'x14_Metal',\n",
       " 'x14_Roll',\n",
       " 'x14_Tar&Grv',\n",
       " 'x14_WdShake',\n",
       " 'x14_WdShngl',\n",
       " 'x15_AsbShng',\n",
       " 'x15_AsphShn',\n",
       " 'x15_BrkComm',\n",
       " 'x15_BrkFace',\n",
       " 'x15_CBlock',\n",
       " 'x15_CemntBd',\n",
       " 'x15_HdBoard',\n",
       " 'x15_ImStucc',\n",
       " 'x15_MetalSd',\n",
       " 'x15_Plywood',\n",
       " 'x15_Stone',\n",
       " 'x15_Stucco',\n",
       " 'x15_VinylSd',\n",
       " 'x15_Wd Sdng',\n",
       " 'x15_WdShing',\n",
       " 'x16_AsbShng',\n",
       " 'x16_AsphShn',\n",
       " 'x16_Brk Cmn',\n",
       " 'x16_BrkFace',\n",
       " 'x16_CBlock',\n",
       " 'x16_CmentBd',\n",
       " 'x16_HdBoard',\n",
       " 'x16_ImStucc',\n",
       " 'x16_MetalSd',\n",
       " 'x16_Other',\n",
       " 'x16_Plywood',\n",
       " 'x16_Stone',\n",
       " 'x16_Stucco',\n",
       " 'x16_VinylSd',\n",
       " 'x16_Wd Sdng',\n",
       " 'x16_Wd Shng',\n",
       " 'x17_BrkCmn',\n",
       " 'x17_BrkFace',\n",
       " 'x17_None',\n",
       " 'x17_Stone',\n",
       " 'x18_Ex',\n",
       " 'x18_Fa',\n",
       " 'x18_Gd',\n",
       " 'x18_TA',\n",
       " 'x19_Ex',\n",
       " 'x19_Fa',\n",
       " 'x19_Gd',\n",
       " 'x19_Po',\n",
       " 'x19_TA',\n",
       " 'x20_BrkTil',\n",
       " 'x20_CBlock',\n",
       " 'x20_PConc',\n",
       " 'x20_Slab',\n",
       " 'x20_Stone',\n",
       " 'x20_Wood',\n",
       " 'x21_Ex',\n",
       " 'x21_Fa',\n",
       " 'x21_Gd',\n",
       " 'x21_NA',\n",
       " 'x21_TA',\n",
       " 'x22_Fa',\n",
       " 'x22_Gd',\n",
       " 'x22_NA',\n",
       " 'x22_Po',\n",
       " 'x22_TA',\n",
       " 'x23_Av',\n",
       " 'x23_Gd',\n",
       " 'x23_Mn',\n",
       " 'x23_NA',\n",
       " 'x23_No',\n",
       " 'x24_ALQ',\n",
       " 'x24_BLQ',\n",
       " 'x24_GLQ',\n",
       " 'x24_LwQ',\n",
       " 'x24_NA',\n",
       " 'x24_Rec',\n",
       " 'x24_Unf',\n",
       " 'x25_ALQ',\n",
       " 'x25_BLQ',\n",
       " 'x25_GLQ',\n",
       " 'x25_LwQ',\n",
       " 'x25_NA',\n",
       " 'x25_Rec',\n",
       " 'x25_Unf',\n",
       " 'x26_Floor',\n",
       " 'x26_GasA',\n",
       " 'x26_GasW',\n",
       " 'x26_Grav',\n",
       " 'x26_OthW',\n",
       " 'x26_Wall',\n",
       " 'x27_Ex',\n",
       " 'x27_Fa',\n",
       " 'x27_Gd',\n",
       " 'x27_Po',\n",
       " 'x27_TA',\n",
       " 'x28_N',\n",
       " 'x28_Y',\n",
       " 'x29_FuseA',\n",
       " 'x29_FuseF',\n",
       " 'x29_FuseP',\n",
       " 'x29_Mix',\n",
       " 'x29_SBrkr',\n",
       " 'x30_Ex',\n",
       " 'x30_Fa',\n",
       " 'x30_Gd',\n",
       " 'x30_TA',\n",
       " 'x31_Maj1',\n",
       " 'x31_Maj2',\n",
       " 'x31_Min1',\n",
       " 'x31_Min2',\n",
       " 'x31_Mod',\n",
       " 'x31_Sev',\n",
       " 'x31_Typ',\n",
       " 'x32_Ex',\n",
       " 'x32_Fa',\n",
       " 'x32_Gd',\n",
       " 'x32_NA',\n",
       " 'x32_Po',\n",
       " 'x32_TA',\n",
       " 'x33_2Types',\n",
       " 'x33_Attchd',\n",
       " 'x33_Basment',\n",
       " 'x33_BuiltIn',\n",
       " 'x33_CarPort',\n",
       " 'x33_Detchd',\n",
       " 'x33_NA',\n",
       " 'x34_Fin',\n",
       " 'x34_NA',\n",
       " 'x34_RFn',\n",
       " 'x34_Unf',\n",
       " 'x35_Ex',\n",
       " 'x35_Fa',\n",
       " 'x35_Gd',\n",
       " 'x35_NA',\n",
       " 'x35_Po',\n",
       " 'x35_TA',\n",
       " 'x36_Ex',\n",
       " 'x36_Fa',\n",
       " 'x36_Gd',\n",
       " 'x36_NA',\n",
       " 'x36_Po',\n",
       " 'x36_TA',\n",
       " 'x37_N',\n",
       " 'x37_P',\n",
       " 'x37_Y',\n",
       " 'x38_Ex',\n",
       " 'x38_Fa',\n",
       " 'x38_Gd',\n",
       " 'x38_NA',\n",
       " 'x39_GdPrv',\n",
       " 'x39_GdWo',\n",
       " 'x39_MnPrv',\n",
       " 'x39_MnWw',\n",
       " 'x39_NA',\n",
       " 'x40_Gar2',\n",
       " 'x40_NA',\n",
       " 'x40_Othr',\n",
       " 'x40_Shed',\n",
       " 'x40_TenC',\n",
       " 'x41_COD',\n",
       " 'x41_CWD',\n",
       " 'x41_Con',\n",
       " 'x41_ConLD',\n",
       " 'x41_ConLI',\n",
       " 'x41_ConLw',\n",
       " 'x41_New',\n",
       " 'x41_Oth',\n",
       " 'x41_WD',\n",
       " 'x42_Abnorml',\n",
       " 'x42_AdjLand',\n",
       " 'x42_Alloca',\n",
       " 'x42_Family',\n",
       " 'x42_Normal',\n",
       " 'x42_Partial']"
      ]
     },
     "execution_count": 19,
     "metadata": {},
     "output_type": "execute_result"
    }
   ],
   "source": [
    "new_cols = list(ohe.get_feature_names())\n",
    "new_cols"
   ]
  },
  {
   "cell_type": "code",
   "execution_count": 20,
   "id": "e9b5ac2d",
   "metadata": {},
   "outputs": [
    {
     "name": "stderr",
     "output_type": "stream",
     "text": [
      "C:\\Users\\nehals4545\\AppData\\Local\\Temp\\ipykernel_7616\\1785779652.py:1: PerformanceWarning: DataFrame is highly fragmented.  This is usually the result of calling `frame.insert` many times, which has poor performance.  Consider joining all columns at once using pd.concat(axis=1) instead. To get a de-fragmented frame, use `newframe = frame.copy()`\n",
      "  df_train[new_cols] = ohe.transform(df_train[cat_cols])\n",
      "C:\\Users\\nehals4545\\AppData\\Local\\Temp\\ipykernel_7616\\1785779652.py:1: PerformanceWarning: DataFrame is highly fragmented.  This is usually the result of calling `frame.insert` many times, which has poor performance.  Consider joining all columns at once using pd.concat(axis=1) instead. To get a de-fragmented frame, use `newframe = frame.copy()`\n",
      "  df_train[new_cols] = ohe.transform(df_train[cat_cols])\n",
      "C:\\Users\\nehals4545\\AppData\\Local\\Temp\\ipykernel_7616\\1785779652.py:1: PerformanceWarning: DataFrame is highly fragmented.  This is usually the result of calling `frame.insert` many times, which has poor performance.  Consider joining all columns at once using pd.concat(axis=1) instead. To get a de-fragmented frame, use `newframe = frame.copy()`\n",
      "  df_train[new_cols] = ohe.transform(df_train[cat_cols])\n",
      "C:\\Users\\nehals4545\\AppData\\Local\\Temp\\ipykernel_7616\\1785779652.py:1: PerformanceWarning: DataFrame is highly fragmented.  This is usually the result of calling `frame.insert` many times, which has poor performance.  Consider joining all columns at once using pd.concat(axis=1) instead. To get a de-fragmented frame, use `newframe = frame.copy()`\n",
      "  df_train[new_cols] = ohe.transform(df_train[cat_cols])\n",
      "C:\\Users\\nehals4545\\AppData\\Local\\Temp\\ipykernel_7616\\1785779652.py:1: PerformanceWarning: DataFrame is highly fragmented.  This is usually the result of calling `frame.insert` many times, which has poor performance.  Consider joining all columns at once using pd.concat(axis=1) instead. To get a de-fragmented frame, use `newframe = frame.copy()`\n",
      "  df_train[new_cols] = ohe.transform(df_train[cat_cols])\n",
      "C:\\Users\\nehals4545\\AppData\\Local\\Temp\\ipykernel_7616\\1785779652.py:1: PerformanceWarning: DataFrame is highly fragmented.  This is usually the result of calling `frame.insert` many times, which has poor performance.  Consider joining all columns at once using pd.concat(axis=1) instead. To get a de-fragmented frame, use `newframe = frame.copy()`\n",
      "  df_train[new_cols] = ohe.transform(df_train[cat_cols])\n",
      "C:\\Users\\nehals4545\\AppData\\Local\\Temp\\ipykernel_7616\\1785779652.py:1: PerformanceWarning: DataFrame is highly fragmented.  This is usually the result of calling `frame.insert` many times, which has poor performance.  Consider joining all columns at once using pd.concat(axis=1) instead. To get a de-fragmented frame, use `newframe = frame.copy()`\n",
      "  df_train[new_cols] = ohe.transform(df_train[cat_cols])\n",
      "C:\\Users\\nehals4545\\AppData\\Local\\Temp\\ipykernel_7616\\1785779652.py:1: PerformanceWarning: DataFrame is highly fragmented.  This is usually the result of calling `frame.insert` many times, which has poor performance.  Consider joining all columns at once using pd.concat(axis=1) instead. To get a de-fragmented frame, use `newframe = frame.copy()`\n",
      "  df_train[new_cols] = ohe.transform(df_train[cat_cols])\n",
      "C:\\Users\\nehals4545\\AppData\\Local\\Temp\\ipykernel_7616\\1785779652.py:1: PerformanceWarning: DataFrame is highly fragmented.  This is usually the result of calling `frame.insert` many times, which has poor performance.  Consider joining all columns at once using pd.concat(axis=1) instead. To get a de-fragmented frame, use `newframe = frame.copy()`\n",
      "  df_train[new_cols] = ohe.transform(df_train[cat_cols])\n",
      "C:\\Users\\nehals4545\\AppData\\Local\\Temp\\ipykernel_7616\\1785779652.py:1: PerformanceWarning: DataFrame is highly fragmented.  This is usually the result of calling `frame.insert` many times, which has poor performance.  Consider joining all columns at once using pd.concat(axis=1) instead. To get a de-fragmented frame, use `newframe = frame.copy()`\n",
      "  df_train[new_cols] = ohe.transform(df_train[cat_cols])\n",
      "C:\\Users\\nehals4545\\AppData\\Local\\Temp\\ipykernel_7616\\1785779652.py:1: PerformanceWarning: DataFrame is highly fragmented.  This is usually the result of calling `frame.insert` many times, which has poor performance.  Consider joining all columns at once using pd.concat(axis=1) instead. To get a de-fragmented frame, use `newframe = frame.copy()`\n",
      "  df_train[new_cols] = ohe.transform(df_train[cat_cols])\n",
      "C:\\Users\\nehals4545\\AppData\\Local\\Temp\\ipykernel_7616\\1785779652.py:1: PerformanceWarning: DataFrame is highly fragmented.  This is usually the result of calling `frame.insert` many times, which has poor performance.  Consider joining all columns at once using pd.concat(axis=1) instead. To get a de-fragmented frame, use `newframe = frame.copy()`\n",
      "  df_train[new_cols] = ohe.transform(df_train[cat_cols])\n",
      "C:\\Users\\nehals4545\\AppData\\Local\\Temp\\ipykernel_7616\\1785779652.py:1: PerformanceWarning: DataFrame is highly fragmented.  This is usually the result of calling `frame.insert` many times, which has poor performance.  Consider joining all columns at once using pd.concat(axis=1) instead. To get a de-fragmented frame, use `newframe = frame.copy()`\n",
      "  df_train[new_cols] = ohe.transform(df_train[cat_cols])\n",
      "C:\\Users\\nehals4545\\AppData\\Local\\Temp\\ipykernel_7616\\1785779652.py:1: PerformanceWarning: DataFrame is highly fragmented.  This is usually the result of calling `frame.insert` many times, which has poor performance.  Consider joining all columns at once using pd.concat(axis=1) instead. To get a de-fragmented frame, use `newframe = frame.copy()`\n",
      "  df_train[new_cols] = ohe.transform(df_train[cat_cols])\n",
      "C:\\Users\\nehals4545\\AppData\\Local\\Temp\\ipykernel_7616\\1785779652.py:1: PerformanceWarning: DataFrame is highly fragmented.  This is usually the result of calling `frame.insert` many times, which has poor performance.  Consider joining all columns at once using pd.concat(axis=1) instead. To get a de-fragmented frame, use `newframe = frame.copy()`\n",
      "  df_train[new_cols] = ohe.transform(df_train[cat_cols])\n",
      "C:\\Users\\nehals4545\\AppData\\Local\\Temp\\ipykernel_7616\\1785779652.py:1: PerformanceWarning: DataFrame is highly fragmented.  This is usually the result of calling `frame.insert` many times, which has poor performance.  Consider joining all columns at once using pd.concat(axis=1) instead. To get a de-fragmented frame, use `newframe = frame.copy()`\n",
      "  df_train[new_cols] = ohe.transform(df_train[cat_cols])\n",
      "C:\\Users\\nehals4545\\AppData\\Local\\Temp\\ipykernel_7616\\1785779652.py:1: PerformanceWarning: DataFrame is highly fragmented.  This is usually the result of calling `frame.insert` many times, which has poor performance.  Consider joining all columns at once using pd.concat(axis=1) instead. To get a de-fragmented frame, use `newframe = frame.copy()`\n",
      "  df_train[new_cols] = ohe.transform(df_train[cat_cols])\n",
      "C:\\Users\\nehals4545\\AppData\\Local\\Temp\\ipykernel_7616\\1785779652.py:1: PerformanceWarning: DataFrame is highly fragmented.  This is usually the result of calling `frame.insert` many times, which has poor performance.  Consider joining all columns at once using pd.concat(axis=1) instead. To get a de-fragmented frame, use `newframe = frame.copy()`\n",
      "  df_train[new_cols] = ohe.transform(df_train[cat_cols])\n",
      "C:\\Users\\nehals4545\\AppData\\Local\\Temp\\ipykernel_7616\\1785779652.py:1: PerformanceWarning: DataFrame is highly fragmented.  This is usually the result of calling `frame.insert` many times, which has poor performance.  Consider joining all columns at once using pd.concat(axis=1) instead. To get a de-fragmented frame, use `newframe = frame.copy()`\n",
      "  df_train[new_cols] = ohe.transform(df_train[cat_cols])\n",
      "C:\\Users\\nehals4545\\AppData\\Local\\Temp\\ipykernel_7616\\1785779652.py:1: PerformanceWarning: DataFrame is highly fragmented.  This is usually the result of calling `frame.insert` many times, which has poor performance.  Consider joining all columns at once using pd.concat(axis=1) instead. To get a de-fragmented frame, use `newframe = frame.copy()`\n",
      "  df_train[new_cols] = ohe.transform(df_train[cat_cols])\n",
      "C:\\Users\\nehals4545\\AppData\\Local\\Temp\\ipykernel_7616\\1785779652.py:1: PerformanceWarning: DataFrame is highly fragmented.  This is usually the result of calling `frame.insert` many times, which has poor performance.  Consider joining all columns at once using pd.concat(axis=1) instead. To get a de-fragmented frame, use `newframe = frame.copy()`\n",
      "  df_train[new_cols] = ohe.transform(df_train[cat_cols])\n",
      "C:\\Users\\nehals4545\\AppData\\Local\\Temp\\ipykernel_7616\\1785779652.py:1: PerformanceWarning: DataFrame is highly fragmented.  This is usually the result of calling `frame.insert` many times, which has poor performance.  Consider joining all columns at once using pd.concat(axis=1) instead. To get a de-fragmented frame, use `newframe = frame.copy()`\n",
      "  df_train[new_cols] = ohe.transform(df_train[cat_cols])\n",
      "C:\\Users\\nehals4545\\AppData\\Local\\Temp\\ipykernel_7616\\1785779652.py:1: PerformanceWarning: DataFrame is highly fragmented.  This is usually the result of calling `frame.insert` many times, which has poor performance.  Consider joining all columns at once using pd.concat(axis=1) instead. To get a de-fragmented frame, use `newframe = frame.copy()`\n",
      "  df_train[new_cols] = ohe.transform(df_train[cat_cols])\n",
      "C:\\Users\\nehals4545\\AppData\\Local\\Temp\\ipykernel_7616\\1785779652.py:1: PerformanceWarning: DataFrame is highly fragmented.  This is usually the result of calling `frame.insert` many times, which has poor performance.  Consider joining all columns at once using pd.concat(axis=1) instead. To get a de-fragmented frame, use `newframe = frame.copy()`\n",
      "  df_train[new_cols] = ohe.transform(df_train[cat_cols])\n",
      "C:\\Users\\nehals4545\\AppData\\Local\\Temp\\ipykernel_7616\\1785779652.py:1: PerformanceWarning: DataFrame is highly fragmented.  This is usually the result of calling `frame.insert` many times, which has poor performance.  Consider joining all columns at once using pd.concat(axis=1) instead. To get a de-fragmented frame, use `newframe = frame.copy()`\n",
      "  df_train[new_cols] = ohe.transform(df_train[cat_cols])\n",
      "C:\\Users\\nehals4545\\AppData\\Local\\Temp\\ipykernel_7616\\1785779652.py:1: PerformanceWarning: DataFrame is highly fragmented.  This is usually the result of calling `frame.insert` many times, which has poor performance.  Consider joining all columns at once using pd.concat(axis=1) instead. To get a de-fragmented frame, use `newframe = frame.copy()`\n",
      "  df_train[new_cols] = ohe.transform(df_train[cat_cols])\n",
      "C:\\Users\\nehals4545\\AppData\\Local\\Temp\\ipykernel_7616\\1785779652.py:1: PerformanceWarning: DataFrame is highly fragmented.  This is usually the result of calling `frame.insert` many times, which has poor performance.  Consider joining all columns at once using pd.concat(axis=1) instead. To get a de-fragmented frame, use `newframe = frame.copy()`\n",
      "  df_train[new_cols] = ohe.transform(df_train[cat_cols])\n",
      "C:\\Users\\nehals4545\\AppData\\Local\\Temp\\ipykernel_7616\\1785779652.py:1: PerformanceWarning: DataFrame is highly fragmented.  This is usually the result of calling `frame.insert` many times, which has poor performance.  Consider joining all columns at once using pd.concat(axis=1) instead. To get a de-fragmented frame, use `newframe = frame.copy()`\n",
      "  df_train[new_cols] = ohe.transform(df_train[cat_cols])\n",
      "C:\\Users\\nehals4545\\AppData\\Local\\Temp\\ipykernel_7616\\1785779652.py:1: PerformanceWarning: DataFrame is highly fragmented.  This is usually the result of calling `frame.insert` many times, which has poor performance.  Consider joining all columns at once using pd.concat(axis=1) instead. To get a de-fragmented frame, use `newframe = frame.copy()`\n",
      "  df_train[new_cols] = ohe.transform(df_train[cat_cols])\n",
      "C:\\Users\\nehals4545\\AppData\\Local\\Temp\\ipykernel_7616\\1785779652.py:1: PerformanceWarning: DataFrame is highly fragmented.  This is usually the result of calling `frame.insert` many times, which has poor performance.  Consider joining all columns at once using pd.concat(axis=1) instead. To get a de-fragmented frame, use `newframe = frame.copy()`\n",
      "  df_train[new_cols] = ohe.transform(df_train[cat_cols])\n",
      "C:\\Users\\nehals4545\\AppData\\Local\\Temp\\ipykernel_7616\\1785779652.py:1: PerformanceWarning: DataFrame is highly fragmented.  This is usually the result of calling `frame.insert` many times, which has poor performance.  Consider joining all columns at once using pd.concat(axis=1) instead. To get a de-fragmented frame, use `newframe = frame.copy()`\n",
      "  df_train[new_cols] = ohe.transform(df_train[cat_cols])\n",
      "C:\\Users\\nehals4545\\AppData\\Local\\Temp\\ipykernel_7616\\1785779652.py:1: PerformanceWarning: DataFrame is highly fragmented.  This is usually the result of calling `frame.insert` many times, which has poor performance.  Consider joining all columns at once using pd.concat(axis=1) instead. To get a de-fragmented frame, use `newframe = frame.copy()`\n",
      "  df_train[new_cols] = ohe.transform(df_train[cat_cols])\n",
      "C:\\Users\\nehals4545\\AppData\\Local\\Temp\\ipykernel_7616\\1785779652.py:1: PerformanceWarning: DataFrame is highly fragmented.  This is usually the result of calling `frame.insert` many times, which has poor performance.  Consider joining all columns at once using pd.concat(axis=1) instead. To get a de-fragmented frame, use `newframe = frame.copy()`\n",
      "  df_train[new_cols] = ohe.transform(df_train[cat_cols])\n",
      "C:\\Users\\nehals4545\\AppData\\Local\\Temp\\ipykernel_7616\\1785779652.py:1: PerformanceWarning: DataFrame is highly fragmented.  This is usually the result of calling `frame.insert` many times, which has poor performance.  Consider joining all columns at once using pd.concat(axis=1) instead. To get a de-fragmented frame, use `newframe = frame.copy()`\n",
      "  df_train[new_cols] = ohe.transform(df_train[cat_cols])\n",
      "C:\\Users\\nehals4545\\AppData\\Local\\Temp\\ipykernel_7616\\1785779652.py:1: PerformanceWarning: DataFrame is highly fragmented.  This is usually the result of calling `frame.insert` many times, which has poor performance.  Consider joining all columns at once using pd.concat(axis=1) instead. To get a de-fragmented frame, use `newframe = frame.copy()`\n",
      "  df_train[new_cols] = ohe.transform(df_train[cat_cols])\n",
      "C:\\Users\\nehals4545\\AppData\\Local\\Temp\\ipykernel_7616\\1785779652.py:1: PerformanceWarning: DataFrame is highly fragmented.  This is usually the result of calling `frame.insert` many times, which has poor performance.  Consider joining all columns at once using pd.concat(axis=1) instead. To get a de-fragmented frame, use `newframe = frame.copy()`\n",
      "  df_train[new_cols] = ohe.transform(df_train[cat_cols])\n",
      "C:\\Users\\nehals4545\\AppData\\Local\\Temp\\ipykernel_7616\\1785779652.py:1: PerformanceWarning: DataFrame is highly fragmented.  This is usually the result of calling `frame.insert` many times, which has poor performance.  Consider joining all columns at once using pd.concat(axis=1) instead. To get a de-fragmented frame, use `newframe = frame.copy()`\n",
      "  df_train[new_cols] = ohe.transform(df_train[cat_cols])\n",
      "C:\\Users\\nehals4545\\AppData\\Local\\Temp\\ipykernel_7616\\1785779652.py:1: PerformanceWarning: DataFrame is highly fragmented.  This is usually the result of calling `frame.insert` many times, which has poor performance.  Consider joining all columns at once using pd.concat(axis=1) instead. To get a de-fragmented frame, use `newframe = frame.copy()`\n",
      "  df_train[new_cols] = ohe.transform(df_train[cat_cols])\n",
      "C:\\Users\\nehals4545\\AppData\\Local\\Temp\\ipykernel_7616\\1785779652.py:1: PerformanceWarning: DataFrame is highly fragmented.  This is usually the result of calling `frame.insert` many times, which has poor performance.  Consider joining all columns at once using pd.concat(axis=1) instead. To get a de-fragmented frame, use `newframe = frame.copy()`\n",
      "  df_train[new_cols] = ohe.transform(df_train[cat_cols])\n",
      "C:\\Users\\nehals4545\\AppData\\Local\\Temp\\ipykernel_7616\\1785779652.py:1: PerformanceWarning: DataFrame is highly fragmented.  This is usually the result of calling `frame.insert` many times, which has poor performance.  Consider joining all columns at once using pd.concat(axis=1) instead. To get a de-fragmented frame, use `newframe = frame.copy()`\n",
      "  df_train[new_cols] = ohe.transform(df_train[cat_cols])\n",
      "C:\\Users\\nehals4545\\AppData\\Local\\Temp\\ipykernel_7616\\1785779652.py:1: PerformanceWarning: DataFrame is highly fragmented.  This is usually the result of calling `frame.insert` many times, which has poor performance.  Consider joining all columns at once using pd.concat(axis=1) instead. To get a de-fragmented frame, use `newframe = frame.copy()`\n",
      "  df_train[new_cols] = ohe.transform(df_train[cat_cols])\n",
      "C:\\Users\\nehals4545\\AppData\\Local\\Temp\\ipykernel_7616\\1785779652.py:1: PerformanceWarning: DataFrame is highly fragmented.  This is usually the result of calling `frame.insert` many times, which has poor performance.  Consider joining all columns at once using pd.concat(axis=1) instead. To get a de-fragmented frame, use `newframe = frame.copy()`\n",
      "  df_train[new_cols] = ohe.transform(df_train[cat_cols])\n",
      "C:\\Users\\nehals4545\\AppData\\Local\\Temp\\ipykernel_7616\\1785779652.py:1: PerformanceWarning: DataFrame is highly fragmented.  This is usually the result of calling `frame.insert` many times, which has poor performance.  Consider joining all columns at once using pd.concat(axis=1) instead. To get a de-fragmented frame, use `newframe = frame.copy()`\n",
      "  df_train[new_cols] = ohe.transform(df_train[cat_cols])\n",
      "C:\\Users\\nehals4545\\AppData\\Local\\Temp\\ipykernel_7616\\1785779652.py:1: PerformanceWarning: DataFrame is highly fragmented.  This is usually the result of calling `frame.insert` many times, which has poor performance.  Consider joining all columns at once using pd.concat(axis=1) instead. To get a de-fragmented frame, use `newframe = frame.copy()`\n",
      "  df_train[new_cols] = ohe.transform(df_train[cat_cols])\n",
      "C:\\Users\\nehals4545\\AppData\\Local\\Temp\\ipykernel_7616\\1785779652.py:1: PerformanceWarning: DataFrame is highly fragmented.  This is usually the result of calling `frame.insert` many times, which has poor performance.  Consider joining all columns at once using pd.concat(axis=1) instead. To get a de-fragmented frame, use `newframe = frame.copy()`\n",
      "  df_train[new_cols] = ohe.transform(df_train[cat_cols])\n",
      "C:\\Users\\nehals4545\\AppData\\Local\\Temp\\ipykernel_7616\\1785779652.py:1: PerformanceWarning: DataFrame is highly fragmented.  This is usually the result of calling `frame.insert` many times, which has poor performance.  Consider joining all columns at once using pd.concat(axis=1) instead. To get a de-fragmented frame, use `newframe = frame.copy()`\n",
      "  df_train[new_cols] = ohe.transform(df_train[cat_cols])\n",
      "C:\\Users\\nehals4545\\AppData\\Local\\Temp\\ipykernel_7616\\1785779652.py:1: PerformanceWarning: DataFrame is highly fragmented.  This is usually the result of calling `frame.insert` many times, which has poor performance.  Consider joining all columns at once using pd.concat(axis=1) instead. To get a de-fragmented frame, use `newframe = frame.copy()`\n",
      "  df_train[new_cols] = ohe.transform(df_train[cat_cols])\n",
      "C:\\Users\\nehals4545\\AppData\\Local\\Temp\\ipykernel_7616\\1785779652.py:1: PerformanceWarning: DataFrame is highly fragmented.  This is usually the result of calling `frame.insert` many times, which has poor performance.  Consider joining all columns at once using pd.concat(axis=1) instead. To get a de-fragmented frame, use `newframe = frame.copy()`\n",
      "  df_train[new_cols] = ohe.transform(df_train[cat_cols])\n",
      "C:\\Users\\nehals4545\\AppData\\Local\\Temp\\ipykernel_7616\\1785779652.py:1: PerformanceWarning: DataFrame is highly fragmented.  This is usually the result of calling `frame.insert` many times, which has poor performance.  Consider joining all columns at once using pd.concat(axis=1) instead. To get a de-fragmented frame, use `newframe = frame.copy()`\n",
      "  df_train[new_cols] = ohe.transform(df_train[cat_cols])\n",
      "C:\\Users\\nehals4545\\AppData\\Local\\Temp\\ipykernel_7616\\1785779652.py:1: PerformanceWarning: DataFrame is highly fragmented.  This is usually the result of calling `frame.insert` many times, which has poor performance.  Consider joining all columns at once using pd.concat(axis=1) instead. To get a de-fragmented frame, use `newframe = frame.copy()`\n",
      "  df_train[new_cols] = ohe.transform(df_train[cat_cols])\n",
      "C:\\Users\\nehals4545\\AppData\\Local\\Temp\\ipykernel_7616\\1785779652.py:1: PerformanceWarning: DataFrame is highly fragmented.  This is usually the result of calling `frame.insert` many times, which has poor performance.  Consider joining all columns at once using pd.concat(axis=1) instead. To get a de-fragmented frame, use `newframe = frame.copy()`\n",
      "  df_train[new_cols] = ohe.transform(df_train[cat_cols])\n",
      "C:\\Users\\nehals4545\\AppData\\Local\\Temp\\ipykernel_7616\\1785779652.py:1: PerformanceWarning: DataFrame is highly fragmented.  This is usually the result of calling `frame.insert` many times, which has poor performance.  Consider joining all columns at once using pd.concat(axis=1) instead. To get a de-fragmented frame, use `newframe = frame.copy()`\n",
      "  df_train[new_cols] = ohe.transform(df_train[cat_cols])\n",
      "C:\\Users\\nehals4545\\AppData\\Local\\Temp\\ipykernel_7616\\1785779652.py:1: PerformanceWarning: DataFrame is highly fragmented.  This is usually the result of calling `frame.insert` many times, which has poor performance.  Consider joining all columns at once using pd.concat(axis=1) instead. To get a de-fragmented frame, use `newframe = frame.copy()`\n",
      "  df_train[new_cols] = ohe.transform(df_train[cat_cols])\n",
      "C:\\Users\\nehals4545\\AppData\\Local\\Temp\\ipykernel_7616\\1785779652.py:1: PerformanceWarning: DataFrame is highly fragmented.  This is usually the result of calling `frame.insert` many times, which has poor performance.  Consider joining all columns at once using pd.concat(axis=1) instead. To get a de-fragmented frame, use `newframe = frame.copy()`\n",
      "  df_train[new_cols] = ohe.transform(df_train[cat_cols])\n",
      "C:\\Users\\nehals4545\\AppData\\Local\\Temp\\ipykernel_7616\\1785779652.py:1: PerformanceWarning: DataFrame is highly fragmented.  This is usually the result of calling `frame.insert` many times, which has poor performance.  Consider joining all columns at once using pd.concat(axis=1) instead. To get a de-fragmented frame, use `newframe = frame.copy()`\n",
      "  df_train[new_cols] = ohe.transform(df_train[cat_cols])\n",
      "C:\\Users\\nehals4545\\AppData\\Local\\Temp\\ipykernel_7616\\1785779652.py:1: PerformanceWarning: DataFrame is highly fragmented.  This is usually the result of calling `frame.insert` many times, which has poor performance.  Consider joining all columns at once using pd.concat(axis=1) instead. To get a de-fragmented frame, use `newframe = frame.copy()`\n",
      "  df_train[new_cols] = ohe.transform(df_train[cat_cols])\n",
      "C:\\Users\\nehals4545\\AppData\\Local\\Temp\\ipykernel_7616\\1785779652.py:1: PerformanceWarning: DataFrame is highly fragmented.  This is usually the result of calling `frame.insert` many times, which has poor performance.  Consider joining all columns at once using pd.concat(axis=1) instead. To get a de-fragmented frame, use `newframe = frame.copy()`\n",
      "  df_train[new_cols] = ohe.transform(df_train[cat_cols])\n",
      "C:\\Users\\nehals4545\\AppData\\Local\\Temp\\ipykernel_7616\\1785779652.py:1: PerformanceWarning: DataFrame is highly fragmented.  This is usually the result of calling `frame.insert` many times, which has poor performance.  Consider joining all columns at once using pd.concat(axis=1) instead. To get a de-fragmented frame, use `newframe = frame.copy()`\n",
      "  df_train[new_cols] = ohe.transform(df_train[cat_cols])\n",
      "C:\\Users\\nehals4545\\AppData\\Local\\Temp\\ipykernel_7616\\1785779652.py:1: PerformanceWarning: DataFrame is highly fragmented.  This is usually the result of calling `frame.insert` many times, which has poor performance.  Consider joining all columns at once using pd.concat(axis=1) instead. To get a de-fragmented frame, use `newframe = frame.copy()`\n",
      "  df_train[new_cols] = ohe.transform(df_train[cat_cols])\n",
      "C:\\Users\\nehals4545\\AppData\\Local\\Temp\\ipykernel_7616\\1785779652.py:1: PerformanceWarning: DataFrame is highly fragmented.  This is usually the result of calling `frame.insert` many times, which has poor performance.  Consider joining all columns at once using pd.concat(axis=1) instead. To get a de-fragmented frame, use `newframe = frame.copy()`\n",
      "  df_train[new_cols] = ohe.transform(df_train[cat_cols])\n",
      "C:\\Users\\nehals4545\\AppData\\Local\\Temp\\ipykernel_7616\\1785779652.py:1: PerformanceWarning: DataFrame is highly fragmented.  This is usually the result of calling `frame.insert` many times, which has poor performance.  Consider joining all columns at once using pd.concat(axis=1) instead. To get a de-fragmented frame, use `newframe = frame.copy()`\n",
      "  df_train[new_cols] = ohe.transform(df_train[cat_cols])\n",
      "C:\\Users\\nehals4545\\AppData\\Local\\Temp\\ipykernel_7616\\1785779652.py:1: PerformanceWarning: DataFrame is highly fragmented.  This is usually the result of calling `frame.insert` many times, which has poor performance.  Consider joining all columns at once using pd.concat(axis=1) instead. To get a de-fragmented frame, use `newframe = frame.copy()`\n",
      "  df_train[new_cols] = ohe.transform(df_train[cat_cols])\n",
      "C:\\Users\\nehals4545\\AppData\\Local\\Temp\\ipykernel_7616\\1785779652.py:1: PerformanceWarning: DataFrame is highly fragmented.  This is usually the result of calling `frame.insert` many times, which has poor performance.  Consider joining all columns at once using pd.concat(axis=1) instead. To get a de-fragmented frame, use `newframe = frame.copy()`\n",
      "  df_train[new_cols] = ohe.transform(df_train[cat_cols])\n",
      "C:\\Users\\nehals4545\\AppData\\Local\\Temp\\ipykernel_7616\\1785779652.py:1: PerformanceWarning: DataFrame is highly fragmented.  This is usually the result of calling `frame.insert` many times, which has poor performance.  Consider joining all columns at once using pd.concat(axis=1) instead. To get a de-fragmented frame, use `newframe = frame.copy()`\n",
      "  df_train[new_cols] = ohe.transform(df_train[cat_cols])\n",
      "C:\\Users\\nehals4545\\AppData\\Local\\Temp\\ipykernel_7616\\1785779652.py:1: PerformanceWarning: DataFrame is highly fragmented.  This is usually the result of calling `frame.insert` many times, which has poor performance.  Consider joining all columns at once using pd.concat(axis=1) instead. To get a de-fragmented frame, use `newframe = frame.copy()`\n",
      "  df_train[new_cols] = ohe.transform(df_train[cat_cols])\n",
      "C:\\Users\\nehals4545\\AppData\\Local\\Temp\\ipykernel_7616\\1785779652.py:1: PerformanceWarning: DataFrame is highly fragmented.  This is usually the result of calling `frame.insert` many times, which has poor performance.  Consider joining all columns at once using pd.concat(axis=1) instead. To get a de-fragmented frame, use `newframe = frame.copy()`\n",
      "  df_train[new_cols] = ohe.transform(df_train[cat_cols])\n",
      "C:\\Users\\nehals4545\\AppData\\Local\\Temp\\ipykernel_7616\\1785779652.py:1: PerformanceWarning: DataFrame is highly fragmented.  This is usually the result of calling `frame.insert` many times, which has poor performance.  Consider joining all columns at once using pd.concat(axis=1) instead. To get a de-fragmented frame, use `newframe = frame.copy()`\n",
      "  df_train[new_cols] = ohe.transform(df_train[cat_cols])\n",
      "C:\\Users\\nehals4545\\AppData\\Local\\Temp\\ipykernel_7616\\1785779652.py:1: PerformanceWarning: DataFrame is highly fragmented.  This is usually the result of calling `frame.insert` many times, which has poor performance.  Consider joining all columns at once using pd.concat(axis=1) instead. To get a de-fragmented frame, use `newframe = frame.copy()`\n",
      "  df_train[new_cols] = ohe.transform(df_train[cat_cols])\n",
      "C:\\Users\\nehals4545\\AppData\\Local\\Temp\\ipykernel_7616\\1785779652.py:1: PerformanceWarning: DataFrame is highly fragmented.  This is usually the result of calling `frame.insert` many times, which has poor performance.  Consider joining all columns at once using pd.concat(axis=1) instead. To get a de-fragmented frame, use `newframe = frame.copy()`\n",
      "  df_train[new_cols] = ohe.transform(df_train[cat_cols])\n",
      "C:\\Users\\nehals4545\\AppData\\Local\\Temp\\ipykernel_7616\\1785779652.py:1: PerformanceWarning: DataFrame is highly fragmented.  This is usually the result of calling `frame.insert` many times, which has poor performance.  Consider joining all columns at once using pd.concat(axis=1) instead. To get a de-fragmented frame, use `newframe = frame.copy()`\n",
      "  df_train[new_cols] = ohe.transform(df_train[cat_cols])\n",
      "C:\\Users\\nehals4545\\AppData\\Local\\Temp\\ipykernel_7616\\1785779652.py:1: PerformanceWarning: DataFrame is highly fragmented.  This is usually the result of calling `frame.insert` many times, which has poor performance.  Consider joining all columns at once using pd.concat(axis=1) instead. To get a de-fragmented frame, use `newframe = frame.copy()`\n",
      "  df_train[new_cols] = ohe.transform(df_train[cat_cols])\n",
      "C:\\Users\\nehals4545\\AppData\\Local\\Temp\\ipykernel_7616\\1785779652.py:1: PerformanceWarning: DataFrame is highly fragmented.  This is usually the result of calling `frame.insert` many times, which has poor performance.  Consider joining all columns at once using pd.concat(axis=1) instead. To get a de-fragmented frame, use `newframe = frame.copy()`\n",
      "  df_train[new_cols] = ohe.transform(df_train[cat_cols])\n",
      "C:\\Users\\nehals4545\\AppData\\Local\\Temp\\ipykernel_7616\\1785779652.py:1: PerformanceWarning: DataFrame is highly fragmented.  This is usually the result of calling `frame.insert` many times, which has poor performance.  Consider joining all columns at once using pd.concat(axis=1) instead. To get a de-fragmented frame, use `newframe = frame.copy()`\n",
      "  df_train[new_cols] = ohe.transform(df_train[cat_cols])\n",
      "C:\\Users\\nehals4545\\AppData\\Local\\Temp\\ipykernel_7616\\1785779652.py:1: PerformanceWarning: DataFrame is highly fragmented.  This is usually the result of calling `frame.insert` many times, which has poor performance.  Consider joining all columns at once using pd.concat(axis=1) instead. To get a de-fragmented frame, use `newframe = frame.copy()`\n",
      "  df_train[new_cols] = ohe.transform(df_train[cat_cols])\n",
      "C:\\Users\\nehals4545\\AppData\\Local\\Temp\\ipykernel_7616\\1785779652.py:1: PerformanceWarning: DataFrame is highly fragmented.  This is usually the result of calling `frame.insert` many times, which has poor performance.  Consider joining all columns at once using pd.concat(axis=1) instead. To get a de-fragmented frame, use `newframe = frame.copy()`\n",
      "  df_train[new_cols] = ohe.transform(df_train[cat_cols])\n",
      "C:\\Users\\nehals4545\\AppData\\Local\\Temp\\ipykernel_7616\\1785779652.py:1: PerformanceWarning: DataFrame is highly fragmented.  This is usually the result of calling `frame.insert` many times, which has poor performance.  Consider joining all columns at once using pd.concat(axis=1) instead. To get a de-fragmented frame, use `newframe = frame.copy()`\n",
      "  df_train[new_cols] = ohe.transform(df_train[cat_cols])\n",
      "C:\\Users\\nehals4545\\AppData\\Local\\Temp\\ipykernel_7616\\1785779652.py:1: PerformanceWarning: DataFrame is highly fragmented.  This is usually the result of calling `frame.insert` many times, which has poor performance.  Consider joining all columns at once using pd.concat(axis=1) instead. To get a de-fragmented frame, use `newframe = frame.copy()`\n",
      "  df_train[new_cols] = ohe.transform(df_train[cat_cols])\n",
      "C:\\Users\\nehals4545\\AppData\\Local\\Temp\\ipykernel_7616\\1785779652.py:1: PerformanceWarning: DataFrame is highly fragmented.  This is usually the result of calling `frame.insert` many times, which has poor performance.  Consider joining all columns at once using pd.concat(axis=1) instead. To get a de-fragmented frame, use `newframe = frame.copy()`\n",
      "  df_train[new_cols] = ohe.transform(df_train[cat_cols])\n",
      "C:\\Users\\nehals4545\\AppData\\Local\\Temp\\ipykernel_7616\\1785779652.py:1: PerformanceWarning: DataFrame is highly fragmented.  This is usually the result of calling `frame.insert` many times, which has poor performance.  Consider joining all columns at once using pd.concat(axis=1) instead. To get a de-fragmented frame, use `newframe = frame.copy()`\n",
      "  df_train[new_cols] = ohe.transform(df_train[cat_cols])\n",
      "C:\\Users\\nehals4545\\AppData\\Local\\Temp\\ipykernel_7616\\1785779652.py:1: PerformanceWarning: DataFrame is highly fragmented.  This is usually the result of calling `frame.insert` many times, which has poor performance.  Consider joining all columns at once using pd.concat(axis=1) instead. To get a de-fragmented frame, use `newframe = frame.copy()`\n",
      "  df_train[new_cols] = ohe.transform(df_train[cat_cols])\n",
      "C:\\Users\\nehals4545\\AppData\\Local\\Temp\\ipykernel_7616\\1785779652.py:1: PerformanceWarning: DataFrame is highly fragmented.  This is usually the result of calling `frame.insert` many times, which has poor performance.  Consider joining all columns at once using pd.concat(axis=1) instead. To get a de-fragmented frame, use `newframe = frame.copy()`\n",
      "  df_train[new_cols] = ohe.transform(df_train[cat_cols])\n",
      "C:\\Users\\nehals4545\\AppData\\Local\\Temp\\ipykernel_7616\\1785779652.py:1: PerformanceWarning: DataFrame is highly fragmented.  This is usually the result of calling `frame.insert` many times, which has poor performance.  Consider joining all columns at once using pd.concat(axis=1) instead. To get a de-fragmented frame, use `newframe = frame.copy()`\n",
      "  df_train[new_cols] = ohe.transform(df_train[cat_cols])\n",
      "C:\\Users\\nehals4545\\AppData\\Local\\Temp\\ipykernel_7616\\1785779652.py:1: PerformanceWarning: DataFrame is highly fragmented.  This is usually the result of calling `frame.insert` many times, which has poor performance.  Consider joining all columns at once using pd.concat(axis=1) instead. To get a de-fragmented frame, use `newframe = frame.copy()`\n",
      "  df_train[new_cols] = ohe.transform(df_train[cat_cols])\n",
      "C:\\Users\\nehals4545\\AppData\\Local\\Temp\\ipykernel_7616\\1785779652.py:1: PerformanceWarning: DataFrame is highly fragmented.  This is usually the result of calling `frame.insert` many times, which has poor performance.  Consider joining all columns at once using pd.concat(axis=1) instead. To get a de-fragmented frame, use `newframe = frame.copy()`\n",
      "  df_train[new_cols] = ohe.transform(df_train[cat_cols])\n",
      "C:\\Users\\nehals4545\\AppData\\Local\\Temp\\ipykernel_7616\\1785779652.py:1: PerformanceWarning: DataFrame is highly fragmented.  This is usually the result of calling `frame.insert` many times, which has poor performance.  Consider joining all columns at once using pd.concat(axis=1) instead. To get a de-fragmented frame, use `newframe = frame.copy()`\n",
      "  df_train[new_cols] = ohe.transform(df_train[cat_cols])\n",
      "C:\\Users\\nehals4545\\AppData\\Local\\Temp\\ipykernel_7616\\1785779652.py:1: PerformanceWarning: DataFrame is highly fragmented.  This is usually the result of calling `frame.insert` many times, which has poor performance.  Consider joining all columns at once using pd.concat(axis=1) instead. To get a de-fragmented frame, use `newframe = frame.copy()`\n",
      "  df_train[new_cols] = ohe.transform(df_train[cat_cols])\n",
      "C:\\Users\\nehals4545\\AppData\\Local\\Temp\\ipykernel_7616\\1785779652.py:1: PerformanceWarning: DataFrame is highly fragmented.  This is usually the result of calling `frame.insert` many times, which has poor performance.  Consider joining all columns at once using pd.concat(axis=1) instead. To get a de-fragmented frame, use `newframe = frame.copy()`\n",
      "  df_train[new_cols] = ohe.transform(df_train[cat_cols])\n",
      "C:\\Users\\nehals4545\\AppData\\Local\\Temp\\ipykernel_7616\\1785779652.py:1: PerformanceWarning: DataFrame is highly fragmented.  This is usually the result of calling `frame.insert` many times, which has poor performance.  Consider joining all columns at once using pd.concat(axis=1) instead. To get a de-fragmented frame, use `newframe = frame.copy()`\n",
      "  df_train[new_cols] = ohe.transform(df_train[cat_cols])\n",
      "C:\\Users\\nehals4545\\AppData\\Local\\Temp\\ipykernel_7616\\1785779652.py:1: PerformanceWarning: DataFrame is highly fragmented.  This is usually the result of calling `frame.insert` many times, which has poor performance.  Consider joining all columns at once using pd.concat(axis=1) instead. To get a de-fragmented frame, use `newframe = frame.copy()`\n",
      "  df_train[new_cols] = ohe.transform(df_train[cat_cols])\n",
      "C:\\Users\\nehals4545\\AppData\\Local\\Temp\\ipykernel_7616\\1785779652.py:1: PerformanceWarning: DataFrame is highly fragmented.  This is usually the result of calling `frame.insert` many times, which has poor performance.  Consider joining all columns at once using pd.concat(axis=1) instead. To get a de-fragmented frame, use `newframe = frame.copy()`\n",
      "  df_train[new_cols] = ohe.transform(df_train[cat_cols])\n",
      "C:\\Users\\nehals4545\\AppData\\Local\\Temp\\ipykernel_7616\\1785779652.py:1: PerformanceWarning: DataFrame is highly fragmented.  This is usually the result of calling `frame.insert` many times, which has poor performance.  Consider joining all columns at once using pd.concat(axis=1) instead. To get a de-fragmented frame, use `newframe = frame.copy()`\n",
      "  df_train[new_cols] = ohe.transform(df_train[cat_cols])\n",
      "C:\\Users\\nehals4545\\AppData\\Local\\Temp\\ipykernel_7616\\1785779652.py:1: PerformanceWarning: DataFrame is highly fragmented.  This is usually the result of calling `frame.insert` many times, which has poor performance.  Consider joining all columns at once using pd.concat(axis=1) instead. To get a de-fragmented frame, use `newframe = frame.copy()`\n",
      "  df_train[new_cols] = ohe.transform(df_train[cat_cols])\n",
      "C:\\Users\\nehals4545\\AppData\\Local\\Temp\\ipykernel_7616\\1785779652.py:1: PerformanceWarning: DataFrame is highly fragmented.  This is usually the result of calling `frame.insert` many times, which has poor performance.  Consider joining all columns at once using pd.concat(axis=1) instead. To get a de-fragmented frame, use `newframe = frame.copy()`\n",
      "  df_train[new_cols] = ohe.transform(df_train[cat_cols])\n",
      "C:\\Users\\nehals4545\\AppData\\Local\\Temp\\ipykernel_7616\\1785779652.py:1: PerformanceWarning: DataFrame is highly fragmented.  This is usually the result of calling `frame.insert` many times, which has poor performance.  Consider joining all columns at once using pd.concat(axis=1) instead. To get a de-fragmented frame, use `newframe = frame.copy()`\n",
      "  df_train[new_cols] = ohe.transform(df_train[cat_cols])\n",
      "C:\\Users\\nehals4545\\AppData\\Local\\Temp\\ipykernel_7616\\1785779652.py:1: PerformanceWarning: DataFrame is highly fragmented.  This is usually the result of calling `frame.insert` many times, which has poor performance.  Consider joining all columns at once using pd.concat(axis=1) instead. To get a de-fragmented frame, use `newframe = frame.copy()`\n",
      "  df_train[new_cols] = ohe.transform(df_train[cat_cols])\n",
      "C:\\Users\\nehals4545\\AppData\\Local\\Temp\\ipykernel_7616\\1785779652.py:1: PerformanceWarning: DataFrame is highly fragmented.  This is usually the result of calling `frame.insert` many times, which has poor performance.  Consider joining all columns at once using pd.concat(axis=1) instead. To get a de-fragmented frame, use `newframe = frame.copy()`\n",
      "  df_train[new_cols] = ohe.transform(df_train[cat_cols])\n",
      "C:\\Users\\nehals4545\\AppData\\Local\\Temp\\ipykernel_7616\\1785779652.py:1: PerformanceWarning: DataFrame is highly fragmented.  This is usually the result of calling `frame.insert` many times, which has poor performance.  Consider joining all columns at once using pd.concat(axis=1) instead. To get a de-fragmented frame, use `newframe = frame.copy()`\n",
      "  df_train[new_cols] = ohe.transform(df_train[cat_cols])\n",
      "C:\\Users\\nehals4545\\AppData\\Local\\Temp\\ipykernel_7616\\1785779652.py:1: PerformanceWarning: DataFrame is highly fragmented.  This is usually the result of calling `frame.insert` many times, which has poor performance.  Consider joining all columns at once using pd.concat(axis=1) instead. To get a de-fragmented frame, use `newframe = frame.copy()`\n",
      "  df_train[new_cols] = ohe.transform(df_train[cat_cols])\n",
      "C:\\Users\\nehals4545\\AppData\\Local\\Temp\\ipykernel_7616\\1785779652.py:1: PerformanceWarning: DataFrame is highly fragmented.  This is usually the result of calling `frame.insert` many times, which has poor performance.  Consider joining all columns at once using pd.concat(axis=1) instead. To get a de-fragmented frame, use `newframe = frame.copy()`\n",
      "  df_train[new_cols] = ohe.transform(df_train[cat_cols])\n",
      "C:\\Users\\nehals4545\\AppData\\Local\\Temp\\ipykernel_7616\\1785779652.py:1: PerformanceWarning: DataFrame is highly fragmented.  This is usually the result of calling `frame.insert` many times, which has poor performance.  Consider joining all columns at once using pd.concat(axis=1) instead. To get a de-fragmented frame, use `newframe = frame.copy()`\n",
      "  df_train[new_cols] = ohe.transform(df_train[cat_cols])\n",
      "C:\\Users\\nehals4545\\AppData\\Local\\Temp\\ipykernel_7616\\1785779652.py:1: PerformanceWarning: DataFrame is highly fragmented.  This is usually the result of calling `frame.insert` many times, which has poor performance.  Consider joining all columns at once using pd.concat(axis=1) instead. To get a de-fragmented frame, use `newframe = frame.copy()`\n",
      "  df_train[new_cols] = ohe.transform(df_train[cat_cols])\n",
      "C:\\Users\\nehals4545\\AppData\\Local\\Temp\\ipykernel_7616\\1785779652.py:1: PerformanceWarning: DataFrame is highly fragmented.  This is usually the result of calling `frame.insert` many times, which has poor performance.  Consider joining all columns at once using pd.concat(axis=1) instead. To get a de-fragmented frame, use `newframe = frame.copy()`\n",
      "  df_train[new_cols] = ohe.transform(df_train[cat_cols])\n",
      "C:\\Users\\nehals4545\\AppData\\Local\\Temp\\ipykernel_7616\\1785779652.py:1: PerformanceWarning: DataFrame is highly fragmented.  This is usually the result of calling `frame.insert` many times, which has poor performance.  Consider joining all columns at once using pd.concat(axis=1) instead. To get a de-fragmented frame, use `newframe = frame.copy()`\n",
      "  df_train[new_cols] = ohe.transform(df_train[cat_cols])\n",
      "C:\\Users\\nehals4545\\AppData\\Local\\Temp\\ipykernel_7616\\1785779652.py:1: PerformanceWarning: DataFrame is highly fragmented.  This is usually the result of calling `frame.insert` many times, which has poor performance.  Consider joining all columns at once using pd.concat(axis=1) instead. To get a de-fragmented frame, use `newframe = frame.copy()`\n",
      "  df_train[new_cols] = ohe.transform(df_train[cat_cols])\n",
      "C:\\Users\\nehals4545\\AppData\\Local\\Temp\\ipykernel_7616\\1785779652.py:1: PerformanceWarning: DataFrame is highly fragmented.  This is usually the result of calling `frame.insert` many times, which has poor performance.  Consider joining all columns at once using pd.concat(axis=1) instead. To get a de-fragmented frame, use `newframe = frame.copy()`\n",
      "  df_train[new_cols] = ohe.transform(df_train[cat_cols])\n",
      "C:\\Users\\nehals4545\\AppData\\Local\\Temp\\ipykernel_7616\\1785779652.py:1: PerformanceWarning: DataFrame is highly fragmented.  This is usually the result of calling `frame.insert` many times, which has poor performance.  Consider joining all columns at once using pd.concat(axis=1) instead. To get a de-fragmented frame, use `newframe = frame.copy()`\n",
      "  df_train[new_cols] = ohe.transform(df_train[cat_cols])\n",
      "C:\\Users\\nehals4545\\AppData\\Local\\Temp\\ipykernel_7616\\1785779652.py:1: PerformanceWarning: DataFrame is highly fragmented.  This is usually the result of calling `frame.insert` many times, which has poor performance.  Consider joining all columns at once using pd.concat(axis=1) instead. To get a de-fragmented frame, use `newframe = frame.copy()`\n",
      "  df_train[new_cols] = ohe.transform(df_train[cat_cols])\n",
      "C:\\Users\\nehals4545\\AppData\\Local\\Temp\\ipykernel_7616\\1785779652.py:1: PerformanceWarning: DataFrame is highly fragmented.  This is usually the result of calling `frame.insert` many times, which has poor performance.  Consider joining all columns at once using pd.concat(axis=1) instead. To get a de-fragmented frame, use `newframe = frame.copy()`\n",
      "  df_train[new_cols] = ohe.transform(df_train[cat_cols])\n",
      "C:\\Users\\nehals4545\\AppData\\Local\\Temp\\ipykernel_7616\\1785779652.py:1: PerformanceWarning: DataFrame is highly fragmented.  This is usually the result of calling `frame.insert` many times, which has poor performance.  Consider joining all columns at once using pd.concat(axis=1) instead. To get a de-fragmented frame, use `newframe = frame.copy()`\n",
      "  df_train[new_cols] = ohe.transform(df_train[cat_cols])\n",
      "C:\\Users\\nehals4545\\AppData\\Local\\Temp\\ipykernel_7616\\1785779652.py:1: PerformanceWarning: DataFrame is highly fragmented.  This is usually the result of calling `frame.insert` many times, which has poor performance.  Consider joining all columns at once using pd.concat(axis=1) instead. To get a de-fragmented frame, use `newframe = frame.copy()`\n",
      "  df_train[new_cols] = ohe.transform(df_train[cat_cols])\n",
      "C:\\Users\\nehals4545\\AppData\\Local\\Temp\\ipykernel_7616\\1785779652.py:1: PerformanceWarning: DataFrame is highly fragmented.  This is usually the result of calling `frame.insert` many times, which has poor performance.  Consider joining all columns at once using pd.concat(axis=1) instead. To get a de-fragmented frame, use `newframe = frame.copy()`\n",
      "  df_train[new_cols] = ohe.transform(df_train[cat_cols])\n",
      "C:\\Users\\nehals4545\\AppData\\Local\\Temp\\ipykernel_7616\\1785779652.py:1: PerformanceWarning: DataFrame is highly fragmented.  This is usually the result of calling `frame.insert` many times, which has poor performance.  Consider joining all columns at once using pd.concat(axis=1) instead. To get a de-fragmented frame, use `newframe = frame.copy()`\n",
      "  df_train[new_cols] = ohe.transform(df_train[cat_cols])\n",
      "C:\\Users\\nehals4545\\AppData\\Local\\Temp\\ipykernel_7616\\1785779652.py:1: PerformanceWarning: DataFrame is highly fragmented.  This is usually the result of calling `frame.insert` many times, which has poor performance.  Consider joining all columns at once using pd.concat(axis=1) instead. To get a de-fragmented frame, use `newframe = frame.copy()`\n",
      "  df_train[new_cols] = ohe.transform(df_train[cat_cols])\n",
      "C:\\Users\\nehals4545\\AppData\\Local\\Temp\\ipykernel_7616\\1785779652.py:1: PerformanceWarning: DataFrame is highly fragmented.  This is usually the result of calling `frame.insert` many times, which has poor performance.  Consider joining all columns at once using pd.concat(axis=1) instead. To get a de-fragmented frame, use `newframe = frame.copy()`\n",
      "  df_train[new_cols] = ohe.transform(df_train[cat_cols])\n",
      "C:\\Users\\nehals4545\\AppData\\Local\\Temp\\ipykernel_7616\\1785779652.py:1: PerformanceWarning: DataFrame is highly fragmented.  This is usually the result of calling `frame.insert` many times, which has poor performance.  Consider joining all columns at once using pd.concat(axis=1) instead. To get a de-fragmented frame, use `newframe = frame.copy()`\n",
      "  df_train[new_cols] = ohe.transform(df_train[cat_cols])\n",
      "C:\\Users\\nehals4545\\AppData\\Local\\Temp\\ipykernel_7616\\1785779652.py:1: PerformanceWarning: DataFrame is highly fragmented.  This is usually the result of calling `frame.insert` many times, which has poor performance.  Consider joining all columns at once using pd.concat(axis=1) instead. To get a de-fragmented frame, use `newframe = frame.copy()`\n",
      "  df_train[new_cols] = ohe.transform(df_train[cat_cols])\n",
      "C:\\Users\\nehals4545\\AppData\\Local\\Temp\\ipykernel_7616\\1785779652.py:1: PerformanceWarning: DataFrame is highly fragmented.  This is usually the result of calling `frame.insert` many times, which has poor performance.  Consider joining all columns at once using pd.concat(axis=1) instead. To get a de-fragmented frame, use `newframe = frame.copy()`\n",
      "  df_train[new_cols] = ohe.transform(df_train[cat_cols])\n",
      "C:\\Users\\nehals4545\\AppData\\Local\\Temp\\ipykernel_7616\\1785779652.py:1: PerformanceWarning: DataFrame is highly fragmented.  This is usually the result of calling `frame.insert` many times, which has poor performance.  Consider joining all columns at once using pd.concat(axis=1) instead. To get a de-fragmented frame, use `newframe = frame.copy()`\n",
      "  df_train[new_cols] = ohe.transform(df_train[cat_cols])\n",
      "C:\\Users\\nehals4545\\AppData\\Local\\Temp\\ipykernel_7616\\1785779652.py:1: PerformanceWarning: DataFrame is highly fragmented.  This is usually the result of calling `frame.insert` many times, which has poor performance.  Consider joining all columns at once using pd.concat(axis=1) instead. To get a de-fragmented frame, use `newframe = frame.copy()`\n",
      "  df_train[new_cols] = ohe.transform(df_train[cat_cols])\n",
      "C:\\Users\\nehals4545\\AppData\\Local\\Temp\\ipykernel_7616\\1785779652.py:1: PerformanceWarning: DataFrame is highly fragmented.  This is usually the result of calling `frame.insert` many times, which has poor performance.  Consider joining all columns at once using pd.concat(axis=1) instead. To get a de-fragmented frame, use `newframe = frame.copy()`\n",
      "  df_train[new_cols] = ohe.transform(df_train[cat_cols])\n",
      "C:\\Users\\nehals4545\\AppData\\Local\\Temp\\ipykernel_7616\\1785779652.py:1: PerformanceWarning: DataFrame is highly fragmented.  This is usually the result of calling `frame.insert` many times, which has poor performance.  Consider joining all columns at once using pd.concat(axis=1) instead. To get a de-fragmented frame, use `newframe = frame.copy()`\n",
      "  df_train[new_cols] = ohe.transform(df_train[cat_cols])\n",
      "C:\\Users\\nehals4545\\AppData\\Local\\Temp\\ipykernel_7616\\1785779652.py:1: PerformanceWarning: DataFrame is highly fragmented.  This is usually the result of calling `frame.insert` many times, which has poor performance.  Consider joining all columns at once using pd.concat(axis=1) instead. To get a de-fragmented frame, use `newframe = frame.copy()`\n",
      "  df_train[new_cols] = ohe.transform(df_train[cat_cols])\n",
      "C:\\Users\\nehals4545\\AppData\\Local\\Temp\\ipykernel_7616\\1785779652.py:1: PerformanceWarning: DataFrame is highly fragmented.  This is usually the result of calling `frame.insert` many times, which has poor performance.  Consider joining all columns at once using pd.concat(axis=1) instead. To get a de-fragmented frame, use `newframe = frame.copy()`\n",
      "  df_train[new_cols] = ohe.transform(df_train[cat_cols])\n",
      "C:\\Users\\nehals4545\\AppData\\Local\\Temp\\ipykernel_7616\\1785779652.py:1: PerformanceWarning: DataFrame is highly fragmented.  This is usually the result of calling `frame.insert` many times, which has poor performance.  Consider joining all columns at once using pd.concat(axis=1) instead. To get a de-fragmented frame, use `newframe = frame.copy()`\n",
      "  df_train[new_cols] = ohe.transform(df_train[cat_cols])\n",
      "C:\\Users\\nehals4545\\AppData\\Local\\Temp\\ipykernel_7616\\1785779652.py:1: PerformanceWarning: DataFrame is highly fragmented.  This is usually the result of calling `frame.insert` many times, which has poor performance.  Consider joining all columns at once using pd.concat(axis=1) instead. To get a de-fragmented frame, use `newframe = frame.copy()`\n",
      "  df_train[new_cols] = ohe.transform(df_train[cat_cols])\n",
      "C:\\Users\\nehals4545\\AppData\\Local\\Temp\\ipykernel_7616\\1785779652.py:1: PerformanceWarning: DataFrame is highly fragmented.  This is usually the result of calling `frame.insert` many times, which has poor performance.  Consider joining all columns at once using pd.concat(axis=1) instead. To get a de-fragmented frame, use `newframe = frame.copy()`\n",
      "  df_train[new_cols] = ohe.transform(df_train[cat_cols])\n",
      "C:\\Users\\nehals4545\\AppData\\Local\\Temp\\ipykernel_7616\\1785779652.py:1: PerformanceWarning: DataFrame is highly fragmented.  This is usually the result of calling `frame.insert` many times, which has poor performance.  Consider joining all columns at once using pd.concat(axis=1) instead. To get a de-fragmented frame, use `newframe = frame.copy()`\n",
      "  df_train[new_cols] = ohe.transform(df_train[cat_cols])\n",
      "C:\\Users\\nehals4545\\AppData\\Local\\Temp\\ipykernel_7616\\1785779652.py:1: PerformanceWarning: DataFrame is highly fragmented.  This is usually the result of calling `frame.insert` many times, which has poor performance.  Consider joining all columns at once using pd.concat(axis=1) instead. To get a de-fragmented frame, use `newframe = frame.copy()`\n",
      "  df_train[new_cols] = ohe.transform(df_train[cat_cols])\n",
      "C:\\Users\\nehals4545\\AppData\\Local\\Temp\\ipykernel_7616\\1785779652.py:1: PerformanceWarning: DataFrame is highly fragmented.  This is usually the result of calling `frame.insert` many times, which has poor performance.  Consider joining all columns at once using pd.concat(axis=1) instead. To get a de-fragmented frame, use `newframe = frame.copy()`\n",
      "  df_train[new_cols] = ohe.transform(df_train[cat_cols])\n",
      "C:\\Users\\nehals4545\\AppData\\Local\\Temp\\ipykernel_7616\\1785779652.py:1: PerformanceWarning: DataFrame is highly fragmented.  This is usually the result of calling `frame.insert` many times, which has poor performance.  Consider joining all columns at once using pd.concat(axis=1) instead. To get a de-fragmented frame, use `newframe = frame.copy()`\n",
      "  df_train[new_cols] = ohe.transform(df_train[cat_cols])\n",
      "C:\\Users\\nehals4545\\AppData\\Local\\Temp\\ipykernel_7616\\1785779652.py:1: PerformanceWarning: DataFrame is highly fragmented.  This is usually the result of calling `frame.insert` many times, which has poor performance.  Consider joining all columns at once using pd.concat(axis=1) instead. To get a de-fragmented frame, use `newframe = frame.copy()`\n",
      "  df_train[new_cols] = ohe.transform(df_train[cat_cols])\n",
      "C:\\Users\\nehals4545\\AppData\\Local\\Temp\\ipykernel_7616\\1785779652.py:1: PerformanceWarning: DataFrame is highly fragmented.  This is usually the result of calling `frame.insert` many times, which has poor performance.  Consider joining all columns at once using pd.concat(axis=1) instead. To get a de-fragmented frame, use `newframe = frame.copy()`\n",
      "  df_train[new_cols] = ohe.transform(df_train[cat_cols])\n",
      "C:\\Users\\nehals4545\\AppData\\Local\\Temp\\ipykernel_7616\\1785779652.py:1: PerformanceWarning: DataFrame is highly fragmented.  This is usually the result of calling `frame.insert` many times, which has poor performance.  Consider joining all columns at once using pd.concat(axis=1) instead. To get a de-fragmented frame, use `newframe = frame.copy()`\n",
      "  df_train[new_cols] = ohe.transform(df_train[cat_cols])\n",
      "C:\\Users\\nehals4545\\AppData\\Local\\Temp\\ipykernel_7616\\1785779652.py:1: PerformanceWarning: DataFrame is highly fragmented.  This is usually the result of calling `frame.insert` many times, which has poor performance.  Consider joining all columns at once using pd.concat(axis=1) instead. To get a de-fragmented frame, use `newframe = frame.copy()`\n",
      "  df_train[new_cols] = ohe.transform(df_train[cat_cols])\n",
      "C:\\Users\\nehals4545\\AppData\\Local\\Temp\\ipykernel_7616\\1785779652.py:1: PerformanceWarning: DataFrame is highly fragmented.  This is usually the result of calling `frame.insert` many times, which has poor performance.  Consider joining all columns at once using pd.concat(axis=1) instead. To get a de-fragmented frame, use `newframe = frame.copy()`\n",
      "  df_train[new_cols] = ohe.transform(df_train[cat_cols])\n",
      "C:\\Users\\nehals4545\\AppData\\Local\\Temp\\ipykernel_7616\\1785779652.py:1: PerformanceWarning: DataFrame is highly fragmented.  This is usually the result of calling `frame.insert` many times, which has poor performance.  Consider joining all columns at once using pd.concat(axis=1) instead. To get a de-fragmented frame, use `newframe = frame.copy()`\n",
      "  df_train[new_cols] = ohe.transform(df_train[cat_cols])\n",
      "C:\\Users\\nehals4545\\AppData\\Local\\Temp\\ipykernel_7616\\1785779652.py:1: PerformanceWarning: DataFrame is highly fragmented.  This is usually the result of calling `frame.insert` many times, which has poor performance.  Consider joining all columns at once using pd.concat(axis=1) instead. To get a de-fragmented frame, use `newframe = frame.copy()`\n",
      "  df_train[new_cols] = ohe.transform(df_train[cat_cols])\n",
      "C:\\Users\\nehals4545\\AppData\\Local\\Temp\\ipykernel_7616\\1785779652.py:1: PerformanceWarning: DataFrame is highly fragmented.  This is usually the result of calling `frame.insert` many times, which has poor performance.  Consider joining all columns at once using pd.concat(axis=1) instead. To get a de-fragmented frame, use `newframe = frame.copy()`\n",
      "  df_train[new_cols] = ohe.transform(df_train[cat_cols])\n",
      "C:\\Users\\nehals4545\\AppData\\Local\\Temp\\ipykernel_7616\\1785779652.py:1: PerformanceWarning: DataFrame is highly fragmented.  This is usually the result of calling `frame.insert` many times, which has poor performance.  Consider joining all columns at once using pd.concat(axis=1) instead. To get a de-fragmented frame, use `newframe = frame.copy()`\n",
      "  df_train[new_cols] = ohe.transform(df_train[cat_cols])\n",
      "C:\\Users\\nehals4545\\AppData\\Local\\Temp\\ipykernel_7616\\1785779652.py:1: PerformanceWarning: DataFrame is highly fragmented.  This is usually the result of calling `frame.insert` many times, which has poor performance.  Consider joining all columns at once using pd.concat(axis=1) instead. To get a de-fragmented frame, use `newframe = frame.copy()`\n",
      "  df_train[new_cols] = ohe.transform(df_train[cat_cols])\n",
      "C:\\Users\\nehals4545\\AppData\\Local\\Temp\\ipykernel_7616\\1785779652.py:1: PerformanceWarning: DataFrame is highly fragmented.  This is usually the result of calling `frame.insert` many times, which has poor performance.  Consider joining all columns at once using pd.concat(axis=1) instead. To get a de-fragmented frame, use `newframe = frame.copy()`\n",
      "  df_train[new_cols] = ohe.transform(df_train[cat_cols])\n",
      "C:\\Users\\nehals4545\\AppData\\Local\\Temp\\ipykernel_7616\\1785779652.py:1: PerformanceWarning: DataFrame is highly fragmented.  This is usually the result of calling `frame.insert` many times, which has poor performance.  Consider joining all columns at once using pd.concat(axis=1) instead. To get a de-fragmented frame, use `newframe = frame.copy()`\n",
      "  df_train[new_cols] = ohe.transform(df_train[cat_cols])\n",
      "C:\\Users\\nehals4545\\AppData\\Local\\Temp\\ipykernel_7616\\1785779652.py:1: PerformanceWarning: DataFrame is highly fragmented.  This is usually the result of calling `frame.insert` many times, which has poor performance.  Consider joining all columns at once using pd.concat(axis=1) instead. To get a de-fragmented frame, use `newframe = frame.copy()`\n",
      "  df_train[new_cols] = ohe.transform(df_train[cat_cols])\n",
      "C:\\Users\\nehals4545\\AppData\\Local\\Temp\\ipykernel_7616\\1785779652.py:1: PerformanceWarning: DataFrame is highly fragmented.  This is usually the result of calling `frame.insert` many times, which has poor performance.  Consider joining all columns at once using pd.concat(axis=1) instead. To get a de-fragmented frame, use `newframe = frame.copy()`\n",
      "  df_train[new_cols] = ohe.transform(df_train[cat_cols])\n",
      "C:\\Users\\nehals4545\\AppData\\Local\\Temp\\ipykernel_7616\\1785779652.py:1: PerformanceWarning: DataFrame is highly fragmented.  This is usually the result of calling `frame.insert` many times, which has poor performance.  Consider joining all columns at once using pd.concat(axis=1) instead. To get a de-fragmented frame, use `newframe = frame.copy()`\n",
      "  df_train[new_cols] = ohe.transform(df_train[cat_cols])\n",
      "C:\\Users\\nehals4545\\AppData\\Local\\Temp\\ipykernel_7616\\1785779652.py:1: PerformanceWarning: DataFrame is highly fragmented.  This is usually the result of calling `frame.insert` many times, which has poor performance.  Consider joining all columns at once using pd.concat(axis=1) instead. To get a de-fragmented frame, use `newframe = frame.copy()`\n",
      "  df_train[new_cols] = ohe.transform(df_train[cat_cols])\n",
      "C:\\Users\\nehals4545\\AppData\\Local\\Temp\\ipykernel_7616\\1785779652.py:1: PerformanceWarning: DataFrame is highly fragmented.  This is usually the result of calling `frame.insert` many times, which has poor performance.  Consider joining all columns at once using pd.concat(axis=1) instead. To get a de-fragmented frame, use `newframe = frame.copy()`\n",
      "  df_train[new_cols] = ohe.transform(df_train[cat_cols])\n",
      "C:\\Users\\nehals4545\\AppData\\Local\\Temp\\ipykernel_7616\\1785779652.py:1: PerformanceWarning: DataFrame is highly fragmented.  This is usually the result of calling `frame.insert` many times, which has poor performance.  Consider joining all columns at once using pd.concat(axis=1) instead. To get a de-fragmented frame, use `newframe = frame.copy()`\n",
      "  df_train[new_cols] = ohe.transform(df_train[cat_cols])\n",
      "C:\\Users\\nehals4545\\AppData\\Local\\Temp\\ipykernel_7616\\1785779652.py:1: PerformanceWarning: DataFrame is highly fragmented.  This is usually the result of calling `frame.insert` many times, which has poor performance.  Consider joining all columns at once using pd.concat(axis=1) instead. To get a de-fragmented frame, use `newframe = frame.copy()`\n",
      "  df_train[new_cols] = ohe.transform(df_train[cat_cols])\n",
      "C:\\Users\\nehals4545\\AppData\\Local\\Temp\\ipykernel_7616\\1785779652.py:1: PerformanceWarning: DataFrame is highly fragmented.  This is usually the result of calling `frame.insert` many times, which has poor performance.  Consider joining all columns at once using pd.concat(axis=1) instead. To get a de-fragmented frame, use `newframe = frame.copy()`\n",
      "  df_train[new_cols] = ohe.transform(df_train[cat_cols])\n",
      "C:\\Users\\nehals4545\\AppData\\Local\\Temp\\ipykernel_7616\\1785779652.py:1: PerformanceWarning: DataFrame is highly fragmented.  This is usually the result of calling `frame.insert` many times, which has poor performance.  Consider joining all columns at once using pd.concat(axis=1) instead. To get a de-fragmented frame, use `newframe = frame.copy()`\n",
      "  df_train[new_cols] = ohe.transform(df_train[cat_cols])\n",
      "C:\\Users\\nehals4545\\AppData\\Local\\Temp\\ipykernel_7616\\1785779652.py:1: PerformanceWarning: DataFrame is highly fragmented.  This is usually the result of calling `frame.insert` many times, which has poor performance.  Consider joining all columns at once using pd.concat(axis=1) instead. To get a de-fragmented frame, use `newframe = frame.copy()`\n",
      "  df_train[new_cols] = ohe.transform(df_train[cat_cols])\n",
      "C:\\Users\\nehals4545\\AppData\\Local\\Temp\\ipykernel_7616\\1785779652.py:1: PerformanceWarning: DataFrame is highly fragmented.  This is usually the result of calling `frame.insert` many times, which has poor performance.  Consider joining all columns at once using pd.concat(axis=1) instead. To get a de-fragmented frame, use `newframe = frame.copy()`\n",
      "  df_train[new_cols] = ohe.transform(df_train[cat_cols])\n",
      "C:\\Users\\nehals4545\\AppData\\Local\\Temp\\ipykernel_7616\\1785779652.py:1: PerformanceWarning: DataFrame is highly fragmented.  This is usually the result of calling `frame.insert` many times, which has poor performance.  Consider joining all columns at once using pd.concat(axis=1) instead. To get a de-fragmented frame, use `newframe = frame.copy()`\n",
      "  df_train[new_cols] = ohe.transform(df_train[cat_cols])\n",
      "C:\\Users\\nehals4545\\AppData\\Local\\Temp\\ipykernel_7616\\1785779652.py:1: PerformanceWarning: DataFrame is highly fragmented.  This is usually the result of calling `frame.insert` many times, which has poor performance.  Consider joining all columns at once using pd.concat(axis=1) instead. To get a de-fragmented frame, use `newframe = frame.copy()`\n",
      "  df_train[new_cols] = ohe.transform(df_train[cat_cols])\n",
      "C:\\Users\\nehals4545\\AppData\\Local\\Temp\\ipykernel_7616\\1785779652.py:1: PerformanceWarning: DataFrame is highly fragmented.  This is usually the result of calling `frame.insert` many times, which has poor performance.  Consider joining all columns at once using pd.concat(axis=1) instead. To get a de-fragmented frame, use `newframe = frame.copy()`\n",
      "  df_train[new_cols] = ohe.transform(df_train[cat_cols])\n",
      "C:\\Users\\nehals4545\\AppData\\Local\\Temp\\ipykernel_7616\\1785779652.py:1: PerformanceWarning: DataFrame is highly fragmented.  This is usually the result of calling `frame.insert` many times, which has poor performance.  Consider joining all columns at once using pd.concat(axis=1) instead. To get a de-fragmented frame, use `newframe = frame.copy()`\n",
      "  df_train[new_cols] = ohe.transform(df_train[cat_cols])\n",
      "C:\\Users\\nehals4545\\AppData\\Local\\Temp\\ipykernel_7616\\1785779652.py:1: PerformanceWarning: DataFrame is highly fragmented.  This is usually the result of calling `frame.insert` many times, which has poor performance.  Consider joining all columns at once using pd.concat(axis=1) instead. To get a de-fragmented frame, use `newframe = frame.copy()`\n",
      "  df_train[new_cols] = ohe.transform(df_train[cat_cols])\n",
      "C:\\Users\\nehals4545\\AppData\\Local\\Temp\\ipykernel_7616\\1785779652.py:1: PerformanceWarning: DataFrame is highly fragmented.  This is usually the result of calling `frame.insert` many times, which has poor performance.  Consider joining all columns at once using pd.concat(axis=1) instead. To get a de-fragmented frame, use `newframe = frame.copy()`\n",
      "  df_train[new_cols] = ohe.transform(df_train[cat_cols])\n",
      "C:\\Users\\nehals4545\\AppData\\Local\\Temp\\ipykernel_7616\\1785779652.py:1: PerformanceWarning: DataFrame is highly fragmented.  This is usually the result of calling `frame.insert` many times, which has poor performance.  Consider joining all columns at once using pd.concat(axis=1) instead. To get a de-fragmented frame, use `newframe = frame.copy()`\n",
      "  df_train[new_cols] = ohe.transform(df_train[cat_cols])\n",
      "C:\\Users\\nehals4545\\AppData\\Local\\Temp\\ipykernel_7616\\1785779652.py:1: PerformanceWarning: DataFrame is highly fragmented.  This is usually the result of calling `frame.insert` many times, which has poor performance.  Consider joining all columns at once using pd.concat(axis=1) instead. To get a de-fragmented frame, use `newframe = frame.copy()`\n",
      "  df_train[new_cols] = ohe.transform(df_train[cat_cols])\n",
      "C:\\Users\\nehals4545\\AppData\\Local\\Temp\\ipykernel_7616\\1785779652.py:1: PerformanceWarning: DataFrame is highly fragmented.  This is usually the result of calling `frame.insert` many times, which has poor performance.  Consider joining all columns at once using pd.concat(axis=1) instead. To get a de-fragmented frame, use `newframe = frame.copy()`\n",
      "  df_train[new_cols] = ohe.transform(df_train[cat_cols])\n",
      "C:\\Users\\nehals4545\\AppData\\Local\\Temp\\ipykernel_7616\\1785779652.py:1: PerformanceWarning: DataFrame is highly fragmented.  This is usually the result of calling `frame.insert` many times, which has poor performance.  Consider joining all columns at once using pd.concat(axis=1) instead. To get a de-fragmented frame, use `newframe = frame.copy()`\n",
      "  df_train[new_cols] = ohe.transform(df_train[cat_cols])\n",
      "C:\\Users\\nehals4545\\AppData\\Local\\Temp\\ipykernel_7616\\1785779652.py:1: PerformanceWarning: DataFrame is highly fragmented.  This is usually the result of calling `frame.insert` many times, which has poor performance.  Consider joining all columns at once using pd.concat(axis=1) instead. To get a de-fragmented frame, use `newframe = frame.copy()`\n",
      "  df_train[new_cols] = ohe.transform(df_train[cat_cols])\n",
      "C:\\Users\\nehals4545\\AppData\\Local\\Temp\\ipykernel_7616\\1785779652.py:1: PerformanceWarning: DataFrame is highly fragmented.  This is usually the result of calling `frame.insert` many times, which has poor performance.  Consider joining all columns at once using pd.concat(axis=1) instead. To get a de-fragmented frame, use `newframe = frame.copy()`\n",
      "  df_train[new_cols] = ohe.transform(df_train[cat_cols])\n",
      "C:\\Users\\nehals4545\\AppData\\Local\\Temp\\ipykernel_7616\\1785779652.py:1: PerformanceWarning: DataFrame is highly fragmented.  This is usually the result of calling `frame.insert` many times, which has poor performance.  Consider joining all columns at once using pd.concat(axis=1) instead. To get a de-fragmented frame, use `newframe = frame.copy()`\n",
      "  df_train[new_cols] = ohe.transform(df_train[cat_cols])\n",
      "C:\\Users\\nehals4545\\AppData\\Local\\Temp\\ipykernel_7616\\1785779652.py:1: PerformanceWarning: DataFrame is highly fragmented.  This is usually the result of calling `frame.insert` many times, which has poor performance.  Consider joining all columns at once using pd.concat(axis=1) instead. To get a de-fragmented frame, use `newframe = frame.copy()`\n",
      "  df_train[new_cols] = ohe.transform(df_train[cat_cols])\n",
      "C:\\Users\\nehals4545\\AppData\\Local\\Temp\\ipykernel_7616\\1785779652.py:1: PerformanceWarning: DataFrame is highly fragmented.  This is usually the result of calling `frame.insert` many times, which has poor performance.  Consider joining all columns at once using pd.concat(axis=1) instead. To get a de-fragmented frame, use `newframe = frame.copy()`\n",
      "  df_train[new_cols] = ohe.transform(df_train[cat_cols])\n",
      "C:\\Users\\nehals4545\\AppData\\Local\\Temp\\ipykernel_7616\\1785779652.py:1: PerformanceWarning: DataFrame is highly fragmented.  This is usually the result of calling `frame.insert` many times, which has poor performance.  Consider joining all columns at once using pd.concat(axis=1) instead. To get a de-fragmented frame, use `newframe = frame.copy()`\n",
      "  df_train[new_cols] = ohe.transform(df_train[cat_cols])\n"
     ]
    },
    {
     "name": "stderr",
     "output_type": "stream",
     "text": [
      "C:\\Users\\nehals4545\\AppData\\Local\\Temp\\ipykernel_7616\\1785779652.py:2: PerformanceWarning: DataFrame is highly fragmented.  This is usually the result of calling `frame.insert` many times, which has poor performance.  Consider joining all columns at once using pd.concat(axis=1) instead. To get a de-fragmented frame, use `newframe = frame.copy()`\n",
      "  df_test[new_cols] = ohe.transform(df_test[cat_cols])\n",
      "C:\\Users\\nehals4545\\AppData\\Local\\Temp\\ipykernel_7616\\1785779652.py:2: PerformanceWarning: DataFrame is highly fragmented.  This is usually the result of calling `frame.insert` many times, which has poor performance.  Consider joining all columns at once using pd.concat(axis=1) instead. To get a de-fragmented frame, use `newframe = frame.copy()`\n",
      "  df_test[new_cols] = ohe.transform(df_test[cat_cols])\n",
      "C:\\Users\\nehals4545\\AppData\\Local\\Temp\\ipykernel_7616\\1785779652.py:2: PerformanceWarning: DataFrame is highly fragmented.  This is usually the result of calling `frame.insert` many times, which has poor performance.  Consider joining all columns at once using pd.concat(axis=1) instead. To get a de-fragmented frame, use `newframe = frame.copy()`\n",
      "  df_test[new_cols] = ohe.transform(df_test[cat_cols])\n",
      "C:\\Users\\nehals4545\\AppData\\Local\\Temp\\ipykernel_7616\\1785779652.py:2: PerformanceWarning: DataFrame is highly fragmented.  This is usually the result of calling `frame.insert` many times, which has poor performance.  Consider joining all columns at once using pd.concat(axis=1) instead. To get a de-fragmented frame, use `newframe = frame.copy()`\n",
      "  df_test[new_cols] = ohe.transform(df_test[cat_cols])\n",
      "C:\\Users\\nehals4545\\AppData\\Local\\Temp\\ipykernel_7616\\1785779652.py:2: PerformanceWarning: DataFrame is highly fragmented.  This is usually the result of calling `frame.insert` many times, which has poor performance.  Consider joining all columns at once using pd.concat(axis=1) instead. To get a de-fragmented frame, use `newframe = frame.copy()`\n",
      "  df_test[new_cols] = ohe.transform(df_test[cat_cols])\n",
      "C:\\Users\\nehals4545\\AppData\\Local\\Temp\\ipykernel_7616\\1785779652.py:2: PerformanceWarning: DataFrame is highly fragmented.  This is usually the result of calling `frame.insert` many times, which has poor performance.  Consider joining all columns at once using pd.concat(axis=1) instead. To get a de-fragmented frame, use `newframe = frame.copy()`\n",
      "  df_test[new_cols] = ohe.transform(df_test[cat_cols])\n",
      "C:\\Users\\nehals4545\\AppData\\Local\\Temp\\ipykernel_7616\\1785779652.py:2: PerformanceWarning: DataFrame is highly fragmented.  This is usually the result of calling `frame.insert` many times, which has poor performance.  Consider joining all columns at once using pd.concat(axis=1) instead. To get a de-fragmented frame, use `newframe = frame.copy()`\n",
      "  df_test[new_cols] = ohe.transform(df_test[cat_cols])\n",
      "C:\\Users\\nehals4545\\AppData\\Local\\Temp\\ipykernel_7616\\1785779652.py:2: PerformanceWarning: DataFrame is highly fragmented.  This is usually the result of calling `frame.insert` many times, which has poor performance.  Consider joining all columns at once using pd.concat(axis=1) instead. To get a de-fragmented frame, use `newframe = frame.copy()`\n",
      "  df_test[new_cols] = ohe.transform(df_test[cat_cols])\n",
      "C:\\Users\\nehals4545\\AppData\\Local\\Temp\\ipykernel_7616\\1785779652.py:2: PerformanceWarning: DataFrame is highly fragmented.  This is usually the result of calling `frame.insert` many times, which has poor performance.  Consider joining all columns at once using pd.concat(axis=1) instead. To get a de-fragmented frame, use `newframe = frame.copy()`\n",
      "  df_test[new_cols] = ohe.transform(df_test[cat_cols])\n",
      "C:\\Users\\nehals4545\\AppData\\Local\\Temp\\ipykernel_7616\\1785779652.py:2: PerformanceWarning: DataFrame is highly fragmented.  This is usually the result of calling `frame.insert` many times, which has poor performance.  Consider joining all columns at once using pd.concat(axis=1) instead. To get a de-fragmented frame, use `newframe = frame.copy()`\n",
      "  df_test[new_cols] = ohe.transform(df_test[cat_cols])\n",
      "C:\\Users\\nehals4545\\AppData\\Local\\Temp\\ipykernel_7616\\1785779652.py:2: PerformanceWarning: DataFrame is highly fragmented.  This is usually the result of calling `frame.insert` many times, which has poor performance.  Consider joining all columns at once using pd.concat(axis=1) instead. To get a de-fragmented frame, use `newframe = frame.copy()`\n",
      "  df_test[new_cols] = ohe.transform(df_test[cat_cols])\n",
      "C:\\Users\\nehals4545\\AppData\\Local\\Temp\\ipykernel_7616\\1785779652.py:2: PerformanceWarning: DataFrame is highly fragmented.  This is usually the result of calling `frame.insert` many times, which has poor performance.  Consider joining all columns at once using pd.concat(axis=1) instead. To get a de-fragmented frame, use `newframe = frame.copy()`\n",
      "  df_test[new_cols] = ohe.transform(df_test[cat_cols])\n",
      "C:\\Users\\nehals4545\\AppData\\Local\\Temp\\ipykernel_7616\\1785779652.py:2: PerformanceWarning: DataFrame is highly fragmented.  This is usually the result of calling `frame.insert` many times, which has poor performance.  Consider joining all columns at once using pd.concat(axis=1) instead. To get a de-fragmented frame, use `newframe = frame.copy()`\n",
      "  df_test[new_cols] = ohe.transform(df_test[cat_cols])\n",
      "C:\\Users\\nehals4545\\AppData\\Local\\Temp\\ipykernel_7616\\1785779652.py:2: PerformanceWarning: DataFrame is highly fragmented.  This is usually the result of calling `frame.insert` many times, which has poor performance.  Consider joining all columns at once using pd.concat(axis=1) instead. To get a de-fragmented frame, use `newframe = frame.copy()`\n",
      "  df_test[new_cols] = ohe.transform(df_test[cat_cols])\n",
      "C:\\Users\\nehals4545\\AppData\\Local\\Temp\\ipykernel_7616\\1785779652.py:2: PerformanceWarning: DataFrame is highly fragmented.  This is usually the result of calling `frame.insert` many times, which has poor performance.  Consider joining all columns at once using pd.concat(axis=1) instead. To get a de-fragmented frame, use `newframe = frame.copy()`\n",
      "  df_test[new_cols] = ohe.transform(df_test[cat_cols])\n",
      "C:\\Users\\nehals4545\\AppData\\Local\\Temp\\ipykernel_7616\\1785779652.py:2: PerformanceWarning: DataFrame is highly fragmented.  This is usually the result of calling `frame.insert` many times, which has poor performance.  Consider joining all columns at once using pd.concat(axis=1) instead. To get a de-fragmented frame, use `newframe = frame.copy()`\n",
      "  df_test[new_cols] = ohe.transform(df_test[cat_cols])\n",
      "C:\\Users\\nehals4545\\AppData\\Local\\Temp\\ipykernel_7616\\1785779652.py:2: PerformanceWarning: DataFrame is highly fragmented.  This is usually the result of calling `frame.insert` many times, which has poor performance.  Consider joining all columns at once using pd.concat(axis=1) instead. To get a de-fragmented frame, use `newframe = frame.copy()`\n",
      "  df_test[new_cols] = ohe.transform(df_test[cat_cols])\n",
      "C:\\Users\\nehals4545\\AppData\\Local\\Temp\\ipykernel_7616\\1785779652.py:2: PerformanceWarning: DataFrame is highly fragmented.  This is usually the result of calling `frame.insert` many times, which has poor performance.  Consider joining all columns at once using pd.concat(axis=1) instead. To get a de-fragmented frame, use `newframe = frame.copy()`\n",
      "  df_test[new_cols] = ohe.transform(df_test[cat_cols])\n",
      "C:\\Users\\nehals4545\\AppData\\Local\\Temp\\ipykernel_7616\\1785779652.py:2: PerformanceWarning: DataFrame is highly fragmented.  This is usually the result of calling `frame.insert` many times, which has poor performance.  Consider joining all columns at once using pd.concat(axis=1) instead. To get a de-fragmented frame, use `newframe = frame.copy()`\n",
      "  df_test[new_cols] = ohe.transform(df_test[cat_cols])\n",
      "C:\\Users\\nehals4545\\AppData\\Local\\Temp\\ipykernel_7616\\1785779652.py:2: PerformanceWarning: DataFrame is highly fragmented.  This is usually the result of calling `frame.insert` many times, which has poor performance.  Consider joining all columns at once using pd.concat(axis=1) instead. To get a de-fragmented frame, use `newframe = frame.copy()`\n",
      "  df_test[new_cols] = ohe.transform(df_test[cat_cols])\n",
      "C:\\Users\\nehals4545\\AppData\\Local\\Temp\\ipykernel_7616\\1785779652.py:2: PerformanceWarning: DataFrame is highly fragmented.  This is usually the result of calling `frame.insert` many times, which has poor performance.  Consider joining all columns at once using pd.concat(axis=1) instead. To get a de-fragmented frame, use `newframe = frame.copy()`\n",
      "  df_test[new_cols] = ohe.transform(df_test[cat_cols])\n",
      "C:\\Users\\nehals4545\\AppData\\Local\\Temp\\ipykernel_7616\\1785779652.py:2: PerformanceWarning: DataFrame is highly fragmented.  This is usually the result of calling `frame.insert` many times, which has poor performance.  Consider joining all columns at once using pd.concat(axis=1) instead. To get a de-fragmented frame, use `newframe = frame.copy()`\n",
      "  df_test[new_cols] = ohe.transform(df_test[cat_cols])\n",
      "C:\\Users\\nehals4545\\AppData\\Local\\Temp\\ipykernel_7616\\1785779652.py:2: PerformanceWarning: DataFrame is highly fragmented.  This is usually the result of calling `frame.insert` many times, which has poor performance.  Consider joining all columns at once using pd.concat(axis=1) instead. To get a de-fragmented frame, use `newframe = frame.copy()`\n",
      "  df_test[new_cols] = ohe.transform(df_test[cat_cols])\n",
      "C:\\Users\\nehals4545\\AppData\\Local\\Temp\\ipykernel_7616\\1785779652.py:2: PerformanceWarning: DataFrame is highly fragmented.  This is usually the result of calling `frame.insert` many times, which has poor performance.  Consider joining all columns at once using pd.concat(axis=1) instead. To get a de-fragmented frame, use `newframe = frame.copy()`\n",
      "  df_test[new_cols] = ohe.transform(df_test[cat_cols])\n",
      "C:\\Users\\nehals4545\\AppData\\Local\\Temp\\ipykernel_7616\\1785779652.py:2: PerformanceWarning: DataFrame is highly fragmented.  This is usually the result of calling `frame.insert` many times, which has poor performance.  Consider joining all columns at once using pd.concat(axis=1) instead. To get a de-fragmented frame, use `newframe = frame.copy()`\n",
      "  df_test[new_cols] = ohe.transform(df_test[cat_cols])\n",
      "C:\\Users\\nehals4545\\AppData\\Local\\Temp\\ipykernel_7616\\1785779652.py:2: PerformanceWarning: DataFrame is highly fragmented.  This is usually the result of calling `frame.insert` many times, which has poor performance.  Consider joining all columns at once using pd.concat(axis=1) instead. To get a de-fragmented frame, use `newframe = frame.copy()`\n",
      "  df_test[new_cols] = ohe.transform(df_test[cat_cols])\n",
      "C:\\Users\\nehals4545\\AppData\\Local\\Temp\\ipykernel_7616\\1785779652.py:2: PerformanceWarning: DataFrame is highly fragmented.  This is usually the result of calling `frame.insert` many times, which has poor performance.  Consider joining all columns at once using pd.concat(axis=1) instead. To get a de-fragmented frame, use `newframe = frame.copy()`\n",
      "  df_test[new_cols] = ohe.transform(df_test[cat_cols])\n",
      "C:\\Users\\nehals4545\\AppData\\Local\\Temp\\ipykernel_7616\\1785779652.py:2: PerformanceWarning: DataFrame is highly fragmented.  This is usually the result of calling `frame.insert` many times, which has poor performance.  Consider joining all columns at once using pd.concat(axis=1) instead. To get a de-fragmented frame, use `newframe = frame.copy()`\n",
      "  df_test[new_cols] = ohe.transform(df_test[cat_cols])\n",
      "C:\\Users\\nehals4545\\AppData\\Local\\Temp\\ipykernel_7616\\1785779652.py:2: PerformanceWarning: DataFrame is highly fragmented.  This is usually the result of calling `frame.insert` many times, which has poor performance.  Consider joining all columns at once using pd.concat(axis=1) instead. To get a de-fragmented frame, use `newframe = frame.copy()`\n",
      "  df_test[new_cols] = ohe.transform(df_test[cat_cols])\n",
      "C:\\Users\\nehals4545\\AppData\\Local\\Temp\\ipykernel_7616\\1785779652.py:2: PerformanceWarning: DataFrame is highly fragmented.  This is usually the result of calling `frame.insert` many times, which has poor performance.  Consider joining all columns at once using pd.concat(axis=1) instead. To get a de-fragmented frame, use `newframe = frame.copy()`\n",
      "  df_test[new_cols] = ohe.transform(df_test[cat_cols])\n",
      "C:\\Users\\nehals4545\\AppData\\Local\\Temp\\ipykernel_7616\\1785779652.py:2: PerformanceWarning: DataFrame is highly fragmented.  This is usually the result of calling `frame.insert` many times, which has poor performance.  Consider joining all columns at once using pd.concat(axis=1) instead. To get a de-fragmented frame, use `newframe = frame.copy()`\n",
      "  df_test[new_cols] = ohe.transform(df_test[cat_cols])\n",
      "C:\\Users\\nehals4545\\AppData\\Local\\Temp\\ipykernel_7616\\1785779652.py:2: PerformanceWarning: DataFrame is highly fragmented.  This is usually the result of calling `frame.insert` many times, which has poor performance.  Consider joining all columns at once using pd.concat(axis=1) instead. To get a de-fragmented frame, use `newframe = frame.copy()`\n",
      "  df_test[new_cols] = ohe.transform(df_test[cat_cols])\n",
      "C:\\Users\\nehals4545\\AppData\\Local\\Temp\\ipykernel_7616\\1785779652.py:2: PerformanceWarning: DataFrame is highly fragmented.  This is usually the result of calling `frame.insert` many times, which has poor performance.  Consider joining all columns at once using pd.concat(axis=1) instead. To get a de-fragmented frame, use `newframe = frame.copy()`\n",
      "  df_test[new_cols] = ohe.transform(df_test[cat_cols])\n",
      "C:\\Users\\nehals4545\\AppData\\Local\\Temp\\ipykernel_7616\\1785779652.py:2: PerformanceWarning: DataFrame is highly fragmented.  This is usually the result of calling `frame.insert` many times, which has poor performance.  Consider joining all columns at once using pd.concat(axis=1) instead. To get a de-fragmented frame, use `newframe = frame.copy()`\n",
      "  df_test[new_cols] = ohe.transform(df_test[cat_cols])\n",
      "C:\\Users\\nehals4545\\AppData\\Local\\Temp\\ipykernel_7616\\1785779652.py:2: PerformanceWarning: DataFrame is highly fragmented.  This is usually the result of calling `frame.insert` many times, which has poor performance.  Consider joining all columns at once using pd.concat(axis=1) instead. To get a de-fragmented frame, use `newframe = frame.copy()`\n",
      "  df_test[new_cols] = ohe.transform(df_test[cat_cols])\n",
      "C:\\Users\\nehals4545\\AppData\\Local\\Temp\\ipykernel_7616\\1785779652.py:2: PerformanceWarning: DataFrame is highly fragmented.  This is usually the result of calling `frame.insert` many times, which has poor performance.  Consider joining all columns at once using pd.concat(axis=1) instead. To get a de-fragmented frame, use `newframe = frame.copy()`\n",
      "  df_test[new_cols] = ohe.transform(df_test[cat_cols])\n",
      "C:\\Users\\nehals4545\\AppData\\Local\\Temp\\ipykernel_7616\\1785779652.py:2: PerformanceWarning: DataFrame is highly fragmented.  This is usually the result of calling `frame.insert` many times, which has poor performance.  Consider joining all columns at once using pd.concat(axis=1) instead. To get a de-fragmented frame, use `newframe = frame.copy()`\n",
      "  df_test[new_cols] = ohe.transform(df_test[cat_cols])\n",
      "C:\\Users\\nehals4545\\AppData\\Local\\Temp\\ipykernel_7616\\1785779652.py:2: PerformanceWarning: DataFrame is highly fragmented.  This is usually the result of calling `frame.insert` many times, which has poor performance.  Consider joining all columns at once using pd.concat(axis=1) instead. To get a de-fragmented frame, use `newframe = frame.copy()`\n",
      "  df_test[new_cols] = ohe.transform(df_test[cat_cols])\n",
      "C:\\Users\\nehals4545\\AppData\\Local\\Temp\\ipykernel_7616\\1785779652.py:2: PerformanceWarning: DataFrame is highly fragmented.  This is usually the result of calling `frame.insert` many times, which has poor performance.  Consider joining all columns at once using pd.concat(axis=1) instead. To get a de-fragmented frame, use `newframe = frame.copy()`\n",
      "  df_test[new_cols] = ohe.transform(df_test[cat_cols])\n",
      "C:\\Users\\nehals4545\\AppData\\Local\\Temp\\ipykernel_7616\\1785779652.py:2: PerformanceWarning: DataFrame is highly fragmented.  This is usually the result of calling `frame.insert` many times, which has poor performance.  Consider joining all columns at once using pd.concat(axis=1) instead. To get a de-fragmented frame, use `newframe = frame.copy()`\n",
      "  df_test[new_cols] = ohe.transform(df_test[cat_cols])\n",
      "C:\\Users\\nehals4545\\AppData\\Local\\Temp\\ipykernel_7616\\1785779652.py:2: PerformanceWarning: DataFrame is highly fragmented.  This is usually the result of calling `frame.insert` many times, which has poor performance.  Consider joining all columns at once using pd.concat(axis=1) instead. To get a de-fragmented frame, use `newframe = frame.copy()`\n",
      "  df_test[new_cols] = ohe.transform(df_test[cat_cols])\n",
      "C:\\Users\\nehals4545\\AppData\\Local\\Temp\\ipykernel_7616\\1785779652.py:2: PerformanceWarning: DataFrame is highly fragmented.  This is usually the result of calling `frame.insert` many times, which has poor performance.  Consider joining all columns at once using pd.concat(axis=1) instead. To get a de-fragmented frame, use `newframe = frame.copy()`\n",
      "  df_test[new_cols] = ohe.transform(df_test[cat_cols])\n",
      "C:\\Users\\nehals4545\\AppData\\Local\\Temp\\ipykernel_7616\\1785779652.py:2: PerformanceWarning: DataFrame is highly fragmented.  This is usually the result of calling `frame.insert` many times, which has poor performance.  Consider joining all columns at once using pd.concat(axis=1) instead. To get a de-fragmented frame, use `newframe = frame.copy()`\n",
      "  df_test[new_cols] = ohe.transform(df_test[cat_cols])\n",
      "C:\\Users\\nehals4545\\AppData\\Local\\Temp\\ipykernel_7616\\1785779652.py:2: PerformanceWarning: DataFrame is highly fragmented.  This is usually the result of calling `frame.insert` many times, which has poor performance.  Consider joining all columns at once using pd.concat(axis=1) instead. To get a de-fragmented frame, use `newframe = frame.copy()`\n",
      "  df_test[new_cols] = ohe.transform(df_test[cat_cols])\n",
      "C:\\Users\\nehals4545\\AppData\\Local\\Temp\\ipykernel_7616\\1785779652.py:2: PerformanceWarning: DataFrame is highly fragmented.  This is usually the result of calling `frame.insert` many times, which has poor performance.  Consider joining all columns at once using pd.concat(axis=1) instead. To get a de-fragmented frame, use `newframe = frame.copy()`\n",
      "  df_test[new_cols] = ohe.transform(df_test[cat_cols])\n",
      "C:\\Users\\nehals4545\\AppData\\Local\\Temp\\ipykernel_7616\\1785779652.py:2: PerformanceWarning: DataFrame is highly fragmented.  This is usually the result of calling `frame.insert` many times, which has poor performance.  Consider joining all columns at once using pd.concat(axis=1) instead. To get a de-fragmented frame, use `newframe = frame.copy()`\n",
      "  df_test[new_cols] = ohe.transform(df_test[cat_cols])\n",
      "C:\\Users\\nehals4545\\AppData\\Local\\Temp\\ipykernel_7616\\1785779652.py:2: PerformanceWarning: DataFrame is highly fragmented.  This is usually the result of calling `frame.insert` many times, which has poor performance.  Consider joining all columns at once using pd.concat(axis=1) instead. To get a de-fragmented frame, use `newframe = frame.copy()`\n",
      "  df_test[new_cols] = ohe.transform(df_test[cat_cols])\n",
      "C:\\Users\\nehals4545\\AppData\\Local\\Temp\\ipykernel_7616\\1785779652.py:2: PerformanceWarning: DataFrame is highly fragmented.  This is usually the result of calling `frame.insert` many times, which has poor performance.  Consider joining all columns at once using pd.concat(axis=1) instead. To get a de-fragmented frame, use `newframe = frame.copy()`\n",
      "  df_test[new_cols] = ohe.transform(df_test[cat_cols])\n",
      "C:\\Users\\nehals4545\\AppData\\Local\\Temp\\ipykernel_7616\\1785779652.py:2: PerformanceWarning: DataFrame is highly fragmented.  This is usually the result of calling `frame.insert` many times, which has poor performance.  Consider joining all columns at once using pd.concat(axis=1) instead. To get a de-fragmented frame, use `newframe = frame.copy()`\n",
      "  df_test[new_cols] = ohe.transform(df_test[cat_cols])\n",
      "C:\\Users\\nehals4545\\AppData\\Local\\Temp\\ipykernel_7616\\1785779652.py:2: PerformanceWarning: DataFrame is highly fragmented.  This is usually the result of calling `frame.insert` many times, which has poor performance.  Consider joining all columns at once using pd.concat(axis=1) instead. To get a de-fragmented frame, use `newframe = frame.copy()`\n",
      "  df_test[new_cols] = ohe.transform(df_test[cat_cols])\n",
      "C:\\Users\\nehals4545\\AppData\\Local\\Temp\\ipykernel_7616\\1785779652.py:2: PerformanceWarning: DataFrame is highly fragmented.  This is usually the result of calling `frame.insert` many times, which has poor performance.  Consider joining all columns at once using pd.concat(axis=1) instead. To get a de-fragmented frame, use `newframe = frame.copy()`\n",
      "  df_test[new_cols] = ohe.transform(df_test[cat_cols])\n",
      "C:\\Users\\nehals4545\\AppData\\Local\\Temp\\ipykernel_7616\\1785779652.py:2: PerformanceWarning: DataFrame is highly fragmented.  This is usually the result of calling `frame.insert` many times, which has poor performance.  Consider joining all columns at once using pd.concat(axis=1) instead. To get a de-fragmented frame, use `newframe = frame.copy()`\n",
      "  df_test[new_cols] = ohe.transform(df_test[cat_cols])\n",
      "C:\\Users\\nehals4545\\AppData\\Local\\Temp\\ipykernel_7616\\1785779652.py:2: PerformanceWarning: DataFrame is highly fragmented.  This is usually the result of calling `frame.insert` many times, which has poor performance.  Consider joining all columns at once using pd.concat(axis=1) instead. To get a de-fragmented frame, use `newframe = frame.copy()`\n",
      "  df_test[new_cols] = ohe.transform(df_test[cat_cols])\n",
      "C:\\Users\\nehals4545\\AppData\\Local\\Temp\\ipykernel_7616\\1785779652.py:2: PerformanceWarning: DataFrame is highly fragmented.  This is usually the result of calling `frame.insert` many times, which has poor performance.  Consider joining all columns at once using pd.concat(axis=1) instead. To get a de-fragmented frame, use `newframe = frame.copy()`\n",
      "  df_test[new_cols] = ohe.transform(df_test[cat_cols])\n",
      "C:\\Users\\nehals4545\\AppData\\Local\\Temp\\ipykernel_7616\\1785779652.py:2: PerformanceWarning: DataFrame is highly fragmented.  This is usually the result of calling `frame.insert` many times, which has poor performance.  Consider joining all columns at once using pd.concat(axis=1) instead. To get a de-fragmented frame, use `newframe = frame.copy()`\n",
      "  df_test[new_cols] = ohe.transform(df_test[cat_cols])\n",
      "C:\\Users\\nehals4545\\AppData\\Local\\Temp\\ipykernel_7616\\1785779652.py:2: PerformanceWarning: DataFrame is highly fragmented.  This is usually the result of calling `frame.insert` many times, which has poor performance.  Consider joining all columns at once using pd.concat(axis=1) instead. To get a de-fragmented frame, use `newframe = frame.copy()`\n",
      "  df_test[new_cols] = ohe.transform(df_test[cat_cols])\n",
      "C:\\Users\\nehals4545\\AppData\\Local\\Temp\\ipykernel_7616\\1785779652.py:2: PerformanceWarning: DataFrame is highly fragmented.  This is usually the result of calling `frame.insert` many times, which has poor performance.  Consider joining all columns at once using pd.concat(axis=1) instead. To get a de-fragmented frame, use `newframe = frame.copy()`\n",
      "  df_test[new_cols] = ohe.transform(df_test[cat_cols])\n",
      "C:\\Users\\nehals4545\\AppData\\Local\\Temp\\ipykernel_7616\\1785779652.py:2: PerformanceWarning: DataFrame is highly fragmented.  This is usually the result of calling `frame.insert` many times, which has poor performance.  Consider joining all columns at once using pd.concat(axis=1) instead. To get a de-fragmented frame, use `newframe = frame.copy()`\n",
      "  df_test[new_cols] = ohe.transform(df_test[cat_cols])\n",
      "C:\\Users\\nehals4545\\AppData\\Local\\Temp\\ipykernel_7616\\1785779652.py:2: PerformanceWarning: DataFrame is highly fragmented.  This is usually the result of calling `frame.insert` many times, which has poor performance.  Consider joining all columns at once using pd.concat(axis=1) instead. To get a de-fragmented frame, use `newframe = frame.copy()`\n",
      "  df_test[new_cols] = ohe.transform(df_test[cat_cols])\n",
      "C:\\Users\\nehals4545\\AppData\\Local\\Temp\\ipykernel_7616\\1785779652.py:2: PerformanceWarning: DataFrame is highly fragmented.  This is usually the result of calling `frame.insert` many times, which has poor performance.  Consider joining all columns at once using pd.concat(axis=1) instead. To get a de-fragmented frame, use `newframe = frame.copy()`\n",
      "  df_test[new_cols] = ohe.transform(df_test[cat_cols])\n",
      "C:\\Users\\nehals4545\\AppData\\Local\\Temp\\ipykernel_7616\\1785779652.py:2: PerformanceWarning: DataFrame is highly fragmented.  This is usually the result of calling `frame.insert` many times, which has poor performance.  Consider joining all columns at once using pd.concat(axis=1) instead. To get a de-fragmented frame, use `newframe = frame.copy()`\n",
      "  df_test[new_cols] = ohe.transform(df_test[cat_cols])\n",
      "C:\\Users\\nehals4545\\AppData\\Local\\Temp\\ipykernel_7616\\1785779652.py:2: PerformanceWarning: DataFrame is highly fragmented.  This is usually the result of calling `frame.insert` many times, which has poor performance.  Consider joining all columns at once using pd.concat(axis=1) instead. To get a de-fragmented frame, use `newframe = frame.copy()`\n",
      "  df_test[new_cols] = ohe.transform(df_test[cat_cols])\n",
      "C:\\Users\\nehals4545\\AppData\\Local\\Temp\\ipykernel_7616\\1785779652.py:2: PerformanceWarning: DataFrame is highly fragmented.  This is usually the result of calling `frame.insert` many times, which has poor performance.  Consider joining all columns at once using pd.concat(axis=1) instead. To get a de-fragmented frame, use `newframe = frame.copy()`\n",
      "  df_test[new_cols] = ohe.transform(df_test[cat_cols])\n",
      "C:\\Users\\nehals4545\\AppData\\Local\\Temp\\ipykernel_7616\\1785779652.py:2: PerformanceWarning: DataFrame is highly fragmented.  This is usually the result of calling `frame.insert` many times, which has poor performance.  Consider joining all columns at once using pd.concat(axis=1) instead. To get a de-fragmented frame, use `newframe = frame.copy()`\n",
      "  df_test[new_cols] = ohe.transform(df_test[cat_cols])\n",
      "C:\\Users\\nehals4545\\AppData\\Local\\Temp\\ipykernel_7616\\1785779652.py:2: PerformanceWarning: DataFrame is highly fragmented.  This is usually the result of calling `frame.insert` many times, which has poor performance.  Consider joining all columns at once using pd.concat(axis=1) instead. To get a de-fragmented frame, use `newframe = frame.copy()`\n",
      "  df_test[new_cols] = ohe.transform(df_test[cat_cols])\n",
      "C:\\Users\\nehals4545\\AppData\\Local\\Temp\\ipykernel_7616\\1785779652.py:2: PerformanceWarning: DataFrame is highly fragmented.  This is usually the result of calling `frame.insert` many times, which has poor performance.  Consider joining all columns at once using pd.concat(axis=1) instead. To get a de-fragmented frame, use `newframe = frame.copy()`\n",
      "  df_test[new_cols] = ohe.transform(df_test[cat_cols])\n",
      "C:\\Users\\nehals4545\\AppData\\Local\\Temp\\ipykernel_7616\\1785779652.py:2: PerformanceWarning: DataFrame is highly fragmented.  This is usually the result of calling `frame.insert` many times, which has poor performance.  Consider joining all columns at once using pd.concat(axis=1) instead. To get a de-fragmented frame, use `newframe = frame.copy()`\n",
      "  df_test[new_cols] = ohe.transform(df_test[cat_cols])\n",
      "C:\\Users\\nehals4545\\AppData\\Local\\Temp\\ipykernel_7616\\1785779652.py:2: PerformanceWarning: DataFrame is highly fragmented.  This is usually the result of calling `frame.insert` many times, which has poor performance.  Consider joining all columns at once using pd.concat(axis=1) instead. To get a de-fragmented frame, use `newframe = frame.copy()`\n",
      "  df_test[new_cols] = ohe.transform(df_test[cat_cols])\n",
      "C:\\Users\\nehals4545\\AppData\\Local\\Temp\\ipykernel_7616\\1785779652.py:2: PerformanceWarning: DataFrame is highly fragmented.  This is usually the result of calling `frame.insert` many times, which has poor performance.  Consider joining all columns at once using pd.concat(axis=1) instead. To get a de-fragmented frame, use `newframe = frame.copy()`\n",
      "  df_test[new_cols] = ohe.transform(df_test[cat_cols])\n",
      "C:\\Users\\nehals4545\\AppData\\Local\\Temp\\ipykernel_7616\\1785779652.py:2: PerformanceWarning: DataFrame is highly fragmented.  This is usually the result of calling `frame.insert` many times, which has poor performance.  Consider joining all columns at once using pd.concat(axis=1) instead. To get a de-fragmented frame, use `newframe = frame.copy()`\n",
      "  df_test[new_cols] = ohe.transform(df_test[cat_cols])\n",
      "C:\\Users\\nehals4545\\AppData\\Local\\Temp\\ipykernel_7616\\1785779652.py:2: PerformanceWarning: DataFrame is highly fragmented.  This is usually the result of calling `frame.insert` many times, which has poor performance.  Consider joining all columns at once using pd.concat(axis=1) instead. To get a de-fragmented frame, use `newframe = frame.copy()`\n",
      "  df_test[new_cols] = ohe.transform(df_test[cat_cols])\n",
      "C:\\Users\\nehals4545\\AppData\\Local\\Temp\\ipykernel_7616\\1785779652.py:2: PerformanceWarning: DataFrame is highly fragmented.  This is usually the result of calling `frame.insert` many times, which has poor performance.  Consider joining all columns at once using pd.concat(axis=1) instead. To get a de-fragmented frame, use `newframe = frame.copy()`\n",
      "  df_test[new_cols] = ohe.transform(df_test[cat_cols])\n",
      "C:\\Users\\nehals4545\\AppData\\Local\\Temp\\ipykernel_7616\\1785779652.py:2: PerformanceWarning: DataFrame is highly fragmented.  This is usually the result of calling `frame.insert` many times, which has poor performance.  Consider joining all columns at once using pd.concat(axis=1) instead. To get a de-fragmented frame, use `newframe = frame.copy()`\n",
      "  df_test[new_cols] = ohe.transform(df_test[cat_cols])\n",
      "C:\\Users\\nehals4545\\AppData\\Local\\Temp\\ipykernel_7616\\1785779652.py:2: PerformanceWarning: DataFrame is highly fragmented.  This is usually the result of calling `frame.insert` many times, which has poor performance.  Consider joining all columns at once using pd.concat(axis=1) instead. To get a de-fragmented frame, use `newframe = frame.copy()`\n",
      "  df_test[new_cols] = ohe.transform(df_test[cat_cols])\n",
      "C:\\Users\\nehals4545\\AppData\\Local\\Temp\\ipykernel_7616\\1785779652.py:2: PerformanceWarning: DataFrame is highly fragmented.  This is usually the result of calling `frame.insert` many times, which has poor performance.  Consider joining all columns at once using pd.concat(axis=1) instead. To get a de-fragmented frame, use `newframe = frame.copy()`\n",
      "  df_test[new_cols] = ohe.transform(df_test[cat_cols])\n",
      "C:\\Users\\nehals4545\\AppData\\Local\\Temp\\ipykernel_7616\\1785779652.py:2: PerformanceWarning: DataFrame is highly fragmented.  This is usually the result of calling `frame.insert` many times, which has poor performance.  Consider joining all columns at once using pd.concat(axis=1) instead. To get a de-fragmented frame, use `newframe = frame.copy()`\n",
      "  df_test[new_cols] = ohe.transform(df_test[cat_cols])\n",
      "C:\\Users\\nehals4545\\AppData\\Local\\Temp\\ipykernel_7616\\1785779652.py:2: PerformanceWarning: DataFrame is highly fragmented.  This is usually the result of calling `frame.insert` many times, which has poor performance.  Consider joining all columns at once using pd.concat(axis=1) instead. To get a de-fragmented frame, use `newframe = frame.copy()`\n",
      "  df_test[new_cols] = ohe.transform(df_test[cat_cols])\n",
      "C:\\Users\\nehals4545\\AppData\\Local\\Temp\\ipykernel_7616\\1785779652.py:2: PerformanceWarning: DataFrame is highly fragmented.  This is usually the result of calling `frame.insert` many times, which has poor performance.  Consider joining all columns at once using pd.concat(axis=1) instead. To get a de-fragmented frame, use `newframe = frame.copy()`\n",
      "  df_test[new_cols] = ohe.transform(df_test[cat_cols])\n",
      "C:\\Users\\nehals4545\\AppData\\Local\\Temp\\ipykernel_7616\\1785779652.py:2: PerformanceWarning: DataFrame is highly fragmented.  This is usually the result of calling `frame.insert` many times, which has poor performance.  Consider joining all columns at once using pd.concat(axis=1) instead. To get a de-fragmented frame, use `newframe = frame.copy()`\n",
      "  df_test[new_cols] = ohe.transform(df_test[cat_cols])\n",
      "C:\\Users\\nehals4545\\AppData\\Local\\Temp\\ipykernel_7616\\1785779652.py:2: PerformanceWarning: DataFrame is highly fragmented.  This is usually the result of calling `frame.insert` many times, which has poor performance.  Consider joining all columns at once using pd.concat(axis=1) instead. To get a de-fragmented frame, use `newframe = frame.copy()`\n",
      "  df_test[new_cols] = ohe.transform(df_test[cat_cols])\n",
      "C:\\Users\\nehals4545\\AppData\\Local\\Temp\\ipykernel_7616\\1785779652.py:2: PerformanceWarning: DataFrame is highly fragmented.  This is usually the result of calling `frame.insert` many times, which has poor performance.  Consider joining all columns at once using pd.concat(axis=1) instead. To get a de-fragmented frame, use `newframe = frame.copy()`\n",
      "  df_test[new_cols] = ohe.transform(df_test[cat_cols])\n",
      "C:\\Users\\nehals4545\\AppData\\Local\\Temp\\ipykernel_7616\\1785779652.py:2: PerformanceWarning: DataFrame is highly fragmented.  This is usually the result of calling `frame.insert` many times, which has poor performance.  Consider joining all columns at once using pd.concat(axis=1) instead. To get a de-fragmented frame, use `newframe = frame.copy()`\n",
      "  df_test[new_cols] = ohe.transform(df_test[cat_cols])\n",
      "C:\\Users\\nehals4545\\AppData\\Local\\Temp\\ipykernel_7616\\1785779652.py:2: PerformanceWarning: DataFrame is highly fragmented.  This is usually the result of calling `frame.insert` many times, which has poor performance.  Consider joining all columns at once using pd.concat(axis=1) instead. To get a de-fragmented frame, use `newframe = frame.copy()`\n",
      "  df_test[new_cols] = ohe.transform(df_test[cat_cols])\n",
      "C:\\Users\\nehals4545\\AppData\\Local\\Temp\\ipykernel_7616\\1785779652.py:2: PerformanceWarning: DataFrame is highly fragmented.  This is usually the result of calling `frame.insert` many times, which has poor performance.  Consider joining all columns at once using pd.concat(axis=1) instead. To get a de-fragmented frame, use `newframe = frame.copy()`\n",
      "  df_test[new_cols] = ohe.transform(df_test[cat_cols])\n",
      "C:\\Users\\nehals4545\\AppData\\Local\\Temp\\ipykernel_7616\\1785779652.py:2: PerformanceWarning: DataFrame is highly fragmented.  This is usually the result of calling `frame.insert` many times, which has poor performance.  Consider joining all columns at once using pd.concat(axis=1) instead. To get a de-fragmented frame, use `newframe = frame.copy()`\n",
      "  df_test[new_cols] = ohe.transform(df_test[cat_cols])\n",
      "C:\\Users\\nehals4545\\AppData\\Local\\Temp\\ipykernel_7616\\1785779652.py:2: PerformanceWarning: DataFrame is highly fragmented.  This is usually the result of calling `frame.insert` many times, which has poor performance.  Consider joining all columns at once using pd.concat(axis=1) instead. To get a de-fragmented frame, use `newframe = frame.copy()`\n",
      "  df_test[new_cols] = ohe.transform(df_test[cat_cols])\n",
      "C:\\Users\\nehals4545\\AppData\\Local\\Temp\\ipykernel_7616\\1785779652.py:2: PerformanceWarning: DataFrame is highly fragmented.  This is usually the result of calling `frame.insert` many times, which has poor performance.  Consider joining all columns at once using pd.concat(axis=1) instead. To get a de-fragmented frame, use `newframe = frame.copy()`\n",
      "  df_test[new_cols] = ohe.transform(df_test[cat_cols])\n",
      "C:\\Users\\nehals4545\\AppData\\Local\\Temp\\ipykernel_7616\\1785779652.py:2: PerformanceWarning: DataFrame is highly fragmented.  This is usually the result of calling `frame.insert` many times, which has poor performance.  Consider joining all columns at once using pd.concat(axis=1) instead. To get a de-fragmented frame, use `newframe = frame.copy()`\n",
      "  df_test[new_cols] = ohe.transform(df_test[cat_cols])\n",
      "C:\\Users\\nehals4545\\AppData\\Local\\Temp\\ipykernel_7616\\1785779652.py:2: PerformanceWarning: DataFrame is highly fragmented.  This is usually the result of calling `frame.insert` many times, which has poor performance.  Consider joining all columns at once using pd.concat(axis=1) instead. To get a de-fragmented frame, use `newframe = frame.copy()`\n",
      "  df_test[new_cols] = ohe.transform(df_test[cat_cols])\n",
      "C:\\Users\\nehals4545\\AppData\\Local\\Temp\\ipykernel_7616\\1785779652.py:2: PerformanceWarning: DataFrame is highly fragmented.  This is usually the result of calling `frame.insert` many times, which has poor performance.  Consider joining all columns at once using pd.concat(axis=1) instead. To get a de-fragmented frame, use `newframe = frame.copy()`\n",
      "  df_test[new_cols] = ohe.transform(df_test[cat_cols])\n",
      "C:\\Users\\nehals4545\\AppData\\Local\\Temp\\ipykernel_7616\\1785779652.py:2: PerformanceWarning: DataFrame is highly fragmented.  This is usually the result of calling `frame.insert` many times, which has poor performance.  Consider joining all columns at once using pd.concat(axis=1) instead. To get a de-fragmented frame, use `newframe = frame.copy()`\n",
      "  df_test[new_cols] = ohe.transform(df_test[cat_cols])\n",
      "C:\\Users\\nehals4545\\AppData\\Local\\Temp\\ipykernel_7616\\1785779652.py:2: PerformanceWarning: DataFrame is highly fragmented.  This is usually the result of calling `frame.insert` many times, which has poor performance.  Consider joining all columns at once using pd.concat(axis=1) instead. To get a de-fragmented frame, use `newframe = frame.copy()`\n",
      "  df_test[new_cols] = ohe.transform(df_test[cat_cols])\n",
      "C:\\Users\\nehals4545\\AppData\\Local\\Temp\\ipykernel_7616\\1785779652.py:2: PerformanceWarning: DataFrame is highly fragmented.  This is usually the result of calling `frame.insert` many times, which has poor performance.  Consider joining all columns at once using pd.concat(axis=1) instead. To get a de-fragmented frame, use `newframe = frame.copy()`\n",
      "  df_test[new_cols] = ohe.transform(df_test[cat_cols])\n",
      "C:\\Users\\nehals4545\\AppData\\Local\\Temp\\ipykernel_7616\\1785779652.py:2: PerformanceWarning: DataFrame is highly fragmented.  This is usually the result of calling `frame.insert` many times, which has poor performance.  Consider joining all columns at once using pd.concat(axis=1) instead. To get a de-fragmented frame, use `newframe = frame.copy()`\n",
      "  df_test[new_cols] = ohe.transform(df_test[cat_cols])\n",
      "C:\\Users\\nehals4545\\AppData\\Local\\Temp\\ipykernel_7616\\1785779652.py:2: PerformanceWarning: DataFrame is highly fragmented.  This is usually the result of calling `frame.insert` many times, which has poor performance.  Consider joining all columns at once using pd.concat(axis=1) instead. To get a de-fragmented frame, use `newframe = frame.copy()`\n",
      "  df_test[new_cols] = ohe.transform(df_test[cat_cols])\n",
      "C:\\Users\\nehals4545\\AppData\\Local\\Temp\\ipykernel_7616\\1785779652.py:2: PerformanceWarning: DataFrame is highly fragmented.  This is usually the result of calling `frame.insert` many times, which has poor performance.  Consider joining all columns at once using pd.concat(axis=1) instead. To get a de-fragmented frame, use `newframe = frame.copy()`\n",
      "  df_test[new_cols] = ohe.transform(df_test[cat_cols])\n",
      "C:\\Users\\nehals4545\\AppData\\Local\\Temp\\ipykernel_7616\\1785779652.py:2: PerformanceWarning: DataFrame is highly fragmented.  This is usually the result of calling `frame.insert` many times, which has poor performance.  Consider joining all columns at once using pd.concat(axis=1) instead. To get a de-fragmented frame, use `newframe = frame.copy()`\n",
      "  df_test[new_cols] = ohe.transform(df_test[cat_cols])\n",
      "C:\\Users\\nehals4545\\AppData\\Local\\Temp\\ipykernel_7616\\1785779652.py:2: PerformanceWarning: DataFrame is highly fragmented.  This is usually the result of calling `frame.insert` many times, which has poor performance.  Consider joining all columns at once using pd.concat(axis=1) instead. To get a de-fragmented frame, use `newframe = frame.copy()`\n",
      "  df_test[new_cols] = ohe.transform(df_test[cat_cols])\n",
      "C:\\Users\\nehals4545\\AppData\\Local\\Temp\\ipykernel_7616\\1785779652.py:2: PerformanceWarning: DataFrame is highly fragmented.  This is usually the result of calling `frame.insert` many times, which has poor performance.  Consider joining all columns at once using pd.concat(axis=1) instead. To get a de-fragmented frame, use `newframe = frame.copy()`\n",
      "  df_test[new_cols] = ohe.transform(df_test[cat_cols])\n",
      "C:\\Users\\nehals4545\\AppData\\Local\\Temp\\ipykernel_7616\\1785779652.py:2: PerformanceWarning: DataFrame is highly fragmented.  This is usually the result of calling `frame.insert` many times, which has poor performance.  Consider joining all columns at once using pd.concat(axis=1) instead. To get a de-fragmented frame, use `newframe = frame.copy()`\n",
      "  df_test[new_cols] = ohe.transform(df_test[cat_cols])\n",
      "C:\\Users\\nehals4545\\AppData\\Local\\Temp\\ipykernel_7616\\1785779652.py:2: PerformanceWarning: DataFrame is highly fragmented.  This is usually the result of calling `frame.insert` many times, which has poor performance.  Consider joining all columns at once using pd.concat(axis=1) instead. To get a de-fragmented frame, use `newframe = frame.copy()`\n",
      "  df_test[new_cols] = ohe.transform(df_test[cat_cols])\n",
      "C:\\Users\\nehals4545\\AppData\\Local\\Temp\\ipykernel_7616\\1785779652.py:2: PerformanceWarning: DataFrame is highly fragmented.  This is usually the result of calling `frame.insert` many times, which has poor performance.  Consider joining all columns at once using pd.concat(axis=1) instead. To get a de-fragmented frame, use `newframe = frame.copy()`\n",
      "  df_test[new_cols] = ohe.transform(df_test[cat_cols])\n",
      "C:\\Users\\nehals4545\\AppData\\Local\\Temp\\ipykernel_7616\\1785779652.py:2: PerformanceWarning: DataFrame is highly fragmented.  This is usually the result of calling `frame.insert` many times, which has poor performance.  Consider joining all columns at once using pd.concat(axis=1) instead. To get a de-fragmented frame, use `newframe = frame.copy()`\n",
      "  df_test[new_cols] = ohe.transform(df_test[cat_cols])\n",
      "C:\\Users\\nehals4545\\AppData\\Local\\Temp\\ipykernel_7616\\1785779652.py:2: PerformanceWarning: DataFrame is highly fragmented.  This is usually the result of calling `frame.insert` many times, which has poor performance.  Consider joining all columns at once using pd.concat(axis=1) instead. To get a de-fragmented frame, use `newframe = frame.copy()`\n",
      "  df_test[new_cols] = ohe.transform(df_test[cat_cols])\n",
      "C:\\Users\\nehals4545\\AppData\\Local\\Temp\\ipykernel_7616\\1785779652.py:2: PerformanceWarning: DataFrame is highly fragmented.  This is usually the result of calling `frame.insert` many times, which has poor performance.  Consider joining all columns at once using pd.concat(axis=1) instead. To get a de-fragmented frame, use `newframe = frame.copy()`\n",
      "  df_test[new_cols] = ohe.transform(df_test[cat_cols])\n",
      "C:\\Users\\nehals4545\\AppData\\Local\\Temp\\ipykernel_7616\\1785779652.py:2: PerformanceWarning: DataFrame is highly fragmented.  This is usually the result of calling `frame.insert` many times, which has poor performance.  Consider joining all columns at once using pd.concat(axis=1) instead. To get a de-fragmented frame, use `newframe = frame.copy()`\n",
      "  df_test[new_cols] = ohe.transform(df_test[cat_cols])\n",
      "C:\\Users\\nehals4545\\AppData\\Local\\Temp\\ipykernel_7616\\1785779652.py:2: PerformanceWarning: DataFrame is highly fragmented.  This is usually the result of calling `frame.insert` many times, which has poor performance.  Consider joining all columns at once using pd.concat(axis=1) instead. To get a de-fragmented frame, use `newframe = frame.copy()`\n",
      "  df_test[new_cols] = ohe.transform(df_test[cat_cols])\n",
      "C:\\Users\\nehals4545\\AppData\\Local\\Temp\\ipykernel_7616\\1785779652.py:2: PerformanceWarning: DataFrame is highly fragmented.  This is usually the result of calling `frame.insert` many times, which has poor performance.  Consider joining all columns at once using pd.concat(axis=1) instead. To get a de-fragmented frame, use `newframe = frame.copy()`\n",
      "  df_test[new_cols] = ohe.transform(df_test[cat_cols])\n",
      "C:\\Users\\nehals4545\\AppData\\Local\\Temp\\ipykernel_7616\\1785779652.py:2: PerformanceWarning: DataFrame is highly fragmented.  This is usually the result of calling `frame.insert` many times, which has poor performance.  Consider joining all columns at once using pd.concat(axis=1) instead. To get a de-fragmented frame, use `newframe = frame.copy()`\n",
      "  df_test[new_cols] = ohe.transform(df_test[cat_cols])\n",
      "C:\\Users\\nehals4545\\AppData\\Local\\Temp\\ipykernel_7616\\1785779652.py:2: PerformanceWarning: DataFrame is highly fragmented.  This is usually the result of calling `frame.insert` many times, which has poor performance.  Consider joining all columns at once using pd.concat(axis=1) instead. To get a de-fragmented frame, use `newframe = frame.copy()`\n",
      "  df_test[new_cols] = ohe.transform(df_test[cat_cols])\n",
      "C:\\Users\\nehals4545\\AppData\\Local\\Temp\\ipykernel_7616\\1785779652.py:2: PerformanceWarning: DataFrame is highly fragmented.  This is usually the result of calling `frame.insert` many times, which has poor performance.  Consider joining all columns at once using pd.concat(axis=1) instead. To get a de-fragmented frame, use `newframe = frame.copy()`\n",
      "  df_test[new_cols] = ohe.transform(df_test[cat_cols])\n",
      "C:\\Users\\nehals4545\\AppData\\Local\\Temp\\ipykernel_7616\\1785779652.py:2: PerformanceWarning: DataFrame is highly fragmented.  This is usually the result of calling `frame.insert` many times, which has poor performance.  Consider joining all columns at once using pd.concat(axis=1) instead. To get a de-fragmented frame, use `newframe = frame.copy()`\n",
      "  df_test[new_cols] = ohe.transform(df_test[cat_cols])\n",
      "C:\\Users\\nehals4545\\AppData\\Local\\Temp\\ipykernel_7616\\1785779652.py:2: PerformanceWarning: DataFrame is highly fragmented.  This is usually the result of calling `frame.insert` many times, which has poor performance.  Consider joining all columns at once using pd.concat(axis=1) instead. To get a de-fragmented frame, use `newframe = frame.copy()`\n",
      "  df_test[new_cols] = ohe.transform(df_test[cat_cols])\n",
      "C:\\Users\\nehals4545\\AppData\\Local\\Temp\\ipykernel_7616\\1785779652.py:2: PerformanceWarning: DataFrame is highly fragmented.  This is usually the result of calling `frame.insert` many times, which has poor performance.  Consider joining all columns at once using pd.concat(axis=1) instead. To get a de-fragmented frame, use `newframe = frame.copy()`\n",
      "  df_test[new_cols] = ohe.transform(df_test[cat_cols])\n",
      "C:\\Users\\nehals4545\\AppData\\Local\\Temp\\ipykernel_7616\\1785779652.py:2: PerformanceWarning: DataFrame is highly fragmented.  This is usually the result of calling `frame.insert` many times, which has poor performance.  Consider joining all columns at once using pd.concat(axis=1) instead. To get a de-fragmented frame, use `newframe = frame.copy()`\n",
      "  df_test[new_cols] = ohe.transform(df_test[cat_cols])\n",
      "C:\\Users\\nehals4545\\AppData\\Local\\Temp\\ipykernel_7616\\1785779652.py:2: PerformanceWarning: DataFrame is highly fragmented.  This is usually the result of calling `frame.insert` many times, which has poor performance.  Consider joining all columns at once using pd.concat(axis=1) instead. To get a de-fragmented frame, use `newframe = frame.copy()`\n",
      "  df_test[new_cols] = ohe.transform(df_test[cat_cols])\n",
      "C:\\Users\\nehals4545\\AppData\\Local\\Temp\\ipykernel_7616\\1785779652.py:2: PerformanceWarning: DataFrame is highly fragmented.  This is usually the result of calling `frame.insert` many times, which has poor performance.  Consider joining all columns at once using pd.concat(axis=1) instead. To get a de-fragmented frame, use `newframe = frame.copy()`\n",
      "  df_test[new_cols] = ohe.transform(df_test[cat_cols])\n",
      "C:\\Users\\nehals4545\\AppData\\Local\\Temp\\ipykernel_7616\\1785779652.py:2: PerformanceWarning: DataFrame is highly fragmented.  This is usually the result of calling `frame.insert` many times, which has poor performance.  Consider joining all columns at once using pd.concat(axis=1) instead. To get a de-fragmented frame, use `newframe = frame.copy()`\n",
      "  df_test[new_cols] = ohe.transform(df_test[cat_cols])\n",
      "C:\\Users\\nehals4545\\AppData\\Local\\Temp\\ipykernel_7616\\1785779652.py:2: PerformanceWarning: DataFrame is highly fragmented.  This is usually the result of calling `frame.insert` many times, which has poor performance.  Consider joining all columns at once using pd.concat(axis=1) instead. To get a de-fragmented frame, use `newframe = frame.copy()`\n",
      "  df_test[new_cols] = ohe.transform(df_test[cat_cols])\n",
      "C:\\Users\\nehals4545\\AppData\\Local\\Temp\\ipykernel_7616\\1785779652.py:2: PerformanceWarning: DataFrame is highly fragmented.  This is usually the result of calling `frame.insert` many times, which has poor performance.  Consider joining all columns at once using pd.concat(axis=1) instead. To get a de-fragmented frame, use `newframe = frame.copy()`\n",
      "  df_test[new_cols] = ohe.transform(df_test[cat_cols])\n",
      "C:\\Users\\nehals4545\\AppData\\Local\\Temp\\ipykernel_7616\\1785779652.py:2: PerformanceWarning: DataFrame is highly fragmented.  This is usually the result of calling `frame.insert` many times, which has poor performance.  Consider joining all columns at once using pd.concat(axis=1) instead. To get a de-fragmented frame, use `newframe = frame.copy()`\n",
      "  df_test[new_cols] = ohe.transform(df_test[cat_cols])\n",
      "C:\\Users\\nehals4545\\AppData\\Local\\Temp\\ipykernel_7616\\1785779652.py:2: PerformanceWarning: DataFrame is highly fragmented.  This is usually the result of calling `frame.insert` many times, which has poor performance.  Consider joining all columns at once using pd.concat(axis=1) instead. To get a de-fragmented frame, use `newframe = frame.copy()`\n",
      "  df_test[new_cols] = ohe.transform(df_test[cat_cols])\n",
      "C:\\Users\\nehals4545\\AppData\\Local\\Temp\\ipykernel_7616\\1785779652.py:2: PerformanceWarning: DataFrame is highly fragmented.  This is usually the result of calling `frame.insert` many times, which has poor performance.  Consider joining all columns at once using pd.concat(axis=1) instead. To get a de-fragmented frame, use `newframe = frame.copy()`\n",
      "  df_test[new_cols] = ohe.transform(df_test[cat_cols])\n",
      "C:\\Users\\nehals4545\\AppData\\Local\\Temp\\ipykernel_7616\\1785779652.py:2: PerformanceWarning: DataFrame is highly fragmented.  This is usually the result of calling `frame.insert` many times, which has poor performance.  Consider joining all columns at once using pd.concat(axis=1) instead. To get a de-fragmented frame, use `newframe = frame.copy()`\n",
      "  df_test[new_cols] = ohe.transform(df_test[cat_cols])\n",
      "C:\\Users\\nehals4545\\AppData\\Local\\Temp\\ipykernel_7616\\1785779652.py:2: PerformanceWarning: DataFrame is highly fragmented.  This is usually the result of calling `frame.insert` many times, which has poor performance.  Consider joining all columns at once using pd.concat(axis=1) instead. To get a de-fragmented frame, use `newframe = frame.copy()`\n",
      "  df_test[new_cols] = ohe.transform(df_test[cat_cols])\n",
      "C:\\Users\\nehals4545\\AppData\\Local\\Temp\\ipykernel_7616\\1785779652.py:2: PerformanceWarning: DataFrame is highly fragmented.  This is usually the result of calling `frame.insert` many times, which has poor performance.  Consider joining all columns at once using pd.concat(axis=1) instead. To get a de-fragmented frame, use `newframe = frame.copy()`\n",
      "  df_test[new_cols] = ohe.transform(df_test[cat_cols])\n",
      "C:\\Users\\nehals4545\\AppData\\Local\\Temp\\ipykernel_7616\\1785779652.py:2: PerformanceWarning: DataFrame is highly fragmented.  This is usually the result of calling `frame.insert` many times, which has poor performance.  Consider joining all columns at once using pd.concat(axis=1) instead. To get a de-fragmented frame, use `newframe = frame.copy()`\n",
      "  df_test[new_cols] = ohe.transform(df_test[cat_cols])\n",
      "C:\\Users\\nehals4545\\AppData\\Local\\Temp\\ipykernel_7616\\1785779652.py:2: PerformanceWarning: DataFrame is highly fragmented.  This is usually the result of calling `frame.insert` many times, which has poor performance.  Consider joining all columns at once using pd.concat(axis=1) instead. To get a de-fragmented frame, use `newframe = frame.copy()`\n",
      "  df_test[new_cols] = ohe.transform(df_test[cat_cols])\n",
      "C:\\Users\\nehals4545\\AppData\\Local\\Temp\\ipykernel_7616\\1785779652.py:2: PerformanceWarning: DataFrame is highly fragmented.  This is usually the result of calling `frame.insert` many times, which has poor performance.  Consider joining all columns at once using pd.concat(axis=1) instead. To get a de-fragmented frame, use `newframe = frame.copy()`\n",
      "  df_test[new_cols] = ohe.transform(df_test[cat_cols])\n",
      "C:\\Users\\nehals4545\\AppData\\Local\\Temp\\ipykernel_7616\\1785779652.py:2: PerformanceWarning: DataFrame is highly fragmented.  This is usually the result of calling `frame.insert` many times, which has poor performance.  Consider joining all columns at once using pd.concat(axis=1) instead. To get a de-fragmented frame, use `newframe = frame.copy()`\n",
      "  df_test[new_cols] = ohe.transform(df_test[cat_cols])\n",
      "C:\\Users\\nehals4545\\AppData\\Local\\Temp\\ipykernel_7616\\1785779652.py:2: PerformanceWarning: DataFrame is highly fragmented.  This is usually the result of calling `frame.insert` many times, which has poor performance.  Consider joining all columns at once using pd.concat(axis=1) instead. To get a de-fragmented frame, use `newframe = frame.copy()`\n",
      "  df_test[new_cols] = ohe.transform(df_test[cat_cols])\n",
      "C:\\Users\\nehals4545\\AppData\\Local\\Temp\\ipykernel_7616\\1785779652.py:2: PerformanceWarning: DataFrame is highly fragmented.  This is usually the result of calling `frame.insert` many times, which has poor performance.  Consider joining all columns at once using pd.concat(axis=1) instead. To get a de-fragmented frame, use `newframe = frame.copy()`\n",
      "  df_test[new_cols] = ohe.transform(df_test[cat_cols])\n",
      "C:\\Users\\nehals4545\\AppData\\Local\\Temp\\ipykernel_7616\\1785779652.py:2: PerformanceWarning: DataFrame is highly fragmented.  This is usually the result of calling `frame.insert` many times, which has poor performance.  Consider joining all columns at once using pd.concat(axis=1) instead. To get a de-fragmented frame, use `newframe = frame.copy()`\n",
      "  df_test[new_cols] = ohe.transform(df_test[cat_cols])\n",
      "C:\\Users\\nehals4545\\AppData\\Local\\Temp\\ipykernel_7616\\1785779652.py:2: PerformanceWarning: DataFrame is highly fragmented.  This is usually the result of calling `frame.insert` many times, which has poor performance.  Consider joining all columns at once using pd.concat(axis=1) instead. To get a de-fragmented frame, use `newframe = frame.copy()`\n",
      "  df_test[new_cols] = ohe.transform(df_test[cat_cols])\n",
      "C:\\Users\\nehals4545\\AppData\\Local\\Temp\\ipykernel_7616\\1785779652.py:2: PerformanceWarning: DataFrame is highly fragmented.  This is usually the result of calling `frame.insert` many times, which has poor performance.  Consider joining all columns at once using pd.concat(axis=1) instead. To get a de-fragmented frame, use `newframe = frame.copy()`\n",
      "  df_test[new_cols] = ohe.transform(df_test[cat_cols])\n",
      "C:\\Users\\nehals4545\\AppData\\Local\\Temp\\ipykernel_7616\\1785779652.py:2: PerformanceWarning: DataFrame is highly fragmented.  This is usually the result of calling `frame.insert` many times, which has poor performance.  Consider joining all columns at once using pd.concat(axis=1) instead. To get a de-fragmented frame, use `newframe = frame.copy()`\n",
      "  df_test[new_cols] = ohe.transform(df_test[cat_cols])\n",
      "C:\\Users\\nehals4545\\AppData\\Local\\Temp\\ipykernel_7616\\1785779652.py:2: PerformanceWarning: DataFrame is highly fragmented.  This is usually the result of calling `frame.insert` many times, which has poor performance.  Consider joining all columns at once using pd.concat(axis=1) instead. To get a de-fragmented frame, use `newframe = frame.copy()`\n",
      "  df_test[new_cols] = ohe.transform(df_test[cat_cols])\n",
      "C:\\Users\\nehals4545\\AppData\\Local\\Temp\\ipykernel_7616\\1785779652.py:2: PerformanceWarning: DataFrame is highly fragmented.  This is usually the result of calling `frame.insert` many times, which has poor performance.  Consider joining all columns at once using pd.concat(axis=1) instead. To get a de-fragmented frame, use `newframe = frame.copy()`\n",
      "  df_test[new_cols] = ohe.transform(df_test[cat_cols])\n",
      "C:\\Users\\nehals4545\\AppData\\Local\\Temp\\ipykernel_7616\\1785779652.py:2: PerformanceWarning: DataFrame is highly fragmented.  This is usually the result of calling `frame.insert` many times, which has poor performance.  Consider joining all columns at once using pd.concat(axis=1) instead. To get a de-fragmented frame, use `newframe = frame.copy()`\n",
      "  df_test[new_cols] = ohe.transform(df_test[cat_cols])\n",
      "C:\\Users\\nehals4545\\AppData\\Local\\Temp\\ipykernel_7616\\1785779652.py:2: PerformanceWarning: DataFrame is highly fragmented.  This is usually the result of calling `frame.insert` many times, which has poor performance.  Consider joining all columns at once using pd.concat(axis=1) instead. To get a de-fragmented frame, use `newframe = frame.copy()`\n",
      "  df_test[new_cols] = ohe.transform(df_test[cat_cols])\n",
      "C:\\Users\\nehals4545\\AppData\\Local\\Temp\\ipykernel_7616\\1785779652.py:2: PerformanceWarning: DataFrame is highly fragmented.  This is usually the result of calling `frame.insert` many times, which has poor performance.  Consider joining all columns at once using pd.concat(axis=1) instead. To get a de-fragmented frame, use `newframe = frame.copy()`\n",
      "  df_test[new_cols] = ohe.transform(df_test[cat_cols])\n",
      "C:\\Users\\nehals4545\\AppData\\Local\\Temp\\ipykernel_7616\\1785779652.py:2: PerformanceWarning: DataFrame is highly fragmented.  This is usually the result of calling `frame.insert` many times, which has poor performance.  Consider joining all columns at once using pd.concat(axis=1) instead. To get a de-fragmented frame, use `newframe = frame.copy()`\n",
      "  df_test[new_cols] = ohe.transform(df_test[cat_cols])\n",
      "C:\\Users\\nehals4545\\AppData\\Local\\Temp\\ipykernel_7616\\1785779652.py:2: PerformanceWarning: DataFrame is highly fragmented.  This is usually the result of calling `frame.insert` many times, which has poor performance.  Consider joining all columns at once using pd.concat(axis=1) instead. To get a de-fragmented frame, use `newframe = frame.copy()`\n",
      "  df_test[new_cols] = ohe.transform(df_test[cat_cols])\n",
      "C:\\Users\\nehals4545\\AppData\\Local\\Temp\\ipykernel_7616\\1785779652.py:2: PerformanceWarning: DataFrame is highly fragmented.  This is usually the result of calling `frame.insert` many times, which has poor performance.  Consider joining all columns at once using pd.concat(axis=1) instead. To get a de-fragmented frame, use `newframe = frame.copy()`\n",
      "  df_test[new_cols] = ohe.transform(df_test[cat_cols])\n",
      "C:\\Users\\nehals4545\\AppData\\Local\\Temp\\ipykernel_7616\\1785779652.py:2: PerformanceWarning: DataFrame is highly fragmented.  This is usually the result of calling `frame.insert` many times, which has poor performance.  Consider joining all columns at once using pd.concat(axis=1) instead. To get a de-fragmented frame, use `newframe = frame.copy()`\n",
      "  df_test[new_cols] = ohe.transform(df_test[cat_cols])\n",
      "C:\\Users\\nehals4545\\AppData\\Local\\Temp\\ipykernel_7616\\1785779652.py:2: PerformanceWarning: DataFrame is highly fragmented.  This is usually the result of calling `frame.insert` many times, which has poor performance.  Consider joining all columns at once using pd.concat(axis=1) instead. To get a de-fragmented frame, use `newframe = frame.copy()`\n",
      "  df_test[new_cols] = ohe.transform(df_test[cat_cols])\n",
      "C:\\Users\\nehals4545\\AppData\\Local\\Temp\\ipykernel_7616\\1785779652.py:2: PerformanceWarning: DataFrame is highly fragmented.  This is usually the result of calling `frame.insert` many times, which has poor performance.  Consider joining all columns at once using pd.concat(axis=1) instead. To get a de-fragmented frame, use `newframe = frame.copy()`\n",
      "  df_test[new_cols] = ohe.transform(df_test[cat_cols])\n",
      "C:\\Users\\nehals4545\\AppData\\Local\\Temp\\ipykernel_7616\\1785779652.py:2: PerformanceWarning: DataFrame is highly fragmented.  This is usually the result of calling `frame.insert` many times, which has poor performance.  Consider joining all columns at once using pd.concat(axis=1) instead. To get a de-fragmented frame, use `newframe = frame.copy()`\n",
      "  df_test[new_cols] = ohe.transform(df_test[cat_cols])\n",
      "C:\\Users\\nehals4545\\AppData\\Local\\Temp\\ipykernel_7616\\1785779652.py:2: PerformanceWarning: DataFrame is highly fragmented.  This is usually the result of calling `frame.insert` many times, which has poor performance.  Consider joining all columns at once using pd.concat(axis=1) instead. To get a de-fragmented frame, use `newframe = frame.copy()`\n",
      "  df_test[new_cols] = ohe.transform(df_test[cat_cols])\n",
      "C:\\Users\\nehals4545\\AppData\\Local\\Temp\\ipykernel_7616\\1785779652.py:2: PerformanceWarning: DataFrame is highly fragmented.  This is usually the result of calling `frame.insert` many times, which has poor performance.  Consider joining all columns at once using pd.concat(axis=1) instead. To get a de-fragmented frame, use `newframe = frame.copy()`\n",
      "  df_test[new_cols] = ohe.transform(df_test[cat_cols])\n",
      "C:\\Users\\nehals4545\\AppData\\Local\\Temp\\ipykernel_7616\\1785779652.py:2: PerformanceWarning: DataFrame is highly fragmented.  This is usually the result of calling `frame.insert` many times, which has poor performance.  Consider joining all columns at once using pd.concat(axis=1) instead. To get a de-fragmented frame, use `newframe = frame.copy()`\n",
      "  df_test[new_cols] = ohe.transform(df_test[cat_cols])\n",
      "C:\\Users\\nehals4545\\AppData\\Local\\Temp\\ipykernel_7616\\1785779652.py:2: PerformanceWarning: DataFrame is highly fragmented.  This is usually the result of calling `frame.insert` many times, which has poor performance.  Consider joining all columns at once using pd.concat(axis=1) instead. To get a de-fragmented frame, use `newframe = frame.copy()`\n",
      "  df_test[new_cols] = ohe.transform(df_test[cat_cols])\n",
      "C:\\Users\\nehals4545\\AppData\\Local\\Temp\\ipykernel_7616\\1785779652.py:2: PerformanceWarning: DataFrame is highly fragmented.  This is usually the result of calling `frame.insert` many times, which has poor performance.  Consider joining all columns at once using pd.concat(axis=1) instead. To get a de-fragmented frame, use `newframe = frame.copy()`\n",
      "  df_test[new_cols] = ohe.transform(df_test[cat_cols])\n",
      "C:\\Users\\nehals4545\\AppData\\Local\\Temp\\ipykernel_7616\\1785779652.py:2: PerformanceWarning: DataFrame is highly fragmented.  This is usually the result of calling `frame.insert` many times, which has poor performance.  Consider joining all columns at once using pd.concat(axis=1) instead. To get a de-fragmented frame, use `newframe = frame.copy()`\n",
      "  df_test[new_cols] = ohe.transform(df_test[cat_cols])\n",
      "C:\\Users\\nehals4545\\AppData\\Local\\Temp\\ipykernel_7616\\1785779652.py:2: PerformanceWarning: DataFrame is highly fragmented.  This is usually the result of calling `frame.insert` many times, which has poor performance.  Consider joining all columns at once using pd.concat(axis=1) instead. To get a de-fragmented frame, use `newframe = frame.copy()`\n",
      "  df_test[new_cols] = ohe.transform(df_test[cat_cols])\n",
      "C:\\Users\\nehals4545\\AppData\\Local\\Temp\\ipykernel_7616\\1785779652.py:2: PerformanceWarning: DataFrame is highly fragmented.  This is usually the result of calling `frame.insert` many times, which has poor performance.  Consider joining all columns at once using pd.concat(axis=1) instead. To get a de-fragmented frame, use `newframe = frame.copy()`\n",
      "  df_test[new_cols] = ohe.transform(df_test[cat_cols])\n",
      "C:\\Users\\nehals4545\\AppData\\Local\\Temp\\ipykernel_7616\\1785779652.py:2: PerformanceWarning: DataFrame is highly fragmented.  This is usually the result of calling `frame.insert` many times, which has poor performance.  Consider joining all columns at once using pd.concat(axis=1) instead. To get a de-fragmented frame, use `newframe = frame.copy()`\n",
      "  df_test[new_cols] = ohe.transform(df_test[cat_cols])\n",
      "C:\\Users\\nehals4545\\AppData\\Local\\Temp\\ipykernel_7616\\1785779652.py:2: PerformanceWarning: DataFrame is highly fragmented.  This is usually the result of calling `frame.insert` many times, which has poor performance.  Consider joining all columns at once using pd.concat(axis=1) instead. To get a de-fragmented frame, use `newframe = frame.copy()`\n",
      "  df_test[new_cols] = ohe.transform(df_test[cat_cols])\n",
      "C:\\Users\\nehals4545\\AppData\\Local\\Temp\\ipykernel_7616\\1785779652.py:2: PerformanceWarning: DataFrame is highly fragmented.  This is usually the result of calling `frame.insert` many times, which has poor performance.  Consider joining all columns at once using pd.concat(axis=1) instead. To get a de-fragmented frame, use `newframe = frame.copy()`\n",
      "  df_test[new_cols] = ohe.transform(df_test[cat_cols])\n",
      "C:\\Users\\nehals4545\\AppData\\Local\\Temp\\ipykernel_7616\\1785779652.py:2: PerformanceWarning: DataFrame is highly fragmented.  This is usually the result of calling `frame.insert` many times, which has poor performance.  Consider joining all columns at once using pd.concat(axis=1) instead. To get a de-fragmented frame, use `newframe = frame.copy()`\n",
      "  df_test[new_cols] = ohe.transform(df_test[cat_cols])\n",
      "C:\\Users\\nehals4545\\AppData\\Local\\Temp\\ipykernel_7616\\1785779652.py:2: PerformanceWarning: DataFrame is highly fragmented.  This is usually the result of calling `frame.insert` many times, which has poor performance.  Consider joining all columns at once using pd.concat(axis=1) instead. To get a de-fragmented frame, use `newframe = frame.copy()`\n",
      "  df_test[new_cols] = ohe.transform(df_test[cat_cols])\n",
      "C:\\Users\\nehals4545\\AppData\\Local\\Temp\\ipykernel_7616\\1785779652.py:2: PerformanceWarning: DataFrame is highly fragmented.  This is usually the result of calling `frame.insert` many times, which has poor performance.  Consider joining all columns at once using pd.concat(axis=1) instead. To get a de-fragmented frame, use `newframe = frame.copy()`\n",
      "  df_test[new_cols] = ohe.transform(df_test[cat_cols])\n",
      "C:\\Users\\nehals4545\\AppData\\Local\\Temp\\ipykernel_7616\\1785779652.py:2: PerformanceWarning: DataFrame is highly fragmented.  This is usually the result of calling `frame.insert` many times, which has poor performance.  Consider joining all columns at once using pd.concat(axis=1) instead. To get a de-fragmented frame, use `newframe = frame.copy()`\n",
      "  df_test[new_cols] = ohe.transform(df_test[cat_cols])\n",
      "C:\\Users\\nehals4545\\AppData\\Local\\Temp\\ipykernel_7616\\1785779652.py:2: PerformanceWarning: DataFrame is highly fragmented.  This is usually the result of calling `frame.insert` many times, which has poor performance.  Consider joining all columns at once using pd.concat(axis=1) instead. To get a de-fragmented frame, use `newframe = frame.copy()`\n",
      "  df_test[new_cols] = ohe.transform(df_test[cat_cols])\n",
      "C:\\Users\\nehals4545\\AppData\\Local\\Temp\\ipykernel_7616\\1785779652.py:2: PerformanceWarning: DataFrame is highly fragmented.  This is usually the result of calling `frame.insert` many times, which has poor performance.  Consider joining all columns at once using pd.concat(axis=1) instead. To get a de-fragmented frame, use `newframe = frame.copy()`\n",
      "  df_test[new_cols] = ohe.transform(df_test[cat_cols])\n",
      "C:\\Users\\nehals4545\\AppData\\Local\\Temp\\ipykernel_7616\\1785779652.py:2: PerformanceWarning: DataFrame is highly fragmented.  This is usually the result of calling `frame.insert` many times, which has poor performance.  Consider joining all columns at once using pd.concat(axis=1) instead. To get a de-fragmented frame, use `newframe = frame.copy()`\n",
      "  df_test[new_cols] = ohe.transform(df_test[cat_cols])\n",
      "C:\\Users\\nehals4545\\AppData\\Local\\Temp\\ipykernel_7616\\1785779652.py:2: PerformanceWarning: DataFrame is highly fragmented.  This is usually the result of calling `frame.insert` many times, which has poor performance.  Consider joining all columns at once using pd.concat(axis=1) instead. To get a de-fragmented frame, use `newframe = frame.copy()`\n",
      "  df_test[new_cols] = ohe.transform(df_test[cat_cols])\n",
      "C:\\Users\\nehals4545\\AppData\\Local\\Temp\\ipykernel_7616\\1785779652.py:2: PerformanceWarning: DataFrame is highly fragmented.  This is usually the result of calling `frame.insert` many times, which has poor performance.  Consider joining all columns at once using pd.concat(axis=1) instead. To get a de-fragmented frame, use `newframe = frame.copy()`\n",
      "  df_test[new_cols] = ohe.transform(df_test[cat_cols])\n",
      "C:\\Users\\nehals4545\\AppData\\Local\\Temp\\ipykernel_7616\\1785779652.py:2: PerformanceWarning: DataFrame is highly fragmented.  This is usually the result of calling `frame.insert` many times, which has poor performance.  Consider joining all columns at once using pd.concat(axis=1) instead. To get a de-fragmented frame, use `newframe = frame.copy()`\n",
      "  df_test[new_cols] = ohe.transform(df_test[cat_cols])\n"
     ]
    }
   ],
   "source": [
    "df_train[new_cols] = ohe.transform(df_train[cat_cols])\n",
    "df_test[new_cols] = ohe.transform(df_test[cat_cols])"
   ]
  },
  {
   "cell_type": "code",
   "execution_count": 21,
   "id": "a6ea427b",
   "metadata": {},
   "outputs": [
    {
     "data": {
      "text/html": [
       "<div>\n",
       "<style scoped>\n",
       "    .dataframe tbody tr th:only-of-type {\n",
       "        vertical-align: middle;\n",
       "    }\n",
       "\n",
       "    .dataframe tbody tr th {\n",
       "        vertical-align: top;\n",
       "    }\n",
       "\n",
       "    .dataframe thead th {\n",
       "        text-align: right;\n",
       "    }\n",
       "</style>\n",
       "<table border=\"1\" class=\"dataframe\">\n",
       "  <thead>\n",
       "    <tr style=\"text-align: right;\">\n",
       "      <th></th>\n",
       "      <th>Id</th>\n",
       "      <th>MSSubClass</th>\n",
       "      <th>MSZoning</th>\n",
       "      <th>LotFrontage</th>\n",
       "      <th>LotArea</th>\n",
       "      <th>Street</th>\n",
       "      <th>Alley</th>\n",
       "      <th>LotShape</th>\n",
       "      <th>LandContour</th>\n",
       "      <th>Utilities</th>\n",
       "      <th>...</th>\n",
       "      <th>x41_ConLw</th>\n",
       "      <th>x41_New</th>\n",
       "      <th>x41_Oth</th>\n",
       "      <th>x41_WD</th>\n",
       "      <th>x42_Abnorml</th>\n",
       "      <th>x42_AdjLand</th>\n",
       "      <th>x42_Alloca</th>\n",
       "      <th>x42_Family</th>\n",
       "      <th>x42_Normal</th>\n",
       "      <th>x42_Partial</th>\n",
       "    </tr>\n",
       "  </thead>\n",
       "  <tbody>\n",
       "    <tr>\n",
       "      <th>0</th>\n",
       "      <td>1</td>\n",
       "      <td>60.0</td>\n",
       "      <td>RL</td>\n",
       "      <td>65.0</td>\n",
       "      <td>8450.0</td>\n",
       "      <td>Pave</td>\n",
       "      <td>NA</td>\n",
       "      <td>Reg</td>\n",
       "      <td>Lvl</td>\n",
       "      <td>AllPub</td>\n",
       "      <td>...</td>\n",
       "      <td>0.0</td>\n",
       "      <td>0.0</td>\n",
       "      <td>0.0</td>\n",
       "      <td>1.0</td>\n",
       "      <td>0.0</td>\n",
       "      <td>0.0</td>\n",
       "      <td>0.0</td>\n",
       "      <td>0.0</td>\n",
       "      <td>1.0</td>\n",
       "      <td>0.0</td>\n",
       "    </tr>\n",
       "    <tr>\n",
       "      <th>1</th>\n",
       "      <td>2</td>\n",
       "      <td>20.0</td>\n",
       "      <td>RL</td>\n",
       "      <td>80.0</td>\n",
       "      <td>9600.0</td>\n",
       "      <td>Pave</td>\n",
       "      <td>NA</td>\n",
       "      <td>Reg</td>\n",
       "      <td>Lvl</td>\n",
       "      <td>AllPub</td>\n",
       "      <td>...</td>\n",
       "      <td>0.0</td>\n",
       "      <td>0.0</td>\n",
       "      <td>0.0</td>\n",
       "      <td>1.0</td>\n",
       "      <td>0.0</td>\n",
       "      <td>0.0</td>\n",
       "      <td>0.0</td>\n",
       "      <td>0.0</td>\n",
       "      <td>1.0</td>\n",
       "      <td>0.0</td>\n",
       "    </tr>\n",
       "    <tr>\n",
       "      <th>2</th>\n",
       "      <td>3</td>\n",
       "      <td>60.0</td>\n",
       "      <td>RL</td>\n",
       "      <td>68.0</td>\n",
       "      <td>11250.0</td>\n",
       "      <td>Pave</td>\n",
       "      <td>NA</td>\n",
       "      <td>IR1</td>\n",
       "      <td>Lvl</td>\n",
       "      <td>AllPub</td>\n",
       "      <td>...</td>\n",
       "      <td>0.0</td>\n",
       "      <td>0.0</td>\n",
       "      <td>0.0</td>\n",
       "      <td>1.0</td>\n",
       "      <td>0.0</td>\n",
       "      <td>0.0</td>\n",
       "      <td>0.0</td>\n",
       "      <td>0.0</td>\n",
       "      <td>1.0</td>\n",
       "      <td>0.0</td>\n",
       "    </tr>\n",
       "    <tr>\n",
       "      <th>3</th>\n",
       "      <td>4</td>\n",
       "      <td>70.0</td>\n",
       "      <td>RL</td>\n",
       "      <td>60.0</td>\n",
       "      <td>9550.0</td>\n",
       "      <td>Pave</td>\n",
       "      <td>NA</td>\n",
       "      <td>IR1</td>\n",
       "      <td>Lvl</td>\n",
       "      <td>AllPub</td>\n",
       "      <td>...</td>\n",
       "      <td>0.0</td>\n",
       "      <td>0.0</td>\n",
       "      <td>0.0</td>\n",
       "      <td>1.0</td>\n",
       "      <td>1.0</td>\n",
       "      <td>0.0</td>\n",
       "      <td>0.0</td>\n",
       "      <td>0.0</td>\n",
       "      <td>0.0</td>\n",
       "      <td>0.0</td>\n",
       "    </tr>\n",
       "    <tr>\n",
       "      <th>4</th>\n",
       "      <td>5</td>\n",
       "      <td>60.0</td>\n",
       "      <td>RL</td>\n",
       "      <td>84.0</td>\n",
       "      <td>14260.0</td>\n",
       "      <td>Pave</td>\n",
       "      <td>NA</td>\n",
       "      <td>IR1</td>\n",
       "      <td>Lvl</td>\n",
       "      <td>AllPub</td>\n",
       "      <td>...</td>\n",
       "      <td>0.0</td>\n",
       "      <td>0.0</td>\n",
       "      <td>0.0</td>\n",
       "      <td>1.0</td>\n",
       "      <td>0.0</td>\n",
       "      <td>0.0</td>\n",
       "      <td>0.0</td>\n",
       "      <td>0.0</td>\n",
       "      <td>1.0</td>\n",
       "      <td>0.0</td>\n",
       "    </tr>\n",
       "  </tbody>\n",
       "</table>\n",
       "<p>5 rows × 347 columns</p>\n",
       "</div>"
      ],
      "text/plain": [
       "   Id  MSSubClass MSZoning  LotFrontage  LotArea Street Alley LotShape  \\\n",
       "0   1        60.0       RL         65.0   8450.0   Pave    NA      Reg   \n",
       "1   2        20.0       RL         80.0   9600.0   Pave    NA      Reg   \n",
       "2   3        60.0       RL         68.0  11250.0   Pave    NA      IR1   \n",
       "3   4        70.0       RL         60.0   9550.0   Pave    NA      IR1   \n",
       "4   5        60.0       RL         84.0  14260.0   Pave    NA      IR1   \n",
       "\n",
       "  LandContour Utilities  ... x41_ConLw x41_New x41_Oth x41_WD x42_Abnorml  \\\n",
       "0         Lvl    AllPub  ...       0.0     0.0     0.0    1.0         0.0   \n",
       "1         Lvl    AllPub  ...       0.0     0.0     0.0    1.0         0.0   \n",
       "2         Lvl    AllPub  ...       0.0     0.0     0.0    1.0         0.0   \n",
       "3         Lvl    AllPub  ...       0.0     0.0     0.0    1.0         1.0   \n",
       "4         Lvl    AllPub  ...       0.0     0.0     0.0    1.0         0.0   \n",
       "\n",
       "  x42_AdjLand x42_Alloca  x42_Family  x42_Normal  x42_Partial  \n",
       "0         0.0        0.0         0.0         1.0          0.0  \n",
       "1         0.0        0.0         0.0         1.0          0.0  \n",
       "2         0.0        0.0         0.0         1.0          0.0  \n",
       "3         0.0        0.0         0.0         0.0          0.0  \n",
       "4         0.0        0.0         0.0         1.0          0.0  \n",
       "\n",
       "[5 rows x 347 columns]"
      ]
     },
     "execution_count": 21,
     "metadata": {},
     "output_type": "execute_result"
    }
   ],
   "source": [
    "df_train.head()"
   ]
  },
  {
   "cell_type": "code",
   "execution_count": null,
   "id": "be4375f2",
   "metadata": {},
   "outputs": [],
   "source": []
  },
  {
   "cell_type": "code",
   "execution_count": null,
   "id": "67dbbc8d",
   "metadata": {},
   "outputs": [],
   "source": []
  },
  {
   "cell_type": "code",
   "execution_count": null,
   "id": "b789b3e0",
   "metadata": {},
   "outputs": [],
   "source": []
  },
  {
   "cell_type": "markdown",
   "id": "4fb22a7b",
   "metadata": {},
   "source": [
    "# Feature selection"
   ]
  },
  {
   "cell_type": "code",
   "execution_count": 22,
   "id": "f7b1c8e2",
   "metadata": {},
   "outputs": [
    {
     "name": "stderr",
     "output_type": "stream",
     "text": [
      "C:\\Users\\nehals4545\\AppData\\Local\\Temp\\ipykernel_7616\\753870676.py:1: FutureWarning: The default value of numeric_only in DataFrame.corr is deprecated. In a future version, it will default to False. Select only valid columns or specify the value of numeric_only to silence this warning.\n",
      "  df_train.corr()['SalePrice'][(df_train.corr()['SalePrice']>0.7)]\n"
     ]
    },
    {
     "data": {
      "text/plain": [
       "OverallQual    0.790982\n",
       "GrLivArea      0.708624\n",
       "SalePrice      1.000000\n",
       "Name: SalePrice, dtype: float64"
      ]
     },
     "execution_count": 22,
     "metadata": {},
     "output_type": "execute_result"
    }
   ],
   "source": [
    "df_train.corr()['SalePrice'][(df_train.corr()['SalePrice']>0.7)]"
   ]
  },
  {
   "cell_type": "code",
   "execution_count": 23,
   "id": "7082c2d4",
   "metadata": {},
   "outputs": [
    {
     "name": "stderr",
     "output_type": "stream",
     "text": [
      "C:\\Users\\nehals4545\\AppData\\Local\\Temp\\ipykernel_7616\\102062855.py:1: FutureWarning: The default value of numeric_only in DataFrame.corr is deprecated. In a future version, it will default to False. Select only valid columns or specify the value of numeric_only to silence this warning.\n",
      "  final_col=list(df_train.corr()['SalePrice'][(df_train.corr()['SalePrice']>=0.06)|(df_train.corr()['SalePrice']<=-0.06)].index)\n"
     ]
    }
   ],
   "source": [
    "final_col=list(df_train.corr()['SalePrice'][(df_train.corr()['SalePrice']>=0.06)|(df_train.corr()['SalePrice']<=-0.06)].index)"
   ]
  },
  {
   "cell_type": "code",
   "execution_count": 24,
   "id": "ab93dc04",
   "metadata": {},
   "outputs": [],
   "source": [
    "final_col.remove('SalePrice')"
   ]
  },
  {
   "cell_type": "code",
   "execution_count": 25,
   "id": "6d12e624",
   "metadata": {},
   "outputs": [
    {
     "data": {
      "text/plain": [
       "180"
      ]
     },
     "execution_count": 25,
     "metadata": {},
     "output_type": "execute_result"
    }
   ],
   "source": [
    "len(final_col)"
   ]
  },
  {
   "cell_type": "code",
   "execution_count": 26,
   "id": "f9567b09",
   "metadata": {},
   "outputs": [
    {
     "data": {
      "text/plain": [
       "{'whiskers': [<matplotlib.lines.Line2D at 0xb2ef2bc190>,\n",
       "  <matplotlib.lines.Line2D at 0xb2ef2bc460>],\n",
       " 'caps': [<matplotlib.lines.Line2D at 0xb2ef2bc7f0>,\n",
       "  <matplotlib.lines.Line2D at 0xb2ef2bca00>],\n",
       " 'boxes': [<matplotlib.lines.Line2D at 0xb2ef2b3e80>],\n",
       " 'medians': [<matplotlib.lines.Line2D at 0xb2ef2bccd0>],\n",
       " 'fliers': [<matplotlib.lines.Line2D at 0xb2ef2bcfa0>],\n",
       " 'means': []}"
      ]
     },
     "execution_count": 26,
     "metadata": {},
     "output_type": "execute_result"
    },
    {
     "data": {
      "image/png": "[encoded data removed]",
      "text/plain": [
       "<Figure size 640x480 with 1 Axes>"
      ]
     },
     "metadata": {},
     "output_type": "display_data"
    }
   ],
   "source": [
    "plt.boxplot(df_train['SalePrice'])"
   ]
  },
  {
   "cell_type": "code",
   "execution_count": 27,
   "id": "34016f6b",
   "metadata": {},
   "outputs": [],
   "source": [
    "# IQR\n",
    "percentile25= df_train['SalePrice'].quantile(0.25)\n",
    "percentile75= df_train['SalePrice'].quantile(0.75)"
   ]
  },
  {
   "cell_type": "code",
   "execution_count": 28,
   "id": "a37be1f9",
   "metadata": {},
   "outputs": [
    {
     "data": {
      "text/plain": [
       "214000.0"
      ]
     },
     "execution_count": 28,
     "metadata": {},
     "output_type": "execute_result"
    }
   ],
   "source": [
    "percentile75"
   ]
  },
  {
   "cell_type": "code",
   "execution_count": 29,
   "id": "5de09044",
   "metadata": {},
   "outputs": [
    {
     "data": {
      "text/plain": [
       "129975.0"
      ]
     },
     "execution_count": 29,
     "metadata": {},
     "output_type": "execute_result"
    }
   ],
   "source": [
    "percentile25"
   ]
  },
  {
   "cell_type": "code",
   "execution_count": 30,
   "id": "1bdf5e3c",
   "metadata": {},
   "outputs": [],
   "source": [
    "iqr=percentile75-percentile25"
   ]
  },
  {
   "cell_type": "code",
   "execution_count": 31,
   "id": "8184fc1c",
   "metadata": {},
   "outputs": [
    {
     "data": {
      "text/plain": [
       "84025.0"
      ]
     },
     "execution_count": 31,
     "metadata": {},
     "output_type": "execute_result"
    }
   ],
   "source": [
    "iqr"
   ]
  },
  {
   "cell_type": "code",
   "execution_count": 32,
   "id": "27564bf0",
   "metadata": {},
   "outputs": [],
   "source": [
    "uper_limit = percentile75 + 1.5 * iqr\n",
    "lower_limit = percentile25 - 1.5 * iqr"
   ]
  },
  {
   "cell_type": "code",
   "execution_count": 33,
   "id": "d7d535f1",
   "metadata": {},
   "outputs": [
    {
     "data": {
      "text/plain": [
       "(340037.5, 3937.5)"
      ]
     },
     "execution_count": 33,
     "metadata": {},
     "output_type": "execute_result"
    }
   ],
   "source": [
    "uper_limit,lower_limit"
   ]
  },
  {
   "cell_type": "code",
   "execution_count": 34,
   "id": "160cc7ce",
   "metadata": {},
   "outputs": [
    {
     "data": {
      "text/plain": [
       "11      345000\n",
       "53      385000\n",
       "58      438780\n",
       "112     383970\n",
       "151     372402\n",
       "         ...  \n",
       "1268    381000\n",
       "1353    410000\n",
       "1373    466500\n",
       "1388    377500\n",
       "1437    394617\n",
       "Name: SalePrice, Length: 61, dtype: int64"
      ]
     },
     "execution_count": 34,
     "metadata": {},
     "output_type": "execute_result"
    }
   ],
   "source": [
    "df_train[df_train['SalePrice'] > uper_limit]['SalePrice']"
   ]
  },
  {
   "cell_type": "code",
   "execution_count": null,
   "id": "e96e7774",
   "metadata": {},
   "outputs": [],
   "source": []
  },
  {
   "cell_type": "markdown",
   "id": "56684a97",
   "metadata": {},
   "source": [
    "# Trimming"
   ]
  },
  {
   "cell_type": "code",
   "execution_count": 35,
   "id": "87d9f2a9",
   "metadata": {},
   "outputs": [],
   "source": [
    "df_train_new=df_train[df_train['SalePrice'] < 450000]\n"
   ]
  },
  {
   "cell_type": "code",
   "execution_count": 36,
   "id": "34ce081f",
   "metadata": {},
   "outputs": [
    {
     "data": {
      "text/plain": [
       "(1446, 347)"
      ]
     },
     "execution_count": 36,
     "metadata": {},
     "output_type": "execute_result"
    }
   ],
   "source": [
    "df_train_new.shape"
   ]
  },
  {
   "cell_type": "code",
   "execution_count": 37,
   "id": "bdaa27b7",
   "metadata": {},
   "outputs": [],
   "source": [
    "# plt.boxplot(df_train_new['SalePrice'])"
   ]
  },
  {
   "cell_type": "code",
   "execution_count": null,
   "id": "e735cbbd",
   "metadata": {},
   "outputs": [],
   "source": []
  },
  {
   "cell_type": "code",
   "execution_count": null,
   "id": "51c7ba47",
   "metadata": {},
   "outputs": [],
   "source": []
  },
  {
   "cell_type": "code",
   "execution_count": null,
   "id": "ebe565c4",
   "metadata": {},
   "outputs": [],
   "source": []
  },
  {
   "cell_type": "markdown",
   "id": "db93dae3",
   "metadata": {},
   "source": [
    "# Scaling"
   ]
  },
  {
   "cell_type": "code",
   "execution_count": 38,
   "id": "46960646",
   "metadata": {},
   "outputs": [],
   "source": [
    "from sklearn.preprocessing import StandardScaler, MinMaxScaler"
   ]
  },
  {
   "cell_type": "code",
   "execution_count": 39,
   "id": "f9ecab7a",
   "metadata": {},
   "outputs": [],
   "source": [
    "scaler=StandardScaler()"
   ]
  },
  {
   "cell_type": "code",
   "execution_count": 40,
   "id": "93f0ffb7",
   "metadata": {},
   "outputs": [
    {
     "name": "stderr",
     "output_type": "stream",
     "text": [
      "C:\\Users\\nehals4545\\AppData\\Local\\Temp\\ipykernel_7616\\1958270976.py:1: SettingWithCopyWarning: \n",
      "A value is trying to be set on a copy of a slice from a DataFrame.\n",
      "Try using .loc[row_indexer,col_indexer] = value instead\n",
      "\n",
      "See the caveats in the documentation: https://pandas.pydata.org/pandas-docs/stable/user_guide/indexing.html#returning-a-view-versus-a-copy\n",
      "  df_train_new[final_col] =scaler.fit_transform(df_train_new[final_col])\n"
     ]
    }
   ],
   "source": [
    "df_train_new[final_col] =scaler.fit_transform(df_train_new[final_col])"
   ]
  },
  {
   "cell_type": "code",
   "execution_count": 41,
   "id": "bea602d3",
   "metadata": {},
   "outputs": [],
   "source": [
    "df_test[final_col] = scaler.transform(df_test[final_col])"
   ]
  },
  {
   "cell_type": "code",
   "execution_count": 42,
   "id": "09ac5c67",
   "metadata": {},
   "outputs": [
    {
     "data": {
      "text/plain": [
       "(1459, 180)"
      ]
     },
     "execution_count": 42,
     "metadata": {},
     "output_type": "execute_result"
    }
   ],
   "source": [
    "df_test[final_col].shape"
   ]
  },
  {
   "cell_type": "code",
   "execution_count": 43,
   "id": "627f8341",
   "metadata": {},
   "outputs": [],
   "source": [
    "# scalerm=MinMaxScaler()"
   ]
  },
  {
   "cell_type": "code",
   "execution_count": 44,
   "id": "1af895ff",
   "metadata": {},
   "outputs": [],
   "source": [
    "# df_train_new[final_col] =scalerm.fit_transform(df_train_new[final_col])"
   ]
  },
  {
   "cell_type": "code",
   "execution_count": 45,
   "id": "108ee69d",
   "metadata": {},
   "outputs": [],
   "source": [
    "# df_test[final_col] = scalerm.transform(df_test[final_col])"
   ]
  },
  {
   "cell_type": "code",
   "execution_count": 46,
   "id": "195efd8f",
   "metadata": {},
   "outputs": [
    {
     "data": {
      "text/plain": [
       "(1446, 180)"
      ]
     },
     "execution_count": 46,
     "metadata": {},
     "output_type": "execute_result"
    }
   ],
   "source": [
    "df_train_new[final_col].shape"
   ]
  },
  {
   "cell_type": "markdown",
   "id": "a035ad8a",
   "metadata": {},
   "source": [
    "# model selection"
   ]
  },
  {
   "cell_type": "code",
   "execution_count": null,
   "id": "37c207e5",
   "metadata": {},
   "outputs": [],
   "source": []
  },
  {
   "cell_type": "code",
   "execution_count": 47,
   "id": "9abbba49",
   "metadata": {},
   "outputs": [],
   "source": [
    "from tensorflow.keras.models import Sequential\n",
    "from tensorflow.keras.layers import Dense"
   ]
  },
  {
   "cell_type": "code",
   "execution_count": 53,
   "id": "03fc75ad",
   "metadata": {},
   "outputs": [],
   "source": [
    "from tensorflow.keras.losses import MeanSquaredError"
   ]
  },
  {
   "cell_type": "code",
   "execution_count": 54,
   "id": "71e5504b",
   "metadata": {},
   "outputs": [],
   "source": [
    "mse = MeanSquaredError()"
   ]
  },
  {
   "cell_type": "code",
   "execution_count": 55,
   "id": "2390e7e7",
   "metadata": {},
   "outputs": [],
   "source": [
    "model = Sequential()\n",
    "model.add(Dense(30, activation='relu', input_shape=(180,)))\n",
    "model.add(Dense(20, activation='relu'))\n",
    "model.add(Dense(1, activation='linear'))\n",
    "\n",
    "model.compile(loss=mse)"
   ]
  },
  {
   "cell_type": "code",
   "execution_count": 56,
   "id": "dd9bfa19",
   "metadata": {},
   "outputs": [],
   "source": [
    "# hist_1 = model.fit(df_train_new[final_col],df_train_new['SalePrice'], epochs=10, batch_size=64)"
   ]
  },
  {
   "cell_type": "code",
   "execution_count": 57,
   "id": "3e42225b",
   "metadata": {},
   "outputs": [
    {
     "name": "stdout",
     "output_type": "stream",
     "text": [
      "Epoch 1/10\n",
      "23/23 [==============================] - 4s 8ms/step - loss: 36313247744.0000\n",
      "Epoch 2/10\n",
      "23/23 [==============================] - 0s 5ms/step - loss: 36311842816.0000\n",
      "Epoch 3/10\n",
      "23/23 [==============================] - 0s 5ms/step - loss: 36309561344.0000\n",
      "Epoch 4/10\n",
      "23/23 [==============================] - 0s 6ms/step - loss: 36305920000.0000\n",
      "Epoch 5/10\n",
      "23/23 [==============================] - 0s 5ms/step - loss: 36300648448.0000\n",
      "Epoch 6/10\n",
      "23/23 [==============================] - 0s 5ms/step - loss: 36293632000.0000\n",
      "Epoch 7/10\n",
      "23/23 [==============================] - 0s 5ms/step - loss: 36284583936.0000\n",
      "Epoch 8/10\n",
      "23/23 [==============================] - 0s 5ms/step - loss: 36273041408.0000\n",
      "Epoch 9/10\n",
      "23/23 [==============================] - 0s 6ms/step - loss: 36259008512.0000\n",
      "Epoch 10/10\n",
      "23/23 [==============================] - 0s 5ms/step - loss: 36241854464.0000\n"
     ]
    }
   ],
   "source": [
    "hist_2 = model.fit(df_train_new[final_col],df_train_new['SalePrice'], epochs=10, batch_size=64)"
   ]
  },
  {
   "cell_type": "code",
   "execution_count": 58,
   "id": "022eb948",
   "metadata": {},
   "outputs": [
    {
     "name": "stdout",
     "output_type": "stream",
     "text": [
      "46/46 [==============================] - 1s 4ms/step\n"
     ]
    }
   ],
   "source": [
    "yp1 = model.predict(df_test[final_col])"
   ]
  },
  {
   "cell_type": "code",
   "execution_count": 59,
   "id": "c765a7b8",
   "metadata": {},
   "outputs": [
    {
     "data": {
      "text/plain": [
       "((1459, 1), (1459, 180))"
      ]
     },
     "execution_count": 59,
     "metadata": {},
     "output_type": "execute_result"
    }
   ],
   "source": [
    "yp1.shape, df_test[final_col].shape"
   ]
  },
  {
   "cell_type": "code",
   "execution_count": 60,
   "id": "2ffe3be3",
   "metadata": {},
   "outputs": [
    {
     "data": {
      "text/plain": [
       "(1459,)"
      ]
     },
     "execution_count": 60,
     "metadata": {},
     "output_type": "execute_result"
    }
   ],
   "source": [
    "yp1 = yp1.flatten()\n",
    "yp1.shape"
   ]
  },
  {
   "cell_type": "code",
   "execution_count": 61,
   "id": "1f6e2a41",
   "metadata": {},
   "outputs": [
    {
     "data": {
      "text/plain": [
       "array([ 45.4618  ,  35.661823, 214.02455 , ...,  64.480064,  49.636086,\n",
       "       267.3506  ], dtype=float32)"
      ]
     },
     "execution_count": 61,
     "metadata": {},
     "output_type": "execute_result"
    }
   ],
   "source": [
    "yp1"
   ]
  },
  {
   "cell_type": "code",
   "execution_count": 62,
   "id": "daa3b866",
   "metadata": {},
   "outputs": [],
   "source": [
    "df_submission1 = pd.DataFrame({'Id':df_test['Id'], 'SalePrice':yp1})"
   ]
  },
  {
   "cell_type": "code",
   "execution_count": 63,
   "id": "cf537e4b",
   "metadata": {},
   "outputs": [],
   "source": [
    "df_submission1.to_csv('ann2.csv', index=False)"
   ]
  },
  {
   "cell_type": "code",
   "execution_count": null,
   "id": "5dfd2bd6",
   "metadata": {},
   "outputs": [],
   "source": []
  },
  {
   "cell_type": "code",
   "execution_count": null,
   "id": "bffe465f",
   "metadata": {},
   "outputs": [],
   "source": []
  }
 ],
 "metadata": {
  "kernelspec": {
   "display_name": "Python [conda env:tf_dsml19_env1]",
   "language": "python",
   "name": "conda-env-tf_dsml19_env1-py"
  },
  "language_info": {
   "codemirror_mode": {
    "name": "ipython",
    "version": 3
   },
   "file_extension": ".py",
   "mimetype": "text/x-python",
   "name": "python",
   "nbconvert_exporter": "python",
   "pygments_lexer": "ipython3",
   "version": "3.9.0"
  }
 },
 "nbformat": 4,
 "nbformat_minor": 5
}
