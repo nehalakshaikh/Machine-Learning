{
 "cells": [
  {
   "cell_type": "code",
   "execution_count": 1,
   "id": "d6a5e9f5",
   "metadata": {},
   "outputs": [],
   "source": [
    "import pandas as pd\n",
    "import matplotlib.pyplot as plt\n",
    "import seaborn as sb\n",
    "from sklearn.impute import SimpleImputer\n",
    "from sklearn.preprocessing import OneHotEncoder\n",
    "from sklearn.preprocessing import StandardScaler, MinMaxScaler\n",
    "from sklearn.ensemble import RandomForestClassifier\n",
    "from sklearn.model_selection import GridSearchCV,RandomizedSearchCV\n",
    "from sklearn.neural_network import MLPClassifier\n",
    "\n",
    "pd.pandas.set_option('display.max_columns',None)"
   ]
  },
  {
   "cell_type": "code",
   "execution_count": 2,
   "id": "4aca303a",
   "metadata": {},
   "outputs": [],
   "source": [
    "df_train = pd.read_csv('cc_train.csv')\n",
    "df_test = pd.read_csv('cc_test.csv')"
   ]
  },
  {
   "cell_type": "code",
   "execution_count": 3,
   "id": "b88794e1",
   "metadata": {
    "scrolled": true
   },
   "outputs": [
    {
     "data": {
      "text/html": [
       "<div>\n",
       "<style scoped>\n",
       "    .dataframe tbody tr th:only-of-type {\n",
       "        vertical-align: middle;\n",
       "    }\n",
       "\n",
       "    .dataframe tbody tr th {\n",
       "        vertical-align: top;\n",
       "    }\n",
       "\n",
       "    .dataframe thead th {\n",
       "        text-align: right;\n",
       "    }\n",
       "</style>\n",
       "<table border=\"1\" class=\"dataframe\">\n",
       "  <thead>\n",
       "    <tr style=\"text-align: right;\">\n",
       "      <th></th>\n",
       "      <th>LIMIT_BAL</th>\n",
       "      <th>AGE</th>\n",
       "      <th>PAY_0</th>\n",
       "      <th>PAY_2</th>\n",
       "      <th>PAY_3</th>\n",
       "      <th>PAY_4</th>\n",
       "      <th>PAY_5</th>\n",
       "      <th>PAY_6</th>\n",
       "      <th>BILL_AMT1</th>\n",
       "      <th>BILL_AMT2</th>\n",
       "      <th>BILL_AMT3</th>\n",
       "      <th>BILL_AMT4</th>\n",
       "      <th>BILL_AMT5</th>\n",
       "      <th>BILL_AMT6</th>\n",
       "      <th>PAY_AMT1</th>\n",
       "      <th>PAY_AMT2</th>\n",
       "      <th>PAY_AMT3</th>\n",
       "      <th>PAY_AMT4</th>\n",
       "      <th>PAY_AMT5</th>\n",
       "      <th>PAY_AMT6</th>\n",
       "      <th>GENDER</th>\n",
       "      <th>QUALIFICATION</th>\n",
       "      <th>MARRIED</th>\n",
       "      <th>defaulter</th>\n",
       "      <th>Id</th>\n",
       "    </tr>\n",
       "  </thead>\n",
       "  <tbody>\n",
       "    <tr>\n",
       "      <th>0</th>\n",
       "      <td>290000.0</td>\n",
       "      <td>50</td>\n",
       "      <td>-1.0</td>\n",
       "      <td>-1.0</td>\n",
       "      <td>-1.0</td>\n",
       "      <td>-1.0</td>\n",
       "      <td>-1.0</td>\n",
       "      <td>-1.0</td>\n",
       "      <td>NaN</td>\n",
       "      <td>199.0</td>\n",
       "      <td>1440.0</td>\n",
       "      <td>1017</td>\n",
       "      <td>3798.0</td>\n",
       "      <td>4898</td>\n",
       "      <td>199.0</td>\n",
       "      <td>1440.0</td>\n",
       "      <td>1017.0</td>\n",
       "      <td>3798.0</td>\n",
       "      <td>4898</td>\n",
       "      <td>5034.0</td>\n",
       "      <td>FEMALE</td>\n",
       "      <td>2</td>\n",
       "      <td>1.0</td>\n",
       "      <td>0</td>\n",
       "      <td>1</td>\n",
       "    </tr>\n",
       "    <tr>\n",
       "      <th>1</th>\n",
       "      <td>20000.0</td>\n",
       "      <td>49</td>\n",
       "      <td>0.0</td>\n",
       "      <td>0.0</td>\n",
       "      <td>0.0</td>\n",
       "      <td>0.0</td>\n",
       "      <td>NaN</td>\n",
       "      <td>0.0</td>\n",
       "      <td>19773.0</td>\n",
       "      <td>18459.0</td>\n",
       "      <td>19398.0</td>\n",
       "      <td>18561</td>\n",
       "      <td>18949.0</td>\n",
       "      <td>17426</td>\n",
       "      <td>1331.0</td>\n",
       "      <td>1270.0</td>\n",
       "      <td>633.0</td>\n",
       "      <td>655.0</td>\n",
       "      <td>759</td>\n",
       "      <td>547.0</td>\n",
       "      <td>FEMALE</td>\n",
       "      <td>2</td>\n",
       "      <td>3.0</td>\n",
       "      <td>1</td>\n",
       "      <td>2</td>\n",
       "    </tr>\n",
       "    <tr>\n",
       "      <th>2</th>\n",
       "      <td>230000.0</td>\n",
       "      <td>28</td>\n",
       "      <td>0.0</td>\n",
       "      <td>0.0</td>\n",
       "      <td>0.0</td>\n",
       "      <td>0.0</td>\n",
       "      <td>0.0</td>\n",
       "      <td>0.0</td>\n",
       "      <td>20356.0</td>\n",
       "      <td>21504.0</td>\n",
       "      <td>21729.0</td>\n",
       "      <td>23113</td>\n",
       "      <td>22936.0</td>\n",
       "      <td>23378</td>\n",
       "      <td>1676.0</td>\n",
       "      <td>1700.0</td>\n",
       "      <td>2007.0</td>\n",
       "      <td>1000.0</td>\n",
       "      <td>1000</td>\n",
       "      <td>1000.0</td>\n",
       "      <td>FEMALE</td>\n",
       "      <td>1</td>\n",
       "      <td>2.0</td>\n",
       "      <td>0</td>\n",
       "      <td>3</td>\n",
       "    </tr>\n",
       "    <tr>\n",
       "      <th>3</th>\n",
       "      <td>210000.0</td>\n",
       "      <td>31</td>\n",
       "      <td>-1.0</td>\n",
       "      <td>-1.0</td>\n",
       "      <td>-1.0</td>\n",
       "      <td>-1.0</td>\n",
       "      <td>-1.0</td>\n",
       "      <td>-1.0</td>\n",
       "      <td>8600.0</td>\n",
       "      <td>0.0</td>\n",
       "      <td>4231.0</td>\n",
       "      <td>4221</td>\n",
       "      <td>4221.0</td>\n",
       "      <td>4483</td>\n",
       "      <td>0.0</td>\n",
       "      <td>4231.0</td>\n",
       "      <td>4221.0</td>\n",
       "      <td>4221.0</td>\n",
       "      <td>4483</td>\n",
       "      <td>4300.0</td>\n",
       "      <td>FEMALE</td>\n",
       "      <td>1</td>\n",
       "      <td>1.0</td>\n",
       "      <td>0</td>\n",
       "      <td>4</td>\n",
       "    </tr>\n",
       "    <tr>\n",
       "      <th>4</th>\n",
       "      <td>300000.0</td>\n",
       "      <td>24</td>\n",
       "      <td>-2.0</td>\n",
       "      <td>-2.0</td>\n",
       "      <td>-2.0</td>\n",
       "      <td>-2.0</td>\n",
       "      <td>-1.0</td>\n",
       "      <td>-1.0</td>\n",
       "      <td>-158.0</td>\n",
       "      <td>-158.0</td>\n",
       "      <td>-158.0</td>\n",
       "      <td>-158</td>\n",
       "      <td>142.0</td>\n",
       "      <td>92</td>\n",
       "      <td>0.0</td>\n",
       "      <td>0.0</td>\n",
       "      <td>0.0</td>\n",
       "      <td>300.0</td>\n",
       "      <td>100</td>\n",
       "      <td>100.0</td>\n",
       "      <td>MALE</td>\n",
       "      <td>2</td>\n",
       "      <td>2.0</td>\n",
       "      <td>0</td>\n",
       "      <td>5</td>\n",
       "    </tr>\n",
       "  </tbody>\n",
       "</table>\n",
       "</div>"
      ],
      "text/plain": [
       "   LIMIT_BAL  AGE  PAY_0  PAY_2  PAY_3  PAY_4  PAY_5  PAY_6  BILL_AMT1  \\\n",
       "0   290000.0   50   -1.0   -1.0   -1.0   -1.0   -1.0   -1.0        NaN   \n",
       "1    20000.0   49    0.0    0.0    0.0    0.0    NaN    0.0    19773.0   \n",
       "2   230000.0   28    0.0    0.0    0.0    0.0    0.0    0.0    20356.0   \n",
       "3   210000.0   31   -1.0   -1.0   -1.0   -1.0   -1.0   -1.0     8600.0   \n",
       "4   300000.0   24   -2.0   -2.0   -2.0   -2.0   -1.0   -1.0     -158.0   \n",
       "\n",
       "   BILL_AMT2  BILL_AMT3  BILL_AMT4  BILL_AMT5  BILL_AMT6  PAY_AMT1  PAY_AMT2  \\\n",
       "0      199.0     1440.0       1017     3798.0       4898     199.0    1440.0   \n",
       "1    18459.0    19398.0      18561    18949.0      17426    1331.0    1270.0   \n",
       "2    21504.0    21729.0      23113    22936.0      23378    1676.0    1700.0   \n",
       "3        0.0     4231.0       4221     4221.0       4483       0.0    4231.0   \n",
       "4     -158.0     -158.0       -158      142.0         92       0.0       0.0   \n",
       "\n",
       "   PAY_AMT3  PAY_AMT4  PAY_AMT5  PAY_AMT6  GENDER  QUALIFICATION  MARRIED  \\\n",
       "0    1017.0    3798.0      4898    5034.0  FEMALE              2      1.0   \n",
       "1     633.0     655.0       759     547.0  FEMALE              2      3.0   \n",
       "2    2007.0    1000.0      1000    1000.0  FEMALE              1      2.0   \n",
       "3    4221.0    4221.0      4483    4300.0  FEMALE              1      1.0   \n",
       "4       0.0     300.0       100     100.0    MALE              2      2.0   \n",
       "\n",
       "   defaulter  Id  \n",
       "0          0   1  \n",
       "1          1   2  \n",
       "2          0   3  \n",
       "3          0   4  \n",
       "4          0   5  "
      ]
     },
     "execution_count": 3,
     "metadata": {},
     "output_type": "execute_result"
    }
   ],
   "source": [
    "df_train.head()"
   ]
  },
  {
   "cell_type": "code",
   "execution_count": 4,
   "id": "53a2c3bb",
   "metadata": {},
   "outputs": [
    {
     "name": "stdout",
     "output_type": "stream",
     "text": [
      "<class 'pandas.core.frame.DataFrame'>\n",
      "RangeIndex: 20000 entries, 0 to 19999\n",
      "Data columns (total 25 columns):\n",
      " #   Column         Non-Null Count  Dtype  \n",
      "---  ------         --------------  -----  \n",
      " 0   LIMIT_BAL      18700 non-null  float64\n",
      " 1   AGE            20000 non-null  int64  \n",
      " 2   PAY_0          19344 non-null  float64\n",
      " 3   PAY_2          18141 non-null  float64\n",
      " 4   PAY_3          18751 non-null  float64\n",
      " 5   PAY_4          19316 non-null  float64\n",
      " 6   PAY_5          19323 non-null  float64\n",
      " 7   PAY_6          18655 non-null  float64\n",
      " 8   BILL_AMT1      18130 non-null  float64\n",
      " 9   BILL_AMT2      18681 non-null  float64\n",
      " 10  BILL_AMT3      19323 non-null  float64\n",
      " 11  BILL_AMT4      20000 non-null  int64  \n",
      " 12  BILL_AMT5      19318 non-null  float64\n",
      " 13  BILL_AMT6      20000 non-null  int64  \n",
      " 14  PAY_AMT1       18690 non-null  float64\n",
      " 15  PAY_AMT2       18763 non-null  float64\n",
      " 16  PAY_AMT3       18691 non-null  float64\n",
      " 17  PAY_AMT4       19318 non-null  float64\n",
      " 18  PAY_AMT5       20000 non-null  int64  \n",
      " 19  PAY_AMT6       19312 non-null  float64\n",
      " 20  GENDER         20000 non-null  object \n",
      " 21  QUALIFICATION  20000 non-null  int64  \n",
      " 22  MARRIED        18674 non-null  float64\n",
      " 23  defaulter      20000 non-null  int64  \n",
      " 24  Id             20000 non-null  int64  \n",
      "dtypes: float64(17), int64(7), object(1)\n",
      "memory usage: 3.8+ MB\n"
     ]
    }
   ],
   "source": [
    "df_train.info()"
   ]
  },
  {
   "cell_type": "code",
   "execution_count": 5,
   "id": "61ca54f0",
   "metadata": {},
   "outputs": [
    {
     "data": {
      "text/html": [
       "<div>\n",
       "<style scoped>\n",
       "    .dataframe tbody tr th:only-of-type {\n",
       "        vertical-align: middle;\n",
       "    }\n",
       "\n",
       "    .dataframe tbody tr th {\n",
       "        vertical-align: top;\n",
       "    }\n",
       "\n",
       "    .dataframe thead th {\n",
       "        text-align: right;\n",
       "    }\n",
       "</style>\n",
       "<table border=\"1\" class=\"dataframe\">\n",
       "  <thead>\n",
       "    <tr style=\"text-align: right;\">\n",
       "      <th></th>\n",
       "      <th>LIMIT_BAL</th>\n",
       "      <th>AGE</th>\n",
       "      <th>PAY_0</th>\n",
       "      <th>PAY_2</th>\n",
       "      <th>PAY_3</th>\n",
       "      <th>PAY_4</th>\n",
       "      <th>PAY_5</th>\n",
       "      <th>PAY_6</th>\n",
       "      <th>BILL_AMT1</th>\n",
       "      <th>BILL_AMT2</th>\n",
       "      <th>BILL_AMT3</th>\n",
       "      <th>BILL_AMT4</th>\n",
       "      <th>BILL_AMT5</th>\n",
       "      <th>BILL_AMT6</th>\n",
       "      <th>PAY_AMT1</th>\n",
       "      <th>PAY_AMT2</th>\n",
       "      <th>PAY_AMT3</th>\n",
       "      <th>PAY_AMT4</th>\n",
       "      <th>PAY_AMT5</th>\n",
       "      <th>PAY_AMT6</th>\n",
       "      <th>QUALIFICATION</th>\n",
       "      <th>MARRIED</th>\n",
       "      <th>defaulter</th>\n",
       "      <th>Id</th>\n",
       "    </tr>\n",
       "  </thead>\n",
       "  <tbody>\n",
       "    <tr>\n",
       "      <th>count</th>\n",
       "      <td>18700.000000</td>\n",
       "      <td>20000.000000</td>\n",
       "      <td>19344.000000</td>\n",
       "      <td>18141.000000</td>\n",
       "      <td>18751.000000</td>\n",
       "      <td>19316.000000</td>\n",
       "      <td>19323.000000</td>\n",
       "      <td>18655.000000</td>\n",
       "      <td>18130.000000</td>\n",
       "      <td>18681.000000</td>\n",
       "      <td>1.932300e+04</td>\n",
       "      <td>20000.000000</td>\n",
       "      <td>19318.000000</td>\n",
       "      <td>20000.000000</td>\n",
       "      <td>18690.000000</td>\n",
       "      <td>1.876300e+04</td>\n",
       "      <td>18691.000000</td>\n",
       "      <td>19318.000000</td>\n",
       "      <td>20000.000000</td>\n",
       "      <td>19312.000000</td>\n",
       "      <td>20000.000000</td>\n",
       "      <td>18674.000000</td>\n",
       "      <td>20000.000000</td>\n",
       "      <td>20000.000000</td>\n",
       "    </tr>\n",
       "    <tr>\n",
       "      <th>mean</th>\n",
       "      <td>167190.695187</td>\n",
       "      <td>34.917150</td>\n",
       "      <td>-0.021144</td>\n",
       "      <td>-0.138416</td>\n",
       "      <td>-0.168578</td>\n",
       "      <td>-0.221423</td>\n",
       "      <td>-0.269265</td>\n",
       "      <td>-0.294774</td>\n",
       "      <td>51094.638279</td>\n",
       "      <td>49179.558000</td>\n",
       "      <td>4.667550e+04</td>\n",
       "      <td>43086.380450</td>\n",
       "      <td>40213.220364</td>\n",
       "      <td>38770.647500</td>\n",
       "      <td>5610.364366</td>\n",
       "      <td>6.029688e+03</td>\n",
       "      <td>5201.018993</td>\n",
       "      <td>4812.899783</td>\n",
       "      <td>4795.568300</td>\n",
       "      <td>5355.859362</td>\n",
       "      <td>1.850500</td>\n",
       "      <td>1.554407</td>\n",
       "      <td>0.221100</td>\n",
       "      <td>10000.500000</td>\n",
       "    </tr>\n",
       "    <tr>\n",
       "      <th>std</th>\n",
       "      <td>129873.941189</td>\n",
       "      <td>9.339269</td>\n",
       "      <td>1.123974</td>\n",
       "      <td>1.195578</td>\n",
       "      <td>1.187314</td>\n",
       "      <td>1.163025</td>\n",
       "      <td>1.127610</td>\n",
       "      <td>1.142192</td>\n",
       "      <td>73272.959674</td>\n",
       "      <td>71434.725006</td>\n",
       "      <td>6.938112e+04</td>\n",
       "      <td>64216.028014</td>\n",
       "      <td>60863.800841</td>\n",
       "      <td>59711.066053</td>\n",
       "      <td>15997.312842</td>\n",
       "      <td>2.463616e+04</td>\n",
       "      <td>17373.761559</td>\n",
       "      <td>15379.152497</td>\n",
       "      <td>15485.675008</td>\n",
       "      <td>18808.218218</td>\n",
       "      <td>0.787198</td>\n",
       "      <td>0.522263</td>\n",
       "      <td>0.414998</td>\n",
       "      <td>5773.647028</td>\n",
       "    </tr>\n",
       "    <tr>\n",
       "      <th>min</th>\n",
       "      <td>10000.000000</td>\n",
       "      <td>18.000000</td>\n",
       "      <td>-2.000000</td>\n",
       "      <td>-2.000000</td>\n",
       "      <td>-2.000000</td>\n",
       "      <td>-2.000000</td>\n",
       "      <td>-2.000000</td>\n",
       "      <td>-2.000000</td>\n",
       "      <td>-15308.000000</td>\n",
       "      <td>-69777.000000</td>\n",
       "      <td>-1.572640e+05</td>\n",
       "      <td>-170000.000000</td>\n",
       "      <td>-81334.000000</td>\n",
       "      <td>-339603.000000</td>\n",
       "      <td>0.000000</td>\n",
       "      <td>0.000000e+00</td>\n",
       "      <td>0.000000</td>\n",
       "      <td>0.000000</td>\n",
       "      <td>0.000000</td>\n",
       "      <td>0.000000</td>\n",
       "      <td>0.000000</td>\n",
       "      <td>0.000000</td>\n",
       "      <td>0.000000</td>\n",
       "      <td>1.000000</td>\n",
       "    </tr>\n",
       "    <tr>\n",
       "      <th>25%</th>\n",
       "      <td>50000.000000</td>\n",
       "      <td>28.000000</td>\n",
       "      <td>-1.000000</td>\n",
       "      <td>-1.000000</td>\n",
       "      <td>-1.000000</td>\n",
       "      <td>-1.000000</td>\n",
       "      <td>-1.000000</td>\n",
       "      <td>-1.000000</td>\n",
       "      <td>3595.250000</td>\n",
       "      <td>3000.000000</td>\n",
       "      <td>2.635500e+03</td>\n",
       "      <td>2400.000000</td>\n",
       "      <td>1784.000000</td>\n",
       "      <td>1261.000000</td>\n",
       "      <td>1000.000000</td>\n",
       "      <td>8.400000e+02</td>\n",
       "      <td>390.000000</td>\n",
       "      <td>300.000000</td>\n",
       "      <td>255.750000</td>\n",
       "      <td>133.000000</td>\n",
       "      <td>1.000000</td>\n",
       "      <td>1.000000</td>\n",
       "      <td>0.000000</td>\n",
       "      <td>5000.750000</td>\n",
       "    </tr>\n",
       "    <tr>\n",
       "      <th>50%</th>\n",
       "      <td>140000.000000</td>\n",
       "      <td>33.000000</td>\n",
       "      <td>0.000000</td>\n",
       "      <td>0.000000</td>\n",
       "      <td>0.000000</td>\n",
       "      <td>0.000000</td>\n",
       "      <td>0.000000</td>\n",
       "      <td>0.000000</td>\n",
       "      <td>22458.500000</td>\n",
       "      <td>21393.000000</td>\n",
       "      <td>2.002500e+04</td>\n",
       "      <td>18991.000000</td>\n",
       "      <td>18106.500000</td>\n",
       "      <td>16946.000000</td>\n",
       "      <td>2100.000000</td>\n",
       "      <td>2.007000e+03</td>\n",
       "      <td>1800.000000</td>\n",
       "      <td>1500.000000</td>\n",
       "      <td>1500.000000</td>\n",
       "      <td>1500.000000</td>\n",
       "      <td>2.000000</td>\n",
       "      <td>2.000000</td>\n",
       "      <td>0.000000</td>\n",
       "      <td>10000.500000</td>\n",
       "    </tr>\n",
       "    <tr>\n",
       "      <th>75%</th>\n",
       "      <td>240000.000000</td>\n",
       "      <td>41.000000</td>\n",
       "      <td>0.000000</td>\n",
       "      <td>0.000000</td>\n",
       "      <td>0.000000</td>\n",
       "      <td>0.000000</td>\n",
       "      <td>0.000000</td>\n",
       "      <td>0.000000</td>\n",
       "      <td>66696.000000</td>\n",
       "      <td>63036.000000</td>\n",
       "      <td>5.948050e+04</td>\n",
       "      <td>53285.750000</td>\n",
       "      <td>49898.500000</td>\n",
       "      <td>49015.750000</td>\n",
       "      <td>5000.000000</td>\n",
       "      <td>5.000000e+03</td>\n",
       "      <td>4500.000000</td>\n",
       "      <td>4030.000000</td>\n",
       "      <td>4037.750000</td>\n",
       "      <td>4006.000000</td>\n",
       "      <td>2.000000</td>\n",
       "      <td>2.000000</td>\n",
       "      <td>0.000000</td>\n",
       "      <td>15000.250000</td>\n",
       "    </tr>\n",
       "    <tr>\n",
       "      <th>max</th>\n",
       "      <td>1000000.000000</td>\n",
       "      <td>74.000000</td>\n",
       "      <td>8.000000</td>\n",
       "      <td>7.000000</td>\n",
       "      <td>8.000000</td>\n",
       "      <td>8.000000</td>\n",
       "      <td>8.000000</td>\n",
       "      <td>8.000000</td>\n",
       "      <td>964511.000000</td>\n",
       "      <td>983931.000000</td>\n",
       "      <td>1.664089e+06</td>\n",
       "      <td>891586.000000</td>\n",
       "      <td>927171.000000</td>\n",
       "      <td>961664.000000</td>\n",
       "      <td>505000.000000</td>\n",
       "      <td>1.684259e+06</td>\n",
       "      <td>896040.000000</td>\n",
       "      <td>528897.000000</td>\n",
       "      <td>426529.000000</td>\n",
       "      <td>528666.000000</td>\n",
       "      <td>6.000000</td>\n",
       "      <td>3.000000</td>\n",
       "      <td>1.000000</td>\n",
       "      <td>20000.000000</td>\n",
       "    </tr>\n",
       "  </tbody>\n",
       "</table>\n",
       "</div>"
      ],
      "text/plain": [
       "            LIMIT_BAL           AGE         PAY_0         PAY_2         PAY_3  \\\n",
       "count    18700.000000  20000.000000  19344.000000  18141.000000  18751.000000   \n",
       "mean    167190.695187     34.917150     -0.021144     -0.138416     -0.168578   \n",
       "std     129873.941189      9.339269      1.123974      1.195578      1.187314   \n",
       "min      10000.000000     18.000000     -2.000000     -2.000000     -2.000000   \n",
       "25%      50000.000000     28.000000     -1.000000     -1.000000     -1.000000   \n",
       "50%     140000.000000     33.000000      0.000000      0.000000      0.000000   \n",
       "75%     240000.000000     41.000000      0.000000      0.000000      0.000000   \n",
       "max    1000000.000000     74.000000      8.000000      7.000000      8.000000   \n",
       "\n",
       "              PAY_4         PAY_5         PAY_6      BILL_AMT1      BILL_AMT2  \\\n",
       "count  19316.000000  19323.000000  18655.000000   18130.000000   18681.000000   \n",
       "mean      -0.221423     -0.269265     -0.294774   51094.638279   49179.558000   \n",
       "std        1.163025      1.127610      1.142192   73272.959674   71434.725006   \n",
       "min       -2.000000     -2.000000     -2.000000  -15308.000000  -69777.000000   \n",
       "25%       -1.000000     -1.000000     -1.000000    3595.250000    3000.000000   \n",
       "50%        0.000000      0.000000      0.000000   22458.500000   21393.000000   \n",
       "75%        0.000000      0.000000      0.000000   66696.000000   63036.000000   \n",
       "max        8.000000      8.000000      8.000000  964511.000000  983931.000000   \n",
       "\n",
       "          BILL_AMT3      BILL_AMT4      BILL_AMT5      BILL_AMT6  \\\n",
       "count  1.932300e+04   20000.000000   19318.000000   20000.000000   \n",
       "mean   4.667550e+04   43086.380450   40213.220364   38770.647500   \n",
       "std    6.938112e+04   64216.028014   60863.800841   59711.066053   \n",
       "min   -1.572640e+05 -170000.000000  -81334.000000 -339603.000000   \n",
       "25%    2.635500e+03    2400.000000    1784.000000    1261.000000   \n",
       "50%    2.002500e+04   18991.000000   18106.500000   16946.000000   \n",
       "75%    5.948050e+04   53285.750000   49898.500000   49015.750000   \n",
       "max    1.664089e+06  891586.000000  927171.000000  961664.000000   \n",
       "\n",
       "            PAY_AMT1      PAY_AMT2       PAY_AMT3       PAY_AMT4  \\\n",
       "count   18690.000000  1.876300e+04   18691.000000   19318.000000   \n",
       "mean     5610.364366  6.029688e+03    5201.018993    4812.899783   \n",
       "std     15997.312842  2.463616e+04   17373.761559   15379.152497   \n",
       "min         0.000000  0.000000e+00       0.000000       0.000000   \n",
       "25%      1000.000000  8.400000e+02     390.000000     300.000000   \n",
       "50%      2100.000000  2.007000e+03    1800.000000    1500.000000   \n",
       "75%      5000.000000  5.000000e+03    4500.000000    4030.000000   \n",
       "max    505000.000000  1.684259e+06  896040.000000  528897.000000   \n",
       "\n",
       "            PAY_AMT5       PAY_AMT6  QUALIFICATION       MARRIED  \\\n",
       "count   20000.000000   19312.000000   20000.000000  18674.000000   \n",
       "mean     4795.568300    5355.859362       1.850500      1.554407   \n",
       "std     15485.675008   18808.218218       0.787198      0.522263   \n",
       "min         0.000000       0.000000       0.000000      0.000000   \n",
       "25%       255.750000     133.000000       1.000000      1.000000   \n",
       "50%      1500.000000    1500.000000       2.000000      2.000000   \n",
       "75%      4037.750000    4006.000000       2.000000      2.000000   \n",
       "max    426529.000000  528666.000000       6.000000      3.000000   \n",
       "\n",
       "          defaulter            Id  \n",
       "count  20000.000000  20000.000000  \n",
       "mean       0.221100  10000.500000  \n",
       "std        0.414998   5773.647028  \n",
       "min        0.000000      1.000000  \n",
       "25%        0.000000   5000.750000  \n",
       "50%        0.000000  10000.500000  \n",
       "75%        0.000000  15000.250000  \n",
       "max        1.000000  20000.000000  "
      ]
     },
     "execution_count": 5,
     "metadata": {},
     "output_type": "execute_result"
    }
   ],
   "source": [
    "df_train.describe()"
   ]
  },
  {
   "cell_type": "code",
   "execution_count": 6,
   "id": "02fd09f7",
   "metadata": {},
   "outputs": [
    {
     "data": {
      "text/plain": [
       "(20000, 25)"
      ]
     },
     "execution_count": 6,
     "metadata": {},
     "output_type": "execute_result"
    }
   ],
   "source": [
    "df_train.shape"
   ]
  },
  {
   "cell_type": "code",
   "execution_count": 7,
   "id": "5bb35240",
   "metadata": {},
   "outputs": [
    {
     "data": {
      "text/plain": [
       "LIMIT_BAL        1300\n",
       "AGE                 0\n",
       "PAY_0             656\n",
       "PAY_2            1859\n",
       "PAY_3            1249\n",
       "PAY_4             684\n",
       "PAY_5             677\n",
       "PAY_6            1345\n",
       "BILL_AMT1        1870\n",
       "BILL_AMT2        1319\n",
       "BILL_AMT3         677\n",
       "BILL_AMT4           0\n",
       "BILL_AMT5         682\n",
       "BILL_AMT6           0\n",
       "PAY_AMT1         1310\n",
       "PAY_AMT2         1237\n",
       "PAY_AMT3         1309\n",
       "PAY_AMT4          682\n",
       "PAY_AMT5            0\n",
       "PAY_AMT6          688\n",
       "GENDER              0\n",
       "QUALIFICATION       0\n",
       "MARRIED          1326\n",
       "defaulter           0\n",
       "Id                  0\n",
       "dtype: int64"
      ]
     },
     "execution_count": 7,
     "metadata": {},
     "output_type": "execute_result"
    }
   ],
   "source": [
    "df_train.isna().sum()"
   ]
  },
  {
   "cell_type": "code",
   "execution_count": 8,
   "id": "945fd320",
   "metadata": {},
   "outputs": [
    {
     "data": {
      "text/plain": [
       "<AxesSubplot:xlabel='AGE', ylabel='Count'>"
      ]
     },
     "execution_count": 8,
     "metadata": {},
     "output_type": "execute_result"
    },
    {
     "data": {
      "image/png": "[encoded data removed]",
      "text/plain": [
       "<Figure size 432x288 with 1 Axes>"
      ]
     },
     "metadata": {
      "needs_background": "light"
     },
     "output_type": "display_data"
    }
   ],
   "source": [
    "sb.histplot(data=df_train,x='AGE',bins=10,kde=True,hue='defaulter')"
   ]
  },
  {
   "cell_type": "code",
   "execution_count": 9,
   "id": "d93fde69",
   "metadata": {},
   "outputs": [
    {
     "data": {
      "text/plain": [
       "(array([7.370e+02, 1.332e+03, 1.091e+03, 8.580e+02, 5.330e+02, 3.060e+02,\n",
       "        1.050e+02, 2.900e+01, 8.000e+00, 1.000e+00]),\n",
       " array([19. , 25.1, 31.2, 37.3, 43.4, 49.5, 55.6, 61.7, 67.8, 73.9, 80. ]),\n",
       " <BarContainer object of 10 artists>)"
      ]
     },
     "execution_count": 9,
     "metadata": {},
     "output_type": "execute_result"
    },
    {
     "data": {
      "image/png": "[encoded data removed]",
      "text/plain": [
       "<Figure size 432x288 with 1 Axes>"
      ]
     },
     "metadata": {
      "needs_background": "light"
     },
     "output_type": "display_data"
    }
   ],
   "source": [
    "plt.hist(df_test['AGE'],bins=10)"
   ]
  },
  {
   "cell_type": "code",
   "execution_count": 10,
   "id": "b3f21bce",
   "metadata": {},
   "outputs": [
    {
     "data": {
      "text/plain": [
       "<AxesSubplot:xlabel='AGE', ylabel='count'>"
      ]
     },
     "execution_count": 10,
     "metadata": {},
     "output_type": "execute_result"
    },
    {
     "data": {
      "image/png": "[encoded data removed]",
      "text/plain": [
       "<Figure size 432x288 with 1 Axes>"
      ]
     },
     "metadata": {
      "needs_background": "light"
     },
     "output_type": "display_data"
    }
   ],
   "source": [
    "sb.countplot(data=df_train,x='AGE',hue='defaulter')"
   ]
  },
  {
   "cell_type": "code",
   "execution_count": 11,
   "id": "d606b23e",
   "metadata": {},
   "outputs": [
    {
     "data": {
      "text/plain": [
       "<AxesSubplot:xlabel='LIMIT_BAL', ylabel='Count'>"
      ]
     },
     "execution_count": 11,
     "metadata": {},
     "output_type": "execute_result"
    },
    {
     "data": {
      "image/png": "[encoded data removed]",
      "text/plain": [
       "<Figure size 432x288 with 1 Axes>"
      ]
     },
     "metadata": {
      "needs_background": "light"
     },
     "output_type": "display_data"
    }
   ],
   "source": [
    "sb.histplot(data=df_train,x='LIMIT_BAL',bins=10,kde=True,hue='defaulter')"
   ]
  },
  {
   "cell_type": "code",
   "execution_count": 12,
   "id": "980a33b2",
   "metadata": {},
   "outputs": [
    {
     "data": {
      "text/plain": [
       "(array([7.804e+03, 4.931e+03, 3.136e+03, 1.705e+03, 9.890e+02, 7.800e+01,\n",
       "        4.600e+01, 1.000e+01, 0.000e+00, 1.000e+00]),\n",
       " array([  10000.,  109000.,  208000.,  307000.,  406000.,  505000.,\n",
       "         604000.,  703000.,  802000.,  901000., 1000000.]),\n",
       " <BarContainer object of 10 artists>)"
      ]
     },
     "execution_count": 12,
     "metadata": {},
     "output_type": "execute_result"
    },
    {
     "data": {
      "image/png": "[encoded data removed]",
      "text/plain": [
       "<Figure size 432x288 with 1 Axes>"
      ]
     },
     "metadata": {
      "needs_background": "light"
     },
     "output_type": "display_data"
    }
   ],
   "source": [
    "plt.hist(df_train['LIMIT_BAL'],bins=10)"
   ]
  },
  {
   "cell_type": "code",
   "execution_count": 13,
   "id": "dd1a1fff",
   "metadata": {},
   "outputs": [
    {
     "data": {
      "text/plain": [
       "<AxesSubplot:xlabel='GENDER', ylabel='Count'>"
      ]
     },
     "execution_count": 13,
     "metadata": {},
     "output_type": "execute_result"
    },
    {
     "data": {
      "image/png": "[encoded data removed]",
      "text/plain": [
       "<Figure size 432x288 with 1 Axes>"
      ]
     },
     "metadata": {
      "needs_background": "light"
     },
     "output_type": "display_data"
    }
   ],
   "source": [
    "sb.histplot(data=df_train,x='GENDER',bins=10,kde=True,hue='defaulter')"
   ]
  },
  {
   "cell_type": "code",
   "execution_count": 14,
   "id": "3153dcce",
   "metadata": {},
   "outputs": [
    {
     "data": {
      "text/plain": [
       "(array([12053.,     0.,     0.,     0.,     0.,     0.,     0.,     0.,\n",
       "            0.,  7947.]),\n",
       " array([0. , 0.1, 0.2, 0.3, 0.4, 0.5, 0.6, 0.7, 0.8, 0.9, 1. ]),\n",
       " <BarContainer object of 10 artists>)"
      ]
     },
     "execution_count": 14,
     "metadata": {},
     "output_type": "execute_result"
    },
    {
     "data": {
      "image/png": "[encoded data removed]",
      "text/plain": [
       "<Figure size 432x288 with 1 Axes>"
      ]
     },
     "metadata": {
      "needs_background": "light"
     },
     "output_type": "display_data"
    }
   ],
   "source": [
    "plt.hist(df_train['GENDER'])"
   ]
  },
  {
   "cell_type": "code",
   "execution_count": 15,
   "id": "cf0ad365",
   "metadata": {},
   "outputs": [
    {
     "data": {
      "text/plain": [
       "<AxesSubplot:xlabel='GENDER', ylabel='count'>"
      ]
     },
     "execution_count": 15,
     "metadata": {},
     "output_type": "execute_result"
    },
    {
     "data": {
      "image/png": "[encoded data removed]",
      "text/plain": [
       "<Figure size 432x288 with 1 Axes>"
      ]
     },
     "metadata": {
      "needs_background": "light"
     },
     "output_type": "display_data"
    }
   ],
   "source": [
    "sb.countplot(data=df_train,x='GENDER',hue='defaulter')"
   ]
  },
  {
   "cell_type": "code",
   "execution_count": 16,
   "id": "495351fd",
   "metadata": {},
   "outputs": [
    {
     "data": {
      "text/plain": [
       "<AxesSubplot:xlabel='MARRIED', ylabel='Count'>"
      ]
     },
     "execution_count": 16,
     "metadata": {},
     "output_type": "execute_result"
    },
    {
     "data": {
      "image/png": "[encoded data removed]",
      "text/plain": [
       "<Figure size 432x288 with 1 Axes>"
      ]
     },
     "metadata": {
      "needs_background": "light"
     },
     "output_type": "display_data"
    }
   ],
   "source": [
    "sb.histplot(data=df_train,x='MARRIED',bins=10,kde=True,hue='defaulter')"
   ]
  },
  {
   "cell_type": "code",
   "execution_count": 17,
   "id": "948a5ebb",
   "metadata": {},
   "outputs": [
    {
     "data": {
      "text/plain": [
       "(array([  34.,    0.,    0., 8459.,    0.,    0., 9975.,    0.,    0.,\n",
       "         206.]),\n",
       " array([0. , 0.3, 0.6, 0.9, 1.2, 1.5, 1.8, 2.1, 2.4, 2.7, 3. ]),\n",
       " <BarContainer object of 10 artists>)"
      ]
     },
     "execution_count": 17,
     "metadata": {},
     "output_type": "execute_result"
    },
    {
     "data": {
      "image/png": "[encoded data removed]",
      "text/plain": [
       "<Figure size 432x288 with 1 Axes>"
      ]
     },
     "metadata": {
      "needs_background": "light"
     },
     "output_type": "display_data"
    }
   ],
   "source": [
    "plt.hist(df_train['MARRIED'])"
   ]
  },
  {
   "cell_type": "code",
   "execution_count": 18,
   "id": "8077879a",
   "metadata": {},
   "outputs": [
    {
     "data": {
      "text/plain": [
       "<AxesSubplot:xlabel='QUALIFICATION', ylabel='Count'>"
      ]
     },
     "execution_count": 18,
     "metadata": {},
     "output_type": "execute_result"
    },
    {
     "data": {
      "image/png": "[encoded data removed]",
      "text/plain": [
       "<Figure size 432x288 with 1 Axes>"
      ]
     },
     "metadata": {
      "needs_background": "light"
     },
     "output_type": "display_data"
    }
   ],
   "source": [
    "sb.histplot(data=df_train,x='QUALIFICATION',bins=10,kde=True,hue='defaulter')"
   ]
  },
  {
   "cell_type": "code",
   "execution_count": 19,
   "id": "ac2564b6",
   "metadata": {},
   "outputs": [
    {
     "data": {
      "text/plain": [
       "(array([6.000e+00, 7.072e+03, 0.000e+00, 9.371e+03, 0.000e+00, 3.256e+03,\n",
       "        8.100e+01, 0.000e+00, 1.800e+02, 3.400e+01]),\n",
       " array([0. , 0.6, 1.2, 1.8, 2.4, 3. , 3.6, 4.2, 4.8, 5.4, 6. ]),\n",
       " <BarContainer object of 10 artists>)"
      ]
     },
     "execution_count": 19,
     "metadata": {},
     "output_type": "execute_result"
    },
    {
     "data": {
      "image/png": "[encoded data removed]",
      "text/plain": [
       "<Figure size 432x288 with 1 Axes>"
      ]
     },
     "metadata": {
      "needs_background": "light"
     },
     "output_type": "display_data"
    }
   ],
   "source": [
    "plt.hist(df_train['QUALIFICATION'])"
   ]
  },
  {
   "cell_type": "code",
   "execution_count": null,
   "id": "e1a7f5c2",
   "metadata": {},
   "outputs": [],
   "source": []
  },
  {
   "cell_type": "markdown",
   "id": "ece3c1ce",
   "metadata": {},
   "source": [
    "#  imputation"
   ]
  },
  {
   "cell_type": "code",
   "execution_count": 20,
   "id": "c1980023",
   "metadata": {},
   "outputs": [],
   "source": [
    "num_cols = list(df_train.select_dtypes(exclude='object').columns)\n",
    "num_cols.remove('Id')\n",
    "num_cols.remove('defaulter')\n",
    "cat_cols = list(df_train.select_dtypes(include='object').columns)"
   ]
  },
  {
   "cell_type": "code",
   "execution_count": 21,
   "id": "efb8d0fc",
   "metadata": {},
   "outputs": [],
   "source": [
    "imputer_num=SimpleImputer(strategy='median')\n",
    "imputer_cat=SimpleImputer(strategy='most_frequent')\n",
    "\n",
    "imputer_num.fit(df_train[num_cols])\n",
    "imputer_cat.fit(df_train[cat_cols])\n",
    "\n",
    "df_train[num_cols]=imputer_num.transform(df_train[num_cols])\n",
    "df_train[cat_cols]=imputer_cat.transform(df_train[cat_cols])\n",
    "\n",
    "df_test[num_cols]=imputer_num.transform(df_test[num_cols])\n",
    "df_test[cat_cols]=imputer_cat.transform(df_test[cat_cols])"
   ]
  },
  {
   "cell_type": "code",
   "execution_count": null,
   "id": "a43ee9fa",
   "metadata": {},
   "outputs": [],
   "source": []
  },
  {
   "cell_type": "code",
   "execution_count": 22,
   "id": "83f7398a",
   "metadata": {},
   "outputs": [
    {
     "data": {
      "text/plain": [
       "(array([7.804e+03, 6.231e+03, 3.136e+03, 1.705e+03, 9.890e+02, 7.800e+01,\n",
       "        4.600e+01, 1.000e+01, 0.000e+00, 1.000e+00]),\n",
       " array([  10000.,  109000.,  208000.,  307000.,  406000.,  505000.,\n",
       "         604000.,  703000.,  802000.,  901000., 1000000.]),\n",
       " <BarContainer object of 10 artists>)"
      ]
     },
     "execution_count": 22,
     "metadata": {},
     "output_type": "execute_result"
    },
    {
     "data": {
      "image/png": "[encoded data removed]",
      "text/plain": [
       "<Figure size 432x288 with 1 Axes>"
      ]
     },
     "metadata": {
      "needs_background": "light"
     },
     "output_type": "display_data"
    }
   ],
   "source": [
    "plt.hist(df_train['LIMIT_BAL'],bins=10)"
   ]
  },
  {
   "cell_type": "code",
   "execution_count": 23,
   "id": "e31de75b",
   "metadata": {},
   "outputs": [
    {
     "data": {
      "text/plain": [
       "80.0"
      ]
     },
     "execution_count": 23,
     "metadata": {},
     "output_type": "execute_result"
    }
   ],
   "source": [
    "df_test['AGE'].max()"
   ]
  },
  {
   "cell_type": "code",
   "execution_count": null,
   "id": "d43780a3",
   "metadata": {},
   "outputs": [],
   "source": []
  },
  {
   "cell_type": "markdown",
   "id": "15c373fd",
   "metadata": {},
   "source": [
    "# Binning"
   ]
  },
  {
   "cell_type": "code",
   "execution_count": 24,
   "id": "20e00095",
   "metadata": {},
   "outputs": [],
   "source": [
    "df_train=df_train[df_train['LIMIT_BAL'] <= 650000]"
   ]
  },
  {
   "cell_type": "code",
   "execution_count": 25,
   "id": "c975c49b",
   "metadata": {},
   "outputs": [],
   "source": [
    "df_train['AGE']=pd.cut(df_train['AGE'],bins=[18.,23.6,29.2,34.8,40.4,46.,51.6,57.2,62.8,68.4,df_train['AGE'].max()],labels=[0,1,2,3,4,5,6,7,8,9],include_lowest=True)"
   ]
  },
  {
   "cell_type": "code",
   "execution_count": 26,
   "id": "6a79b409",
   "metadata": {},
   "outputs": [],
   "source": [
    "df_test['AGE']=pd.cut(df_test['AGE'],bins=[18.,23.6,29.2,34.8,40.4,46.,51.6,57.2,62.8,68.4,df_test['AGE'].max()],labels=[0,1,2,3,4,5,6,7,8,9],include_lowest=True)"
   ]
  },
  {
   "cell_type": "code",
   "execution_count": null,
   "id": "edf969e9",
   "metadata": {},
   "outputs": [],
   "source": []
  },
  {
   "cell_type": "code",
   "execution_count": null,
   "id": "efa4552e",
   "metadata": {},
   "outputs": [],
   "source": []
  },
  {
   "cell_type": "code",
   "execution_count": 27,
   "id": "f18e3b3d",
   "metadata": {},
   "outputs": [],
   "source": [
    "df_train['LIMIT_BAL']=pd.cut(df_train['LIMIT_BAL'],\n",
    "                             bins=[10000.,109000.,208000.,307000.,406000.,505000.,\n",
    "         604000.,703000.,802000.,901000.,1000000.],\n",
    "                             labels=[0,1,2,3,4,5,6,7,8,9],\n",
    "                             include_lowest=True)"
   ]
  },
  {
   "cell_type": "code",
   "execution_count": 28,
   "id": "fc78ecf5",
   "metadata": {},
   "outputs": [],
   "source": [
    "df_test['LIMIT_BAL']=pd.cut(df_test['LIMIT_BAL'],\n",
    "                             bins=[10000.,109000.,208000.,307000.,406000.,505000.,\n",
    "         604000.,703000.,802000.,901000.,1000000.],\n",
    "                             labels=[0,1,2,3,4,5,6,7,8,9],\n",
    "                             include_lowest=True)"
   ]
  },
  {
   "cell_type": "code",
   "execution_count": 29,
   "id": "fa3b1cba",
   "metadata": {},
   "outputs": [],
   "source": [
    "cat_cols.extend(['AGE','LIMIT_BAL'])"
   ]
  },
  {
   "cell_type": "code",
   "execution_count": 30,
   "id": "1cfbd22a",
   "metadata": {},
   "outputs": [
    {
     "data": {
      "text/plain": [
       "['GENDER', 'AGE', 'LIMIT_BAL']"
      ]
     },
     "execution_count": 30,
     "metadata": {},
     "output_type": "execute_result"
    }
   ],
   "source": [
    "cat_cols"
   ]
  },
  {
   "cell_type": "markdown",
   "id": "6d6b734b",
   "metadata": {},
   "source": [
    "# Feature Encoding"
   ]
  },
  {
   "cell_type": "code",
   "execution_count": 31,
   "id": "6f134c67",
   "metadata": {},
   "outputs": [
    {
     "data": {
      "text/plain": [
       "OneHotEncoder(handle_unknown='ignore', sparse=False)"
      ]
     },
     "execution_count": 31,
     "metadata": {},
     "output_type": "execute_result"
    }
   ],
   "source": [
    "ohe = OneHotEncoder(sparse=False,handle_unknown='ignore')\n",
    "ohe.fit(df_train[cat_cols])"
   ]
  },
  {
   "cell_type": "code",
   "execution_count": 32,
   "id": "9b0f9ed8",
   "metadata": {},
   "outputs": [
    {
     "data": {
      "text/plain": [
       "['GENDER_FEMALE',\n",
       " 'GENDER_MALE',\n",
       " 'AGE_0',\n",
       " 'AGE_1',\n",
       " 'AGE_2',\n",
       " 'AGE_3',\n",
       " 'AGE_4',\n",
       " 'AGE_5',\n",
       " 'AGE_6',\n",
       " 'AGE_7',\n",
       " 'AGE_8',\n",
       " 'AGE_9',\n",
       " 'LIMIT_BAL_0',\n",
       " 'LIMIT_BAL_1',\n",
       " 'LIMIT_BAL_2',\n",
       " 'LIMIT_BAL_3',\n",
       " 'LIMIT_BAL_4',\n",
       " 'LIMIT_BAL_5',\n",
       " 'LIMIT_BAL_6']"
      ]
     },
     "execution_count": 32,
     "metadata": {},
     "output_type": "execute_result"
    }
   ],
   "source": [
    "new_cols = list(ohe.get_feature_names_out())\n",
    "new_cols"
   ]
  },
  {
   "cell_type": "code",
   "execution_count": 33,
   "id": "ecb4ec36",
   "metadata": {},
   "outputs": [],
   "source": [
    "df_train[new_cols] = ohe.transform(df_train[cat_cols])\n",
    "df_test[new_cols] = ohe.transform(df_test[cat_cols])"
   ]
  },
  {
   "cell_type": "code",
   "execution_count": 34,
   "id": "d2b7e3f7",
   "metadata": {},
   "outputs": [
    {
     "data": {
      "text/html": [
       "<div>\n",
       "<style scoped>\n",
       "    .dataframe tbody tr th:only-of-type {\n",
       "        vertical-align: middle;\n",
       "    }\n",
       "\n",
       "    .dataframe tbody tr th {\n",
       "        vertical-align: top;\n",
       "    }\n",
       "\n",
       "    .dataframe thead th {\n",
       "        text-align: right;\n",
       "    }\n",
       "</style>\n",
       "<table border=\"1\" class=\"dataframe\">\n",
       "  <thead>\n",
       "    <tr style=\"text-align: right;\">\n",
       "      <th></th>\n",
       "      <th>LIMIT_BAL</th>\n",
       "      <th>AGE</th>\n",
       "      <th>PAY_0</th>\n",
       "      <th>PAY_2</th>\n",
       "      <th>PAY_3</th>\n",
       "      <th>PAY_4</th>\n",
       "      <th>PAY_5</th>\n",
       "      <th>PAY_6</th>\n",
       "      <th>BILL_AMT1</th>\n",
       "      <th>BILL_AMT2</th>\n",
       "      <th>BILL_AMT3</th>\n",
       "      <th>BILL_AMT4</th>\n",
       "      <th>BILL_AMT5</th>\n",
       "      <th>BILL_AMT6</th>\n",
       "      <th>PAY_AMT1</th>\n",
       "      <th>PAY_AMT2</th>\n",
       "      <th>PAY_AMT3</th>\n",
       "      <th>PAY_AMT4</th>\n",
       "      <th>PAY_AMT5</th>\n",
       "      <th>PAY_AMT6</th>\n",
       "      <th>GENDER</th>\n",
       "      <th>QUALIFICATION</th>\n",
       "      <th>MARRIED</th>\n",
       "      <th>defaulter</th>\n",
       "      <th>Id</th>\n",
       "      <th>GENDER_FEMALE</th>\n",
       "      <th>GENDER_MALE</th>\n",
       "      <th>AGE_0</th>\n",
       "      <th>AGE_1</th>\n",
       "      <th>AGE_2</th>\n",
       "      <th>AGE_3</th>\n",
       "      <th>AGE_4</th>\n",
       "      <th>AGE_5</th>\n",
       "      <th>AGE_6</th>\n",
       "      <th>AGE_7</th>\n",
       "      <th>AGE_8</th>\n",
       "      <th>AGE_9</th>\n",
       "      <th>LIMIT_BAL_0</th>\n",
       "      <th>LIMIT_BAL_1</th>\n",
       "      <th>LIMIT_BAL_2</th>\n",
       "      <th>LIMIT_BAL_3</th>\n",
       "      <th>LIMIT_BAL_4</th>\n",
       "      <th>LIMIT_BAL_5</th>\n",
       "      <th>LIMIT_BAL_6</th>\n",
       "    </tr>\n",
       "  </thead>\n",
       "  <tbody>\n",
       "    <tr>\n",
       "      <th>0</th>\n",
       "      <td>2</td>\n",
       "      <td>5</td>\n",
       "      <td>-1.0</td>\n",
       "      <td>-1.0</td>\n",
       "      <td>-1.0</td>\n",
       "      <td>-1.0</td>\n",
       "      <td>-1.0</td>\n",
       "      <td>-1.0</td>\n",
       "      <td>22458.5</td>\n",
       "      <td>199.0</td>\n",
       "      <td>1440.0</td>\n",
       "      <td>1017.0</td>\n",
       "      <td>3798.0</td>\n",
       "      <td>4898.0</td>\n",
       "      <td>199.0</td>\n",
       "      <td>1440.0</td>\n",
       "      <td>1017.0</td>\n",
       "      <td>3798.0</td>\n",
       "      <td>4898.0</td>\n",
       "      <td>5034.0</td>\n",
       "      <td>FEMALE</td>\n",
       "      <td>2.0</td>\n",
       "      <td>1.0</td>\n",
       "      <td>0</td>\n",
       "      <td>1</td>\n",
       "      <td>1.0</td>\n",
       "      <td>0.0</td>\n",
       "      <td>0.0</td>\n",
       "      <td>0.0</td>\n",
       "      <td>0.0</td>\n",
       "      <td>0.0</td>\n",
       "      <td>0.0</td>\n",
       "      <td>1.0</td>\n",
       "      <td>0.0</td>\n",
       "      <td>0.0</td>\n",
       "      <td>0.0</td>\n",
       "      <td>0.0</td>\n",
       "      <td>0.0</td>\n",
       "      <td>0.0</td>\n",
       "      <td>1.0</td>\n",
       "      <td>0.0</td>\n",
       "      <td>0.0</td>\n",
       "      <td>0.0</td>\n",
       "      <td>0.0</td>\n",
       "    </tr>\n",
       "    <tr>\n",
       "      <th>1</th>\n",
       "      <td>0</td>\n",
       "      <td>5</td>\n",
       "      <td>0.0</td>\n",
       "      <td>0.0</td>\n",
       "      <td>0.0</td>\n",
       "      <td>0.0</td>\n",
       "      <td>0.0</td>\n",
       "      <td>0.0</td>\n",
       "      <td>19773.0</td>\n",
       "      <td>18459.0</td>\n",
       "      <td>19398.0</td>\n",
       "      <td>18561.0</td>\n",
       "      <td>18949.0</td>\n",
       "      <td>17426.0</td>\n",
       "      <td>1331.0</td>\n",
       "      <td>1270.0</td>\n",
       "      <td>633.0</td>\n",
       "      <td>655.0</td>\n",
       "      <td>759.0</td>\n",
       "      <td>547.0</td>\n",
       "      <td>FEMALE</td>\n",
       "      <td>2.0</td>\n",
       "      <td>3.0</td>\n",
       "      <td>1</td>\n",
       "      <td>2</td>\n",
       "      <td>1.0</td>\n",
       "      <td>0.0</td>\n",
       "      <td>0.0</td>\n",
       "      <td>0.0</td>\n",
       "      <td>0.0</td>\n",
       "      <td>0.0</td>\n",
       "      <td>0.0</td>\n",
       "      <td>1.0</td>\n",
       "      <td>0.0</td>\n",
       "      <td>0.0</td>\n",
       "      <td>0.0</td>\n",
       "      <td>0.0</td>\n",
       "      <td>1.0</td>\n",
       "      <td>0.0</td>\n",
       "      <td>0.0</td>\n",
       "      <td>0.0</td>\n",
       "      <td>0.0</td>\n",
       "      <td>0.0</td>\n",
       "      <td>0.0</td>\n",
       "    </tr>\n",
       "    <tr>\n",
       "      <th>2</th>\n",
       "      <td>2</td>\n",
       "      <td>1</td>\n",
       "      <td>0.0</td>\n",
       "      <td>0.0</td>\n",
       "      <td>0.0</td>\n",
       "      <td>0.0</td>\n",
       "      <td>0.0</td>\n",
       "      <td>0.0</td>\n",
       "      <td>20356.0</td>\n",
       "      <td>21504.0</td>\n",
       "      <td>21729.0</td>\n",
       "      <td>23113.0</td>\n",
       "      <td>22936.0</td>\n",
       "      <td>23378.0</td>\n",
       "      <td>1676.0</td>\n",
       "      <td>1700.0</td>\n",
       "      <td>2007.0</td>\n",
       "      <td>1000.0</td>\n",
       "      <td>1000.0</td>\n",
       "      <td>1000.0</td>\n",
       "      <td>FEMALE</td>\n",
       "      <td>1.0</td>\n",
       "      <td>2.0</td>\n",
       "      <td>0</td>\n",
       "      <td>3</td>\n",
       "      <td>1.0</td>\n",
       "      <td>0.0</td>\n",
       "      <td>0.0</td>\n",
       "      <td>1.0</td>\n",
       "      <td>0.0</td>\n",
       "      <td>0.0</td>\n",
       "      <td>0.0</td>\n",
       "      <td>0.0</td>\n",
       "      <td>0.0</td>\n",
       "      <td>0.0</td>\n",
       "      <td>0.0</td>\n",
       "      <td>0.0</td>\n",
       "      <td>0.0</td>\n",
       "      <td>0.0</td>\n",
       "      <td>1.0</td>\n",
       "      <td>0.0</td>\n",
       "      <td>0.0</td>\n",
       "      <td>0.0</td>\n",
       "      <td>0.0</td>\n",
       "    </tr>\n",
       "    <tr>\n",
       "      <th>3</th>\n",
       "      <td>2</td>\n",
       "      <td>2</td>\n",
       "      <td>-1.0</td>\n",
       "      <td>-1.0</td>\n",
       "      <td>-1.0</td>\n",
       "      <td>-1.0</td>\n",
       "      <td>-1.0</td>\n",
       "      <td>-1.0</td>\n",
       "      <td>8600.0</td>\n",
       "      <td>0.0</td>\n",
       "      <td>4231.0</td>\n",
       "      <td>4221.0</td>\n",
       "      <td>4221.0</td>\n",
       "      <td>4483.0</td>\n",
       "      <td>0.0</td>\n",
       "      <td>4231.0</td>\n",
       "      <td>4221.0</td>\n",
       "      <td>4221.0</td>\n",
       "      <td>4483.0</td>\n",
       "      <td>4300.0</td>\n",
       "      <td>FEMALE</td>\n",
       "      <td>1.0</td>\n",
       "      <td>1.0</td>\n",
       "      <td>0</td>\n",
       "      <td>4</td>\n",
       "      <td>1.0</td>\n",
       "      <td>0.0</td>\n",
       "      <td>0.0</td>\n",
       "      <td>0.0</td>\n",
       "      <td>1.0</td>\n",
       "      <td>0.0</td>\n",
       "      <td>0.0</td>\n",
       "      <td>0.0</td>\n",
       "      <td>0.0</td>\n",
       "      <td>0.0</td>\n",
       "      <td>0.0</td>\n",
       "      <td>0.0</td>\n",
       "      <td>0.0</td>\n",
       "      <td>0.0</td>\n",
       "      <td>1.0</td>\n",
       "      <td>0.0</td>\n",
       "      <td>0.0</td>\n",
       "      <td>0.0</td>\n",
       "      <td>0.0</td>\n",
       "    </tr>\n",
       "    <tr>\n",
       "      <th>4</th>\n",
       "      <td>2</td>\n",
       "      <td>1</td>\n",
       "      <td>-2.0</td>\n",
       "      <td>-2.0</td>\n",
       "      <td>-2.0</td>\n",
       "      <td>-2.0</td>\n",
       "      <td>-1.0</td>\n",
       "      <td>-1.0</td>\n",
       "      <td>-158.0</td>\n",
       "      <td>-158.0</td>\n",
       "      <td>-158.0</td>\n",
       "      <td>-158.0</td>\n",
       "      <td>142.0</td>\n",
       "      <td>92.0</td>\n",
       "      <td>0.0</td>\n",
       "      <td>0.0</td>\n",
       "      <td>0.0</td>\n",
       "      <td>300.0</td>\n",
       "      <td>100.0</td>\n",
       "      <td>100.0</td>\n",
       "      <td>MALE</td>\n",
       "      <td>2.0</td>\n",
       "      <td>2.0</td>\n",
       "      <td>0</td>\n",
       "      <td>5</td>\n",
       "      <td>0.0</td>\n",
       "      <td>1.0</td>\n",
       "      <td>0.0</td>\n",
       "      <td>1.0</td>\n",
       "      <td>0.0</td>\n",
       "      <td>0.0</td>\n",
       "      <td>0.0</td>\n",
       "      <td>0.0</td>\n",
       "      <td>0.0</td>\n",
       "      <td>0.0</td>\n",
       "      <td>0.0</td>\n",
       "      <td>0.0</td>\n",
       "      <td>0.0</td>\n",
       "      <td>0.0</td>\n",
       "      <td>1.0</td>\n",
       "      <td>0.0</td>\n",
       "      <td>0.0</td>\n",
       "      <td>0.0</td>\n",
       "      <td>0.0</td>\n",
       "    </tr>\n",
       "  </tbody>\n",
       "</table>\n",
       "</div>"
      ],
      "text/plain": [
       "  LIMIT_BAL AGE  PAY_0  PAY_2  PAY_3  PAY_4  PAY_5  PAY_6  BILL_AMT1  \\\n",
       "0         2   5   -1.0   -1.0   -1.0   -1.0   -1.0   -1.0    22458.5   \n",
       "1         0   5    0.0    0.0    0.0    0.0    0.0    0.0    19773.0   \n",
       "2         2   1    0.0    0.0    0.0    0.0    0.0    0.0    20356.0   \n",
       "3         2   2   -1.0   -1.0   -1.0   -1.0   -1.0   -1.0     8600.0   \n",
       "4         2   1   -2.0   -2.0   -2.0   -2.0   -1.0   -1.0     -158.0   \n",
       "\n",
       "   BILL_AMT2  BILL_AMT3  BILL_AMT4  BILL_AMT5  BILL_AMT6  PAY_AMT1  PAY_AMT2  \\\n",
       "0      199.0     1440.0     1017.0     3798.0     4898.0     199.0    1440.0   \n",
       "1    18459.0    19398.0    18561.0    18949.0    17426.0    1331.0    1270.0   \n",
       "2    21504.0    21729.0    23113.0    22936.0    23378.0    1676.0    1700.0   \n",
       "3        0.0     4231.0     4221.0     4221.0     4483.0       0.0    4231.0   \n",
       "4     -158.0     -158.0     -158.0      142.0       92.0       0.0       0.0   \n",
       "\n",
       "   PAY_AMT3  PAY_AMT4  PAY_AMT5  PAY_AMT6  GENDER  QUALIFICATION  MARRIED  \\\n",
       "0    1017.0    3798.0    4898.0    5034.0  FEMALE            2.0      1.0   \n",
       "1     633.0     655.0     759.0     547.0  FEMALE            2.0      3.0   \n",
       "2    2007.0    1000.0    1000.0    1000.0  FEMALE            1.0      2.0   \n",
       "3    4221.0    4221.0    4483.0    4300.0  FEMALE            1.0      1.0   \n",
       "4       0.0     300.0     100.0     100.0    MALE            2.0      2.0   \n",
       "\n",
       "   defaulter  Id  GENDER_FEMALE  GENDER_MALE  AGE_0  AGE_1  AGE_2  AGE_3  \\\n",
       "0          0   1            1.0          0.0    0.0    0.0    0.0    0.0   \n",
       "1          1   2            1.0          0.0    0.0    0.0    0.0    0.0   \n",
       "2          0   3            1.0          0.0    0.0    1.0    0.0    0.0   \n",
       "3          0   4            1.0          0.0    0.0    0.0    1.0    0.0   \n",
       "4          0   5            0.0          1.0    0.0    1.0    0.0    0.0   \n",
       "\n",
       "   AGE_4  AGE_5  AGE_6  AGE_7  AGE_8  AGE_9  LIMIT_BAL_0  LIMIT_BAL_1  \\\n",
       "0    0.0    1.0    0.0    0.0    0.0    0.0          0.0          0.0   \n",
       "1    0.0    1.0    0.0    0.0    0.0    0.0          1.0          0.0   \n",
       "2    0.0    0.0    0.0    0.0    0.0    0.0          0.0          0.0   \n",
       "3    0.0    0.0    0.0    0.0    0.0    0.0          0.0          0.0   \n",
       "4    0.0    0.0    0.0    0.0    0.0    0.0          0.0          0.0   \n",
       "\n",
       "   LIMIT_BAL_2  LIMIT_BAL_3  LIMIT_BAL_4  LIMIT_BAL_5  LIMIT_BAL_6  \n",
       "0          1.0          0.0          0.0          0.0          0.0  \n",
       "1          0.0          0.0          0.0          0.0          0.0  \n",
       "2          1.0          0.0          0.0          0.0          0.0  \n",
       "3          1.0          0.0          0.0          0.0          0.0  \n",
       "4          1.0          0.0          0.0          0.0          0.0  "
      ]
     },
     "execution_count": 34,
     "metadata": {},
     "output_type": "execute_result"
    }
   ],
   "source": [
    "df_train.head()"
   ]
  },
  {
   "cell_type": "code",
   "execution_count": null,
   "id": "10b37312",
   "metadata": {},
   "outputs": [],
   "source": []
  },
  {
   "cell_type": "code",
   "execution_count": null,
   "id": "aaba2d62",
   "metadata": {},
   "outputs": [],
   "source": []
  },
  {
   "cell_type": "markdown",
   "id": "d671a71f",
   "metadata": {},
   "source": [
    "# Feature Selection"
   ]
  },
  {
   "cell_type": "code",
   "execution_count": 35,
   "id": "9dc13d11",
   "metadata": {},
   "outputs": [
    {
     "name": "stdout",
     "output_type": "stream",
     "text": [
      "<class 'pandas.core.frame.DataFrame'>\n",
      "Int64Index: 19973 entries, 0 to 19999\n",
      "Data columns (total 44 columns):\n",
      " #   Column         Non-Null Count  Dtype   \n",
      "---  ------         --------------  -----   \n",
      " 0   LIMIT_BAL      19973 non-null  category\n",
      " 1   AGE            19973 non-null  category\n",
      " 2   PAY_0          19973 non-null  float64 \n",
      " 3   PAY_2          19973 non-null  float64 \n",
      " 4   PAY_3          19973 non-null  float64 \n",
      " 5   PAY_4          19973 non-null  float64 \n",
      " 6   PAY_5          19973 non-null  float64 \n",
      " 7   PAY_6          19973 non-null  float64 \n",
      " 8   BILL_AMT1      19973 non-null  float64 \n",
      " 9   BILL_AMT2      19973 non-null  float64 \n",
      " 10  BILL_AMT3      19973 non-null  float64 \n",
      " 11  BILL_AMT4      19973 non-null  float64 \n",
      " 12  BILL_AMT5      19973 non-null  float64 \n",
      " 13  BILL_AMT6      19973 non-null  float64 \n",
      " 14  PAY_AMT1       19973 non-null  float64 \n",
      " 15  PAY_AMT2       19973 non-null  float64 \n",
      " 16  PAY_AMT3       19973 non-null  float64 \n",
      " 17  PAY_AMT4       19973 non-null  float64 \n",
      " 18  PAY_AMT5       19973 non-null  float64 \n",
      " 19  PAY_AMT6       19973 non-null  float64 \n",
      " 20  GENDER         19973 non-null  object  \n",
      " 21  QUALIFICATION  19973 non-null  float64 \n",
      " 22  MARRIED        19973 non-null  float64 \n",
      " 23  defaulter      19973 non-null  int64   \n",
      " 24  Id             19973 non-null  int64   \n",
      " 25  GENDER_FEMALE  19973 non-null  float64 \n",
      " 26  GENDER_MALE    19973 non-null  float64 \n",
      " 27  AGE_0          19973 non-null  float64 \n",
      " 28  AGE_1          19973 non-null  float64 \n",
      " 29  AGE_2          19973 non-null  float64 \n",
      " 30  AGE_3          19973 non-null  float64 \n",
      " 31  AGE_4          19973 non-null  float64 \n",
      " 32  AGE_5          19973 non-null  float64 \n",
      " 33  AGE_6          19973 non-null  float64 \n",
      " 34  AGE_7          19973 non-null  float64 \n",
      " 35  AGE_8          19973 non-null  float64 \n",
      " 36  AGE_9          19973 non-null  float64 \n",
      " 37  LIMIT_BAL_0    19973 non-null  float64 \n",
      " 38  LIMIT_BAL_1    19973 non-null  float64 \n",
      " 39  LIMIT_BAL_2    19973 non-null  float64 \n",
      " 40  LIMIT_BAL_3    19973 non-null  float64 \n",
      " 41  LIMIT_BAL_4    19973 non-null  float64 \n",
      " 42  LIMIT_BAL_5    19973 non-null  float64 \n",
      " 43  LIMIT_BAL_6    19973 non-null  float64 \n",
      "dtypes: category(2), float64(39), int64(2), object(1)\n",
      "memory usage: 6.6+ MB\n"
     ]
    }
   ],
   "source": [
    "df_train.info()"
   ]
  },
  {
   "cell_type": "code",
   "execution_count": 36,
   "id": "b0060802",
   "metadata": {},
   "outputs": [
    {
     "data": {
      "text/plain": [
       "['PAY_0',\n",
       " 'PAY_2',\n",
       " 'PAY_3',\n",
       " 'PAY_4',\n",
       " 'PAY_5',\n",
       " 'PAY_6',\n",
       " 'BILL_AMT1',\n",
       " 'BILL_AMT2',\n",
       " 'BILL_AMT3',\n",
       " 'BILL_AMT4',\n",
       " 'BILL_AMT5',\n",
       " 'BILL_AMT6',\n",
       " 'PAY_AMT1',\n",
       " 'PAY_AMT2',\n",
       " 'PAY_AMT3',\n",
       " 'PAY_AMT4',\n",
       " 'PAY_AMT5',\n",
       " 'PAY_AMT6',\n",
       " 'QUALIFICATION',\n",
       " 'MARRIED',\n",
       " 'GENDER_FEMALE',\n",
       " 'GENDER_MALE',\n",
       " 'AGE_0',\n",
       " 'AGE_1',\n",
       " 'AGE_2',\n",
       " 'AGE_3',\n",
       " 'AGE_4',\n",
       " 'AGE_5',\n",
       " 'AGE_6',\n",
       " 'AGE_7',\n",
       " 'AGE_8',\n",
       " 'AGE_9',\n",
       " 'LIMIT_BAL_0',\n",
       " 'LIMIT_BAL_1',\n",
       " 'LIMIT_BAL_2',\n",
       " 'LIMIT_BAL_3',\n",
       " 'LIMIT_BAL_4',\n",
       " 'LIMIT_BAL_5',\n",
       " 'LIMIT_BAL_6']"
      ]
     },
     "execution_count": 36,
     "metadata": {},
     "output_type": "execute_result"
    }
   ],
   "source": [
    "col = list(df_train.corr()['defaulter'].index)\n",
    "col.remove('defaulter')\n",
    "col.remove('Id')\n",
    "col"
   ]
  },
  {
   "cell_type": "code",
   "execution_count": 37,
   "id": "85e51c64",
   "metadata": {},
   "outputs": [
    {
     "data": {
      "text/plain": [
       "PAY_0            0.315088\n",
       "PAY_2            0.249244\n",
       "PAY_3            0.226398\n",
       "PAY_4            0.210961\n",
       "PAY_5            0.198627\n",
       "PAY_6            0.176115\n",
       "BILL_AMT1       -0.021515\n",
       "BILL_AMT2       -0.024620\n",
       "BILL_AMT3       -0.020855\n",
       "BILL_AMT4       -0.019609\n",
       "BILL_AMT5       -0.018531\n",
       "BILL_AMT6       -0.017026\n",
       "PAY_AMT1        -0.074647\n",
       "PAY_AMT2        -0.058075\n",
       "PAY_AMT3        -0.056362\n",
       "PAY_AMT4        -0.061774\n",
       "PAY_AMT5        -0.056498\n",
       "PAY_AMT6        -0.056250\n",
       "QUALIFICATION    0.030543\n",
       "MARRIED         -0.023780\n",
       "defaulter        1.000000\n",
       "Id               0.006244\n",
       "GENDER_FEMALE   -0.043591\n",
       "GENDER_MALE      0.043591\n",
       "AGE_0            0.023226\n",
       "AGE_1           -0.003315\n",
       "AGE_2           -0.028897\n",
       "AGE_3           -0.001772\n",
       "AGE_4            0.000476\n",
       "AGE_5            0.017867\n",
       "AGE_6            0.012448\n",
       "AGE_7            0.006043\n",
       "AGE_8            0.001246\n",
       "AGE_9           -0.009208\n",
       "LIMIT_BAL_0      0.138780\n",
       "LIMIT_BAL_1     -0.028274\n",
       "LIMIT_BAL_2     -0.066917\n",
       "LIMIT_BAL_3     -0.058806\n",
       "LIMIT_BAL_4     -0.056608\n",
       "LIMIT_BAL_5     -0.014035\n",
       "LIMIT_BAL_6     -0.017559\n",
       "Name: defaulter, dtype: float64"
      ]
     },
     "execution_count": 37,
     "metadata": {},
     "output_type": "execute_result"
    }
   ],
   "source": [
    "df_train.corr()['defaulter']"
   ]
  },
  {
   "cell_type": "code",
   "execution_count": 38,
   "id": "58723d1d",
   "metadata": {},
   "outputs": [
    {
     "data": {
      "text/plain": [
       "['PAY_0',\n",
       " 'PAY_2',\n",
       " 'PAY_3',\n",
       " 'PAY_4',\n",
       " 'PAY_5',\n",
       " 'PAY_6',\n",
       " 'BILL_AMT1',\n",
       " 'BILL_AMT2',\n",
       " 'BILL_AMT3',\n",
       " 'BILL_AMT4',\n",
       " 'BILL_AMT5',\n",
       " 'BILL_AMT6',\n",
       " 'PAY_AMT1',\n",
       " 'PAY_AMT2',\n",
       " 'PAY_AMT3',\n",
       " 'PAY_AMT4',\n",
       " 'PAY_AMT5',\n",
       " 'PAY_AMT6',\n",
       " 'QUALIFICATION',\n",
       " 'MARRIED',\n",
       " 'GENDER_FEMALE',\n",
       " 'GENDER_MALE',\n",
       " 'AGE_0',\n",
       " 'AGE_2',\n",
       " 'AGE_5',\n",
       " 'AGE_6',\n",
       " 'LIMIT_BAL_0',\n",
       " 'LIMIT_BAL_1',\n",
       " 'LIMIT_BAL_2',\n",
       " 'LIMIT_BAL_3',\n",
       " 'LIMIT_BAL_4',\n",
       " 'LIMIT_BAL_5',\n",
       " 'LIMIT_BAL_6']"
      ]
     },
     "execution_count": 38,
     "metadata": {},
     "output_type": "execute_result"
    }
   ],
   "source": [
    "final_col=list(df_train.corr()['defaulter'][(df_train.corr()['defaulter']>=0.01)|(df_train.corr()['defaulter']<=-0.01)].index)\n",
    "final_col.remove('defaulter')\n",
    "final_col"
   ]
  },
  {
   "cell_type": "code",
   "execution_count": null,
   "id": "8a7dd4f3",
   "metadata": {},
   "outputs": [],
   "source": []
  },
  {
   "cell_type": "code",
   "execution_count": null,
   "id": "54e0c8c6",
   "metadata": {},
   "outputs": [],
   "source": []
  },
  {
   "cell_type": "code",
   "execution_count": null,
   "id": "863efbd3",
   "metadata": {},
   "outputs": [],
   "source": []
  },
  {
   "cell_type": "markdown",
   "id": "915ab85a",
   "metadata": {},
   "source": [
    "# Scaling"
   ]
  },
  {
   "cell_type": "code",
   "execution_count": 41,
   "id": "bd3b2be0",
   "metadata": {},
   "outputs": [],
   "source": [
    "scaler=StandardScaler()"
   ]
  },
  {
   "cell_type": "code",
   "execution_count": 42,
   "id": "b8162da5",
   "metadata": {},
   "outputs": [],
   "source": [
    "df_train[final_col] =scaler.fit_transform(df_train[final_col])"
   ]
  },
  {
   "cell_type": "code",
   "execution_count": 43,
   "id": "2affe27f",
   "metadata": {},
   "outputs": [],
   "source": [
    "df_test[final_col] = scaler.transform(df_test[final_col])"
   ]
  },
  {
   "cell_type": "code",
   "execution_count": null,
   "id": "b93ed901",
   "metadata": {},
   "outputs": [],
   "source": []
  },
  {
   "cell_type": "markdown",
   "id": "06d03050",
   "metadata": {},
   "source": [
    "# Model Building"
   ]
  },
  {
   "cell_type": "code",
   "execution_count": null,
   "id": "94e34b4c",
   "metadata": {},
   "outputs": [],
   "source": []
  },
  {
   "cell_type": "code",
   "execution_count": 44,
   "id": "c0bbd5a5",
   "metadata": {},
   "outputs": [],
   "source": [
    "x=df_train[final_col]\n",
    "y= df_train['defaulter']"
   ]
  },
  {
   "cell_type": "code",
   "execution_count": 45,
   "id": "b0ef7f99",
   "metadata": {},
   "outputs": [],
   "source": [
    "dict1={'n_estimators':[200,250],\n",
    "       'max_depth':[8,9],\n",
    "       'min_samples_leaf':[2,3],\n",
    "       'min_samples_split':[2,3]}\n"
   ]
  },
  {
   "cell_type": "code",
   "execution_count": 46,
   "id": "34fbe899",
   "metadata": {},
   "outputs": [],
   "source": [
    "grid_cv = GridSearchCV(RandomForestClassifier(), param_grid=dict1, cv=5,verbose=3)"
   ]
  },
  {
   "cell_type": "code",
   "execution_count": 47,
   "id": "e012fa9b",
   "metadata": {},
   "outputs": [
    {
     "name": "stdout",
     "output_type": "stream",
     "text": [
      "Fitting 5 folds for each of 16 candidates, totalling 80 fits\n",
      "[CV 1/5] END max_depth=8, min_samples_leaf=2, min_samples_split=2, n_estimators=200;, score=0.816 total time=   9.4s\n",
      "[CV 2/5] END max_depth=8, min_samples_leaf=2, min_samples_split=2, n_estimators=200;, score=0.821 total time=   9.0s\n",
      "[CV 3/5] END max_depth=8, min_samples_leaf=2, min_samples_split=2, n_estimators=200;, score=0.820 total time=   8.8s\n",
      "[CV 4/5] END max_depth=8, min_samples_leaf=2, min_samples_split=2, n_estimators=200;, score=0.812 total time=   8.7s\n",
      "[CV 5/5] END max_depth=8, min_samples_leaf=2, min_samples_split=2, n_estimators=200;, score=0.820 total time=   8.8s\n",
      "[CV 1/5] END max_depth=8, min_samples_leaf=2, min_samples_split=2, n_estimators=250;, score=0.817 total time=  10.9s\n",
      "[CV 2/5] END max_depth=8, min_samples_leaf=2, min_samples_split=2, n_estimators=250;, score=0.819 total time=  11.0s\n",
      "[CV 3/5] END max_depth=8, min_samples_leaf=2, min_samples_split=2, n_estimators=250;, score=0.820 total time=  11.0s\n",
      "[CV 4/5] END max_depth=8, min_samples_leaf=2, min_samples_split=2, n_estimators=250;, score=0.810 total time=  10.8s\n",
      "[CV 5/5] END max_depth=8, min_samples_leaf=2, min_samples_split=2, n_estimators=250;, score=0.820 total time=  10.9s\n",
      "[CV 1/5] END max_depth=8, min_samples_leaf=2, min_samples_split=3, n_estimators=200;, score=0.815 total time=   9.1s\n",
      "[CV 2/5] END max_depth=8, min_samples_leaf=2, min_samples_split=3, n_estimators=200;, score=0.820 total time=   8.7s\n",
      "[CV 3/5] END max_depth=8, min_samples_leaf=2, min_samples_split=3, n_estimators=200;, score=0.821 total time=   8.6s\n",
      "[CV 4/5] END max_depth=8, min_samples_leaf=2, min_samples_split=3, n_estimators=200;, score=0.812 total time=   8.6s\n",
      "[CV 5/5] END max_depth=8, min_samples_leaf=2, min_samples_split=3, n_estimators=200;, score=0.819 total time=   9.6s\n",
      "[CV 1/5] END max_depth=8, min_samples_leaf=2, min_samples_split=3, n_estimators=250;, score=0.815 total time=  10.9s\n",
      "[CV 2/5] END max_depth=8, min_samples_leaf=2, min_samples_split=3, n_estimators=250;, score=0.820 total time=  10.9s\n",
      "[CV 3/5] END max_depth=8, min_samples_leaf=2, min_samples_split=3, n_estimators=250;, score=0.819 total time=  11.0s\n",
      "[CV 4/5] END max_depth=8, min_samples_leaf=2, min_samples_split=3, n_estimators=250;, score=0.810 total time=  11.1s\n",
      "[CV 5/5] END max_depth=8, min_samples_leaf=2, min_samples_split=3, n_estimators=250;, score=0.819 total time=  10.8s\n",
      "[CV 1/5] END max_depth=8, min_samples_leaf=3, min_samples_split=2, n_estimators=200;, score=0.816 total time=   8.9s\n",
      "[CV 2/5] END max_depth=8, min_samples_leaf=3, min_samples_split=2, n_estimators=200;, score=0.820 total time=   8.7s\n",
      "[CV 3/5] END max_depth=8, min_samples_leaf=3, min_samples_split=2, n_estimators=200;, score=0.821 total time=   8.8s\n",
      "[CV 4/5] END max_depth=8, min_samples_leaf=3, min_samples_split=2, n_estimators=200;, score=0.811 total time=   8.5s\n",
      "[CV 5/5] END max_depth=8, min_samples_leaf=3, min_samples_split=2, n_estimators=200;, score=0.820 total time=   8.7s\n",
      "[CV 1/5] END max_depth=8, min_samples_leaf=3, min_samples_split=2, n_estimators=250;, score=0.817 total time=  10.8s\n",
      "[CV 2/5] END max_depth=8, min_samples_leaf=3, min_samples_split=2, n_estimators=250;, score=0.818 total time=  11.3s\n",
      "[CV 3/5] END max_depth=8, min_samples_leaf=3, min_samples_split=2, n_estimators=250;, score=0.820 total time=  10.8s\n",
      "[CV 4/5] END max_depth=8, min_samples_leaf=3, min_samples_split=2, n_estimators=250;, score=0.811 total time=  11.5s\n",
      "[CV 5/5] END max_depth=8, min_samples_leaf=3, min_samples_split=2, n_estimators=250;, score=0.820 total time=  10.8s\n",
      "[CV 1/5] END max_depth=8, min_samples_leaf=3, min_samples_split=3, n_estimators=200;, score=0.817 total time=   8.8s\n",
      "[CV 2/5] END max_depth=8, min_samples_leaf=3, min_samples_split=3, n_estimators=200;, score=0.819 total time=   8.6s\n",
      "[CV 3/5] END max_depth=8, min_samples_leaf=3, min_samples_split=3, n_estimators=200;, score=0.819 total time=   8.7s\n",
      "[CV 4/5] END max_depth=8, min_samples_leaf=3, min_samples_split=3, n_estimators=200;, score=0.810 total time=   8.6s\n",
      "[CV 5/5] END max_depth=8, min_samples_leaf=3, min_samples_split=3, n_estimators=200;, score=0.820 total time=   8.7s\n",
      "[CV 1/5] END max_depth=8, min_samples_leaf=3, min_samples_split=3, n_estimators=250;, score=0.817 total time=  10.8s\n",
      "[CV 2/5] END max_depth=8, min_samples_leaf=3, min_samples_split=3, n_estimators=250;, score=0.819 total time=  10.8s\n",
      "[CV 3/5] END max_depth=8, min_samples_leaf=3, min_samples_split=3, n_estimators=250;, score=0.817 total time=  10.9s\n",
      "[CV 4/5] END max_depth=8, min_samples_leaf=3, min_samples_split=3, n_estimators=250;, score=0.812 total time=  10.9s\n",
      "[CV 5/5] END max_depth=8, min_samples_leaf=3, min_samples_split=3, n_estimators=250;, score=0.819 total time=  10.8s\n",
      "[CV 1/5] END max_depth=9, min_samples_leaf=2, min_samples_split=2, n_estimators=200;, score=0.816 total time=  10.7s\n",
      "[CV 2/5] END max_depth=9, min_samples_leaf=2, min_samples_split=2, n_estimators=200;, score=0.819 total time=   9.5s\n",
      "[CV 3/5] END max_depth=9, min_samples_leaf=2, min_samples_split=2, n_estimators=200;, score=0.819 total time=   9.6s\n",
      "[CV 4/5] END max_depth=9, min_samples_leaf=2, min_samples_split=2, n_estimators=200;, score=0.811 total time=   9.6s\n",
      "[CV 5/5] END max_depth=9, min_samples_leaf=2, min_samples_split=2, n_estimators=200;, score=0.821 total time=   9.6s\n",
      "[CV 1/5] END max_depth=9, min_samples_leaf=2, min_samples_split=2, n_estimators=250;, score=0.814 total time=  12.0s\n",
      "[CV 2/5] END max_depth=9, min_samples_leaf=2, min_samples_split=2, n_estimators=250;, score=0.821 total time=  11.9s\n",
      "[CV 3/5] END max_depth=9, min_samples_leaf=2, min_samples_split=2, n_estimators=250;, score=0.820 total time=  13.5s\n",
      "[CV 4/5] END max_depth=9, min_samples_leaf=2, min_samples_split=2, n_estimators=250;, score=0.811 total time=  12.8s\n",
      "[CV 5/5] END max_depth=9, min_samples_leaf=2, min_samples_split=2, n_estimators=250;, score=0.820 total time=  12.0s\n",
      "[CV 1/5] END max_depth=9, min_samples_leaf=2, min_samples_split=3, n_estimators=200;, score=0.815 total time=   9.5s\n",
      "[CV 2/5] END max_depth=9, min_samples_leaf=2, min_samples_split=3, n_estimators=200;, score=0.820 total time=   9.6s\n",
      "[CV 3/5] END max_depth=9, min_samples_leaf=2, min_samples_split=3, n_estimators=200;, score=0.821 total time=   9.6s\n",
      "[CV 4/5] END max_depth=9, min_samples_leaf=2, min_samples_split=3, n_estimators=200;, score=0.811 total time=   9.8s\n",
      "[CV 5/5] END max_depth=9, min_samples_leaf=2, min_samples_split=3, n_estimators=200;, score=0.820 total time=   9.5s\n",
      "[CV 1/5] END max_depth=9, min_samples_leaf=2, min_samples_split=3, n_estimators=250;, score=0.816 total time=  11.9s\n",
      "[CV 2/5] END max_depth=9, min_samples_leaf=2, min_samples_split=3, n_estimators=250;, score=0.819 total time=  12.3s\n",
      "[CV 3/5] END max_depth=9, min_samples_leaf=2, min_samples_split=3, n_estimators=250;, score=0.820 total time=  13.5s\n",
      "[CV 4/5] END max_depth=9, min_samples_leaf=2, min_samples_split=3, n_estimators=250;, score=0.808 total time=  12.5s\n",
      "[CV 5/5] END max_depth=9, min_samples_leaf=2, min_samples_split=3, n_estimators=250;, score=0.822 total time=  12.0s\n",
      "[CV 1/5] END max_depth=9, min_samples_leaf=3, min_samples_split=2, n_estimators=200;, score=0.816 total time=   9.8s\n",
      "[CV 2/5] END max_depth=9, min_samples_leaf=3, min_samples_split=2, n_estimators=200;, score=0.820 total time=  10.0s\n",
      "[CV 3/5] END max_depth=9, min_samples_leaf=3, min_samples_split=2, n_estimators=200;, score=0.821 total time=   9.4s\n",
      "[CV 4/5] END max_depth=9, min_samples_leaf=3, min_samples_split=2, n_estimators=200;, score=0.810 total time=   9.5s\n",
      "[CV 5/5] END max_depth=9, min_samples_leaf=3, min_samples_split=2, n_estimators=200;, score=0.820 total time=   9.7s\n",
      "[CV 1/5] END max_depth=9, min_samples_leaf=3, min_samples_split=2, n_estimators=250;, score=0.814 total time=  12.0s\n",
      "[CV 2/5] END max_depth=9, min_samples_leaf=3, min_samples_split=2, n_estimators=250;, score=0.818 total time=  12.0s\n",
      "[CV 3/5] END max_depth=9, min_samples_leaf=3, min_samples_split=2, n_estimators=250;, score=0.818 total time=  11.9s\n",
      "[CV 4/5] END max_depth=9, min_samples_leaf=3, min_samples_split=2, n_estimators=250;, score=0.810 total time=  11.9s\n",
      "[CV 5/5] END max_depth=9, min_samples_leaf=3, min_samples_split=2, n_estimators=250;, score=0.821 total time=  12.0s\n"
     ]
    },
    {
     "name": "stdout",
     "output_type": "stream",
     "text": [
      "[CV 1/5] END max_depth=9, min_samples_leaf=3, min_samples_split=3, n_estimators=200;, score=0.816 total time=   9.8s\n",
      "[CV 2/5] END max_depth=9, min_samples_leaf=3, min_samples_split=3, n_estimators=200;, score=0.820 total time=   9.6s\n",
      "[CV 3/5] END max_depth=9, min_samples_leaf=3, min_samples_split=3, n_estimators=200;, score=0.820 total time=   9.6s\n",
      "[CV 4/5] END max_depth=9, min_samples_leaf=3, min_samples_split=3, n_estimators=200;, score=0.812 total time=   9.9s\n",
      "[CV 5/5] END max_depth=9, min_samples_leaf=3, min_samples_split=3, n_estimators=200;, score=0.821 total time=  10.1s\n",
      "[CV 1/5] END max_depth=9, min_samples_leaf=3, min_samples_split=3, n_estimators=250;, score=0.816 total time=  12.2s\n",
      "[CV 2/5] END max_depth=9, min_samples_leaf=3, min_samples_split=3, n_estimators=250;, score=0.819 total time=  12.3s\n",
      "[CV 3/5] END max_depth=9, min_samples_leaf=3, min_samples_split=3, n_estimators=250;, score=0.820 total time=  12.6s\n",
      "[CV 4/5] END max_depth=9, min_samples_leaf=3, min_samples_split=3, n_estimators=250;, score=0.810 total time=  11.9s\n",
      "[CV 5/5] END max_depth=9, min_samples_leaf=3, min_samples_split=3, n_estimators=250;, score=0.822 total time=  11.9s\n"
     ]
    },
    {
     "data": {
      "text/plain": [
       "GridSearchCV(cv=5, estimator=RandomForestClassifier(),\n",
       "             param_grid={'max_depth': [8, 9], 'min_samples_leaf': [2, 3],\n",
       "                         'min_samples_split': [2, 3],\n",
       "                         'n_estimators': [200, 250]},\n",
       "             verbose=3)"
      ]
     },
     "execution_count": 47,
     "metadata": {},
     "output_type": "execute_result"
    }
   ],
   "source": [
    "grid_cv.fit(x,y)"
   ]
  },
  {
   "cell_type": "code",
   "execution_count": 48,
   "id": "bfaedaec",
   "metadata": {},
   "outputs": [],
   "source": [
    "yp=grid_cv.predict(df_test[final_col])"
   ]
  },
  {
   "cell_type": "code",
   "execution_count": 49,
   "id": "0cf515ac",
   "metadata": {},
   "outputs": [],
   "source": [
    "df_submission = pd.DataFrame({'Id':df_test['Id'], 'defaulter':yp})"
   ]
  },
  {
   "cell_type": "code",
   "execution_count": 50,
   "id": "d269eeab",
   "metadata": {},
   "outputs": [],
   "source": [
    "df_submission.to_csv('grid_cv_cr.csv', index=False)"
   ]
  }
 ],
 "metadata": {
  "kernelspec": {
   "display_name": "Python 3 (ipykernel)",
   "language": "python",
   "name": "python3"
  },
  "language_info": {
   "codemirror_mode": {
    "name": "ipython",
    "version": 3
   },
   "file_extension": ".py",
   "mimetype": "text/x-python",
   "name": "python",
   "nbconvert_exporter": "python",
   "pygments_lexer": "ipython3",
   "version": "3.9.12"
  }
 },
 "nbformat": 4,
 "nbformat_minor": 5
}
